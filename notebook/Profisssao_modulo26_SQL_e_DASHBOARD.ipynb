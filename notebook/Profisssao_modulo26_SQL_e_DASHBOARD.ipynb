{
 "cells": [
  {
   "cell_type": "markdown",
   "metadata": {
    "id": "2xcKXdd3WR17"
   },
   "source": [
    "# **MÓDULO 26 - Projeto Final do Aprofundamento de Analytics**"
   ]
  },
  {
   "cell_type": "markdown",
   "metadata": {
    "id": "JawTVJK2W-9v"
   },
   "source": [
    "Bem-vindos ao Projeto de Dashboard de E-commerce! Este projeto é uma oportunidade para vocês aplicarem habilidades essenciais de análise de dados em um cenário prático e realista. Vocês irão trabalhar com um conjunto de dados de transações de clientes de uma loja virtual, distribuídos em duas tabelas distintas. O objetivo final é construir um dashboard interativo que facilite a visualização e análise das informações relevantes do e-commerce, utilizando ferramentas como Looker Studio ou Power BI."
   ]
  },
  {
   "cell_type": "markdown",
   "metadata": {
    "id": "6_UQwlRYXJnG"
   },
   "source": [
    "**Objetivo do Projeto:**\n",
    "\n",
    "Tratamento de Dados: Realizar a junção (JOIN) de duas tabelas utilizando SQL para consolidar as informações.\n",
    "Análise de Dados: Exportar os dados resultantes para um arquivo CSV.\n",
    "Visualização de Dados: Desenvolver um dashboard interativo e informativo para visualização das principais métricas e insights do e-commerce."
   ]
  },
  {
   "cell_type": "markdown",
   "metadata": {
    "id": "70syl2pLXQ28"
   },
   "source": [
    "**Tabelas Disponibilizadas:**\n",
    "\n",
    "**Tabela de Transações:** Contém os registros de transações realizadas pelos clientes, incluindo detalhes como ID da transação, valor e outros.\n",
    "\n",
    "\n",
    "**Tabela de Dados Pessoais:** Contém as informações pessoais dos clientes, como ID do cliente, nome, genero, cidade, etc.\n",
    "\n",
    "**Chave de Ligação:** As tabelas se relacionam através da coluna ID_CLIENT, que é a chave identificadora dos clientes."
   ]
  },
  {
   "cell_type": "markdown",
   "metadata": {
    "id": "xkLSMEBoXeYT"
   },
   "source": [
    "# Etapas do Projeto:\n",
    "\n",
    "1. Realizar um JOIN SQL nas duas tabelas, unificando as informações através da coluna ID_CLIENT. Você deve justificar a escolha do JOIN (Inner/ Left/ Right ou Full).\n",
    "\n",
    "2. Exportar os dados consolidados resultantes do JOIN para um arquivo CSV.\n",
    "\n",
    "3. Utilizar Looker Studio ou Power BI para importar o arquivo CSV.\n",
    "\n",
    "4. Criar visualizações interativas que apresentem métricas importantes, como total de vendas, número de transações, distribuição geográfica dos clientes, perfil demográfico dos clientes, entre outros."
   ]
  },
  {
   "cell_type": "markdown",
   "metadata": {
    "id": "lRVU4Dl_X0V4"
   },
   "source": [
    "Abaixo temos a configuração do ambiente SQL:"
   ]
  },
  {
   "cell_type": "code",
   "execution_count": 1,
   "metadata": {
    "id": "5_Mqh988V-Tf"
   },
   "outputs": [],
   "source": [
    "import sqlite3\n",
    "import pandas as pd"
   ]
  },
  {
   "cell_type": "code",
   "execution_count": 1,
   "metadata": {
    "id": "JNEitpAKYJfJ"
   },
   "outputs": [
    {
     "ename": "NameError",
     "evalue": "name 'pd' is not defined",
     "output_type": "error",
     "traceback": [
      "\u001b[0;31m---------------------------------------------------------------------------\u001b[0m",
      "\u001b[0;31mNameError\u001b[0m                                 Traceback (most recent call last)",
      "Cell \u001b[0;32mIn[1], line 1\u001b[0m\n\u001b[0;32m----> 1\u001b[0m df_transacoes \u001b[38;5;241m=\u001b[39m \u001b[43mpd\u001b[49m\u001b[38;5;241m.\u001b[39mread_csv(\u001b[38;5;124m\"\u001b[39m\u001b[38;5;124mTB_TRANSACOES_PROJETO_ECOMM.csv\u001b[39m\u001b[38;5;124m\"\u001b[39m, delimiter\u001b[38;5;241m=\u001b[39m\u001b[38;5;124m'\u001b[39m\u001b[38;5;124m;\u001b[39m\u001b[38;5;124m'\u001b[39m)\n\u001b[1;32m      2\u001b[0m df_clientes \u001b[38;5;241m=\u001b[39m pd\u001b[38;5;241m.\u001b[39mread_csv(\u001b[38;5;124m\"\u001b[39m\u001b[38;5;124mTB_CLIENTES_PROJETO_ECOMM.csv\u001b[39m\u001b[38;5;124m\"\u001b[39m, delimiter\u001b[38;5;241m=\u001b[39m\u001b[38;5;124m'\u001b[39m\u001b[38;5;124m;\u001b[39m\u001b[38;5;124m'\u001b[39m)\n\u001b[1;32m      4\u001b[0m df_transacoes[\u001b[38;5;124m'\u001b[39m\u001b[38;5;124mCard Type\u001b[39m\u001b[38;5;124m'\u001b[39m]\n",
      "\u001b[0;31mNameError\u001b[0m: name 'pd' is not defined"
     ]
    }
   ],
   "source": [
    "df_transacoes = pd.read_csv(\"TB_TRANSACOES_PROJETO_ECOMM.csv\", delimiter=';')\n",
    "df_clientes = pd.read_csv(\"TB_CLIENTES_PROJETO_ECOMM.csv\", delimiter=';')\n",
    "\n"
   ]
  },
  {
   "cell_type": "code",
   "execution_count": null,
   "metadata": {
    "colab": {
     "base_uri": "https://localhost:8080/"
    },
    "id": "WnmPtyP6YReh",
    "outputId": "7d1bb95d-1026-417a-d93e-033b91c69be8"
   },
   "outputs": [
    {
     "data": {
      "text/plain": [
       "175"
      ]
     },
     "execution_count": 4,
     "metadata": {},
     "output_type": "execute_result"
    }
   ],
   "source": [
    "conn = sqlite3.connect('projeto.db') # Carregar o DataFrame no banco de dados SQLite - criando tb_transacoes e tb_clientes\n",
    "df_transacoes.to_sql('tb_transacoes', conn, index=False, if_exists='replace')\n",
    "df_clientes.to_sql('tb_clientes', conn, index=False, if_exists='replace')"
   ]
  },
  {
   "cell_type": "code",
   "execution_count": null,
   "metadata": {
    "id": "pMOeIO95Yfm4"
   },
   "outputs": [],
   "source": [
    "# Função para executar consultas SQL e retornar o resultado como um DataFrame\n",
    "def run_query(query):\n",
    "    return pd.read_sql_query(query, conn)"
   ]
  },
  {
   "cell_type": "code",
   "execution_count": null,
   "metadata": {
    "id": "lMSQyM6qaIEu"
   },
   "outputs": [],
   "source": [
    "query = \"\"\"\n",
    "\n",
    "\n",
    "\"\"\"\n",
    "result_df = run_query(query)\n",
    "print(result_df)"
   ]
  },
  {
   "cell_type": "markdown",
   "metadata": {
    "id": "PfsVPMwQZlNe"
   },
   "source": [
    "Justifique a escolha do JOIN:"
   ]
  },
  {
   "cell_type": "markdown",
   "metadata": {
    "id": "ca7R_MgCZ2eh"
   },
   "source": [
    "Exportando o arquivo como CSV:"
   ]
  },
  {
   "cell_type": "code",
   "execution_count": null,
   "metadata": {
    "id": "06eFgBSpZ4Xh"
   },
   "outputs": [],
   "source": [
    "df.to_csv('dados_ecommerce_final.csv', index=False)"
   ]
  },
  {
   "cell_type": "markdown",
   "metadata": {
    "id": "yWnbq4nraMNv"
   },
   "source": [
    "**Dicas para o projeto:**\n",
    "- Se atente que, como o mesmo cliente realiza mais de 1 transação quando você for trazer alguma métrica relacionada a dados do cliente terá que utilizar o distinct para criar essas métricas no dashboard, se não acabará tendo os dados repetidos.\n",
    "\n",
    "- Análise sua tabela, entenda a dimensão dos dados, no excel, antes de enviar para o Powerbi ou Looker Studio.\n",
    "\n",
    "- Tente montar preveamente um roteiro de quais métricas e visualizações irá colocar no dashboard, isso tornará seu processo mais rápido.\n",
    "\n",
    "- Qualquer dificuldade para subir sua base para as ferramentas de visualização envie a base e o erro encontrado para que os tutores possam te ajudar."
   ]
  }
 ],
 "metadata": {
  "colab": {
   "provenance": []
  },
  "kernelspec": {
   "display_name": "Python 3 (ipykernel)",
   "language": "python",
   "name": "python3"
  },
  "language_info": {
   "codemirror_mode": {
    "name": "ipython",
    "version": 3
   },
   "file_extension": ".py",
   "mimetype": "text/x-python",
   "name": "python",
   "nbconvert_exporter": "python",
   "pygments_lexer": "ipython3",
   "version": "3.9.5"
  }
 },
 "nbformat": 4,
 "nbformat_minor": 4
}
