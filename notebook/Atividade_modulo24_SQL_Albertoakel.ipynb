{
  "nbformat": 4,
  "nbformat_minor": 0,
  "metadata": {
    "colab": {
      "provenance": []
    },
    "kernelspec": {
      "name": "python3",
      "display_name": "Python 3"
    },
    "language_info": {
      "name": "python"
    }
  },
  "cells": [
    {
      "cell_type": "markdown",
      "source": [
        "# **MÓDULO 24 - Bancos de Dados + SQL**"
      ],
      "metadata": {
        "id": "4T5dCtwYXFS0"
      }
    },
    {
      "cell_type": "markdown",
      "source": [
        "Para nossa atividade inicial de SQL trabalharemos com uma base de vendas.\n",
        "Abaixo temos o ambiente de preparo para trabalharmos com o SQL lite."
      ],
      "metadata": {
        "id": "tGub_MhcXTfu"
      }
    },
    {
      "cell_type": "code",
      "execution_count": 1,
      "metadata": {
        "id": "eQtWi0CfXCPn"
      },
      "outputs": [],
      "source": [
        "import sqlite3 #Importando a biblioteca necessária\n",
        "import pandas as pd"
      ]
    },
    {
      "cell_type": "code",
      "source": [
        "df_vendas = pd.read_csv(\"TB_VENDAS_TAREFA.csv\", delimiter=';')"
      ],
      "metadata": {
        "id": "yKsW2EEpXQTK"
      },
      "execution_count": 2,
      "outputs": []
    },
    {
      "cell_type": "code",
      "source": [
        "conn = sqlite3.connect(':memory:')\n",
        "df_vendas.to_sql('tb_vendas', conn, index=False, if_exists='replace')\n",
        "df_vendas.head()"
      ],
      "metadata": {
        "colab": {
          "base_uri": "https://localhost:8080/",
          "height": 206
        },
        "id": "vbdvMKZgXtT5",
        "outputId": "bc4d00cb-a58f-4414-c9a2-47458afd4ae6"
      },
      "execution_count": 3,
      "outputs": [
        {
          "output_type": "execute_result",
          "data": {
            "text/plain": [
              "   ID_COMPRA  ID_CLIENTE   PRODUTO VALOR_UNID  UNIDADES\n",
              "0       1247        9081  CAMISETA       34,5         2\n",
              "1       1248        9081     CALCA       89,9         1\n",
              "2       1250        9560  CAMISETA       34,5         1\n",
              "3       1249        9630   BERMUDA       79,5         2\n",
              "4       1251        9425  CAMISETA       34,5         3"
            ],
            "text/html": [
              "\n",
              "  <div id=\"df-31d1c2d4-e0f6-4e6f-972c-f819647c8f51\" class=\"colab-df-container\">\n",
              "    <div>\n",
              "<style scoped>\n",
              "    .dataframe tbody tr th:only-of-type {\n",
              "        vertical-align: middle;\n",
              "    }\n",
              "\n",
              "    .dataframe tbody tr th {\n",
              "        vertical-align: top;\n",
              "    }\n",
              "\n",
              "    .dataframe thead th {\n",
              "        text-align: right;\n",
              "    }\n",
              "</style>\n",
              "<table border=\"1\" class=\"dataframe\">\n",
              "  <thead>\n",
              "    <tr style=\"text-align: right;\">\n",
              "      <th></th>\n",
              "      <th>ID_COMPRA</th>\n",
              "      <th>ID_CLIENTE</th>\n",
              "      <th>PRODUTO</th>\n",
              "      <th>VALOR_UNID</th>\n",
              "      <th>UNIDADES</th>\n",
              "    </tr>\n",
              "  </thead>\n",
              "  <tbody>\n",
              "    <tr>\n",
              "      <th>0</th>\n",
              "      <td>1247</td>\n",
              "      <td>9081</td>\n",
              "      <td>CAMISETA</td>\n",
              "      <td>34,5</td>\n",
              "      <td>2</td>\n",
              "    </tr>\n",
              "    <tr>\n",
              "      <th>1</th>\n",
              "      <td>1248</td>\n",
              "      <td>9081</td>\n",
              "      <td>CALCA</td>\n",
              "      <td>89,9</td>\n",
              "      <td>1</td>\n",
              "    </tr>\n",
              "    <tr>\n",
              "      <th>2</th>\n",
              "      <td>1250</td>\n",
              "      <td>9560</td>\n",
              "      <td>CAMISETA</td>\n",
              "      <td>34,5</td>\n",
              "      <td>1</td>\n",
              "    </tr>\n",
              "    <tr>\n",
              "      <th>3</th>\n",
              "      <td>1249</td>\n",
              "      <td>9630</td>\n",
              "      <td>BERMUDA</td>\n",
              "      <td>79,5</td>\n",
              "      <td>2</td>\n",
              "    </tr>\n",
              "    <tr>\n",
              "      <th>4</th>\n",
              "      <td>1251</td>\n",
              "      <td>9425</td>\n",
              "      <td>CAMISETA</td>\n",
              "      <td>34,5</td>\n",
              "      <td>3</td>\n",
              "    </tr>\n",
              "  </tbody>\n",
              "</table>\n",
              "</div>\n",
              "    <div class=\"colab-df-buttons\">\n",
              "\n",
              "  <div class=\"colab-df-container\">\n",
              "    <button class=\"colab-df-convert\" onclick=\"convertToInteractive('df-31d1c2d4-e0f6-4e6f-972c-f819647c8f51')\"\n",
              "            title=\"Convert this dataframe to an interactive table.\"\n",
              "            style=\"display:none;\">\n",
              "\n",
              "  <svg xmlns=\"http://www.w3.org/2000/svg\" height=\"24px\" viewBox=\"0 -960 960 960\">\n",
              "    <path d=\"M120-120v-720h720v720H120Zm60-500h600v-160H180v160Zm220 220h160v-160H400v160Zm0 220h160v-160H400v160ZM180-400h160v-160H180v160Zm440 0h160v-160H620v160ZM180-180h160v-160H180v160Zm440 0h160v-160H620v160Z\"/>\n",
              "  </svg>\n",
              "    </button>\n",
              "\n",
              "  <style>\n",
              "    .colab-df-container {\n",
              "      display:flex;\n",
              "      gap: 12px;\n",
              "    }\n",
              "\n",
              "    .colab-df-convert {\n",
              "      background-color: #E8F0FE;\n",
              "      border: none;\n",
              "      border-radius: 50%;\n",
              "      cursor: pointer;\n",
              "      display: none;\n",
              "      fill: #1967D2;\n",
              "      height: 32px;\n",
              "      padding: 0 0 0 0;\n",
              "      width: 32px;\n",
              "    }\n",
              "\n",
              "    .colab-df-convert:hover {\n",
              "      background-color: #E2EBFA;\n",
              "      box-shadow: 0px 1px 2px rgba(60, 64, 67, 0.3), 0px 1px 3px 1px rgba(60, 64, 67, 0.15);\n",
              "      fill: #174EA6;\n",
              "    }\n",
              "\n",
              "    .colab-df-buttons div {\n",
              "      margin-bottom: 4px;\n",
              "    }\n",
              "\n",
              "    [theme=dark] .colab-df-convert {\n",
              "      background-color: #3B4455;\n",
              "      fill: #D2E3FC;\n",
              "    }\n",
              "\n",
              "    [theme=dark] .colab-df-convert:hover {\n",
              "      background-color: #434B5C;\n",
              "      box-shadow: 0px 1px 3px 1px rgba(0, 0, 0, 0.15);\n",
              "      filter: drop-shadow(0px 1px 2px rgba(0, 0, 0, 0.3));\n",
              "      fill: #FFFFFF;\n",
              "    }\n",
              "  </style>\n",
              "\n",
              "    <script>\n",
              "      const buttonEl =\n",
              "        document.querySelector('#df-31d1c2d4-e0f6-4e6f-972c-f819647c8f51 button.colab-df-convert');\n",
              "      buttonEl.style.display =\n",
              "        google.colab.kernel.accessAllowed ? 'block' : 'none';\n",
              "\n",
              "      async function convertToInteractive(key) {\n",
              "        const element = document.querySelector('#df-31d1c2d4-e0f6-4e6f-972c-f819647c8f51');\n",
              "        const dataTable =\n",
              "          await google.colab.kernel.invokeFunction('convertToInteractive',\n",
              "                                                    [key], {});\n",
              "        if (!dataTable) return;\n",
              "\n",
              "        const docLinkHtml = 'Like what you see? Visit the ' +\n",
              "          '<a target=\"_blank\" href=https://colab.research.google.com/notebooks/data_table.ipynb>data table notebook</a>'\n",
              "          + ' to learn more about interactive tables.';\n",
              "        element.innerHTML = '';\n",
              "        dataTable['output_type'] = 'display_data';\n",
              "        await google.colab.output.renderOutput(dataTable, element);\n",
              "        const docLink = document.createElement('div');\n",
              "        docLink.innerHTML = docLinkHtml;\n",
              "        element.appendChild(docLink);\n",
              "      }\n",
              "    </script>\n",
              "  </div>\n",
              "\n",
              "\n",
              "<div id=\"df-c80f5742-4fbf-403b-8877-831f642f0b64\">\n",
              "  <button class=\"colab-df-quickchart\" onclick=\"quickchart('df-c80f5742-4fbf-403b-8877-831f642f0b64')\"\n",
              "            title=\"Suggest charts\"\n",
              "            style=\"display:none;\">\n",
              "\n",
              "<svg xmlns=\"http://www.w3.org/2000/svg\" height=\"24px\"viewBox=\"0 0 24 24\"\n",
              "     width=\"24px\">\n",
              "    <g>\n",
              "        <path d=\"M19 3H5c-1.1 0-2 .9-2 2v14c0 1.1.9 2 2 2h14c1.1 0 2-.9 2-2V5c0-1.1-.9-2-2-2zM9 17H7v-7h2v7zm4 0h-2V7h2v10zm4 0h-2v-4h2v4z\"/>\n",
              "    </g>\n",
              "</svg>\n",
              "  </button>\n",
              "\n",
              "<style>\n",
              "  .colab-df-quickchart {\n",
              "      --bg-color: #E8F0FE;\n",
              "      --fill-color: #1967D2;\n",
              "      --hover-bg-color: #E2EBFA;\n",
              "      --hover-fill-color: #174EA6;\n",
              "      --disabled-fill-color: #AAA;\n",
              "      --disabled-bg-color: #DDD;\n",
              "  }\n",
              "\n",
              "  [theme=dark] .colab-df-quickchart {\n",
              "      --bg-color: #3B4455;\n",
              "      --fill-color: #D2E3FC;\n",
              "      --hover-bg-color: #434B5C;\n",
              "      --hover-fill-color: #FFFFFF;\n",
              "      --disabled-bg-color: #3B4455;\n",
              "      --disabled-fill-color: #666;\n",
              "  }\n",
              "\n",
              "  .colab-df-quickchart {\n",
              "    background-color: var(--bg-color);\n",
              "    border: none;\n",
              "    border-radius: 50%;\n",
              "    cursor: pointer;\n",
              "    display: none;\n",
              "    fill: var(--fill-color);\n",
              "    height: 32px;\n",
              "    padding: 0;\n",
              "    width: 32px;\n",
              "  }\n",
              "\n",
              "  .colab-df-quickchart:hover {\n",
              "    background-color: var(--hover-bg-color);\n",
              "    box-shadow: 0 1px 2px rgba(60, 64, 67, 0.3), 0 1px 3px 1px rgba(60, 64, 67, 0.15);\n",
              "    fill: var(--button-hover-fill-color);\n",
              "  }\n",
              "\n",
              "  .colab-df-quickchart-complete:disabled,\n",
              "  .colab-df-quickchart-complete:disabled:hover {\n",
              "    background-color: var(--disabled-bg-color);\n",
              "    fill: var(--disabled-fill-color);\n",
              "    box-shadow: none;\n",
              "  }\n",
              "\n",
              "  .colab-df-spinner {\n",
              "    border: 2px solid var(--fill-color);\n",
              "    border-color: transparent;\n",
              "    border-bottom-color: var(--fill-color);\n",
              "    animation:\n",
              "      spin 1s steps(1) infinite;\n",
              "  }\n",
              "\n",
              "  @keyframes spin {\n",
              "    0% {\n",
              "      border-color: transparent;\n",
              "      border-bottom-color: var(--fill-color);\n",
              "      border-left-color: var(--fill-color);\n",
              "    }\n",
              "    20% {\n",
              "      border-color: transparent;\n",
              "      border-left-color: var(--fill-color);\n",
              "      border-top-color: var(--fill-color);\n",
              "    }\n",
              "    30% {\n",
              "      border-color: transparent;\n",
              "      border-left-color: var(--fill-color);\n",
              "      border-top-color: var(--fill-color);\n",
              "      border-right-color: var(--fill-color);\n",
              "    }\n",
              "    40% {\n",
              "      border-color: transparent;\n",
              "      border-right-color: var(--fill-color);\n",
              "      border-top-color: var(--fill-color);\n",
              "    }\n",
              "    60% {\n",
              "      border-color: transparent;\n",
              "      border-right-color: var(--fill-color);\n",
              "    }\n",
              "    80% {\n",
              "      border-color: transparent;\n",
              "      border-right-color: var(--fill-color);\n",
              "      border-bottom-color: var(--fill-color);\n",
              "    }\n",
              "    90% {\n",
              "      border-color: transparent;\n",
              "      border-bottom-color: var(--fill-color);\n",
              "    }\n",
              "  }\n",
              "</style>\n",
              "\n",
              "  <script>\n",
              "    async function quickchart(key) {\n",
              "      const quickchartButtonEl =\n",
              "        document.querySelector('#' + key + ' button');\n",
              "      quickchartButtonEl.disabled = true;  // To prevent multiple clicks.\n",
              "      quickchartButtonEl.classList.add('colab-df-spinner');\n",
              "      try {\n",
              "        const charts = await google.colab.kernel.invokeFunction(\n",
              "            'suggestCharts', [key], {});\n",
              "      } catch (error) {\n",
              "        console.error('Error during call to suggestCharts:', error);\n",
              "      }\n",
              "      quickchartButtonEl.classList.remove('colab-df-spinner');\n",
              "      quickchartButtonEl.classList.add('colab-df-quickchart-complete');\n",
              "    }\n",
              "    (() => {\n",
              "      let quickchartButtonEl =\n",
              "        document.querySelector('#df-c80f5742-4fbf-403b-8877-831f642f0b64 button');\n",
              "      quickchartButtonEl.style.display =\n",
              "        google.colab.kernel.accessAllowed ? 'block' : 'none';\n",
              "    })();\n",
              "  </script>\n",
              "</div>\n",
              "\n",
              "    </div>\n",
              "  </div>\n"
            ],
            "application/vnd.google.colaboratory.intrinsic+json": {
              "type": "dataframe",
              "variable_name": "df_vendas",
              "summary": "{\n  \"name\": \"df_vendas\",\n  \"rows\": 24,\n  \"fields\": [\n    {\n      \"column\": \"ID_COMPRA\",\n      \"properties\": {\n        \"dtype\": \"number\",\n        \"std\": 7,\n        \"min\": 1247,\n        \"max\": 1270,\n        \"num_unique_values\": 24,\n        \"samples\": [\n          1255,\n          1263,\n          1247\n        ],\n        \"semantic_type\": \"\",\n        \"description\": \"\"\n      }\n    },\n    {\n      \"column\": \"ID_CLIENTE\",\n      \"properties\": {\n        \"dtype\": \"number\",\n        \"std\": 220,\n        \"min\": 9081,\n        \"max\": 9801,\n        \"num_unique_values\": 22,\n        \"samples\": [\n          9081,\n          9793,\n          9788\n        ],\n        \"semantic_type\": \"\",\n        \"description\": \"\"\n      }\n    },\n    {\n      \"column\": \"PRODUTO\",\n      \"properties\": {\n        \"dtype\": \"category\",\n        \"num_unique_values\": 5,\n        \"samples\": [\n          \"CALCA\",\n          \"MEIA\",\n          \"BERMUDA\"\n        ],\n        \"semantic_type\": \"\",\n        \"description\": \"\"\n      }\n    },\n    {\n      \"column\": \"VALOR_UNID\",\n      \"properties\": {\n        \"dtype\": \"category\",\n        \"num_unique_values\": 5,\n        \"samples\": [\n          \"89,9\",\n          \"25,9\",\n          \"79,5\"\n        ],\n        \"semantic_type\": \"\",\n        \"description\": \"\"\n      }\n    },\n    {\n      \"column\": \"UNIDADES\",\n      \"properties\": {\n        \"dtype\": \"number\",\n        \"std\": 0,\n        \"min\": 1,\n        \"max\": 4,\n        \"num_unique_values\": 4,\n        \"samples\": [\n          1,\n          4,\n          2\n        ],\n        \"semantic_type\": \"\",\n        \"description\": \"\"\n      }\n    }\n  ]\n}"
            }
          },
          "metadata": {},
          "execution_count": 3
        }
      ]
    },
    {
      "cell_type": "code",
      "source": [
        "def run_query(query):\n",
        "    return pd.read_sql_query(query, conn)"
      ],
      "metadata": {
        "id": "Z3-elg3aXuiM"
      },
      "execution_count": 4,
      "outputs": []
    },
    {
      "cell_type": "markdown",
      "source": [
        "### 1.Retorne todos os dados da nossa tabela de vendas, com todas linhas e todas colunas.\n"
      ],
      "metadata": {
        "id": "Z_EFXuNLXz7m"
      }
    },
    {
      "cell_type": "code",
      "source": [
        "query = \"select * from tb_vendas\"\n",
        "result_df = run_query(query)\n",
        "print(result_df)"
      ],
      "metadata": {
        "id": "XQr_MBvmb4yC",
        "colab": {
          "base_uri": "https://localhost:8080/"
        },
        "outputId": "83bf4a2e-dcae-4364-aa75-32b098759f3a"
      },
      "execution_count": 5,
      "outputs": [
        {
          "output_type": "stream",
          "name": "stdout",
          "text": [
            "    ID_COMPRA  ID_CLIENTE   PRODUTO VALOR_UNID  UNIDADES\n",
            "0        1247        9081  CAMISETA       34,5         2\n",
            "1        1248        9081     CALCA       89,9         1\n",
            "2        1250        9560  CAMISETA       34,5         1\n",
            "3        1249        9630   BERMUDA       79,5         2\n",
            "4        1251        9425  CAMISETA       34,5         3\n",
            "5        1252        9425   VESTIDO        102         1\n",
            "6        1253        9481     CALCA       89,9         2\n",
            "7        1254        9785      MEIA       25,9         1\n",
            "8        1255        9786     CALCA       89,9         2\n",
            "9        1256        9787   VESTIDO        102         1\n",
            "10       1257        9788     CALCA       89,9         2\n",
            "11       1258        9789  CAMISETA       34,5         3\n",
            "12       1259        9790  CAMISETA       34,5         1\n",
            "13       1260        9791   BERMUDA       79,5         2\n",
            "14       1261        9792  CAMISETA       34,5         2\n",
            "15       1262        9793     CALCA       89,9         2\n",
            "16       1263        9794     CALCA       89,9         1\n",
            "17       1264        9795   BERMUDA       79,5         2\n",
            "18       1265        9796  CAMISETA       34,5         4\n",
            "19       1266        9797  CAMISETA       34,5         1\n",
            "20       1267        9798   VESTIDO        102         2\n",
            "21       1268        9799      MEIA       25,9         3\n",
            "22       1269        9800  CAMISETA       34,5         2\n",
            "23       1270        9801     CALCA       89,9         1\n"
          ]
        }
      ]
    },
    {
      "cell_type": "markdown",
      "source": [
        "### 2.Retorne apenas 10 linhas da coluna produto.\n"
      ],
      "metadata": {
        "id": "nyhYEkRLYMNY"
      }
    },
    {
      "cell_type": "code",
      "source": [
        "query = \"select produto from tb_vendas limit 10\"\n",
        "result_df = run_query(query)\n",
        "print(result_df)"
      ],
      "metadata": {
        "id": "LfKnVQUCYLxE",
        "colab": {
          "base_uri": "https://localhost:8080/"
        },
        "outputId": "fa181c0f-30b5-426e-f886-4a81c6b6140c"
      },
      "execution_count": 6,
      "outputs": [
        {
          "output_type": "stream",
          "name": "stdout",
          "text": [
            "    PRODUTO\n",
            "0  CAMISETA\n",
            "1     CALCA\n",
            "2  CAMISETA\n",
            "3   BERMUDA\n",
            "4  CAMISETA\n",
            "5   VESTIDO\n",
            "6     CALCA\n",
            "7      MEIA\n",
            "8     CALCA\n",
            "9   VESTIDO\n"
          ]
        }
      ]
    },
    {
      "cell_type": "markdown",
      "source": [
        "### 3.Retorne a média do valor por unidade e também das unidades vendidas. Renomear o nome das colunas."
      ],
      "metadata": {
        "id": "-hqcrP6CYiGF"
      }
    },
    {
      "cell_type": "code",
      "source": [
        "query = \"select avg(VALOR_UNID) as 'média (valor/unidade)',avg(UNIDADES) as 'média (unidades)' from tb_vendas\"\n",
        "result_df = run_query(query)\n",
        "print(result_df)"
      ],
      "metadata": {
        "id": "v1aJMTkMYhm4",
        "colab": {
          "base_uri": "https://localhost:8080/"
        },
        "outputId": "3982a05c-b180-4d69-e3f7-27925127d60f"
      },
      "execution_count": 7,
      "outputs": [
        {
          "output_type": "stream",
          "name": "stdout",
          "text": [
            "   média (valor/unidade)  média (unidades)\n",
            "0              63.416667          1.833333\n"
          ]
        }
      ]
    },
    {
      "cell_type": "markdown",
      "source": [
        "### 4.Note que na nossa tabela não temos o total de valor gasto por compra, temos o valor do produto e a quantidade vendida. Faça uma consulta que retorne a coluna ID_COMPRA, ID_CLIENTE e o valor total gasto.\n",
        "\n"
      ],
      "metadata": {
        "id": "UJUIsVjAY8Jz"
      }
    },
    {
      "cell_type": "code",
      "source": [
        "query = \"select ID_ClIENTE,ID_COMPRA,cast(VALOR_UNID * UNIDADES as float) as 'Total da Compra' from tb_vendas\"\n",
        "result_df = run_query(query)\n",
        "print(result_df)"
      ],
      "metadata": {
        "id": "rNQfkp6RY7qa",
        "colab": {
          "base_uri": "https://localhost:8080/"
        },
        "outputId": "4657734c-42a5-4b27-d078-3ab0b3f03b71"
      },
      "execution_count": 10,
      "outputs": [
        {
          "output_type": "stream",
          "name": "stdout",
          "text": [
            "    ID_CLIENTE  ID_COMPRA  Total da Compra\n",
            "0         9081       1247             68.0\n",
            "1         9081       1248             89.0\n",
            "2         9560       1250             34.0\n",
            "3         9630       1249            158.0\n",
            "4         9425       1251            102.0\n",
            "5         9425       1252            102.0\n",
            "6         9481       1253            178.0\n",
            "7         9785       1254             25.0\n",
            "8         9786       1255            178.0\n",
            "9         9787       1256            102.0\n",
            "10        9788       1257            178.0\n",
            "11        9789       1258            102.0\n",
            "12        9790       1259             34.0\n",
            "13        9791       1260            158.0\n",
            "14        9792       1261             68.0\n",
            "15        9793       1262            178.0\n",
            "16        9794       1263             89.0\n",
            "17        9795       1264            158.0\n",
            "18        9796       1265            136.0\n",
            "19        9797       1266             34.0\n",
            "20        9798       1267            204.0\n",
            "21        9799       1268             75.0\n",
            "22        9800       1269             68.0\n",
            "23        9801       1270             89.0\n"
          ]
        }
      ]
    },
    {
      "cell_type": "markdown",
      "source": [
        "### 5.[DESAFIO] Faça uma consulta que traz a média do valor total gasto que foi calculado no exercício anterior. Note que não queremos a média por pedido e sim a média total, apenas essa informação deve vir na consulta.\n",
        "\n",
        "Não ficou claro se a questão pedia a média total para o número de itens  ou  clientes. Desta forma realizei as duas operações."
      ],
      "metadata": {
        "id": "tuTDx7W3Zxlp"
      }
    },
    {
      "cell_type": "code",
      "source": [
        "# Média total por unidades\n",
        "query = \"select sum(cast(VALOR_UNID * UNIDADES as float))/sum(unidades) as 'média total/unidades' from tb_vendas\"\n",
        "result_df = run_query(query)\n",
        "print(result_df)\n",
        "# Média total por numero de clientes\n",
        "query = \"select sum(cast(VALOR_UNID * UNIDADES as float))/COUNT(DISTINCT ID_CLIENTE) 'média total/cliente' from tb_vendas\"\n",
        "result_df = run_query(query)\n",
        "print(result_df)"
      ],
      "metadata": {
        "id": "UPUskwJoaEgy",
        "colab": {
          "base_uri": "https://localhost:8080/"
        },
        "outputId": "1cdd2d46-5b1f-4c2e-cf7c-0ae9a3c4ac29"
      },
      "execution_count": null,
      "outputs": [
        {
          "output_type": "stream",
          "name": "stdout",
          "text": [
            "   média total/unidades\n",
            "0                 59.25\n",
            "   média total/cliente\n",
            "0                118.5\n"
          ]
        }
      ]
    },
    {
      "cell_type": "markdown",
      "source": [
        "### 6) Diferencie com suas palavras, considerando o repertório que tem criado da área de dados, a utilizadade do SQL e do Python para ciência de dados.\n",
        "\n",
        "SQL e Python são ferramentas fundamentais para ciência de dados, pois desempenham papéis específicos ao longo do workflow de trabalho de um cientista de dados. A primeira e mais antiga, SQL, foi desenvolvida no início dos anos 70 com o objetivo principal de ser uma linguagem para consulta de bancos de dados — o próprio \"Q\" de SQL (Structured Query Language) já indica sua função essencial: extrair, filtrar e manipular dados estruturados de forma eficiente.\n",
        "\n",
        "Já o Python, uma linguagem de programação de alto nível criada no início dos anos 90, tornou-se indispensável devido à sua versatilidade e ao vasto ecossistema de bibliotecas. Ao longo das décadas, acumulou ferramentas poderosas para análise de dados (Pandas, NumPy), visualização (Matplotlib, Seaborn) e machine learning (Scikit-learn, TensorFlow). Dessa forma, o Python está presente em aplicações que vão desde desenvolvimento web até rotinas de inteligência artificial em áreas como medicina, finanças e automação industrial.\n",
        "\n",
        "Assim, enquanto o SQL garante acesso rápido e organizado aos dados armazenados, o Python possibilita análises mais elaboradas, modelagem e visualização. Sendo assim importantes em etapas distintas do dia a dia do cientista de dados.\n"
      ],
      "metadata": {
        "id": "0ezDHHigaONG"
      }
    },
    {
      "cell_type": "markdown",
      "source": [
        "### 7) Diferencie com suas palavras banco de dados relacionais de não relacionais.\n",
        "\n",
        "Dados Relacionas(SQL) podem ser entendido como matrizes onde os dados são armazenados em linhas e colunas, com relacionamentos bem definidos entre as matrizes via chaves.\n",
        "Já os dados Não relacionais(NoSQL) funcionam com armarios ou baús flexivies, permitindo que os dados sejam armazenados de diferentes formas.\n",
        "\n",
        "Uma das principais diferencias é o quanto aos escalonamento e integridade dos dados, enquanto o SQL prioriza a integridade dos dados, torna-se vantajoso para transações mais complexa, enquanto o NoSQL prioriza flexibilidade e performance em escala, sendo uma grande vantagem para dados dinâmicos e BigDATA"
      ],
      "metadata": {
        "id": "F1xh_-UPaZU2"
      }
    },
    {
      "cell_type": "markdown",
      "source": [
        "### 8) Queremos saber da sua opinião, acredita que o SQL pode ser mais prático que o Python para consultas rápidas? Justifique.\n",
        "\n",
        "\n",
        "A escolha entre SQL e Python dependerá do contexto e do objetivo da análise. De fato, o SQL é imbatível em consultas otimizadas para bancos de dados, especialmente ao trabalhar com grandes volumes de dados, enquanto no Python essas mesmas operações exigiriam mais linhas de código e poderiam ser menos performáticas.\n",
        "\n",
        "Por outro lado, o Python se destaca em análises exploratórias (como em Jupyter Notebooks), onde a flexibilidade de bibliotecas como Pandas permite manipular dados diretamente na memória (ex.: df_vendas['Coluna']). Embora, em alguns casos, seja possível trabalhar apenas com Python, para validações ou extrações de dados em bancos de dados, o SQL pode ser fundamental. Dessa forma, o ideal é usar SQL para o \"pesado\" do ETL e Python para o \"poder analítico\", complementando-se no fluxo de trabalho.\n"
      ],
      "metadata": {
        "id": "GkKpxl52atNQ"
      }
    }
  ]
}