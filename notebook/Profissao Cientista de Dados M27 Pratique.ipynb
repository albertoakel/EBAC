{
 "cells": [
  {
   "cell_type": "markdown",
   "metadata": {
    "id": "PobmBiSKLym_"
   },
   "source": [
    "# **MÓDULO 27 - Projeto de Doenças Cardiovasculares - Regressão Logística**\n"
   ]
  },
  {
   "cell_type": "markdown",
   "metadata": {
    "id": "dIJ_gU2nL6m5"
   },
   "source": [
    "Assim como na aula que trabalhamos com uma base de dados nova, com um contexto de modelo de propensão a compra de carros, para a atividade de vocês achei interessante trazer também novos desafios."
   ]
  },
  {
   "cell_type": "markdown",
   "metadata": {
    "id": "aa-GOAghMCvx"
   },
   "source": [
    "Nessa tarefa iremos construir um modelo que nos ajude a prever doenças cardiovasculares, a base contém dados reais.\n",
    "\n",
    "age - idade dos pacientes\n",
    "\n",
    "gender - genero (2 mulheres) (1 homens)\n",
    "\n",
    "height - altura dos pacientes\n",
    "\n",
    "weight - peso dos pacientes\n",
    "\n",
    "gluc - glicose\n",
    "\n",
    "smoke - fumante (1) não fumante (0)\n",
    "\n",
    "alco - consume alcool (1) não consome (0)\n",
    "\n",
    "active - realiza atividades fisicas (1) não realiza (0)\n",
    "\n",
    "cardio_disease - tem doença cardio (1) não tem (0) - Variável target\n"
   ]
  },
  {
   "cell_type": "markdown",
   "metadata": {
    "id": "cTmr2lSZM0sL"
   },
   "source": [
    "Seu objetivo é utilizar esses dados históricos dos pacientes e construir um bom modelo de regressão capaz de indicar se novos pacientes estão propensos a doenças cariovasculares ou não."
   ]
  },
  {
   "cell_type": "code",
   "execution_count": 1,
   "metadata": {
    "id": "TFFN0zwFNbwk"
   },
   "outputs": [],
   "source": [
    "import pandas as pd\n",
    "import matplotlib.pyplot as plt\n",
    "import seaborn as sns\n",
    "from sklearn.model_selection import train_test_split\n",
    "from sklearn.metrics import accuracy_score, classification_report\n",
    "from imblearn.over_sampling import SMOTE\n",
    "from sklearn.preprocessing import StandardScaler\n",
    "from sklearn.linear_model import LogisticRegression\n",
    "from sklearn.metrics import roc_curve, roc_auc_score, classification_report"
   ]
  },
  {
   "cell_type": "markdown",
   "metadata": {
    "id": "M61dablZM_2u"
   },
   "source": [
    "# 1) Comece carregando e tratando a base de dados.\n",
    "Assim como na aula essa nova base não passou por pré processamento nenhum então nessa etapa, carrega os dados, verifique os tipos de dados, verifique se temos dados faltantes e outliers.\n",
    "Quando necessário realize o tratamento.\n"
   ]
  },
  {
   "cell_type": "code",
   "execution_count": null,
   "metadata": {
    "id": "MbWSSB26Lx-A"
   },
   "outputs": [],
   "source": [
    "base = pd.read_csv(\"CARDIO_BASE.csv\", delimiter=';')"
   ]
  },
  {
   "cell_type": "code",
   "execution_count": null,
   "metadata": {
    "id": "2grTowkLcBOf"
   },
   "outputs": [],
   "source": [
    "# seu código aqui"
   ]
  },
  {
   "cell_type": "markdown",
   "metadata": {
    "id": "mxWjbX6bN4WC"
   },
   "source": [
    "# 2) Agora é hora de explorar os dados com uma análise bem completa.\n",
    "Plote pelo menos 3 gráficos analisando o comportamento da variável cardio com outras variaveis da sua preferência (análise bivariada). Não se esqueça de trazer insights acerca do analisado.\n"
   ]
  },
  {
   "cell_type": "code",
   "execution_count": null,
   "metadata": {
    "id": "_Wt2QFAscFfi"
   },
   "outputs": [],
   "source": [
    "# seu código aqui"
   ]
  },
  {
   "cell_type": "markdown",
   "metadata": {
    "id": "q3JQx0UtO6Bh"
   },
   "source": [
    "# 3) Nessa etapa você deve trazer a matriz de correlação e apontar insights acerca das variáveis com um relacionamento mais forte entre si.\n",
    "\n"
   ]
  },
  {
   "cell_type": "code",
   "execution_count": null,
   "metadata": {
    "id": "C9DhcRThcGvZ"
   },
   "outputs": [],
   "source": [
    "# seu código aqui"
   ]
  },
  {
   "cell_type": "markdown",
   "metadata": {
    "id": "2gXd-NZrP0M8"
   },
   "source": [
    "# 4) Essa é a sua última etapa pré modelo. Você deve:\n",
    "\n",
    "A) Separar a base em treino e teste.\n",
    "\n",
    "B) Você considera que essa base precisa que os dados sejam padronizados? Se sim, porque? Se acredita que devem, então realize essa etapa.\n",
    "\n",
    "C) Verifique se os dados estão balanceados, se não, faça o balanceamento.\n",
    "\n",
    "\n",
    "D) Visualize as bases de treino, teste (X E Y) e verifique se está tudo adequado."
   ]
  },
  {
   "cell_type": "code",
   "execution_count": null,
   "metadata": {
    "id": "O3FgZPf5cI9W"
   },
   "outputs": [],
   "source": [
    "# seu código aqui"
   ]
  },
  {
   "cell_type": "markdown",
   "metadata": {
    "id": "tkZP0RS7Q0lG"
   },
   "source": [
    "# 5) Realize a etapa de treinamento do modelo:\n",
    "\n",
    "A) Faça o treinamento do modelo.\n",
    "\n",
    "B) Traga o intercept e os coeficientes.\n",
    "\n",
    "c) Avalie as métricas do modelo treinado\n",
    "\n",
    "D) Justifique se te parece que o modelo tem feito boas previsões ou não."
   ]
  },
  {
   "cell_type": "code",
   "execution_count": null,
   "metadata": {
    "id": "gGFt320QcKqL"
   },
   "outputs": [],
   "source": [
    "# seu código aqui"
   ]
  },
  {
   "cell_type": "markdown",
   "metadata": {
    "id": "bXzPKyRqR8B8"
   },
   "source": [
    "# 6) Teste seu modelo!\n",
    "\n",
    "A) Aplique o modelo aos dados de teste.\n",
    "\n",
    "B) Avalie as métricas do modelo treinado\n",
    "\n",
    "C) Plote o gráfico da curva AUC-ROC e explique o que consegue analisar através do gráfico."
   ]
  },
  {
   "cell_type": "code",
   "execution_count": null,
   "metadata": {
    "id": "9bIs8TRDcMGm"
   },
   "outputs": [],
   "source": [
    "# seu código aqui"
   ]
  },
  {
   "cell_type": "markdown",
   "metadata": {
    "id": "eH2i4tegSpjt"
   },
   "source": [
    "# 7) Explique:\n",
    "\n",
    "A) Explique com suas palavras regressão logistica.\n",
    "\n",
    "B) Explique porque a regressão logistica é um modelo de classificação.\n",
    "\n",
    "C) Explique quais pontos em comum a regressão logistica tem da regressão linear.\n",
    "\n"
   ]
  },
  {
   "cell_type": "code",
   "execution_count": null,
   "metadata": {
    "id": "d34ugkIRSpN0"
   },
   "outputs": [],
   "source": [
    "# seu código aqui"
   ]
  }
 ],
 "metadata": {
  "colab": {
   "provenance": []
  },
  "kernelspec": {
   "display_name": "Python 3 (ipykernel)",
   "language": "python",
   "name": "python3"
  },
  "language_info": {
   "codemirror_mode": {
    "name": "ipython",
    "version": 3
   },
   "file_extension": ".py",
   "mimetype": "text/x-python",
   "name": "python",
   "nbconvert_exporter": "python",
   "pygments_lexer": "ipython3",
   "version": "3.9.5"
  }
 },
 "nbformat": 4,
 "nbformat_minor": 4
}
