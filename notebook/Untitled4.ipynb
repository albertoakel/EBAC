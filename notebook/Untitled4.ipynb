{
 "cells": [
  {
   "cell_type": "code",
   "execution_count": 4,
   "id": "fd003029-5f74-4891-b26b-f6f994cbdf3a",
   "metadata": {},
   "outputs": [
    {
     "data": {
      "text/plain": [
       "'/home/akel/Downloads/teste_.md'"
      ]
     },
     "execution_count": 4,
     "metadata": {},
     "output_type": "execute_result"
    }
   ],
   "source": [
    "import pandas as pd\n",
    "import numpy as np\n",
    "\n",
    "# Dados fornecidos em formato de string\n",
    "data_str = \"\"\"\n",
    "age\tgender\theight\tweight\tsmoke\talco\tactive\tgluc_1\tgluc_2\tgluc_3\tcholesterol_1\tcholesterol_2\tcholesterol_3\tIMC_0.5\tcardio_disease\n",
    "age\t1.000000\t0.013817\t-0.085923\t0.061580\t-0.046213\t-0.041239\t-0.021818\t-0.077668\t0.017472\t0.088194\t-0.147574\t0.032921\t0.167368\t0.111984\t0.238592\n",
    "gender\t0.013817\t1.000000\t-0.513735\t-0.150731\t-0.331302\t-0.185320\t-0.014184\t-0.023380\t0.001464\t0.030364\t-0.034468\t0.023723\t0.021455\t0.138901\t0.000432\n",
    "height\t-0.085923\t-0.513735\t1.000000\t0.305143\t0.195980\t0.112422\t-0.003582\t0.035208\t-0.019693\t-0.028143\t0.060534\t-0.032972\t-0.047240\t-0.249949\t-0.021010\n",
    "weight\t0.061580\t-0.150731\t0.305143\t1.000000\t0.061048\t0.077611\t-0.016915\t-0.100298\t0.075848\t0.060317\t-0.117435\t0.065707\t0.089729\t0.841581\t0.173587\n",
    "smoke\t-0.046213\t-0.331302\t0.195980\t0.061048\t1.000000\t0.342937\t0.036743\t-0.026007\t0.035210\t0.000013\t-0.029654\t0.029395\t0.008576\t-0.048698\t-0.021432\n",
    "alco\t-0.041239\t-0.185320\t0.112422\t0.077611\t0.342937\t1.000000\t0.040689\t-0.023320\t0.043003\t-0.011481\t-0.020427\t0.022341\t0.003606\t0.012687\t-0.010137\n",
    "active\t-0.021818\t-0.014184\t-0.003582\t-0.016915\t0.036743\t0.040689\t1.000000\t0.004319\t-0.020384\t0.014613\t-0.009953\t-0.010711\t0.025511\t-0.017508\t-0.038406\n",
    "gluc_1\t-0.077668\t-0.023380\t0.035208\t-0.100298\t-0.026007\t-0.023320\t0.004319\t1.000000\t-0.681148\t-0.676855\t0.354284\t-0.151525\t-0.322069\t-0.120917\t-0.076943\n",
    "gluc_2\t0.017472\t0.001464\t-0.019693\t0.075848\t0.035210\t0.043003\t-0.020384\t-0.681148\t1.000000\t-0.077906\t-0.190651\t0.265378\t-0.028889\t0.086698\t0.035385\n",
    "gluc_3\t0.088194\t0.030364\t-0.028143\t0.060317\t0.000013\t-0.011481\t0.014613\t-0.676855\t-0.077906\t1.000000\t-0.290742\t-0.060485\t0.467606\t0.077484\t0.069197\n",
    "cholesterol_1\t-0.147574\t-0.034468\t0.060534\t-0.117435\t-0.029654\t-0.020427\t-0.009953\t0.354284\t-0.190651\t-0.290742\t1.000000\t-0.696231\t-0.613704\t-0.151910\t-0.195033\n",
    "cholesterol_2\t0.032921\t0.023723\t-0.032972\t0.065707\t0.029395\t0.022341\t-0.010711\t-0.151525\t0.265378\t-0.060485\t-0.696231\t1.000000\t-0.139464\t0.082701\t0.065290\n",
    "cholesterol_3\t0.167368\t0.021455\t-0.047240\t0.089729\t0.008576\t0.003606\t0.025511\t-0.322069\t-0.028889\t0.467606\t-0.613704\t-0.139464\t1.000000\t0.118595\t0.197235\n",
    "IMC_0.5\t0.111984\t0.138901\t-0.249949\t0.841581\t-0.048698\t0.012687\t-0.017508\t-0.120917\t0.086698\t0.077484\t-0.151910\t0.082701\t0.118595\t1.000000\t0.187823\n",
    "cardio_disease\t0.238592\t0.000432\t-0.021010\t0.173587\t-0.021432\t-0.010137\t-0.038406\t-0.076943\t0.035385\t0.069197\t-0.195033\t0.065290\t0.197235\t0.187823\t1.000000\n",
    "\"\"\"\n",
    "\n",
    "# Transformar string em DataFrame\n",
    "from io import StringIO\n",
    "df = pd.read_csv(StringIO(data_str), sep=\"\\t\")\n",
    "\n",
    "# Adicionar os nomes das colunas como índice também\n",
    "df.index = df.columns\n",
    "\n",
    "# Arredondar para 3 casas decimais\n",
    "df_rounded = df.round(3)\n",
    "\n",
    "# Converter para Markdown\n",
    "md_output = df_rounded.to_markdown()\n",
    "\n",
    "# Salvar em arquivo\n",
    "md_path = \"/home/akel/Downloads/teste_.md\"\n",
    "with open(md_path, \"w\") as f:\n",
    "    f.write(md_output)\n",
    "\n",
    "md_path\n"
   ]
  },
  {
   "cell_type": "code",
   "execution_count": null,
   "id": "76406cb2-a159-4c7f-b57c-ca66b8f901cf",
   "metadata": {},
   "outputs": [],
   "source": []
  }
 ],
 "metadata": {
  "kernelspec": {
   "display_name": "Python 3 (ipykernel)",
   "language": "python",
   "name": "python3"
  },
  "language_info": {
   "codemirror_mode": {
    "name": "ipython",
    "version": 3
   },
   "file_extension": ".py",
   "mimetype": "text/x-python",
   "name": "python",
   "nbconvert_exporter": "python",
   "pygments_lexer": "ipython3",
   "version": "3.9.5"
  }
 },
 "nbformat": 4,
 "nbformat_minor": 5
}
