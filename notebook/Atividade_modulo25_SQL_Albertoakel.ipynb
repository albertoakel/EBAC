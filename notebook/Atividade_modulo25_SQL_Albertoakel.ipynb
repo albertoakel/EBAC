{
 "cells": [
  {
   "cell_type": "markdown",
   "metadata": {
    "id": "4T5dCtwYXFS0"
   },
   "source": [
    "# MÓDULO 25 : Bancos de Dados\n",
    "## SQL - Parte 2"
   ]
  },
  {
   "cell_type": "markdown",
   "metadata": {
    "id": "tGub_MhcXTfu"
   },
   "source": [
    "**Objetivo:** Execuções basicas em SQL via Python em uma base de dados de vendas"
   ]
  },
  {
   "cell_type": "code",
   "execution_count": 98,
   "metadata": {
    "id": "eQtWi0CfXCPn"
   },
   "outputs": [],
   "source": [
    "import sqlite3 \n",
    "import pandas as pd"
   ]
  },
  {
   "cell_type": "code",
   "execution_count": 164,
   "metadata": {
    "id": "yKsW2EEpXQTK"
   },
   "outputs": [],
   "source": [
    "df_vendas = pd.read_csv(\"TB_VENDAS_TAREFA.csv\", delimiter=';', decimal=',') # adicionei a linha decimal na leitura do csv"
   ]
  },
  {
   "cell_type": "code",
   "execution_count": 147,
   "metadata": {
    "colab": {
     "base_uri": "https://localhost:8080/"
    },
    "id": "vbdvMKZgXtT5",
    "outputId": "aa99ea0f-70a5-40d2-c1c8-3230f04491b7"
   },
   "outputs": [
    {
     "data": {
      "text/plain": [
       "24"
      ]
     },
     "execution_count": 147,
     "metadata": {},
     "output_type": "execute_result"
    }
   ],
   "source": [
    "conn = sqlite3.connect(':memory:')\n",
    "df_vendas.to_sql('tb_vendas', conn, index=False, if_exists='replace')"
   ]
  },
  {
   "cell_type": "code",
   "execution_count": 148,
   "metadata": {
    "id": "Z3-elg3aXuiM"
   },
   "outputs": [],
   "source": [
    "# função Query to SQL\n",
    "def run_query(query):\n",
    "    return pd.read_sql_query(query, conn)"
   ]
  },
  {
   "cell_type": "markdown",
   "metadata": {
    "id": "Z_EFXuNLXz7m"
   },
   "source": [
    "## 1. Faça uma consulta que retorne os nomes dos produtos distintos que temos na base de venda.\n"
   ]
  },
  {
   "cell_type": "code",
   "execution_count": 165,
   "metadata": {
    "id": "RXZK6kTcZ4BR"
   },
   "outputs": [
    {
     "name": "stdout",
     "output_type": "stream",
     "text": [
      "  produtos_únicos\n",
      "0        CAMISETA\n",
      "1           CALCA\n",
      "2         BERMUDA\n",
      "3         VESTIDO\n",
      "4            MEIA\n"
     ]
    }
   ],
   "source": [
    "query = \"\"\"\n",
    "select\n",
    "distinct(PRODUTO) as produtos_únicos\n",
    "from tb_vendas\n",
    "\"\"\"\n",
    "result_df = run_query(query)\n",
    "print(result_df)"
   ]
  },
  {
   "cell_type": "markdown",
   "metadata": {
    "id": "i0m1rdHk1kHc"
   },
   "source": [
    "## 2. Faça uma consulta que retorne a contagem dos clientes distintos que temos na nossa base, não esqueça de renomear sua coluna.\n"
   ]
  },
  {
   "cell_type": "code",
   "execution_count": 110,
   "metadata": {
    "id": "uDGHdqIwZ72P"
   },
   "outputs": [
    {
     "name": "stdout",
     "output_type": "stream",
     "text": [
      "   Total Clientes Únicos\n",
      "0                     22\n"
     ]
    }
   ],
   "source": [
    "query = \"\"\"\n",
    "select\n",
    "count(distinct(ID_CLIENTE)) as 'Total Clientes Únicos'\n",
    "from tb_vendas\n",
    "\"\"\"\n",
    "result_df = run_query(query)\n",
    "print(result_df)"
   ]
  },
  {
   "cell_type": "markdown",
   "metadata": {
    "id": "OvDezkJ516jd"
   },
   "source": [
    "## 3. Faça uma consulta que retorne uma coluna com os produtos distintos e o valor_unid de cada produto. Porém apenas para produtos onde o valor_unid é maior ou igual a 50 reais."
   ]
  },
  {
   "cell_type": "code",
   "execution_count": 150,
   "metadata": {
    "id": "_Feprb8JZ9Cg"
   },
   "outputs": [
    {
     "name": "stdout",
     "output_type": "stream",
     "text": [
      "   PRODUTO  valor_unitario\n",
      "0    CALCA            89.9\n",
      "1  BERMUDA            79.5\n",
      "2  VESTIDO           102.0\n"
     ]
    }
   ],
   "source": [
    "query = \"\"\"\n",
    "select\n",
    "distinct(PRODUTO),\n",
    "VALOR_UNID as 'valor_unitario'\n",
    "from tb_vendas\n",
    "where VALOR_UNID >50\n",
    "\"\"\"\n",
    "result_df = run_query(query)\n",
    "print(result_df)"
   ]
  },
  {
   "cell_type": "markdown",
   "metadata": {
    "id": "jcxg6MuX2c61"
   },
   "source": [
    "## 4.[DESAFIO] Faça uma consulta que retorne o ID das compras e o valor total gasto nessa compra (Valor_unidade X Unidades) das 5 compras com mais valor total gasto."
   ]
  },
  {
   "cell_type": "code",
   "execution_count": 151,
   "metadata": {
    "id": "rtmlv-MyZ99R"
   },
   "outputs": [
    {
     "name": "stdout",
     "output_type": "stream",
     "text": [
      "   ID_COMPRA  valor_total\n",
      "0       1267        204.0\n",
      "1       1253        179.8\n",
      "2       1255        179.8\n",
      "3       1257        179.8\n",
      "4       1262        179.8\n"
     ]
    }
   ],
   "source": [
    "query = \"\"\"\n",
    "select\n",
    "ID_COMPRA,\n",
    "VALOR_UNID*UNIDADES as valor_total\n",
    "from tb_vendas\n",
    "order by valor_total DESC\n",
    "limit 5\n",
    "\n",
    "\"\"\"\n",
    "result_df = run_query(query)\n",
    "print(result_df)"
   ]
  },
  {
   "cell_type": "markdown",
   "metadata": {
    "id": "NJXkUmwH3EkG"
   },
   "source": [
    "# 5) Faça uma consulta que retorne os produtos e a média do preço da unidade dos produtos, ordenando do maior para o menor.\n",
    "\n",
    "Não ficou claro a pergunta. A consulta para produtosx (média_preço/unidade) é igualmente a consulta para produtos x preço_unitário, uma vez que não há diferença de preços unitarios para um mesmo produto. Diante desta ambiguidade, além desta apresentação(**situação 1**), foi realizado o agrupamento por ID_Cliente, retornando quanto cada cliente gastou em média por unidade de produto(**situação 2**)."
   ]
  },
  {
   "cell_type": "code",
   "execution_count": 162,
   "metadata": {
    "id": "el35t_f8Z_-j"
   },
   "outputs": [
    {
     "name": "stdout",
     "output_type": "stream",
     "text": [
      "\n",
      "Situação 1\n",
      "    PRODUTO  VALOR_UNID\n",
      "0      MEIA        25.9\n",
      "1  CAMISETA        34.5\n",
      "2   BERMUDA        79.5\n",
      "3     CALCA        89.9\n",
      "4   VESTIDO       102.0\n",
      "\n",
      "Situação 2\n",
      "    ID_CLIENTE  media_unid\n",
      "0         9798  102.000000\n",
      "1         9787  102.000000\n",
      "2         9801   89.900000\n",
      "3         9794   89.900000\n",
      "4         9793   89.900000\n",
      "5         9788   89.900000\n",
      "6         9786   89.900000\n",
      "7         9481   89.900000\n",
      "8         9795   79.500000\n",
      "9         9791   79.500000\n",
      "10        9630   79.500000\n",
      "11        9081   52.966667\n",
      "12        9425   51.375000\n",
      "13        9800   34.500000\n",
      "14        9797   34.500000\n",
      "15        9796   34.500000\n",
      "16        9792   34.500000\n",
      "17        9790   34.500000\n",
      "18        9789   34.500000\n",
      "19        9560   34.500000\n",
      "20        9785   25.900000\n",
      "21        9799   25.900000\n"
     ]
    }
   ],
   "source": [
    "print('\\nSituação 1')\n",
    "query = \"\"\"\n",
    "select\n",
    "distinct(PRODUTO),\n",
    "VALOR_UNID\n",
    "from tb_vendas\n",
    "order by VALOR_UNID ASC\n",
    "\"\"\"\n",
    "result_df = run_query(query)\n",
    "print(result_df)\n",
    "\n",
    "print('\\nSituação 2')\n",
    "query = \"\"\"\n",
    "select\n",
    "ID_ClIENTE,\n",
    "sum(VALOR_UNID*UNIDADES)/sum(UNIDADES) as media_unid\n",
    "from tb_vendas\n",
    "group by ID_CLIENTE\n",
    "order by media_unid desc\n",
    "\"\"\"\n",
    "result_df = run_query(query)\n",
    "print(result_df)"
   ]
  },
  {
   "cell_type": "markdown",
   "metadata": {
    "id": "KR1f3qbB3s8D"
   },
   "source": [
    "## 6) Faça uma consulta que retorne o id dos 3 clientes da base de vendas que mais relalizaram compras e a quantidade de compras realizadas."
   ]
  },
  {
   "cell_type": "code",
   "execution_count": 163,
   "metadata": {
    "id": "ZLZ8mkXjaA-f"
   },
   "outputs": [
    {
     "name": "stdout",
     "output_type": "stream",
     "text": [
      "   ID_CLIENTE  N_Compras\n",
      "0        9425          2\n",
      "1        9081          2\n",
      "2        9801          1\n"
     ]
    }
   ],
   "source": [
    "query = \"\"\"\n",
    "select\n",
    "ID_ClIENTE,\n",
    "count(ID_COMPRA) as N_Compras\n",
    "from tb_vendas\n",
    "group by ID_CLIENTE\n",
    "order by  N_Compras desc\n",
    "limit 3\n",
    "\"\"\"\n",
    "result_df = run_query(query)\n",
    "print(result_df)"
   ]
  }
 ],
 "metadata": {
  "colab": {
   "provenance": []
  },
  "kernelspec": {
   "display_name": "Python 3 (ipykernel)",
   "language": "python",
   "name": "python3"
  },
  "language_info": {
   "codemirror_mode": {
    "name": "ipython",
    "version": 3
   },
   "file_extension": ".py",
   "mimetype": "text/x-python",
   "name": "python",
   "nbconvert_exporter": "python",
   "pygments_lexer": "ipython3",
   "version": "3.9.5"
  }
 },
 "nbformat": 4,
 "nbformat_minor": 4
}
