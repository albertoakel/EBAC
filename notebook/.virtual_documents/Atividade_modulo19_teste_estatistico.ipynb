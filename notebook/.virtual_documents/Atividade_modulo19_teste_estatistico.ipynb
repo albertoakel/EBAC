





import numpy as np
import matplotlib.pyplot as plt
from scipy import stats
from statsmodels.stats.weightstats import ztest





# Definindo médias e desvios padrão para as notas nas duas estratégias
mean_A = 70
std_A = 10

mean_B = 75
std_B = 12

# Gerando as amostras de notas para cada estratégia de ensino da nossa base
np.random.seed(0)  # Para garantir a reprodutibilidade dos resultados
sample_A = np.random.normal(loc=mean_A, scale=std_A, size=50)
sample_B = np.random.normal(loc=mean_B, scale=std_B, size=50)

#print("Notas da Estratégia A:", sample_A[:5])
#print("Notas da Estratégia B:", sample_B[:5])








# 2.Cálculo das médias e variancias
m_a=np.mean(sample_A)
m_b=np.mean(sample_B)
var_a=np.var(sample_A,ddof=1)
var_b=np.var(sample_B,ddof=1)

# Resultados
print("="*50)
print(f"\n{'Estatística':<15} | {'Estratégia A':>12} | {'Estratégia B':>12}")
print("-"*50)
print(f"{'Média':<15} | {m_a:>12.3f} | {m_b:>12.3f}")
print(f"{'Variância':<15} | {var_a:>12.3f} | {var_b:>12.3f}")


# 3) Teste Z e Valor P
# Variancia combinada
#n=len(sample_A)
#VC = np.sqrt(var_a/n + var_b/n) 
# Teste Z
#z = (m_b - m_a) / VC
#p_valor= 1-stats.norm.cdf(abs(z)) 

# Caso unilateral à direita (  H₁: μ_B > μ_A )
z, p_valor = ztest(sample_B, sample_A, alternative='larger') 
alpha=0.05
z_critico = stats.norm.ppf(1-alpha)
# Resultados
print("="*60)
print("\nTeste Z Unicaudal à Direita: H₁: μ_B > μ_A")
print("-"*60)
print(f"{'Estatística Z:':<20} {z:.3f}")
print(f"{'p-valor:':<20} {p_valor:.3f}")
print(f"{'z critico:':<20} {z_critico:.3f}")
print("-"*60)
# Condição
if z < alpha:
    print("Conclusão:  Rejeita H₀ (p < 0.05)")
    print("          → Estratégia B tem desempenho significativamente maior")
else:
    print("Conclusão:  Não rejeita H₀ (p ≥ 0.05)")
    print("          → Não há diferencas significativas nas estratégias")
print("="*60)





# 4 Distribuição da estatística do teste Z

fig, ax = plt.subplots(figsize=(10, 5))

# Parâmetros da distribuição normal padrão (Z)
mu = 0       
sigma = 1   

# Valores de X e Y para a distribuição
x = np.linspace(mu - 4*sigma, mu + 4*sigma, 100)
y = stats.norm.pdf(x)  # PDF da normal padrão (Z)

# Teste Z e p valor
z_statistic, p_value = ztest(sample_B, sample_A, alternative='larger') 

# valor crítico para Z (unicaudal à direita, alpha=0.05)
z_critico = stats.norm.ppf(0.95)  # Percentil 95% da normal padrão

# Gráfico da densidade
ax.plot(x, y, 'k',label='Distribuição Normal Padrão (Z)')

# Linha do valor observado
ax.vlines(x=[z_statistic], ymin=0, ymax=y.max(), 
          colors='dodgerblue', linestyles='dotted', label=f'Z observado = {z_statistic:.2f}')

ax.vlines(x=[z_critical], ymin=0, ymax=y.max(), 
          colors='tomato', linestyles='--', label=f'Z Critico = {z_critico:.2f}')

# Área crítica (unicaudal à direita)
plt.fill_between(x, y, where=(x > z_critical), 
                 alpha=0.9, color='tomato', label='Área crítica (α=0.05)') 
ax.set_ylim(0, max(y)*1.05)

# Configurações do gráfico
plt.legend()
plt.xlabel('Valores de Z')
plt.ylabel('Densidade de Probabilidade')
plt.title('figura 1: Teste Z Unicaudal à Direita: Região Crítica e Valor Observado')
plt.grid(True)
plt.show()
