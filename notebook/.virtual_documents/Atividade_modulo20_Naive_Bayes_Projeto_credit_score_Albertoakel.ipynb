








import pandas as pd
import numpy as np
import seaborn as sns
import matplotlib.pyplot as plt
from sklearn.metrics import confusion_matrix
from sklearn.naive_bayes import GaussianNB
from sklearn.metrics import accuracy_score
from sklearn.metrics import recall_score
import plotly.figure_factory as ff








df_train= pd.read_csv('CREDIT_SCORE_PROJETO_PARTE1_TRAINED_BALANCED.csv')
df_test= pd.read_csv('CREDIT_SCORE_PROJETO_PARTE1_TEST_BASE.csv')

x_train=df_train.drop(['Score_High'], axis=1) 
y_train=df_train['Score_High']

x_test=df_test.drop(['Score_High'], axis=1) 
y_test=df_test['Score_High']


# Verificação de balanceamento
# train_balance = y_train.value_counts()
print("Balanceamento em y_train:")
print(y_train.value_counts())

print("Balanceamento em y_test:")
print(y_test.value_counts())





# Treinamento do classificador usando os dados de treinamento
naive_HS = GaussianNB()
naive_HS.fit(x_train, y_train)





#seu códig# Fazer previsões para os dados de treino
y_pred_train = naive_HS.predict(x_train)
# Calcular a acurácia
accuracy = accuracy_score(y_train, y_pred_train)
print("Acurácia:", accuracy)

conf_matrix = confusion_matrix(y_train, y_pred_train)

# Definindo  nomes de classes
class_names = ['High Score', 'Outros']

# Plotando a matriz de confusão com Plotly
fig = ff.create_annotated_heatmap(
    z=conf_matrix,
    x=class_names,
    y=class_names,
    colorscale='Gnbu',
    showscale=True
)
fig.update_layout(
    title='Matriz de Confusão',
    xaxis_title='Predicted labels',
    yaxis_title='True labels',
    font=dict(
        family='Arial',
        size=12,
        color='black'
    )
)






y_pred_test = naive_HS.predict(x_test)
# Calcular a acurácia

accuracy = accuracy_score(y_test, y_pred_test)
print("Acurácia:", accuracy)

conf_matrix = confusion_matrix(y_test, y_pred_test)

# Definindo  nomes de classes
class_names = ['High Score', 'Outros']

# Plotando a matriz de confusão com Plotly
fig = ff.create_annotated_heatmap(
    z=conf_matrix,
    x=class_names,
    y=class_names,
    colorscale='Gnbu',
    showscale=True
)
fig.update_layout(
    title='Matriz de Confusão',
    xaxis_title='Predicted labels',
    yaxis_title='True labels',
    font=dict(
        family='Arial',
        size=12,
        color='black'
    )
)







