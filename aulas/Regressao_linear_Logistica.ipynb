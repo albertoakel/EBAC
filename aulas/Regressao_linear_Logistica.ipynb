{
 "cells": [
  {
   "cell_type": "code",
   "execution_count": 38,
   "id": "4f679b5b-fc6a-40fe-9ffd-0f557338ab31",
   "metadata": {},
   "outputs": [],
   "source": [
    "import numpy as np\n",
    "import matplotlib.pyplot as plt\n",
    "import statsmodels.api as sm\n",
    "\n",
    "import pandas as pd\n",
    "from sklearn.linear_model import LinearRegression as LR"
   ]
  },
  {
   "cell_type": "markdown",
   "id": "7694e2cf-7efa-49ab-a3e3-8ce4a1438592",
   "metadata": {},
   "source": [
    "## Probabilidade de uma categoria\n",
    "Estimativa da probabiliade de um categoria a partir das estimativas de **Regressão linear multivariada**"
   ]
  },
  {
   "cell_type": "code",
   "execution_count": 160,
   "id": "5e28c251-2f82-47e2-b814-d1720111e2b6",
   "metadata": {},
   "outputs": [
    {
     "name": "stdout",
     "output_type": "stream",
     "text": [
      "Intercepto b0      : -0.963\n",
      "Coeficientes b1,b2 :  0.031  0.531\n",
      "[-0.19304021  0.24570891  0.88502234  0.2689866   0.64613214  1.10815895\n",
      "  1.03903127]\n",
      "[0. 1. 1. 1. 1. 1. 1.]\n"
     ]
    }
   ],
   "source": [
    "# C - colasterol\n",
    "# E - Encaminhar\n",
    "data = {\n",
    "    'idade': [25, 22, 60, 40, 35, 50, 65],\n",
    "    'Colasterol alto': [0, 1, 0, 0, 1, 1, 0],\n",
    "    'Encaminhamento': [0, 0, 1, 0, 1, 1, 1]}\n",
    "\n",
    "df = pd.DataFrame(data)\n",
    "\n",
    "# Realizar Regressão linear Multivariada\n",
    "X = df[['idade', 'Colasterol alto']]\n",
    "Y = df['Encaminhamento']\n",
    "\n",
    "\n",
    "# Criar e treinar o modelo\n",
    "modelo = LR()\n",
    "modelo.fit(X, Y)\n",
    "\n",
    "# Coeficientes y = b0 + b1*idade + b2*colasterol\n",
    "print('Intercepto b0      :', f'{modelo.intercept_: .3f}')\n",
    "print(\"Coeficientes b1,b2 :\", f'{modelo.coef_[0]: .3f}',f'{modelo.coef_[1]: .3f}')\n",
    "\n",
    "\n",
    "y=modelo.predict(X) # calculo da função\n",
    "\n",
    "p=1/(1+np.exp(-y))\n",
    "\n",
    "# print('\\n')\n",
    "# print(X.iloc[n]);\n",
    "# #ex print( X\n",
    "# print(\"y = \", f'{y[n]:.3f}')\n",
    "# print(\"p = \", f'{p:.3f}')\n",
    "\n",
    "def prob_logic(p,limiar):\n",
    "    c=np.zeros(len(p))\n",
    "    for i in range(len(p)):\n",
    "        if p[i] >= limiar:\n",
    "            c[i]=1\n",
    "        else:\n",
    "            c[i]=0\n",
    "    return c\n",
    "\n",
    "c=prob_logic(p,0.5)\n",
    "print(y)\n",
    "print(c)"
   ]
  },
  {
   "cell_type": "markdown",
   "id": "91e77ae1-a2a4-4435-885d-326bf6da6c4f",
   "metadata": {},
   "source": [
    "## Regressão Logistica\n",
    "\n"
   ]
  },
  {
   "cell_type": "code",
   "execution_count": 156,
   "id": "65d877db-821d-4da9-a4ac-b3f19beead7b",
   "metadata": {},
   "outputs": [
    {
     "name": "stdout",
     "output_type": "stream",
     "text": [
      "Intercept: 0.3480980313681767\n",
      "coeficientes: 1.1540066653736758 0.49347913170514\n",
      "[0 0 1 0 1 1 1]\n"
     ]
    }
   ],
   "source": [
    "from sklearn.linear_model import LogisticRegression\n",
    "from sklearn.preprocessing import StandardScaler\n",
    "from imblearn.over_sampling import SMOTE\n",
    "\n",
    "\n",
    "X = df[['idade', 'Colasterol alto']]\n",
    "\n",
    "sc=StandardScaler()\n",
    "X = sc.fit_transform(X)  \n",
    "Y = df['Encaminhamento']\n",
    "\n",
    "\n",
    "# Balanceamento ( apenas nos dados de treino)\n",
    "\n",
    "logistic_encam = LogisticRegression()\n",
    "logistic_encam.fit(X,Y)\n",
    "\n",
    "c=logistic_encam.predict(X)\n",
    "print('Intercept:',logistic_encam.intercept_[0])\n",
    "print('coeficientes:',*logistic_encam.coef_[0])\n",
    "print(c)"
   ]
  }
 ],
 "metadata": {
  "kernelspec": {
   "display_name": "Python 3 (ipykernel)",
   "language": "python",
   "name": "python3"
  },
  "language_info": {
   "codemirror_mode": {
    "name": "ipython",
    "version": 3
   },
   "file_extension": ".py",
   "mimetype": "text/x-python",
   "name": "python",
   "nbconvert_exporter": "python",
   "pygments_lexer": "ipython3",
   "version": "3.9.5"
  }
 },
 "nbformat": 4,
 "nbformat_minor": 5
}
