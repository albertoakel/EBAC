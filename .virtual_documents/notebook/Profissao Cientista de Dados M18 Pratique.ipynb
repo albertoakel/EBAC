











import seaborn as sns
import matplotlib.pyplot as plt
import pandas as pd
import plotly.express as px
from sklearn.model_selection import train_test_split
from sklearn.linear_model import LinearRegression


df = pd.read_csv("ALUGUEL_MOD12.csv", delimiter=';')

df.head(10)








#Seu código aqui





#Seu código aqui





#Seu código aqui





X = df.drop('Valor_Aluguel', axis=1) #Separando X - Todas variáveis exceto valor_aluguel
y = df['Valor_Aluguel'] #Separando Y (Apenas variavel valor_aluguel)





# Seu código aqui





X = X_train[['Metragem']]  # Variável independente (características)
y = y_train  # Variável dependente (rótulo)
# se você deu um nome diferente para x train e y train, altere no código.


#Crie seu modelo aqui, usando LinearRegression e as bases de treino.





#Seu código Aqui








#Seu código aqui





# Seu código aqui





X_test = X_test[['Metragem']]  # Variável independente (características)
y_test = y_test  # Variável dependente (rótulo)


# Usando o modelo treinado para fazer previsões sobre os dados de teste
previsoes = SEUMODELO.predict(X_test)

# Avaliando o desempenho do modelo usando métricas como o R²
r2 = SEUMODELO.score(X_test, y_test)

print("Coeficiente de Determinação (R²) nos Dados de Teste:", r2)


















#seu código aqui





#seu código aqui





#seu código aqui





#seu código aqui






