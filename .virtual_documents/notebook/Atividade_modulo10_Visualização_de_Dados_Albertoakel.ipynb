


import matplotlib.pyplot as plt
import pandas as pd
import seaborn as sns
import numpy as np
from scipy import stats
from matplotlib.colors import LinearSegmentedColormap

# Leitura dos arquivos
df=pd.read_csv('ecommerce_preparados.csv')


# Deletando colunas de reviews:
# Não será utilizado e difi)
df.drop(columns=['Review1', 'Review2', 'Review3'],inplace=True)

#Considerando que 'NaN' é ausencia de desconto, então NaN --> Zero
df['Desconto']=df['Desconto'].fillna(0)

#reclassificação do genero do vestuario
df.replace('bermuda feminina brilho Blogueira', 'Feminino', inplace=True)
df.replace('Mulher', 'Feminino', inplace=True)
df.replace('roupa para gordinha pluss P ao 52', 'Feminino', inplace=True)
df.replace('short menina verao look mulher', 'Feminino', inplace=True)
df.replace('Sem gênero','Unissex', inplace=True)
df.replace('Sem gênero infantil','infantil', inplace=True)
df.replace('menino','Meninos', inplace=True)
df.replace('Bebês','infantil',inplace=True)
df['Gênero'] = df['Gênero'].fillna('S/nome')

#Reclassificação da temporada
df.replace('primavera-verão', 'primavera/verão', inplace=True)
df.replace('outono-inverno', 'outono/inverno', inplace=True)
df.replace('primavera/verão/outono/inverno', 'all season', inplace=True)
df.replace('primavera-verão - outono-inverno', 'all season', inplace=True)
df.replace('primavera-verão outono-inverno', 'all season', inplace=True)
df.replace('primavera/verão outono/inverno', 'all season', inplace=True)
df.replace('2021', 'all season', inplace=True)
#Avaliando apenas as temporadas, ou mesmo, indiferenca das temporada. podemos considerar
#quando avaliamos  2021, não estamos discriminando temporada. Assim, convertir para all-season
#re_codificando
df['Temporada_Cod']=df['Temporada'].astype('category').cat.codes

resumo = pd.concat([df.notna().sum(), df.dtypes], axis=1, keys=['Não Nulos', 'Tipos'])

print('total de vendas :', len(df))
print(resumo)







plt.hist(df['Preço'],bins=100)
plt.title('Distribuição preços')
plt.xlabel('Preços')
plt.ylabel('Frequencia')
plt.grid(True)





plt.figure(figsize=(10, 6))
sns.jointplot(x='Nota', y='Preço', data=df, kind='scatter')
#sns.pairplot(df[['Preço', 'Nota', 'N_Avaliações']])
plt.title('Relação Nota/Preço')
plt.xlabel('Nota')
plt.ylabel('Preço')
plt.show()






df_corr = df[['Preço',
              'Nota',
              'N_Avaliações',
              'Desconto',
              'Qtd_Vendidos_Cod',
              'Temporada_Cod',
              'Marca_Cod',
            ]].corr()

# Heatmap de correlação
teal_orange = LinearSegmentedColormap.from_list("TealOrange", ["#008080", "#FFFFFF", "#FF7700"])

plt.figure(figsize=(10, 8))

sns.heatmap(df_corr, annot=True, cmap=teal_orange, fmt=".2f")
plt.title('Mapa de calor da correlação entre variáveis')






plt.figure(figsize=(10, 6))
sns.countplot(x='Gênero', hue='Qtd_Vendidos_Cod', data=df,palette='pastel')
plt.xlabel('Gêneros')
plt.ylabel('Quantidade ')






y=df['Gênero'].value_counts()
plt.pie(y,labels=y.keys(),autopct='%.1f%%',startangle=90)
plt.title('Percentual de vendas por gênero')






sns.kdeplot(df['Nota'], fill=True, color='#3897eb')
plt.title('Densidade dos Notas')
plt.xlabel('Nota')
plt.ylabel('Densidade de Notas')








m_preco = df.groupby('Temporada_Cod')['Preço'].mean()
m_desconto = df.groupby('Temporada_Cod')['Desconto'].mean()

df2 = pd.DataFrame({'Temporada_Cod': df['Temporada_Cod'].unique(),
                    'Media_preco': m_preco,
                   'Media_desconto': m_desconto})

x1='Temporada_Cod'
x2='Preço'
sns.regplot(x=x1, y=x2, data=df, color='#278f65', scatter_kws={'alpha': 0.5, 'color': '#34c289'})
plt.title('Regressão de '+x1[0:-4]+' por '+ x2)

x1a='Temporada_Cod'
x2a='Media_preco'
sns.scatterplot(x=x1a,y=x2a,data=df2,color='#2b302f')

cod_temp = df[x1].unique()
nome_temp = df['Temporada'].unique()
plt.xticks(cod_temp, nome_temp)

plt.xlabel(x1[0:-4])
plt.ylabel(x2)

