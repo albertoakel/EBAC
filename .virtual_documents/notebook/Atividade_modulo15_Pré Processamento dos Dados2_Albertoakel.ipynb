





import seaborn as sns
import matplotlib.pyplot as plt
import pandas as pd
import numpy as np
import plotly.express as px
from scipy.stats import skew, kurtosis





df = pd.read_csv("CHURN_TELECON_MOD08_preprocessed.csv", delimiter=',')
df.head(10)
df['Idoso'].value_counts()








#describe de variaveis numéricas.
df[['Tempo_como_Cliente', 'Pagamento_Mensal', 'Total_Pago']].describe()


#Boxplot
fig, ax = plt.subplots(1, 3, figsize=(15, 5))  # 1 linha, 3 colunas, tamanho da figura
fig.suptitle('Figura 1: BoxPlot dos valores numéricos', fontsize=14)

# Plotando os boxplots em cada subplot
df.boxplot(column='Tempo_como_Cliente', ax=ax[0])
df.boxplot(column='Pagamento_Mensal', ax=ax[1])
df.boxplot(column='Total_Pago', ax=ax[2])

#Títulos
ax[0].set_title('Tempo como Cliente')
ax[1].set_title('Pagamento Mensal')
ax[2].set_title('Total Pago')

plt.tight_layout()
plt.show()


#histogramas
fig, ax = plt.subplots(1, 3, figsize=(15, 5)) 
fig.suptitle('Figura 2: Distribuição dos valores numéricos', fontsize=14)

N=len(df)
temp1=df['Tempo_como_Cliente']
bins1=np.arange(0,80,10)
c1, x1= np.histogram(temp1, bins1)
p1=c1/N*100

temp2=df['Pagamento_Mensal']
bins2=np.arange(10,120,10)
c2, x2= np.histogram(temp2, bins2)
p2=c2/N*100

temp3=df['Total_Pago']
bins3=np.arange(0,9000,1000)
c3, x3= np.histogram(temp3, bins3)
p3=c3/N*100


ax[0].bar(x1[0:-1], p1, width=np.diff(bins1), align='edge')  
ax[0].set_title('Tempo como Cliente')
ax[0].set_xlabel('Tempo [Meses]')
ax[0].set_ylabel('Percentual (%)')
ax[0].set_xticks(bins1)
for i in range(len(c1)):
        ax[0].text(x1[i]+5, p1[i] , f'{p1[i]:.2f}%', ha='center', va='bottom', fontsize=8)

ax[1].bar(x2[0:-1], p2, width=np.diff(bins2), align='edge')  
ax[1].set_title('Pagamento Mensal')
ax[1].set_xlabel('Valor pago mensalmente')
ax[1].set_ylabel('Percentual (%)')
ax[1].set_xticks(bins2)
for i in range(len(c2)):
    ax[1].text(x2[i]+5, p2[i] , f'{p2[i]:.2f}%', ha='center', va='bottom', fontsize=8)


ax[2].bar(x3[0:-1], p3, width=np.diff(bins3), align='edge')  
ax[2].set_title('Total Pago')
ax[2].set_xlabel('Total Pago')
ax[2].set_ylabel('Percentual (%)')
ax[2].set_xticks(bins3)
for i in range(len(c3)):
    ax[2].text(x3[i]+500, p3[i] , f'{p3[i]:.2f}%', ha='center', va='bottom', fontsize=8)    
plt.tight_layout()





#teste estatistico Kolmogorov-Smirnov
from scipy.stats import kstest

def teste_KS(dados):
    '''
    Hipotese nula Ho:     '''
    ks_statistic, p_valor = kstest(dados, 'norm', args=(np.mean(dados), np.std(dados)))
   # ks_statistic, p_valor = kstest(dados, 'expon') #, args=(np.mean(dados), np.std(dados)))
    assimetria = skew(dados)
    curtose = kurtosis(dados)

    print(f"assimetria : {assimetria }")
    print(f"curtose: {curtose}")
    print(f"Estatística KS: {ks_statistic}")
    print(f"Valor p: {p_valor}")

   
    alpha = 0.05  # Nível de significância de 5%
    if p_valor < alpha:
        print("Rejeitamos a hipótese nula: os dados NÃO seguem uma distribuição normal.")
    else:
        print("Não rejeitamos a hipótese nula: os dados seguem uma distribuição normal.")
    print('-' * 70)
print('Teste KS: Tempo como Cliente')
teste_KS(df['Tempo_como_Cliente'])
print('Teste KS: Pagamento Mensal')
teste_KS(df['Pagamento_Mensal'])
print('Teste KS: Total Pago:')
teste_KS(df['Total_Pago'])        


#filtragem total pago Maior que 2000
df2000=df[df['Total_Pago']>2000]
# #teste de normalidade dos dados
print('Teste KS: Total Pago <2000:')
teste_KS(df2000['Total_Pago'])  
#plotagem do histograma
fig = plt.subplots(figsize=(8, 6))
bins=np.arange(2000,9000,1000)
c, x= np.histogram(df2000['Total_Pago'], bins)
N=len(df2000)
p=c/N*100
plt.bar(x[0:-1], p, width=np.diff(bins), align='edge')  
plt.title('figura 3. Total Pago')
plt.xlabel('Total Pago')
plt.ylabel('Percentual (%)')
plt.xticks(bins)
for i in range(len(c)):
    plt.text(x[i]+500, p[i] , f'{p[i]:.2f}%', ha='center', va='bottom', fontsize=8)
plt.show()






percentual_internet = (df['Servico_Internet']=='0').value_counts(normalize=True) * 100
plt.bar(percentual_internet.index, percentual_internet.values, color=['blue', 'orange'], edgecolor='black', width=0.6)
plt.title('Fig4: Percentual com e sem internet')

plt.xticks([0, 1],['Com Internet', 'Sem Internet'])
for i in range(2):
    plt.text(i, percentual_internet.values[i] , f'{percentual_internet.values[i]:.2f}%', ha='center', va='bottom', fontsize=12)
plt.show()
plt.tight_layout()



#Com Internet
dfi=df[df['Servico_Internet']!='0'] #Filtragem

fig, ax = plt.subplots(2, 2, figsize=(12, 8))  # 2 linhas, 2 colunas
fig.suptitle('Figura 5: Análise dos clientes com serviço de internet', fontsize=14)

percentual1 = dfi['Idoso'].value_counts(normalize=True) * 100
percentual2 = dfi['Casado'].value_counts(normalize=True) * 100
percentual3 = dfi['Dependents'].value_counts(normalize=True) * 100
percentual4 = dfi['Servico_Seguranca'].value_counts(normalize=True) * 100
percentual5 = dfi['Suporte_Tecnico'].value_counts(normalize=True) * 100
percentual6 = dfi['StreamingTV'].value_counts(normalize=True) * 100
percentual7 = dfi['Churn'].value_counts(normalize=True) * 100

#grupo 2x2 ( idosos, casados, dependentes,churns)
# plot1: Idosos
ax[0,0].bar(percentual1.index, percentual1.values, color=['blue', 'orange'], edgecolor='black', width=0.6)
ax[0,0].set_title('Percentual de idosos')
ax[0,0].set_xticks([0, 1])
ax[0,0].set_xticklabels(['não idoso', 'idoso'])
for i in range(2):
    ax[0,0].text(i, percentual1.values[i] , f'{percentual1.values[i]:.2f}%', ha='center', va='bottom', fontsize=8)

# plot2: Casados
ax[0,1].bar(percentual2.index, percentual2.values, color=['blue', 'orange'], edgecolor='black', width=0.6)
ax[0,1].set_title('Percentual de Casados')
ax[0,1].set_xticks([0, 1])
ax[0,1].set_xticklabels(['solteiros', 'casados'])
for i in range(2):
    ax[0,1].text(i, percentual2.values[i] , f'{percentual2.values[i]:.2f}%', ha='center', va='bottom', fontsize=8)
    
# plot3: Dependetes
ax[1,0].bar(percentual3.index, percentual3.values, color=['blue', 'orange'], edgecolor='black', width=0.6)
ax[1,0].set_title('Percentual com Dependentes')
ax[1,0].set_xticks([0, 1])
ax[1,0].set_xticklabels(['sem depentes', 'Com Dependentes'])
for i in range(2):
    ax[1,0].text(i, percentual3.values[i] , f'{percentual3.values[i]:.2f}%', ha='center', va='bottom', fontsize=8)

# plot4: Churns
ax[1,1].bar(percentual7.index, percentual7.values, color=['blue', 'orange'], edgecolor='black', width=0.6)
ax[1,1].set_title('Percentual de Churns')
ax[1,1].set_xticks([0, 1])
ax[1,1].set_xticklabels(['0', 'Churn'])
for i in range(2):
    ax[1,1].text(i, percentual7.values[i] , f'{percentual7.values[i]:.2f}%', ha='center', va='bottom', fontsize=8)


##grupo 1x3 (Servico_Seguranca,	Suporte_Tecnico,	StreamingTV)

# plot1: Servico_Seguranca
fig2, ax = plt.subplots(1, 3, figsize=(12, 4))  # 1 linhas, 3 colunas
ax[0].bar(percentual4.index, percentual4.values, color=['blue', 'orange'], edgecolor='black', width=0.6)
ax[0].set_title('Serviço de serguranca')
ax[0].set_xticks([0, 1])
ax[0].set_xticklabels(['Não', 'SIM'])
for i in range(2):
    ax[0].text(i, percentual4.values[i] , f'{percentual4.values[i]:.2f}%', ha='center', va='bottom', fontsize=8)
    
# plot2: Suporte Técnico
ax[1].bar(percentual5.index, percentual5.values, color=['blue', 'orange'], edgecolor='black', width=0.6)
ax[1].set_title('Suporte Tecnico')
ax[1].set_xticks([0, 1])
ax[1].set_xticklabels(['Não', 'Sim'])
for i in range(2):
    ax[1].text(i, percentual5.values[i] , f'{percentual5.values[i]:.2f}%', ha='center', va='bottom', fontsize=8)
    
# plot3: Streaming TV
ax[2].bar(percentual6.index, percentual6.values, color=['blue', 'orange'], edgecolor='black', width=0.6)
ax[2].set_title('Streaming TV')
ax[2].set_xticks([0, 1])
ax[2].set_xticklabels(['Não', 'Sim'])
for i in range(2):
    ax[2].text(i, percentual6.values[i] , f'{percentual6.values[i]:.2f}%', ha='center', va='bottom', fontsize=8)
    
plt.tight_layout()
plt.show()


#Filtragem Sem Internet
dfs=df[df['Servico_Internet']=='0'] #dataset sem internet

percentual1s = dfs['Idoso'].value_counts(normalize=True) * 100
percentual2s = dfs['Casado'].value_counts(normalize=True) * 100
percentual3s = dfs['Dependents'].value_counts(normalize=True) * 100
percentual4s = dfs['Servico_Seguranca'].value_counts(normalize=True) * 100
percentual5s = dfs['Suporte_Tecnico'].value_counts(normalize=True) * 100
percentual6s = dfs['StreamingTV'].value_counts(normalize=True) * 100
percentual7s = dfs['Churn'].value_counts(normalize=True) * 100

fig, ax = plt.subplots(2, 2, figsize=(12, 8))  # 2 linhas, 2 colunas
fig.suptitle('Figura 6: Análise dos clientes sem serviço de internet', fontsize=14)

# plot1: Idosos
ax[0,0].bar(percentual1s.index, percentual1s.values, color=['blue', 'orange'], edgecolor='black', width=0.6)
ax[0,0].set_title('Percentual de idosos')
ax[0,0].set_xticks([0, 1])
ax[0,0].set_xticklabels(['0', 'idoso'])
for i in range(2):
    ax[0,0].text(i, percentual1s.values[i] , f'{percentual1s.values[i]:.2f}%', ha='center', va='bottom', fontsize=8)

# plot2: Casados
ax[0,1].bar(percentual2s.index, percentual2s.values, color=['blue', 'orange'], edgecolor='black', width=0.6)
ax[0,1].set_title('Percentual de Casados')
ax[0,1].set_xticks([0, 1])
ax[0,1].set_xticklabels(['solteiros', 'casados'])
for i in range(2):
    ax[0,1].text(i, percentual2s.values[i] , f'{percentual2s.values[i]:.2f}%', ha='center', va='bottom', fontsize=8)

# plot3: Dependents
ax[1,0].bar(percentual3s.index, percentual3s.values, color=['blue', 'orange'], edgecolor='black', width=0.6)
ax[1,0].set_title('Percentual com Dependentes')
ax[1,0].set_xticks([0, 1])
ax[1,0].set_xticklabels(['0', 'Com Dependentes'])
for i in range(2):
    ax[1,0].text(i, percentual3s.values[i] , f'{percentual3s.values[i]:.2f}%', ha='center', va='bottom', fontsize=8)

# plot4: Churns
ax[1,1].bar(percentual7s.index, percentual7s.values, color=['blue', 'orange'], edgecolor='black', width=0.6)
ax[1,1].set_title('Percentual de Churns')
ax[1,1].set_xticks([0, 1])
ax[1,1].set_xticklabels(['0', 'Churn'])
for i in range(2):
    ax[1,1].text(i, percentual7s.values[i] , f'{percentual7s.values[i]:.2f}%', ha='center', va='bottom', fontsize=8)
    
plt.tight_layout()






df['PaymentMethod'].value_counts()
percentuala = df['Genero'].value_counts(normalize=True) * 100
percentualb = df['Servico_Internet'].value_counts(normalize=True) * 100
percentualc = df['Tipo_Contrato'].value_counts(normalize=True) * 100
percentuald = df['PaymentMethod'].value_counts(normalize=True) * 100

fig, ax = plt.subplots(2, 2, figsize=(12, 8))  # 2 linhas, 2 colunas
fig.suptitle('Figura 7: Percentual categorias', fontsize=14)

# plot1: Gênero
ax[0,0].bar(percentuala.index, percentuala.values, color=['blue', 'orange','indigo'], edgecolor='black', width=0.6)
ax[0,0].set_title('Gêneros')
for i in range(2):
    ax[0,0].text(i, percentuala.values[i] , f'{percentuala.values[i]:.2f}%', ha='center', va='bottom', fontsize=8)

# plot2: Servico_Internet
ax[0,1].bar(percentualb.index, percentualb.values, color=['blue', 'orange','indigo'], edgecolor='black', width=0.6)
ax[0,1].set_title('Serviço Internet')
for i in range(2):
    ax[0,1].text(i, percentualb.values[i] , f'{percentualb.values[i]:.2f}%', ha='center', va='bottom', fontsize=8)
    
# plot3: Tipo_Contrato
ax[1,0].bar(percentualc.index, percentualc.values, color=['blue', 'orange','indigo'], edgecolor='black', width=0.6)
ax[1,0].set_title('Tipo de Contrato')
for i in range(2):
    ax[1,0].text(i, percentualc.values[i] , f'{percentualc.values[i]:.2f}%', ha='center', va='bottom', fontsize=8)

# plot4: Métodos de pagamento
ax[1,1].bar(percentuald.index, percentuald.values, color=['blue', 'orange','indigo','darkgreen'], edgecolor='black', width=0.6)
ax[1,1].set_title('Método de Pagamento')
ax[1,1].set_xticklabels(percentuald.index, rotation=45, ha="right") 
for i in range(2):
    ax[1,1].text(i, percentuald.values[i] , f'{percentuald.values[i]:.2f}%', ha='center', va='bottom', fontsize=8)
    
plt.tight_layout()
    





# moda = df['Tempo_como_Cliente'].mode()[0]  # Encontrar a moda
# frequencia = (df['Tempo_como_Cliente'] == moda).sum()  # Contar quantas vezes a moda aparece
# print('meses como cliente')
# print(f'moda : {moda}, Frequência: {frequencia}')
# print(df['Tempo_como_Cliente'].describe())
# moda = df['Total_Pago'].mode()[0]  # Encontrar a moda
# frequencia = (df['Total_Pago'] == moda).sum()  # Contar quantas vezes a moda aparece
# print('Total Pago')
# print(f'Moda : {moda}, Frequência: {frequencia}')
# print(df['Total_Pago'].describe())

# moda = df['Pagamento_Mensal'].mode()[0]  # Encontrar a moda
# frequencia = (df['Pagamento_Mensal'] == moda).sum()  # Contar quantas vezes a moda aparece
# print('Pagamento Mensal')
# print(f'Moda: {moda}, Frequência: {frequencia}')
# print(df['Pagamento_Mensal'].describe())


fig, ax = plt.subplots(3, 1, figsize=(11, 9)) 
fig.suptitle('Figura 8: Distribuição dos valores numéricos', fontsize=14)

temp=df['Tempo_como_Cliente']
db=2
bins=np.arange(0,80,db)

c, x= np.histogram(temp, bins)
N=len(df)
p=c/N*100
ax[0].bar(x[0:-1], p, width=np.diff(bins), align='edge')  
ax[0].set_title('Tempo como Cliente')
ax[0].set_xlabel('Tempo [Meses]')
ax[0].set_ylabel('Percentual (%)')
ax[0].set_xticks(bins)
for i in range(len(c)):
    ax[0].text(x[i]+db/2, p[i] , f'{p[i]:.2f}%', ha='center', va='bottom', fontsize=6)


temp=df['Pagamento_Mensal']
db=2
bins=np.arange(10,120,db)
c, x= np.histogram(temp, bins)
N=len(df)
p=c/N*100
ax[1].bar(x[0:-1], p, width=np.diff(bins), align='edge')  
ax[1].set_title('Pagamento_Mensal')
ax[1].set_xlabel('Tempo [Meses]')
ax[1].set_ylabel('Percentual (%)')
ax[1].set_xticks(bins)
for i in range(len(c)):
    ax[1].text(x[i]+db/2, p[i] , f'{p[i]:.2f}%', ha='center', va='bottom', fontsize=6)

temp=df['Total_Pago']
db=1000
bins=np.arange(1000,9000,db)
c, x= np.histogram(temp, bins)
N=len(df)
p=c/N*100
ax[2].bar(x[0:-1], p, width=np.diff(bins), align='edge')  
ax[2].set_title('Total Pago')
ax[2].set_xlabel('Tempo [Meses]')
ax[2].set_ylabel('Percentual (%)')
ax[2].set_xticks(bins)
for i in range(len(c)):
    ax[2].text(x[i]+db/2, p[i] , f'{p[i]:.2f}%', ha='center', va='bottom', fontsize=6)
plt.tight_layout()
plt.show()
    





#GeneroXchurn
# Relação entre Churn e Gênero
df_grouped1 = df.groupby(['Genero','Churn']).size().reset_index(name='count')
total_por_churn1 = df_grouped1.groupby('Churn')['count'].transform('sum')
df_grouped1['percent'] = (df_grouped1['count'] / total_por_churn1) * 100

df_grouped2 = df.groupby(['Idoso', 'Churn']).size().reset_index(name='count')
total_por_churn2 = df_grouped2.groupby('Churn')['count'].transform('sum')
df_grouped2['percent'] = (df_grouped2['count'] / total_por_churn2) * 100
df_grouped2['Idoso'] = df_grouped2['Idoso'].replace({0: 'Não', 1: 'Sim'}) 

df_grouped3 = df.groupby(['Casado', 'Churn']).size().reset_index(name='count')
total_por_churn3 = df_grouped3.groupby('Churn')['count'].transform('sum')
df_grouped3['percent'] = (df_grouped3['count'] / total_por_churn2) * 100
df_grouped3['Casado'] = df_grouped3['Casado'].replace({0: 'não', 1: 'sim'}) 

df_grouped4 = df.groupby(['Dependents', 'Churn']).size().reset_index(name='count')
total_por_churn4 = df_grouped4.groupby('Churn')['count'].transform('sum')
df_grouped4['percent'] = (df_grouped4['count'] / total_por_churn2) * 100
df_grouped4['Dependents'] = df_grouped4['Dependents'].replace({0: 'não', 1: 'sim'})


# Criar a figura e eixos
fig, ax = plt.subplots(2, 2, figsize=(12, 10))
fig.suptitle('Figura 9: Relação CHURN', fontsize=14)
sns.set_style("whitegrid") 


# plot1: Churn x Gênero
sns.barplot(data=df_grouped1, x='Churn', y='percent', hue='Genero',
            edgecolor='black', width=0.6,ax=ax[0, 0])
ax[0, 0].set_title('Relação entre Churn e Gênero')
ax[0, 0].set_xlabel('Churn')
ax[0, 0].set_ylabel('Porcentagem')
ax[0, 0].grid(True, linestyle='--', alpha=0.5)

# plot2: Churn x Idoso
sns.barplot(data=df_grouped2, x='Churn', y='percent', hue='Idoso', 
            edgecolor='black', width=0.6,ax=ax[0, 1])
ax[0, 1].set_title('Relação entre Churn e Idoso')
ax[0, 1].set_xlabel('Churn')
ax[0, 1].set_ylabel('Porcentagem')
ax[0, 1].grid(True, linestyle='--', alpha=0.5)

# plot3: Churn x Casado
sns.barplot(data=df_grouped3, x='Churn', y='percent', hue='Casado',
            edgecolor='black', width=0.6,ax=ax[1, 0])
ax[1, 0].set_title('Relação entre Churn e Estado Civil')
ax[1, 0].set_xlabel('Churn')
ax[1, 0].set_ylabel('Porcentagem')
ax[1, 0].grid(True, linestyle='--', alpha=0.5)

# plot4: Churn x Dependentes
sns.barplot(data=df_grouped4, x='Churn', y='percent', hue='Dependents',
            edgecolor='black', width=0.6,ax=ax[1, 1])
ax[1, 1].set_title('Relação entre Churn e Dependentes')
ax[1, 1].set_xlabel('Churn')
ax[1, 1].set_ylabel('Porcentagem')
ax[1, 1].grid(True, linestyle='--', alpha=0.5)
# Ajuste layout
plt.tight_layout()
plt.show()





#tipo de Contrato e método de Pagamento

df_CP= df.groupby(['Tipo_Contrato', 'PaymentMethod']).size().reset_index(name='count')
total_CP=df_CP.groupby('Tipo_Contrato')['count'].transform('sum')
df_CP['percent'] = (df_CP['count'] / total_CP) * 100
fig,ax = plt.subplots(figsize=(8, 6))

fig.suptitle('Figura 10: Tipo de contrato x método de pagamento', fontsize=14)

sns.barplot(data=df_CP, x='Tipo_Contrato', y='percent', hue='PaymentMethod',edgecolor='black', width=0.6)
plt.tight_layout()

plt.show()



#tipo de Contrato e churn
df_CC= df.groupby(['Tipo_Contrato', 'Churn']).size().reset_index(name='count')
total_CC=df_CC.groupby('Tipo_Contrato')['count'].transform('sum')
df_CC['percent'] = (df_CC['count'] / total_CC) * 100

fig, ax = plt.subplots(figsize=(8, 6))  # Corrigido para armazenar fig e ax

fig.suptitle('Figura 11: Tipo de contrato x Churn', fontsize=14)

sns.barplot(data=df_CC, x='Tipo_Contrato', y='percent', hue='Churn',edgecolor='black', width=0.6)
plt.tight_layout()

plt.show()

print(df_CC)


#Método de Pagamento e churn
df_PC= df.groupby(['PaymentMethod', 'Churn']).size().reset_index(name='count')
total_PC=df_PC.groupby('PaymentMethod')['count'].transform('sum')
df_PC['percent'] = (df_PC['count'] / total_PC) * 100
fig,ax = plt.subplots(figsize=(8, 6))

fig.suptitle('Figura 12: Método de pagamentoX Churn', fontsize=14)

sns.barplot(data=df_PC, x='PaymentMethod', y='percent', hue='Churn',edgecolor='black', width=0.6)
plt.tight_layout()

plt.show()

print(df_PC)
