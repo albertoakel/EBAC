





import plotly.express as px
import numpy as np
import plotly.graph_objects as go
import pandas as pd
from sklearn.cluster import KMeans
from sklearn.preprocessing import StandardScaler
import seaborn as sns
import matplotlib.pyplot as plt
import warnings

warnings.filterwarnings("ignore", category=FutureWarning)
df= sns.load_dataset('penguins')

df['species'].value_counts()





# pré-processamento pt 1
df=df.dropna() #removendo valores nulos
print(df['species'].value_counts())
coll_n=['bill_length_mm','bill_depth_mm','flipper_length_mm','body_mass_g'] # coll_numericas
df=df[coll_n] # selecionando valores numéricos
df.head





# 2 - Analise exploratória
newlabels = {
    "bill_length_mm": "Comprimento do bico (mm)",
    "bill_depth_mm": "Altura do bico (mm)",
    "flipper_length_mm": "Comprimento da nadadeira (mm)",
    "body_mass_g": "Massa corporal (g)"}
df_nl = df.rename(columns=newlabels)

sns.pairplot(df_nl);
plt.suptitle("Fig.1: Análise multivariada das \n característica físicas ", y=1.03); 
plt.tight_layout();
plt.show();





# 3- Pré modelagem
# Inicializar o StandardScaler
scaler = StandardScaler()
# Ajustar e transformar os dados selecionados
df_std= scaler.fit_transform(df[coll_n])

# dados normalizados
stats = [
    ("Média:", np.mean(df_std, axis=0)),
    ("Desvio padrão:", np.std(df_std, axis=0)),
    ("Mínimo:", np.min(df_std, axis=0)),
    ("Máximo:", np.max(df_std, axis=0)),
    ("Mediana:", np.median(df_std, axis=0))
]
# Formatação com alinhamento
for stat_name, values in stats:
    print(f"{stat_name:<15} {values[0]:>8.4f} {values[1]:>8.4f} {values[2]:>8.4f} {values[3]:>8.4f}")





# 4- modelagem K-means
kmeans_penguin = KMeans (n_clusters=3, n_init=50, random_state=42)
kmeans_penguin.fit(df_std)

# # Centroides
centroides = kmeans_penguin.cluster_centers_
print('centroides normalizados')
display(centroides)

centroides_padronizados = kmeans_penguin.cluster_centers_  # Centroides padronizados retornados pelo k-means
labels = kmeans_penguin.labels_


# # Inverter a padronização para obter os centroides originais
centroides_originais = scaler.inverse_transform(centroides_padronizados)
print('centroides valores originais')
display(centroides_originais)

# #np.size(centroides_originais,1)
# centroides_originais[:, 3], 
# #centroides_originais[:, 1], 





# visualização centroides e clusters
df_clusters = pd.DataFrame({
    'bill_length': df['bill_length_mm'],
    'bill_depth': df['bill_depth_mm'],
    'flipper_length': df['flipper_length_mm'],
    'body_mass': df['body_mass_g'],
    'cluster': labels.astype(str)  # Convertendo clusters para string (para cores categóricas)
})

fig, ax = plt.subplots(2, 2, figsize=(12, 10))
fig.suptitle('Figura 2: Centroides', fontsize=14)

# EIXOS 
A = 'bill_length'
B = 'bill_depth'
# Plotar pontos coloridos por cluster
for cluster in df_clusters['cluster'].unique():
    cluster_data = df_clusters[df_clusters['cluster'] == cluster]
    ax[0,0].scatter(cluster_data[A], cluster_data[B], label=f'Cluster {cluster}', alpha=0.7,s=50)

x=df_clusters.columns.get_loc(A)
y=df_clusters.columns.get_loc(B)
ax[0,0].scatter(centroides_originais[:, x], centroides_originais[:, y], marker='x', color='red', s=200, linewidths=2, label='Centroides')
ax[0,0].set_title('Figura a', fontsize=14)
ax[0,0].set_xlabel('Comprimento do Bico (mm)', fontsize=12)
ax[0,0].set_ylabel('Altura do Bico (mm)', fontsize=12)
ax[0,0].grid(True, linestyle='--', alpha=0.3)

A = 'body_mass'
B = 'bill_depth'
# Plotar pontos coloridos por cluster
for cluster in df_clusters['cluster'].unique():
    cluster_data = df_clusters[df_clusters['cluster'] == cluster]
    ax[0,1].scatter(cluster_data[A], cluster_data[B], label=f'Cluster {cluster}', alpha=0.7,s=50)

x=df_clusters.columns.get_loc(A)
y=df_clusters.columns.get_loc(B)
ax[0,1].scatter(centroides_originais[:, x], centroides_originais[:, y], marker='x', color='red', s=200, linewidths=2, label='Centroides')
ax[0,1].set_title('Figura B', fontsize=14)
ax[0,1].set_xlabel('Massa (g)', fontsize=12)
ax[0,1].set_ylabel('Altura do Bico (mm)', fontsize=12)
ax[0,1].grid(True, linestyle='--', alpha=0.3)

A = 'bill_length'
B = 'flipper_length'
# Plotar pontos coloridos por cluster
for cluster in df_clusters['cluster'].unique():
    cluster_data = df_clusters[df_clusters['cluster'] == cluster]
    ax[1,0].scatter(cluster_data[A], cluster_data[B], label=f'Cluster {cluster}', alpha=0.7,s=50)

x=df_clusters.columns.get_loc(A)
y=df_clusters.columns.get_loc(B)
ax[1,0].scatter(centroides_originais[:, x], centroides_originais[:, y], marker='x', color='red', s=200, linewidths=2, label='Centroides')
ax[1,0].set_title('Figura C', fontsize=14)
ax[1,0].set_xlabel('Comprimento do Bico (mm)', fontsize=12)
ax[1,0].set_ylabel('Comprimento da Nadadeira (mm)', fontsize=12)
ax[1,0].grid(True, linestyle='--', alpha=0.3)


A = 'body_mass'
B = 'bill_length'
# Plotar pontos coloridos por cluster
for cluster in df_clusters['cluster'].unique():
    cluster_data = df_clusters[df_clusters['cluster'] == cluster]
    ax[1,1].scatter(cluster_data[A], cluster_data[B], label=f'Cluster {cluster}', alpha=0.7,s=50)

x=df_clusters.columns.get_loc(A)
y=df_clusters.columns.get_loc(B)
ax[1,1].scatter(centroides_originais[:, x], centroides_originais[:, y], marker='x', color='red', s=200, linewidths=2, label='Centroides')
ax[1,1].set_title('Figura D', fontsize=14)
ax[1,1].set_xlabel('Massa (g)', fontsize=12)
ax[1,1].set_ylabel('Comprimento da Nadadeira (mm)', fontsize=12)
ax[1,1].grid(True, linestyle='--', alpha=0.3)

# Mostrar gráfico
plt.tight_layout()
plt.show()
df_clusters


df_clusters['grupo']=kmeans_penguin.labels_.astype('str')
grupo_mapeado = {0: 'Adelie', 1: 'Gentoo', 2: 'Chinstrap'}
df_clusters['grupo'] = kmeans_penguin.labels_
df_clusters['grupo'] = df_clusters['grupo'].map(grupo_mapeado)

pt_br = {
    'bill_length': 'Comprimento do Bico (mm)',
    'bill_depth': 'Altura do Bico (mm)',
    'flipper_length': 'Comprimento da Nadadeira (mm)',
    'body_mass': 'Massa Corporal (g)'
}

# Renomear colunas
df_clusters_pt = df_clusters.rename(columns=pt_br)
plt.figure(figsize=(15, 8));
g=sns.pairplot(df_clusters_pt,hue='grupo')
plt.suptitle("Fig.3: Análise multivariada das \n característica físicas ", y=1.03,fontsize=14); 
g._legend.set_bbox_to_anchor((1.1, 0.5)) 
plt.tight_layout()


# Boxplot
fig, axs = plt.subplots(2, 2, figsize=(12, 10))
plt.suptitle("Fig.4: Boxplot das caracteristicas físicas*", y=0.95,fontsize=14); 

# Massa 
sns.boxplot(data=df_clusters_pt, x='grupo', y='Massa Corporal (g)', ax=axs[0, 0])
axs[0, 0].set_title('Massa Corporal por Espécie')

# comprimento do Bico
sns.boxplot(data=df_clusters_pt, x='grupo', y='Comprimento do Bico (mm)', ax=axs[0, 1])
axs[0, 1].set_title('Comprimento do Bico (mm)')

# Altura do bico
sns.boxplot(data=df_clusters_pt, x='grupo', y='Altura do Bico (mm)', ax=axs[1, 0])
axs[1, 0].set_title('Altura do Bico (mm)')

# Nadadeira
sns.boxplot(data=df_clusters_pt, x='grupo', y='Comprimento da Nadadeira (mm)', ax=axs[1, 1])
axs[1, 1].set_title('Comprimento da Nadadeira (mm)')

plt.show()






