








import plotly.express as px
import plotly.graph_objects as go
import pandas as pd
from sklearn.cluster import KMeans
from sklearn.preprocessing import StandardScaler
import seaborn as sns


penguins = sns.load_dataset('penguins')


penguins





# seu código aqui





# seu código aqui





# seu código aqui





# seu código aqui





# seu código aqui



