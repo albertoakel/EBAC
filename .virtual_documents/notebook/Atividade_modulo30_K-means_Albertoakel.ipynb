





import plotly.express as px
import numpy as np
import plotly.graph_objects as go
import pandas as pd
from sklearn.cluster import KMeans
from sklearn.preprocessing import StandardScaler
import seaborn as sns
import matplotlib.pyplot as plt
import warnings

warnings.filterwarnings("ignore", category=FutureWarning)
df= sns.load_dataset('penguins')
len(df)
df





# pré-processamento pt 1
df=df.dropna() #removendo valores nulos
coll_n=['bill_length_mm','bill_depth_mm','flipper_length_mm','body_mass_g'] # coll_numericas
df=df[coll_n] # selecionando valores numéricos
df.head()





newlabels = {
    "bill_length_mm": "Comprimento do bico (mm)",
    "bill_depth_mm": "Profundidade do bico (mm)",
    "flipper_length_mm": "Comprimento da nadadeira (mm)",
    "body_mass_g": "Massa corporal (g)"}
df_nl = df.rename(columns=newlabels)

sns.pairplot(df_nl);
plt.suptitle("Fig.1: Análise multivariada das \n característica físicas ", y=1.03); 
plt.tight_layout();
plt.show();





# Inicializar o StandardScaler
scaler = StandardScaler()
# Ajustar e transformar os dados selecionados
df_std= scaler.fit_transform(df[coll_n])

# dados normalizados
stats = [
    ("Média:", np.mean(df_std, axis=0)),
    ("Desvio padrão:", np.std(df_std, axis=0)),
    ("Mínimo:", np.min(df_std, axis=0)),
    ("Máximo:", np.max(df_std, axis=0)),
    ("Mediana:", np.median(df_std, axis=0))
]
# Formatação com alinhamento
for stat_name, values in stats:
    print(f"{stat_name:<15} {values[0]:>8.4f} {values[1]:>8.4f} {values[2]:>8.4f} {values[3]:>8.4f}")





kmeans_penguin = KMeans (n_clusters=3, n_init=10, random_state=42)
kmeans_penguin.fit(df_std)

centroides = kmeans_penguin.cluster_centers_
print('centroides normalizados')
display(centroides)

centroides_padronizados = kmeans_penguin.cluster_centers_  # Centroides padronizados retornados pelo k-means

# Inverter a padronização para obter os centroides originais
centroides_originais = scaler.inverse_transform(centroides_padronizados)
print('centroides valores originais')
display(centroides_originais)

labels = kmeans_penguin.labels_
print('labels')
display(labels)





df_clusters = pd.DataFrame({
    'bill_length': df['bill_length_mm'],
    'bill_depth': df['bill_depth_mm'],
    'flipper_length': df['flipper_length_mm'],
    'body_mass': df['body_mass_g'],
    'cluster': labels.astype(str)  # Convertendo clusters para string (para cores categóricas)
})

# Variáveis para os eixos
A = 'bill_length'
B = 'bill_depth'

# Criar figura
plt.figure(figsize=(10, 6))

# Plotar pontos coloridos por cluster
for cluster in df_clusters['cluster'].unique():
    cluster_data = df_clusters[df_clusters['cluster'] == cluster]
    plt.scatter(
        cluster_data[A], 
        cluster_data[B], 
        label=f'Cluster {cluster}', 
        alpha=0.7,
        s=50  # Tamanho dos pontos
    )

# Plotar centroides (vermelho 'X')
plt.scatter(
    centroides_originais[:, 0], 
    centroides_originais[:, 1], 
    marker='x', 
    color='red', 
    s=200,  # Tamanho aumentado
    linewidths=2,  # Espessura do 'X'
    label='Centroides'
)

# Ajustes estéticos
plt.title('Clusters de Pinguins (K-Means)', fontsize=14)
plt.xlabel('Comprimento do Bico (mm)', fontsize=12)
plt.ylabel('Profundidade do Bico (mm)', fontsize=12)
plt.grid(True, linestyle='--', alpha=0.3)
plt.legend(title='Cluster', bbox_to_anchor=(1.05, 1), loc='upper left')

# Mostrar gráfico
plt.tight_layout()
plt.show()


df['grupo']=kmeans_penguin.labels_.astype('str')



# grupo_mapeado = {0: 'Adelie', 1: 'Gentoo', 2: 'Chinstrap '}
# df['grupo'] = kmeans_penguin.labels_
# df['grupo'] = df['grupo'].map(grupo_mapeado)

sns.pairplot(df,hue='grupo')



#sns.jointplot(df, x="flipper_length_mm", y="bill_length_mm", hue="species", kind="hist")

sns.jointplot(df, x="bill_depth_mm", y="bill_length_mm", hue="grupo");










