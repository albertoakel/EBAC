





import plotly.express as px
import numpy as np
import plotly.graph_objects as go
import pandas as pd
from sklearn.cluster import KMeans
from sklearn.preprocessing import StandardScaler
import seaborn as sns
import matplotlib.pyplot as plt

import warnings

warnings.filterwarnings("ignore", category=FutureWarning)
df= sns.load_dataset('penguins')





# 1

display(df)
df=df.dropna() #removendo valores nulos
coll_n=['bill_length_mm','bill_depth_mm','flipper_length_mm','body_mass_g'] # coll_numericas
df=df[coll_n] # selecionando valores numéricos





sns.pairplot(df)


#bill_length_mm bill_depth_mm flipper_length_mm body_mass_g
fig = px.scatter(df,x='body_mass_g', y='bill_depth_mm',
                 title='Gráfico de Dispersão: Distância Anual vs. Número de Viagens',
                 labels={'distancia_anual': 'Distância Anual', 'numero_viagens': 'Número de Viagens'})

fig.show()






# Inicializar o StandardScaler
scaler = StandardScaler()
# Ajustar e transformar os dados selecionados
df_std= scaler.fit_transform(df[coll_n])

# dados normalizados
stats = [
    ("Média:", np.mean(df_std, axis=0)),
    ("Desvio padrão:", np.std(df_std, axis=0)),
    ("Mínimo:", np.min(df_std, axis=0)),
    ("Máximo:", np.max(df_std, axis=0)),
    ("Mediana:", np.median(df_std, axis=0))
]
# Formatação com alinhamento
for stat_name, values in stats:
    print(f"{stat_name:<15} {values[0]:>8.4f} {values[1]:>8.4f} {values[2]:>8.4f} {values[3]:>8.4f}")





kmeans_penguin = KMeans (n_clusters=3, n_init=10, random_state=42)
kmeans_penguin.fit(df_std)

centroides = kmeans_penguin.cluster_centers_
print('centroides normalizados')
display(centroides)

centroides_padronizados = kmeans_penguin.cluster_centers_  # Centroides padronizados retornados pelo k-means

# Inverter a padronização para obter os centroides originais
centroides_originais = scaler.inverse_transform(centroides_padronizados)
print('centroides valores originais')
display(centroides_originais)

labels = kmeans_penguin.labels_
print('labels')
display(labels)


# Criando um df com os dados originais e  rótulos de cluster
#bill_length_mm bill_depth_mm flipper_length_mm body_mass_g

df_clusters = pd.DataFrame({
    'bill_length': df['bill_length_mm'],
    'bill_depth': df['bill_depth_mm'],
    'flipper_length': df['flipper_length_mm'],
    'body_mass': df['body_mass_g'],
    'cluster': labels.astype(str)
})

# Plotar os pontos de dados coloridos
A='bill_length'
B='bill_depth'
fig = px.scatter(df_clusters, x=A, y=B, color='cluster',
                 color_continuous_scale='viridis', opacity=0.7,
                 title='Clusters de Perfil de Viajantes')

# Adicionar os centroides ao gráfico
fig.add_scatter(x=centroides_originais[:, 0], y=centroides_originais[:, 1],
                mode='markers', marker=dict(color='black', symbol='star', size=14),
                name='Centroides')


fig.update_layout(xaxis_title=A, yaxis_title=B,
                  legend_title='Cluster')
fig.show()


# Supondo que 'df' e 'labels' já existam
df_clusters = pd.DataFrame({
    'bill_length': df['bill_length_mm'],
    'bill_depth': df['bill_depth_mm'],
    'flipper_length': df['flipper_length_mm'],
    'body_mass': df['body_mass_g'],
    'cluster': labels.astype(str)  # Convertendo clusters para string (para cores categóricas)
})

# Variáveis para os eixos
A = 'bill_length'
B = 'bill_depth'

# Criar figura
plt.figure(figsize=(10, 6))

# Plotar pontos coloridos por cluster
for cluster in df_clusters['cluster'].unique():
    cluster_data = df_clusters[df_clusters['cluster'] == cluster]
    plt.scatter(
        cluster_data[A], 
        cluster_data[B], 
        label=f'Cluster {cluster}', 
        alpha=0.7,
        s=50  # Tamanho dos pontos
    )

# Plotar centroides (vermelho 'X')
plt.scatter(
    centroides_originais[:, 0], 
    centroides_originais[:, 1], 
    marker='x', 
    color='red', 
    s=200,  # Tamanho aumentado
    linewidths=2,  # Espessura do 'X'
    label='Centroides'
)

# Ajustes estéticos
plt.title('Clusters de Pinguins (K-Means)', fontsize=14)
plt.xlabel('Comprimento do Bico (mm)', fontsize=12)
plt.ylabel('Profundidade do Bico (mm)', fontsize=12)
plt.grid(True, linestyle='--', alpha=0.3)
plt.legend(title='Cluster', bbox_to_anchor=(1.05, 1), loc='upper left')

# Mostrar gráfico
plt.tight_layout()
plt.show()





penguin['grupo']=kmeans_penguin.label_.astype('str')
sns.pairplot(penguin,hue=grupo)



