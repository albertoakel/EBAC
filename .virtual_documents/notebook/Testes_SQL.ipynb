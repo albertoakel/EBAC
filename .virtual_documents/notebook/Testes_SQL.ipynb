import sqlite3
import pandas as pd


# Criar uma tabela 
conn = sqlite3.connect('aula1sql.db') #criação ou abertura do banco de dados.

cursor = conn.cursor() #Cria um cursor para executar comandos SQL

cursor.execute('''
    CREATE TABLE IF NOT EXISTS tb_dados_pessoais (
    id INTEGER,
    nome TEXT,
    idade INTEGER,
    cidade TEXT
    )
''')
dados = [
    (136, 'João', 25, 'São Paulo'),
    (125, 'Maria', 30, 'Rio de Janeiro'),
    (148, 'Pedro', 28, 'Belo Horizonte'),
    (456, 'Renata', 28, 'Curitiba'),
    (345, 'Marcela', 25, 'São Paulo'),
    (254, 'Ronaldo', 26, 'Curitiba'),
    (178, 'Lucas', 21, 'São Paulo'),
    (365, 'Mateus', 23, 'São Paulo'),
    (145, 'Rebecca', 32, 'Salvador'),
    (258, 'Cassandra', 26, 'São Paulo')
]

cursor.executemany('INSERT INTO tb_dados_pessoais VALUES  (?, ?, ?, ?)', dados)
conn.commit()
conn.close()


conn = sqlite3.connect('aula1sql.db')
query = """
SELECT
*
FROM
tb_dados_pessoais
"""
df_dados = pd.read_sql(query, conn)
df_dados



