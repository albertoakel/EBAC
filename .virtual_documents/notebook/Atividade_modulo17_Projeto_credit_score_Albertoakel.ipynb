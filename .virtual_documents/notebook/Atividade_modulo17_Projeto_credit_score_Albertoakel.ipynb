








import seaborn as sns
import numpy as np
import matplotlib.pyplot as plt
import pandas as pd
import plotly.express as px
from scipy.stats import shapiro, skew, kurtosis


#Lembrem-se sempre de alterar a importação dos dados de acordo com o diretório de vocês.
df = pd.read_csv("CREDIT_SCORE_PROJETO_PARTE1.csv", delimiter=';')
df.head(10)





df = pd.read_csv("CREDIT_SCORE_PROJETO_PARTE1.csv", delimiter=';')

#substituido
np.random.seed(312) #semente randomica
N_nan = df['Age'].isnull().sum() #total de elementos nulos
sample = np.random.choice(df['Age'].dropna(), size=N_nan, replace=False) # retirar valores aleatórios de df['Age']
df.loc[df['Age'].isnull(), 'Age'] = sample  # alocar sample no dataframe

#Transformando df['Income'] de string em float
df['Income'] = (
     df['Income']
     .str.replace('.', '', regex=False)  
     .str.replace(',', '.', regex=False)  
      .astype(float))

print(df.info())

print(df[['Gender', 'Education', 'Marital Status', 'Home Ownership', 'Credit Score']].apply(pd.Series.unique))






df[['Age', 'Income', 'Number of Children']].describe()


#Boxplot
fig, ax = plt.subplots(1, 3, figsize=(15, 5))  # 1 linha, 3 colunas, tamanho da figura
fig.suptitle('Figura 1: BoxPlot dos valores numéricos', fontsize=14)

# Plotando os boxplots em cada subplot
df.boxplot(column='Age', ax=ax[0])
df.boxplot(column='Income', ax=ax[1])
df.boxplot(column='Number of Children', ax=ax[2])

#Títulos
ax[0].set_title('Age')
ax[1].set_title('Income ')
ax[2].set_title('Number of Children')

plt.tight_layout()
plt.show()


#histogramas
fig, ax = plt.subplots(1, 3, figsize=(15, 5)) 
fig.suptitle('Figura 2: Distribuição dos valores numéricos', fontsize=14)

N=len(df)
temp1=df['Age']
bins1=np.arange(25,60,5)
c1, x1= np.histogram(temp1, bins1)
p1=c1/N*100

temp2=df['Income']
bins2=np.arange(25000,170000,10000)
c2, x2= np.histogram(temp2, bins2)
p2=c2/N*100

temp3=df['Number of Children']
bins3=np.arange(0,5,1)
c3, x3= np.histogram(temp3,bins3)
p3=c3/N*100


ax[0].bar(x1[0:-1], p1, width=np.diff(bins1), align='edge')  
ax[0].set_title('Age')
ax[0].set_xlabel('Age')
ax[0].set_ylabel('Percentual (%)')
ax[0].set_xticks(bins1)
for i in range(len(c1)):
        ax[0].text(x1[i]+2.5, p1[i] , f'{p1[i]:.2f}%', ha='center', va='bottom', fontsize=8)

ax[1].bar(x2[0:-1], p2, width=np.diff(bins2), align='edge')  
ax[1].set_title('Income')
ax[1].set_xlabel('Income')
ax[1].set_ylabel('Percentual (%)')
ax[1].set_xticks(bins2)
ax[1].set_xticklabels(bins2, rotation=45)

for i in range(len(c2)):
    ax[1].text(x2[i]+5000, p2[i] , f'{p2[i]:.2f}%', ha='center', va='bottom', fontsize=8)


ax[2].bar(x3[0:-1], p3, width=np.diff(bins3), align='edge')  
ax[2].set_title('Number of Children')
ax[2].set_xlabel('Number of Children')
ax[2].set_ylabel('Percentual (%)')
ax[2].set_xticks(bins3)
for i in range(len(c3)):
    ax[2].text(x3[i]+0.5, p3[i] , f'{p3[i]:.2f}%', ha='center', va='bottom', fontsize=8)    
plt.tight_layout()
plt.show()

df['Age Group'] = pd.cut(df['Age'], bins=bins1, right=False)
df['Income10k'] = pd.cut(df['Income'], bins=bins2, right=False)

#print(df['Age Group'].value_counts().sort_index())
#print(df['Income10k'].value_counts().sort_index())
#print(df['Number of Children'].value_counts().sort_index())


#teste de normalidade estatistico teste_shapiro
def teste_shapiro(dados):
    '''
    Hipótese nula (Ho): Os dados seguem uma distribuição normal.
    '''
    # Realiza o teste de Shapiro-Wilk
    shapiro_statistic, p_valor = shapiro(dados)
    
    # Calcula assimetria e curtose
    assimetria = skew(dados)
    curtose = kurtosis(dados)

    # Exibe os resultados
    print(f"Assimetria: {assimetria}")
    print(f"Curtose: {curtose}")
    print(f"Estatística de Shapiro-Wilk: {shapiro_statistic}")
    print(f"Valor p: {p_valor}")

    # Interpretação do resultado
    alpha = 0.05  # Nível de significância de 5%
    if p_valor < alpha:
        print("Rejeitamos a hipótese nula: os dados NÃO seguem uma distribuição normal.")
    else:
        print("Não rejeitamos a hipótese nula: os dados seguem uma distribuição normal.")
    print('-' * 70)

# Exemplo de uso
# Suponha que `df` seja um DataFrame do Pandas com as colunas 'Age', 'Income' e 'Number of Children'
print('Teste de Shapiro-Wilk: Age')
teste_shapiro(df['Age'])

print('Teste de Shapiro-Wilk: Income')
teste_shapiro(df['Income'])

print('Teste de Shapiro-Wilk: Number of Children')
teste_shapiro(df['Number of Children'])





percentuala = df['Gender'].value_counts(normalize=True) * 100
percentualb = df['Education'].value_counts(normalize=True) * 100
percentualc = df['Marital Status'].value_counts(normalize=True) * 100
percentuald = df['Home Ownership'].value_counts(normalize=True) * 100
percentuale = df['Credit Score'].value_counts(normalize=True) * 100


fig, ax = plt.subplots(3, 2, figsize=(12, 10))  # 2 linhas, 2 colunas
fig.suptitle('Figura 3: Percentual categorias', fontsize=14)

# plot1: Gender
ax[0,0].bar(percentuala.index, percentuala.values, color=['blue', 'orange','indigo'], edgecolor='black', width=0.6)
ax[0,0].set_title('Gêneros')
for i in range(2):
    ax[0,0].text(i, percentuala.values[i] , f'{percentuala.values[i]:.2f}%', ha='center', va='bottom', fontsize=8)

# plot2: Métodos de pagamento
ax[0,1].bar(percentuald.index, percentuald.values, color=['blue', 'orange','indigo','darkgreen'], edgecolor='black', width=0.6)
ax[0,1].set_title('Home Ownership')
ax[0, 1].set_xticks(percentuald.index)
ax[0, 1].set_xticklabels(percentuald.index)
for i in range(2):
    ax[0,1].text(i, percentuald.values[i] , f'{percentuald.values[i]:.2f}%', ha='center', va='bottom', fontsize=8) 
    
# plot3: Marital Status
ax[1,0].bar(percentualc.index, percentualc.values, color=['blue', 'orange','indigo'], edgecolor='black', width=0.6)
ax[1,0].set_title('Marital Status')
for i in range(2):
    ax[1,0].text(i, percentualc.values[i] , f'{percentualc.values[i]:.2f}%', ha='center', va='bottom', fontsize=8)
    
# plot4: Education
ax[1,1].bar(percentualb.index, percentualb.values, color=['blue', 'orange','indigo'], edgecolor='black', width=0.6)
ax[1,1].set_title('Education')
ax[1, 1].set_xticks(percentualb.index)
ax[1, 1].set_xticklabels(percentualb.index,fontsize=7)
for i in range(5):
    ax[1,1].text(i, percentualb.values[i] , f'{percentualb.values[i]:.2f}%', ha='center', va='bottom', fontsize=8)

# plot5: Métodos de pagamento
ax[2,0].bar(percentuale.index, percentuale.values, color=['blue', 'orange','indigo','darkgreen'], edgecolor='black', width=0.6)
ax[2,0].set_title('Credit Score')
#ax[2,0].set_xticklabels(percentuale.index)
for i in range(3):
    ax[2,0].text(i, percentuale.values[i] , f'{percentuale.values[i]:.2f}%', ha='center', va='bottom', fontsize=8)
    
ax[2][1].set_visible(False)
plt.tight_layout()
plt.show()
print(percentuala) 
print(percentualb) 
print(percentualc) 
print(percentuald) 
print(percentuale)


**c)** Identificar e tratar colunas com outliers.
