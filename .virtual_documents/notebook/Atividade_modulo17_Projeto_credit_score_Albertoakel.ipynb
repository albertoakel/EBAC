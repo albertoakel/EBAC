








import seaborn as sns
import numpy as np
import matplotlib.pyplot as plt
import pandas as pd
import plotly.express as px
from scipy.stats import shapiro, skew, kurtosis
import warnings

#alertas
warnings.simplefilter(action='ignore', category=FutureWarning)

# Leitura inicial dos dados
df = pd.read_csv("CREDIT_SCORE_PROJETO_PARTE1.csv", delimiter=';')
df.head(10)





df = pd.read_csv("CREDIT_SCORE_PROJETO_PARTE1.csv", delimiter=';')

#substituido
np.random.seed(312) #semente randomica
N_nan = df['Age'].isnull().sum() #total de elementos nulos
sample = np.random.choice(df['Age'].dropna(), size=N_nan, replace=False) # retirar valores aleatórios de df['Age']
df.loc[df['Age'].isnull(), 'Age'] = sample  # alocar sample no dataframe
df['Age']=df['Age'].astype(int)             #transformar em inteiros

#Transformando df['Income'] de string em float
df['Income'] = (
     df['Income']
     .str.replace('.', '', regex=False)  
     .str.replace(',', '.', regex=False)  
      .astype(float))



print(df.info())

print(df[['Gender', 'Education', 'Marital Status', 'Home Ownership', 'Credit Score']].apply(pd.Series.unique))






#analise Univariada : Describe
df[['Age', 'Income', 'Number of Children']].describe()


#Análise Univariada: BoxPlot

fig, ax = plt.subplots(1, 3, figsize=(15, 5))  # 1 linha, 3 colunas, tamanho da figura
fig.suptitle('Figura 1: BoxPlot', fontsize=14)

# Plotando os boxplots em cada subplot
#f.boxplot(column='Age', ax=ax[0],patch_artist=True)
#df.boxplot(column='Income', ax=ax[1],patch_artist=True)
#df.boxplot(column='Number of Children', ax=ax[2],patch_artist=True)

sns.boxplot(y=df['Age'], ax=ax[0])
sns.boxplot(y=df['Income'], ax=ax[1])
sns.boxplot(y=df['Number of Children'], ax=ax[2])

#Títulos
ax[0].set_title('Age')
ax[1].set_title('Income ')
ax[2].set_title('Number of Children')

plt.tight_layout()
plt.show()




# Analise Univariada: histogramas
fig, ax = plt.subplots(1, 3, figsize=(15, 5)) 
fig.suptitle('Figura 2: Distribuição dos valores numéricos', fontsize=14)

N=len(df)
temp1=df['Age']
bins1=np.arange(25,60,5)
c1, x1= np.histogram(temp1, bins1)
p1=c1/N*100

temp2=df['Income']
bins2=np.arange(25000,170000,10000)
c2, x2= np.histogram(temp2, bins2)
p2=c2/N*100

temp3=df['Number of Children']
bins3=np.arange(0,5,1)
c3, x3= np.histogram(temp3,bins3)
p3=c3/N*100


ax[0].bar(x1[0:-1], p1, width=np.diff(bins1), align='edge',color='dodgerblue', edgecolor='black')  
ax[0].set_title('Age')
ax[0].set_xlabel('Age')
ax[0].set_ylabel('Percentual (%)')
ax[0].set_xticks(bins1)
for i in range(len(c1)):
        ax[0].text(x1[i]+2.5, p1[i] , f'{p1[i]:.2f}%', ha='center', va='bottom', fontsize=8)

ax[1].bar(x2[0:-1], p2, width=np.diff(bins2), align='edge',color='dodgerblue', edgecolor='black')  
ax[1].set_title('Income')
ax[1].set_xlabel('Income')
ax[1].set_ylabel('Percentual (%)')
ax[1].set_xticks(bins2)
ax[1].set_xticklabels(bins2, rotation=45)

for i in range(len(c2)):
    ax[1].text(x2[i]+5000, p2[i] , f'{p2[i]:.2f}%', ha='center', va='bottom', fontsize=8)


ax[2].bar(x3[0:-1], p3, width=np.diff(bins3), align='edge',color='dodgerblue', edgecolor='black')  
ax[2].set_title('Number of Children')
ax[2].set_xlabel('Number of Children')
ax[2].set_ylabel('Percentual (%)')
ax[2].set_xticks(bins3)
for i in range(len(c3)):
    ax[2].text(x3[i]+0.5, p3[i] , f'{p3[i]:.2f}%', ha='center', va='bottom', fontsize=8)    
plt.tight_layout()
plt.show()

#df['Age Group'] = pd.cut(df['Age'], bins=bins1, right=False)
#df['Income10k'] = pd.cut(df['Income'], bins=bins2, right=False)

#print(df['Age Group'].value_counts().sort_index())
#print(df['Income10k'].value_counts().sort_index())
#print(df['Number of Children'].value_counts().sort_index())


#teste de normalidade estatistico teste_shapiro
def teste_shapiro(dados):
    '''
    Hipótese nula (Ho): Os dados seguem uma distribuição normal.
    '''
    # Realiza o teste de Shapiro-Wilk
    shapiro_statistic, p_valor = shapiro(dados)
    
    # Calcula assimetria e curtose
    assimetria = skew(dados)
    curtose = kurtosis(dados)

    # Exibe os resultados
    print(f"Assimetria: {assimetria}")
    print(f"Curtose: {curtose}")
    print(f"Estatística de Shapiro-Wilk: {shapiro_statistic}")
    print(f"Valor p: {p_valor}")

    # Interpretação do resultado
    alpha = 0.05  # Nível de significância de 5%
    if p_valor < alpha:
        print("Rejeitamos a hipótese nula: os dados NÃO seguem uma distribuição normal.")
    else:
        print("Não rejeitamos a hipótese nula: os dados seguem uma distribuição normal.")
    print('-' * 70)

# Exemplo de uso
# Suponha que `df` seja um DataFrame do Pandas com as colunas 'Age', 'Income' e 'Number of Children'
print('Teste de Shapiro-Wilk: Age')
teste_shapiro(df['Age'])

print('Teste de Shapiro-Wilk: Income')
teste_shapiro(df['Income'])

print('Teste de Shapiro-Wilk: Number of Children')
teste_shapiro(df['Number of Children'])





# Distribuição das variaveis categóricas
percentuala = df['Gender'].value_counts(normalize=True) * 100
percentualb = df['Education'].value_counts(normalize=True) * 100
percentualc = df['Marital Status'].value_counts(normalize=True) * 100
percentuald = df['Home Ownership'].value_counts(normalize=True) * 100
percentuale = df['Credit Score'].value_counts(normalize=True) * 100


fig, ax = plt.subplots(3, 2, figsize=(12, 10))  # 2 linhas, 2 colunas
fig.suptitle('Figura 3: Percentual categorias', fontsize=14)

# plot1: Genero
ax[0,0].bar(percentuala.index, percentuala.values, color=['blue', 'orange','indigo'], edgecolor='black', width=0.6)
ax[0,0].set_title('Gêneros')
for i in range(2):
    ax[0,0].text(i, percentuala.values[i] , f'{percentuala.values[i]:.2f}%', ha='center', va='bottom', fontsize=8)

# plot2: Propriedade
ax[0,1].bar(percentuald.index, percentuald.values, color=['blue', 'orange','indigo','darkgreen'], edgecolor='black', width=0.6)
ax[0,1].set_title('Propriedade')
ax[0, 1].set_xticks(percentuald.index)
ax[0, 1].set_xticklabels(percentuald.index)
for i in range(2):
    ax[0,1].text(i, percentuald.values[i] , f'{percentuald.values[i]:.2f}%', ha='center', va='bottom', fontsize=8) 
    
# plot3: Estado Cívil
ax[1,0].bar(percentualc.index, percentualc.values, color=['blue', 'orange','indigo'], edgecolor='black', width=0.6)
ax[1,0].set_title('Marital Status')
for i in range(2):
    ax[1,0].text(i, percentualc.values[i] , f'{percentualc.values[i]:.2f}%', ha='center', va='bottom', fontsize=8)
    
# plot4: Educação
ax[1,1].bar(percentualb.index, percentualb.values, color=['blue', 'orange','indigo'], edgecolor='black', width=0.6)
ax[1,1].set_title('Education')
ax[1, 1].set_xticks(percentualb.index)
ax[1, 1].set_xticklabels(percentualb.index,fontsize=7)
for i in range(5):
    ax[1,1].text(i, percentualb.values[i] , f'{percentualb.values[i]:.2f}%', ha='center', va='bottom', fontsize=8)

# plot5: Score
ax[2,0].bar(percentuale.index, percentuale.values, color=['blue', 'orange','indigo','darkgreen'], edgecolor='black', width=0.6)
ax[2,0].set_title('Credit Score')
#ax[2,0].set_xticklabels(percentuale.index)
for i in range(3):
    ax[2,0].text(i, percentuale.values[i] , f'{percentuale.values[i]:.2f}%', ha='center', va='bottom', fontsize=8)
    
ax[2][1].set_visible(False)
plt.tight_layout()
plt.show()
print(percentuala) 
print(percentualb) 
print(percentualc) 
print(percentuald) 
print(percentuale)





#d1) idade x status civil
df_grp1 = df.groupby(['Marital Status', 'Age']).size().reset_index(name='count')
total1 = df_grp1.groupby('Age')['count'].transform('sum')
df_grp1['percent'] = (df_grp1['count'] / total1) * 100

# Cria gráfico de barras empilhadas
fig1 = px.bar(df_grp1, x='Age', y='percent', color='Marital Status', barmode='stack',
             labels={'Marital Status': 'Marital Status', 'percent': 'Porcentagem', 'Age': 'Age'})

fig1.update_layout(title='Estado civil x Idade',
                  yaxis_title='Porcentagem',
                  legend_title='Estado civíl')

#d2) Score x Educação?\
df_grp2 = df.groupby(['Credit Score', 'Education']).size().reset_index(name='count')
total2 = df_grp2.groupby('Education')['count'].transform('sum')
df_grp2['percent'] = (df_grp2['count'] / total2) * 100

#ordenação das categorias
ordem_edu= ["High School Diploma","Associate's Degree","Bachelor's Degree",
                   "Master's Degree","Doctorate"]
ordem_crd = ['Low', 'Average', 'High']
df_grp2['Education'] = pd.Categorical(df_grp2['Education'], categories=ordem_edu, ordered=True)
df_grp2['Credit Score'] = pd.Categorical(df_grp2['Credit Score'], categories=ordem_crd, ordered=True)
df_grp2 = df_grp2.sort_values(['Education', 'Credit Score'])

fig2 = px.bar(df_grp2, x='Education', y='percent', color='Credit Score', barmode='stack',
             labels={'Credit Score': 'Credit Score', 'percent': 'Porcentagem', 'Education': 'Education'})
fig2.update_layout(title='Score x Educação',
                   yaxis_title='Porcentagem',
                   legend_title='Score')

#d3) salário x idade
df_grp3 = df.groupby('Age')['Income'].mean().reset_index(name='mean')

df_grp3 = df.groupby(['Income', 'Age']).size().reset_index(name='count')
total3 = df_grp3.groupby('Age')['count'].transform('sum')
df_grp3['percent'] = (df_grp3['count'] / total3) * 100

# Cria gráfico de barras empilhadas
fig3 = px.bar(df_grp3, x='Age', y='percent', color='Income', barmode='stack',
             labels={'Income': 'Renda', 'percent': 'Porcentagem', 'Age': 'Age'})

fig3.update_layout(title='Renda x Idade',
                  yaxis_title='Percentual',
                  legend_title='Renda')


#d4) Salário x Score de Crédito

df_grp4 = df.groupby(['Income', 'Credit Score']).size().reset_index(name='count')
total4 = df_grp4.groupby('Credit Score')['count'].transform('sum')
df_grp4['percent'] = (df_grp4['count'] / total4) * 100

# Cria gráfico de barras empilhadas
fig4 = px.bar(df_grp4, x='Credit Score', y='percent', color='Income', barmode='stack',
             labels={'Income': 'Renda', 'percent': 'Porcentagem', 'Credit Score': 'Credit Score'})

fig4.update_layout(title='Renda x Score',
                  yaxis_title='Percentual',
                  legend_title='Estado civíl')


#)d5) Clientes com casa própria tendem a ter um score mais alto?
df_grp5 = df.groupby(['Home Ownership', 'Credit Score']).size().reset_index(name='count')
total5 = df_grp5.groupby('Credit Score')['count'].transform('sum')
df_grp5['percent'] = (df_grp5['count'] / total5) * 100

ordem_crd = ['Low', 'Average', 'High']
df_grp5['Credit Score'] = pd.Categorical(df_grp5['Credit Score'], categories=ordem_crd, ordered=True)
df_grp5 = df_grp5.sort_values(['Credit Score'])


fig5 = px.bar(df_grp5, x='Credit Score', y='percent', color='Home Ownership', barmode='stack',
             labels={'Home Ownership': 'Home Ownership', 'percent': 'Porcentagem', 'Credit Score': 'Credit Score'})

fig5.update_layout(title='Propriedade x Score',
                  yaxis_title='Percentual',
                  legend_title='Propriedade')
fig1.show("png")
# fig2.show()
# fig3.show()
# fig4.show()
# fig5.show()





#Analise Bivariada
fig, ax = plt.subplots(5, 1, figsize=(12, 24))
fig.suptitle('Figura 5: Analise Bivariada', fontsize=14,y=1)
sns.set_style("whitegrid") 

# plot 1: Idade x Estado Civil
df_grp1 = df.groupby(['Marital Status', 'Age']).size().reset_index(name='count');
total1= df_grp1.groupby('Age')['count'].transform('sum');
df_grp1['percent'] = (df_grp1['count'] / total1) * 100;

sns.histplot(data=df_grp1, x='Age', weights='percent',hue='Marital Status',
             multiple='stack', edgecolor='black',bins=df['Age'].max()-df['Age'].min()+1,ax=ax[0])
ax[0].set_title('Idade x Estado Civil')
ax[0].set_xlabel('Idade', fontsize=14)
ax[0].set_ylabel('Percentual [%]', fontsize=14)
ax[0].set_xticks(np.arange(25, 56, 1))  # Definir ticks de 25 a 55 com passo 5
ax[0].set_xticklabels(np.arange(25, 56, 1), rotation=45, fontsize=8)  # Rótulos dos ticks
ax[0].set_xlim([25, 53]) 

# plot 2: Score x Educação
df_grp2 = df.groupby(['Credit Score', 'Education']).size().reset_index(name='count')
total2 = df_grp2.groupby('Education')['count'].transform('sum')
df_grp2['percent'] = (df_grp2['count'] / total2) * 100
#ordenação das categorias
ordem_edu= ["High School Diploma","Associate's Degree","Bachelor's Degree",
                   "Master's Degree","Doctorate"]
ordem_crd = ['Low', 'Average', 'High']
df_grp2['Education'] = pd.Categorical(df_grp2['Education'], categories=ordem_edu, ordered=True)
df_grp2['Credit Score'] = pd.Categorical(df_grp2['Credit Score'], categories=ordem_crd, ordered=True)
df_grp2 = df_grp2.sort_values(['Education', 'Credit Score'])

sns.histplot(data=df_grp2, x='Education', weights='percent',hue='Credit Score',
             multiple='stack', edgecolor='black',bins=6,ax=ax[1])
ax[1].set_title('Educação  x Score')
ax[1].set_xlabel('Educação', fontsize=14)
ax[1].set_ylabel('Percentual [%]', fontsize=14)

# plot 3: Idade x Renda Média
df_grp3 = df.groupby('Age')['Income'].mean().reset_index(name='mean')

sns.barplot(x='Age', y='mean', data=df_grp3, color='dodgerblue',  ax=ax[2])
ax[2].set_title('Idade x renda média')
ax[2].set_xlabel('Idade', fontsize=14)
ax[2].set_ylabel('Valor médio', fontsize=14)

# plot 4: Score x Renda média
df_grp4 = df.groupby('Credit Score')['Income'].mean().reset_index(name='mean')

df_grp4['Credit Score'] = pd.Categorical(df_grp4['Credit Score'], categories=ordem_crd, ordered=True)
df_grp4 = df_grp4.sort_values(['Credit Score'])

sns.barplot(x='Credit Score', y='mean', data=df_grp4, color='dodgerblue',  ax=ax[3])
ax[3].set_title('Score x renda média')
ax[3].set_xlabel('Score', fontsize=14)
ax[3].set_ylabel('Renda média', fontsize=14)

# plot 5: Propriedade x Score
df_grp5 = df.groupby(['Home Ownership', 'Credit Score']).size().reset_index(name='count')
total5 = df_grp5.groupby('Credit Score')['count'].transform('sum')
df_grp5['percent'] = (df_grp5['count'] / total5) * 100

ordem_crd = ['Low', 'Average', 'High']
df_grp5['Credit Score'] = pd.Categorical(df_grp5['Credit Score'], categories=ordem_crd, ordered=True)
df_grp5 = df_grp5.sort_values(['Credit Score'])

sns.histplot(data=df_grp5, x='Credit Score', weights='percent',hue='Home Ownership',
             multiple='stack', edgecolor='black',bins=6,ax=ax[4])
ax[4].set_title('Score x Propiedades')
ax[4].set_xlabel('Score', fontsize=14)
ax[4].set_ylabel('Percentual [%]', fontsize=14)

plt.tight_layout()  
