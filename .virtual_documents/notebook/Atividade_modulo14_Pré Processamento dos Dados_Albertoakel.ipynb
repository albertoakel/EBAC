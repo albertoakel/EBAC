





import seaborn as sns
import matplotlib.pyplot as plt
import pandas as pd
import numpy as np



#Lembrem-se sempre de alterar a importação dos dados de acordo com o diretório de vocês.
df = pd.read_csv("CHURN_TELECON_MOD08_TAREFA.csv", delimiter=';')

#convertendo todos strings para minusculo.
df[df.select_dtypes(include=['object']).columns] = df.select_dtypes(include=['object']).apply(lambda x: x.str.lower())





df = df.replace({'yes': 1, 'no': 0})
df





#valores percentuais de dados faltantes
print(f"{'Categoria':<20} {'Percentual(%)':>5}")
print("-" * 34)
print((df.isnull().sum()/len(df))*100)





#removendo linhas nulas em churn e Genero
df.dropna(subset=['Churn', 'Genero'],inplace=True)
#verificando
print(df.isnull().sum())
# modificando coluna Churn de float -> integer
df['Churn'] = df['Churn'].astype(int)





#Grafico Distribuição de Pagamento Mensal (Percentual)
bins=np.linspace(0,120,13)
fig = plt.subplots(figsize=(12, 6))
c, x= np.histogram(df['Pagamento_Mensal'], bins)
N=len(df)
p=c/N*100
plt.bar(x[0:-1], p, width=np.diff(bins), align='edge')  
plt.title('Distribuição de Pagamento Mensal (Percentual)')
plt.xlabel('Valor pagamento Mensal')
plt.ylabel('Percentual (%)')
plt.xticks(bins)
for i in range(len(c)):
    plt.text(x[i]+5, p[i] , f'{p[i]:.2f}%', ha='center', va='bottom', fontsize=10)
plt.show()


#Calculo a moda
moda = df['Pagamento_Mensal'].mode()
frequencia = df['Pagamento_Mensal'].value_counts()
total_valores_na_moda = frequencia.loc[moda].sum()


# subtituição dos valores nulos pela mediana
df.fillna({'Pagamento_Mensal': df['Pagamento_Mensal'].median()},inplace=True)





#Correlação e exclusão da coluna Phone Service
df_ps= df[df['PhoneService'].notnull()]
correlacao = df_ps['PhoneService'].corr(df_ps['Churn'])
print('Correlação PhoneService x Churn :',f"{correlacao:.5f}")

#Exclusão da coluna no dataset
df.drop('PhoneService', axis=1, inplace=True)





#simplificação dos valores de generos
df.replace({'Genero': {'f': 'female', 'm': 'male'}},inplace=True)





df.info()
#df.to_csv('CHURN_CREDIT_MOD14_tratado.csv', index=False)
#DataFrame.to_csv('nome_do_arquivo.csv')
#df.to_csv('CHURN_TELECON_MOD08_preprocessed.csv',index=False)



