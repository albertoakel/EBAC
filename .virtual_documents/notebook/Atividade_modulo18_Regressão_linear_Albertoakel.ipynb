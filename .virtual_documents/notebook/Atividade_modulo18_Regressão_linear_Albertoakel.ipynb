





import seaborn as sns
import numpy as np
import matplotlib.pyplot as plt
import pandas as pd
import plotly.express as px
import plotly.subplots as sp
import plotly.graph_objects as go
from sklearn.model_selection import train_test_split
from sklearn.linear_model import LinearRegression as LR
import warnings
#alertas
warnings.simplefilter(action='ignore', category=FutureWarning)


df = pd.read_csv("ALUGUEL_MOD12.csv", delimiter=';')
df = df.rename(columns={"N_banheiros": "N_Banheiros"})
df.head(12)








df.info()
df.drop_duplicates(inplace=True) 
df.info()
df.describe()
df.isnull()





def limitesIRQ(col):
    
    Q1 = col.quantile(0.25)
    Q3 = col.quantile(0.75)
    IQR = Q3 - Q1
    K=1.5
    lim_i = Q1 - K * IQR
    lim_s = Q3 + K * IQR
    return lim_i, lim_s

def filt_outlier2(df,col_names):
    N_outliers=100
    c=0
    while (N_outliers) > 0:
        c+=1
        N=len(df) #dimensao inicial
        lim = {
        col_names[0]: limitesIRQ(df[col_names[0]]),
        col_names[1]: limitesIRQ(df[col_names[1]]),
        col_names[2]: limitesIRQ(df[col_names[2]])}

        df = df[
            (df[col_names[0]] >= lim[col_names[0]][0]) & (df[col_names[0]] <= lim[col_names[0]][1])&
            (df[col_names[1]] >= lim[col_names[1]][0]) & (df[col_names[1]] <= lim[col_names[1]][1])&
            (df[col_names[2]] >= lim[col_names[2]][0]) & (df[col_names[2]] <= lim[col_names[2]][1])
        ].reset_index(drop=True)
        
        N_outliers=N-len(df)
        print('iteração:',c,'N_outliers:',N_outliers)
    return df

def filt_outlier3(df,col_names,N):
#    N- Numero de iteraçoes
    c=0
    for i in range(N):
        c+=1
        N=len(df) #dimensao inicial
        lim = {
        col_names[0]: limitesIRQ(df[col_names[0]]),
        col_names[1]: limitesIRQ(df[col_names[1]]),
        col_names[2]: limitesIRQ(df[col_names[2]])}

        df = df[
            (df[col_names[0]] >= lim[col_names[0]][0]) & (df[col_names[0]] <= lim[col_names[0]][1])&
            (df[col_names[1]] >= lim[col_names[1]][0]) & (df[col_names[1]] <= lim[col_names[1]][1])&
            (df[col_names[2]] >= lim[col_names[2]][0]) & (df[col_names[2]] <= lim[col_names[2]][1])
        ].reset_index(drop=True)
        
        N_outliers=N-len(df)
        print('iteração:',c,'N_outliers:',N_outliers)
    return df
    


colunas = ['Valor_Aluguel', 'Valor_Condominio', 'Metragem']
print('Dimensão inicial:',len(df))
df2=filt_outlier2(df, colunas)
print('Dimensão final:',len(df2))
print(f'Redução: {(len(df2) / len(df) - 1) * 100:.2f}%')
df2.describe()


# Figura1 : BoxPlot dados sem outliers
fig = sp.make_subplots(rows=2, cols=3, 
                       subplot_titles=('Valor Aluguel', 'Valor Condominio', 'Metragem',
                                      'Aluguel filt.','Condominio filt.','Metragem filt.'),
                       vertical_spacing=0.1)

# Adicionar boxplot para 'Valor_Aluguel'
fig.add_trace(px.box(df, y='Valor_Aluguel').data[0], row=1, col=1)

fig.add_trace(px.box(df, y='Valor_Condominio').data[0], row=1, col=2)

fig.add_trace(px.box(df, y='Metragem').data[0], row=1, col=3)


fig.add_trace(px.box(df2, y='Valor_Aluguel').data[0], row=2, col=1)

fig.add_trace(px.box(df2, y='Valor_Condominio').data[0], row=2, col=2)

fig.add_trace(px.box(df2, y='Metragem').data[0], row=2, col=3)


fig.update_layout(
    title_text="Figura 1: Outliers Filtrados",  # Título geral
    showlegend=False,  # Ocultar legenda
    height=600,  # Altura da figura
    width=1000   # Largura da figura
)


fig.show('png')


# Histogramas do  conjunto de dados ( após filtragem)
fig, ax = plt.subplots(3, 3, figsize=(15, 12)) 
fig.suptitle('Figura 2: Distribuição dos valores numéricos', fontsize=18)

N=len(df2)

def hist_p(df,name_cat,dx):
    temp=df[name_cat]
    bins=np.arange(min(temp),max(temp)+dx+1,dx)
    c, x= np.histogram(temp, bins) 
    p=c/N*100
    return c,x,p,bins

def mult_bar(p1,p2,c,x,p,bins,name_cat):
    dx=bins[1]-bins[0]
    ax[p1,p2].bar(x[0:-1], p, width=np.diff(bins), align='center',color='dodgerblue', edgecolor='black')  
    ax[p1,p2].set_title(name_cat)
    ax[p1,p2].set_xlabel(name_cat)
    ax[p1,p2].set_ylabel('Percentual (%)')
    ax[p1,p2].set_xticks(bins[0:-1])
    if len(bins) > 10 :
        ax[p1,p2].set_xticklabels(bins[0:-1], rotation=45)
        
    for i in range(len(c)):
        fs = max(6, 10 - len(c) // 5)
        ax[p1,p2].text(x[i], p[i] , f'{p[i]:.2f}%', ha='center', va='bottom', fontsize=fs)
    
    
c1,x1,p1,bins1=hist_p(df2,'Valor_Aluguel',160)
c2,x2,p2,bins2=hist_p(df2,'Valor_Condominio',100)
c3,x3,p3,bins3=hist_p(df2,'Metragem',10)

c4,x4,p4,bins4=hist_p(df2,'N_Quartos',1)
c5,x5,p5,bins5=hist_p(df2,'N_Banheiros',1)
c6,x6,p6,bins6=hist_p(df2,'N_Suites',1)
c7,x7,p7,bins7=hist_p(df2,'N_Vagas',1)

mult_bar(0,0,c1,x1,p1,bins1,'Valor_Aluguel')
mult_bar(0,1,c2,x2,p2,bins2,'Valor_Condominio')
mult_bar(0,2,c3,x3,p3,bins3,'Metragem')
mult_bar(1,0,c4,x4,p4,bins4,'N_Quartos')
mult_bar(1,1,c5,x5,p5,bins5,'N_Banheiros')
mult_bar(1,2,c6,x6,p6,bins6,'N_Suites')
mult_bar(2,1,c7,x7,p7,bins7,'N_Vagas')

ax[2][0].set_visible(False)
ax[2][2].set_visible(False)
plt.tight_layout()
plt.show()


#Análise Bivariada
fig, ax = plt.subplots(3, 1, figsize=(12, 15))
fig.suptitle('Figura 3: análise Bivariada', fontsize=14,y=1);
sns.set_style("whitegrid") 

bins3=np.arange(30,105,5)
df2['Metragem_inter'] = pd.cut(df2['Metragem'], bins=bins3, right=False)
# plot 1: Metragem x média Aluguel

df_grp1 = df2.groupby('Metragem_inter')['Valor_Aluguel'].agg(['mean', 'std']).reset_index()
df_grp1.columns = ['Metragem_inter', 'Mean', 'Std']  # Renomear colunas

sns.barplot(x='Metragem_inter', y='Mean', data=df_grp1, yerr=df_grp1['Std'],
              color='dodgerblue',edgecolor='black',ax=ax[0])
ax[0].set_title('Metragem x média Aluguel')
ax[0].set_xlabel('Metragem', fontsize=14)
ax[0].set_ylabel('valor médio [%]', fontsize=14)

# plot 2: Metragem x condominio
df_grp2 = df2.groupby('Metragem_inter')['Valor_Condominio'].agg(['mean', 'std']).reset_index()
df_grp2.columns = ['Metragem_inter', 'Mean', 'Std']  # Renomear colunas

sns.barplot(x='Metragem_inter', y='Mean', data=df_grp2, yerr=df_grp2['Std'],
              color='dodgerblue',edgecolor='black',ax=ax[1])
ax[1].set_title('Metragem x média Condominio')
ax[1].set_xlabel('Metragem', fontsize=14)
ax[1].set_ylabel('valor médio [%]', fontsize=14)


# plot 3: Metragem x Numero de Vagas
df2['Metragem_inter'] = pd.cut(df2['Metragem'], bins=bins3, right=False)

df_grp3 = df2.groupby('Metragem_inter')['N_Vagas'].agg(['mean', 'std']).reset_index()
df_grp3.columns = ['Metragem_inter', 'Mean', 'Std']  # Renomear colunas



sns.barplot(x='Metragem_inter', y='Mean', data=df_grp3, yerr=df_grp3['Std'],
             color='dodgerblue',edgecolor='black',ax=ax[2])
ax[2].set_title('Metragem x N_Vagas')
ax[2].set_xlabel('Metragem', fontsize=14)
ax[2].set_ylabel('N_Vagas', fontsize=14)

plt.tight_layout() 


aa=pd.concat([df_grp1,df_grp2,df_grp3],axis=1)
aa.columns = ['Metragem','Mean_aluguel','Std_aluguel','Metragem','Mean_Condominio','Std_Condominio','Metragem','Mean_Nvagas','Std_NVagas']
aa






#Matriz de correlação
df_corr = df2.select_dtypes(include=['number']).corr()
plt.figure(figsize=(15, 8))
sns.heatmap(df_corr,
           annot=True,
           cmap='coolwarm',
           fmt='.2f',
           annot_kws={'size': 10})
plt.title('Figura 4: Matriz Correlação 1')
plt.show()





x = df2.drop(['Valor_Aluguel'], axis=1) #todas menos o target
y = df2['Valor_Aluguel'] # previsão Valor Aluguel
print(f"Tamanho de x: {x.shape}")

x_train, x_test, y_train, y_test = train_test_split(x, y, test_size=0.25, random_state=42)

print(f"Base de Treino (feat:train): {x_train.shape}")
print(f"Base de Teste  (feat:test): {x_test.shape}")
print(f"Base de Treino (tag:train ): {y_train.shape}")
print(f"Base de Teste  (tag:teste ): {y_test.shape}")






# Separar a variável independente da variável dependente
x = x_train[['Metragem']].values.reshape(-1, 1)
y = y_train.values


#Modelo de regressão
mod_lin = LR()
mod_lin.fit(x,y)
print('Equação da reta: Y = aX + b')
print(f'a = {mod_lin.coef_[0]:.3f}')

print(f'b = {mod_lin.intercept_:.3f}')
print(f'Y = {mod_lin.coef_[0]:.3f}X + {mod_lin.intercept_:.3f}')
    
print(f'Coeficiente de Determinação (R²) nos Dados de Treino:{mod_lin.score(x,y):.3f}')
print( '==Métrica para os dados usados==')
media = np.mean(y)
desvio_padrao = np.std(y)
print("Desvio Padrão:", desvio_padrao)
coef_variacao = (desvio_padrao / media) * 100
print("Coeficiente de Variação:", coef_variacao, "%")





#Grafico de dispersão
plt.scatter(x, y, color='blue', label='Dados Originais')
plt.plot(x, mod_lin.predict(x), color='red', label='Linha de Regressão')
plt.title('Fig5: Dispersão e regressão linear')
plt.legend()
plt.show()


# Variaveis de teste
x_test = x_test[['Metragem']].values.reshape(-1, 1)
y_test = y_test  


# teste do Modelo
previsoes = mod_lin.predict(x_test)
print(f'Coeficiente de Determinação (R²) nos Dados de Teste:{mod_lin.score(x_test, y_test):.3f}')


print("== Resumo processos  ==")

# bases de dados
print("\n= Informações sobre as Bases de Dados ==")
print(f"Base de Treino (features): {x_train.shape}")
print(f"Base de Teste  (features): {x_test.shape}")
print(f"Base de Treino (target):   {y_train.shape}")
print(f"Base de Teste  (target):   {y_test.shape}")

# Métricas de dispersão
print("\n== Métricas de Dispersão ==")
print(f"Desvio Padrão:            {desvio_padrao:.3f}")
print(f"Coeficiente de Variação:  {coef_variacao:.3f} %")

# Equação da reta
print("\n== Equação da Reta ==")
print(f"Y = aX + b")
print(f"a (coeficiente angular) = {mod_lin.coef_[0]:.3f}")
print(f"b (intercepto)          = {mod_lin.intercept_:.3f}")
print(f"Equação: Y = {mod_lin.coef_[0]:.3f}X + {mod_lin.intercept_:.3f}")

# Métricas de desempenho
print("\n== Métricas de Desempenho ==")
print(f"Coeficiente de Determinação (R²) nos Dados de Treino: {mod_lin.score(x, y):.3f}")
print(f"Coeficiente de Determinação (R²) nos Dados de Teste:  {mod_lin.score(x_test, y_test):.3f}")





#Base de treino e teste
x = df2.drop(['Valor_Aluguel'], axis=1) #todas menos o target
y = df2['Valor_Aluguel'] # previsão Valor Aluguel
print(f"Tamanho de x: {x.shape}")

x_train, x_test, y_train, y_test = train_test_split(x, y, test_size=0.25, random_state=42)

print(f"Base de Treino (feat:train): {x_train.shape}")
print(f"Base de Teste  (feat:test): {x_test.shape}")
print(f"Base de Treino (tag:train ): {y_train.shape}")
print(f"Base de Teste  (tag:teste ): {y_test.shape}")





#Regressão linear multipla aplicado só a base de treino
x = x_train[['Valor_Condominio','Metragem',	'N_Quartos','N_Banheiros','N_Suites','N_Vagas']]
y = y_train

#Modelo de regressão
mod_lin = LR()
mod_lin.fit(x,y)
print('Equação da reta: Y = aX + b')
print(f'a = {mod_lin.coef_[0]:.3f}')

print(f'b = {mod_lin.intercept_:.3f}')
print(f'Y = {mod_lin.coef_[0]:.3f}X + {mod_lin.intercept_:.3f}')
    






print(f'Coeficiente de Determinação (R²) nos Dados de Treino:{mod_lin.score(x,y):.3f}')





x_test = x_test[['Valor_Condominio','Metragem',	'N_Quartos','N_Banheiros','N_Suites','N_Vagas']]
y_test = y_test
# Usando o modelo treinado para fazer previsões sobre os dados de teste
previsoes = mod_lin.predict(x_test)
# Avaliando o desempenho do modelo usando métricas como o R²
print(f'Coeficiente de Determinação (R²) nos Dados de Teste:{mod_lin.score(x_test, y_test):.3f}')



print("== Resumo processos  ==")

# bases de dados
print("\n= Informações sobre as Bases de Dados ==")
print(f"Base de Treino (features): {x_train.shape}")
print(f"Base de Teste  (features): {x_test.shape}")
print(f"Base de Treino (target):   {y_train.shape}")
print(f"Base de Teste  (target):   {y_test.shape}")

# Métricas de dispersão
print("\n== Métricas de Dispersão ==")
print(f"Desvio Padrão:            {desvio_padrao:.3f}")
print(f"Coeficiente de Variação:  {coef_variacao:.3f} %")

# Equação da reta
print("\n== Equação da Reta ==")
print(f"Y = aX + b")
print(f"a (coeficiente angular) = {mod_lin.coef_[0]:.3f}")
print(f"b (intercepto)          = {mod_lin.intercept_:.3f}")
print(f"Equação: Y = {mod_lin.coef_[0]:.3f}X + {mod_lin.intercept_:.3f}")

# Métricas de desempenho
print("\n== Métricas de Desempenho ==")
print(f"Coeficiente de Determinação (R²) nos Dados de Treino: {mod_lin.score(x, y):.3f}")
print(f"Coeficiente de Determinação (R²) nos Dados de Teste:  {mod_lin.score(x_test, y_test):.3f}")











# Histogramas do  conjunto de dados (semfiltragem)
fig, ax = plt.subplots(3, 3, figsize=(15, 12)) 
fig.suptitle('Fig 6 : Distribuição dos valores numéricos', fontsize=18)


c1,x1,p1,bins1=hist_p(df,'Valor_Aluguel',1000)
c2,x2,p2,bins2=hist_p(df,'Valor_Condominio',500)
c3,x3,p3,bins3=hist_p(df,'Metragem',100)

c4,x4,p4,bins4=hist_p(df,'N_Quartos',1)
c5,x5,p5,bins5=hist_p(df,'N_Banheiros',1)
c6,x6,p6,bins6=hist_p(df,'N_Suites',1)
c7,x7,p7,bins7=hist_p(df,'N_Vagas',1)

mult_bar(0,0,c1,x1,p1,bins1,'Valor_Aluguel')
mult_bar(0,1,c2,x2,p2,bins2,'Valor_Condominio')
mult_bar(0,2,c3,x3,p3,bins3,'Metragem')
mult_bar(1,0,c4,x4,p4,bins4,'N_Quartos')
mult_bar(1,1,c5,x5,p5,bins5,'N_Banheiros')
mult_bar(1,2,c6,x6,p6,bins6,'N_Suites')
mult_bar(2,1,c7,x7,p7,bins7,'N_Vagas')

ax[2][0].set_visible(False)
ax[2][2].set_visible(False)
plt.tight_layout()
plt.show()


#Análise Bivariada
fig, ax = plt.subplots(3, 1, figsize=(12, 15))
fig.suptitle('Fig 7 : análise Bivariada', fontsize=14,y=1);
sns.set_style("whitegrid") 

df['Metragem_inter'] = pd.cut(df['Metragem'], bins=bins3, right=False)
# plot 1: Metragem x média Aluguel

df_grp1 = df.groupby('Metragem_inter')['Valor_Aluguel'].agg(['mean', 'std']).reset_index()
df_grp1.columns = ['Metragem_inter', 'Mean', 'Std']  # Renomear colunas

sns.barplot(x='Metragem_inter', y='Mean', data=df_grp1, yerr=df_grp1['Std'],
              color='dodgerblue',edgecolor='black',ax=ax[0])
ax[0].set_title('Metragem x média Aluguel')
ax[0].set_xlabel('Metragem', fontsize=14)
ax[0].set_ylabel('valor médio [%]', fontsize=14)

# plot 2: Metragem x condominio
df_grp2 = df.groupby('Metragem_inter')['Valor_Condominio'].agg(['mean', 'std']).reset_index()
df_grp2.columns = ['Metragem_inter', 'Mean', 'Std']  # Renomear colunas

sns.barplot(x='Metragem_inter', y='Mean', data=df_grp2, yerr=df_grp2['Std'],
              color='dodgerblue',edgecolor='black',ax=ax[1])
ax[1].set_title('Metragem x média Condominio')
ax[1].set_xlabel('Metragem', fontsize=14)
ax[1].set_ylabel('valor médio [%]', fontsize=14)


# plot 3: Metragem x Numero de Vagas
df['Metragem_inter'] = pd.cut(df['Metragem'], bins=bins3, right=False)

df_grp3 = df.groupby('Metragem_inter')['N_Vagas'].agg(['mean', 'std']).reset_index()
df_grp3.columns = ['Metragem_inter', 'Mean', 'Std']  # Renomear colunas



sns.barplot(x='Metragem_inter', y='Mean', data=df_grp3, yerr=df_grp3['Std'],
             color='dodgerblue',edgecolor='black',ax=ax[2])
ax[2].set_title('Metragem x N_Vagas')
ax[2].set_xlabel('Metragem', fontsize=14)
ax[2].set_ylabel('N_Vagas', fontsize=14)

plt.tight_layout() 


#Matriz de correlação
df_corr = df.select_dtypes(include=['number']).corr()
plt.figure(figsize=(15, 8))
sns.heatmap(df_corr,
           annot=True,
           cmap='coolwarm',
           fmt='.2f',
           annot_kws={'size': 10})
plt.title('Figura 8: Matriz Correlação 1')
plt.show()


#base de treino, teste, modelagem
x = df.drop(['Valor_Aluguel'], axis=1) #todas menos o target
y = df['Valor_Aluguel'] # previsão Valor Aluguel
print(f"Tamanho de x: {x.shape}")

x_train, x_test, y_train, y_test = train_test_split(x, y, test_size=0.25, random_state=42)
# Separar a variável independente da variável dependente
x = x_train[['Metragem']].values.reshape(-1, 1)
y = y_train.values

#Modelo de regressão
mod_lin = LR()
mod_lin.fit(x,y)
media = np.mean(y)
desvio_padrao = np.std(y)
coef_variacao = (desvio_padrao / media) * 100
#Grafico de dispersão
plt.scatter(x, y, color='blue', label='Dados Originais')
plt.plot(x, mod_lin.predict(x), color='red', label='Linha de Regressão')
plt.title('Fig9: Dispersão e regressão linear')
plt.legend()
plt.show()


# Variaveis de teste
x_test = x_test[['Metragem']].values.reshape(-1, 1)
y_test = y_test
previsoes = mod_lin.predict(x_test)


print("== Resumo processos sem filtragem Outliers ==")

# bases de dados
print("\n= Informações sobre as Bases de Dados ==")
print(f"Base de Treino (features): {x_train.shape}")
print(f"Base de Teste  (features): {x_test.shape}")
print(f"Base de Treino (target):   {y_train.shape}")
print(f"Base de Teste  (target):   {y_test.shape}")

# Métricas de dispersão
print("\n== Métricas de Dispersão ==")
print(f"Desvio Padrão:            {desvio_padrao:.3f}")
print(f"Coeficiente de Variação:  {coef_variacao:.3f} %")

# Equação da reta
print("\n== Equação da Reta ==")
print(f"Y = aX + b")
print(f"a (coeficiente angular) = {mod_lin.coef_[0]:.3f}")
print(f"b (intercepto)          = {mod_lin.intercept_:.3f}")
print(f"Equação: Y = {mod_lin.coef_[0]:.3f}X + {mod_lin.intercept_:.3f}")

# Métricas de desempenho
print("\n== Métricas de Desempenho ==")
print(f"Coeficiente de Determinação (R²) nos Dados de Treino: {mod_lin.score(x, y):.3f}")
print(f"Coeficiente de Determinação (R²) nos Dados de Teste:  {mod_lin.score(x_test, y_test):.3f}")


#Base de treino e teste
x2 = df.drop(['Valor_Aluguel'], axis=1) #todas menos o target
y2 = df['Valor_Aluguel'] # previsão Valor Aluguel

x2_train, x2_test, y2_train, y2_test = train_test_split(x2, y2, test_size=0.25, random_state=42)

#Regressão linear multipla aplicado só a base de treino
x2 = x2_train[['Valor_Condominio','Metragem',	'N_Quartos','N_Banheiros','N_Suites','N_Vagas']]
y2 = y2_train

#Modelo de regressão
mod_lin = LR()
mod_lin.fit(x2,y2)
# Teste do Modelo
x2_test = x2_test[['Valor_Condominio','Metragem',	'N_Quartos','N_Banheiros','N_Suites','N_Vagas']]
y2_test = y2_test
previsoes = mod_lin.predict(x2_test)

print("== Resumo processos sem filtragem Outliers (multipla) ==")
# bases de dados
print("\n= Informações sobre as Bases de Dados ==")
print(f"Base de Treino (features): {x2_train.shape}")
print(f"Base de Teste  (features): {x2_test.shape}")
print(f"Base de Treino (target):   {y2_train.shape}")
print(f"Base de Teste  (target):   {y2_test.shape}")

# Métricas de dispersão
print("\n== Métricas de Dispersão ==")
print(f"Desvio Padrão:            {desvio_padrao:.3f}")
print(f"Coeficiente de Variação:  {coef_variacao:.3f} %")

# Equação da reta
print("\n== Equação da Reta ==")
print(f"Y = aX + b")
print(f"a (coeficiente angular) = {mod_lin.coef_[0]:.3f}")
print(f"b (intercepto)          = {mod_lin.intercept_:.3f}")
print(f"Equação: Y = {mod_lin.coef_[0]:.3f}X + {mod_lin.intercept_:.3f}")

# Métricas de desempenho
print("\n== Métricas de Desempenho ==")
print(f"Coeficiente de Determinação (R²) nos Dados de Treino: {mod_lin.score(x2, y2):.3f}")
print(f"Coeficiente de Determinação (R²) nos Dados de Teste:  {mod_lin.score(x2_test, y2_test):.3f}")





df3=df[df['Metragem']<500]
#df3=df3[df3['Valor_Condominio']<7000]
df3=df3[df3['N_Vagas']<7]
df3=df3[df3['N_Banheiros']<7]
print(f'Redução: {(len(df3) / len(df) - 1) * 100:.2f}%')



# Histogramas do  conjunto de dados (semfiltragem)
fig, ax = plt.subplots(3, 3, figsize=(15, 12)) 
fig.suptitle('Fig 10 : Distribuição dos valores numéricos', fontsize=18)

c1,x1,p1,bins1=hist_p(df3,'Valor_Aluguel',1000)
c2,x2,p2,bins2=hist_p(df3,'Valor_Condominio',500)
c3,x3,p3,bins3=hist_p(df3,'Metragem',50)

c4,x4,p4,bins4=hist_p(df3,'N_Quartos',1)
c5,x5,p5,bins5=hist_p(df3,'N_Banheiros',1)
c6,x6,p6,bins6=hist_p(df3,'N_Suites',1)
c7,x7,p7,bins7=hist_p(df3,'N_Vagas',1)

mult_bar(0,0,c1,x1,p1,bins1,'Valor_Aluguel')
mult_bar(0,1,c2,x2,p2,bins2,'Valor_Condominio')
mult_bar(0,2,c3,x3,p3,bins3,'Metragem')
mult_bar(1,0,c4,x4,p4,bins4,'N_Quartos')
mult_bar(1,1,c5,x5,p5,bins5,'N_Banheiros')
mult_bar(1,2,c6,x6,p6,bins6,'N_Suites')
mult_bar(2,1,c7,x7,p7,bins7,'N_Vagas')

ax[2][0].set_visible(False)
ax[2][2].set_visible(False)
plt.tight_layout()
plt.show()


#Análise Bivariada
fig, ax = plt.subplots(3, 1, figsize=(12, 15))
fig.suptitle('Fig 11 : análise Bivariada', fontsize=14,y=1);
sns.set_style("whitegrid") 

df3['Metragem_inter'] = pd.cut(df3['Metragem'], bins=bins3, right=False)
# plot 1: Metragem x média Aluguel

df_grp1 = df3.groupby('Metragem_inter')['Valor_Aluguel'].agg(['mean', 'std']).reset_index()
df_grp1.columns = ['Metragem_inter', 'Mean', 'Std']  # Renomear colunas

sns.barplot(x='Metragem_inter', y='Mean', data=df_grp1, yerr=df_grp1['Std'],
              color='dodgerblue',edgecolor='black',ax=ax[0])
ax[0].set_title('Metragem x média Aluguel')
ax[0].set_xlabel('Metragem', fontsize=14)
ax[0].set_ylabel('valor médio [%]', fontsize=14)

# plot 2: Metragem x condominio
df_grp2 = df3.groupby('Metragem_inter')['Valor_Condominio'].agg(['mean', 'std']).reset_index()
df_grp2.columns = ['Metragem_inter', 'Mean', 'Std']  # Renomear colunas

sns.barplot(x='Metragem_inter', y='Mean', data=df_grp2, yerr=df_grp2['Std'],
              color='dodgerblue',edgecolor='black',ax=ax[1])
ax[1].set_title('Metragem x média Condominio')
ax[1].set_xlabel('Metragem', fontsize=14)
ax[1].set_ylabel('valor médio [%]', fontsize=14)


# plot 3: Metragem x Numero de Vagas
df3['Metragem_inter'] = pd.cut(df3['Metragem'], bins=bins3, right=False)

df_grp3 = df3.groupby('Metragem_inter')['N_Vagas'].agg(['mean', 'std']).reset_index()
df_grp3.columns = ['Metragem_inter', 'Mean', 'Std']  # Renomear colunas



sns.barplot(x='Metragem_inter', y='Mean', data=df_grp3, yerr=df_grp3['Std'],
             color='dodgerblue',edgecolor='black',ax=ax[2])
ax[2].set_title('Metragem x N_Vagas')
ax[2].set_xlabel('Metragem', fontsize=14)
ax[2].set_ylabel('N_Vagas', fontsize=14)

plt.tight_layout() 


#Matriz de correlação
df_corr = df3.select_dtypes(include=['number']).corr()
plt.figure(figsize=(15, 8))
sns.heatmap(df_corr,
           annot=True,
           cmap='coolwarm',
           fmt='.2f',
           annot_kws={'size': 10})
plt.title('Figura 12: Matriz Correlação 1')
plt.show()


#base de treino, teste, modelagem
x = df3.drop(['Valor_Aluguel'], axis=1) #todas menos o target
y = df3['Valor_Aluguel'] # previsão Valor Aluguel
print(f"Tamanho de x: {x.shape}")

x_train, x_test, y_train, y_test = train_test_split(x, y, test_size=0.25, random_state=42)
# Separar a variável independente da variável dependente
x = x_train[['Metragem']].values.reshape(-1, 1)
y = y_train.values

#Modelo de regressão
mod_lin = LR()
mod_lin.fit(x,y)
media = np.mean(y)
desvio_padrao = np.std(y)
coef_variacao = (desvio_padrao / media) * 100
#Grafico de dispersão
plt.scatter(x, y, color='blue', label='Dados Originais')
plt.plot(x, mod_lin.predict(x), color='red', label='Linha de Regressão')
plt.title('Fig13: Dispersão e regressão linear')
plt.legend()
plt.show()

# Variaveis de teste
x_test = x_test[['Metragem']].values.reshape(-1, 1)
y_test = y_test
previsoes = mod_lin.predict(x_test)



print("== Resumo processos filtram pontual ==")

# bases de dados
print("\n= Informações sobre as Bases de Dados ==")
print(f"Base de Treino (features): {x_train.shape}")
print(f"Base de Teste  (features): {x_test.shape}")
print(f"Base de Treino (target):   {y_train.shape}")
print(f"Base de Teste  (target):   {y_test.shape}")

# Métricas de dispersão
print("\n== Métricas de Dispersão ==")
print(f"Desvio Padrão:            {desvio_padrao:.3f}")
print(f"Coeficiente de Variação:  {coef_variacao:.3f} %")

# Equação da reta
print("\n== Equação da Reta ==")
print(f"Y = aX + b")
print(f"a (coeficiente angular) = {mod_lin.coef_[0]:.3f}")
print(f"b (intercepto)          = {mod_lin.intercept_:.3f}")
print(f"Equação: Y = {mod_lin.coef_[0]:.3f}X + {mod_lin.intercept_:.3f}")

# Métricas de desempenho
print("\n== Métricas de Desempenho ==")
print(f"Coeficiente de Determinação (R²) nos Dados de Treino: {mod_lin.score(x, y):.3f}")
print(f"Coeficiente de Determinação (R²) nos Dados de Teste:  {mod_lin.score(x_test, y_test):.3f}")


#Base de treino e teste
x2 = df3.drop(['Valor_Aluguel'], axis=1) #todas menos o target
y2 = df3['Valor_Aluguel'] # previsão Valor Aluguel

x2_train, x2_test, y2_train, y2_test = train_test_split(x2, y2, test_size=0.25, random_state=42)

#Regressão linear multipla aplicado só a base de treino
x2 = x2_train[['Valor_Condominio','Metragem',	'N_Quartos','N_Banheiros','N_Suites','N_Vagas']]
y2 = y2_train

#Modelo de regressão
mod_lin = LR()
mod_lin.fit(x2,y2)
# Teste do Modelo
x2_test = x2_test[['Valor_Condominio','Metragem',	'N_Quartos','N_Banheiros','N_Suites','N_Vagas']]
y2_test = y2_test
previsoes = mod_lin.predict(x2_test)

print("== Resumo processos sem filtragem Outliers (multipla) ==")
# bases de dados
print("\n= Informações sobre as Bases de Dados ==")
print(f"Base de Treino (features): {x2_train.shape}")
print(f"Base de Teste  (features): {x2_test.shape}")
print(f"Base de Treino (target):   {y2_train.shape}")
print(f"Base de Teste  (target):   {y2_test.shape}")

# Métricas de dispersão
print("\n== Métricas de Dispersão ==")
print(f"Desvio Padrão:            {desvio_padrao:.3f}")
print(f"Coeficiente de Variação:  {coef_variacao:.3f} %")

# Equação da reta
print("\n== Equação da Reta ==")
print(f"Y = aX + b")
print(f"a (coeficiente angular) = {mod_lin.coef_[0]:.3f}")
print(f"b (intercepto)          = {mod_lin.intercept_:.3f}")
print(f"Equação: Y = {mod_lin.coef_[0]:.3f}X + {mod_lin.intercept_:.3f}")

# Métricas de desempenho
print("\n== Métricas de Desempenho ==")
print(f"Coeficiente de Determinação (R²) nos Dados de Treino: {mod_lin.score(x2, y2):.3f}")
print(f"Coeficiente de Determinação (R²) nos Dados de Teste:  {mod_lin.score(x2_test, y2_test):.3f}")






