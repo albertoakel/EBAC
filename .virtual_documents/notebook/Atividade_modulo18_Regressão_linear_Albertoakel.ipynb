





import seaborn as sns
import numpy as np
import matplotlib.pyplot as plt
import pandas as pd
import plotly.express as px
import plotly.subplots as sp
import plotly.graph_objects as go
from sklearn.model_selection import train_test_split
from sklearn.linear_model import LinearRegression
import warnings
#alertas
warnings.simplefilter(action='ignore', category=FutureWarning)


df = pd.read_csv("ALUGUEL_MOD12.csv", delimiter=';')
df = df.rename(columns={"N_banheiros": "N_Banheiros"})

df.head(12)








df.info()
df.drop_duplicates(inplace=True) 
df.info()
df.describe()





def filt_outlier(df, cat_name):
    N_outliers=10
    N=len(df)
    i=0
    while (N_outliers) > 0:
        N=len(df)
        i += 1  # Incrementa o contador de iterações
        print('Iteração:', i)

        # IQR
        li = 0.25
        Q1 = df[cat_name].quantile(li)
        Q3 = df[cat_name].quantile(1 - li)

        IQR = Q3 - Q1
        C = 1.5

        #limites inferior e superior
        limite_inferior = Q1 - C * IQR
        limite_superior = Q3 + C * IQR

        # Filtrar o DataFrame para remover outliers
        df = df[(df[cat_name] >= limite_inferior) & (df[cat_name] <= limite_superior)]
        N_outliers=N-len(df)
        print('N_outliers:',N_outliers)
    # Retornar o DataFrame sem outliers
    return df


def limitesIRQ(col):
    
    Q1 = col.quantile(0.25)
    Q3 = col.quantile(0.75)
    IQR = Q3 - Q1
    lim_i = Q1 - 1.5 * IQR
    lim_s = Q3 + 1.5 * IQR
    return lim_i, lim_s

def filt_outlier2(df,col_names):
    N_outliers=100
    c=0
    while (N_outliers) > 0:
        c+=1
        N=len(df) #dimensao inicial
        lim = {
        col_names[0]: limitesIRQ(df[col_names[0]]),
        col_names[1]: limitesIRQ(df[col_names[1]]),
        col_names[2]: limitesIRQ(df[col_names[2]])}

        df = df[
            (df[col_names[0]] >= lim[col_names[0]][0]) & (df[col_names[0]] <= lim[col_names[0]][1])&
            (df[col_names[1]] >= lim[col_names[1]][0]) & (df[col_names[1]] <= lim[col_names[1]][1])&
            (df[col_names[2]] >= lim[col_names[2]][0]) & (df[col_names[2]] <= lim[col_names[2]][1])
        ].reset_index(drop=True)
        
        N_outliers=N-len(df)
        print('iteração:',c,'N_outliers:',N_outliers)
    return df


colunas = ['Valor_Aluguel', 'Valor_Condominio', 'Metragem']
print('Dimensão inicial:',len(df))
df2=filt_outlier2(df, colunas)
print('Dimensão final:',len(df2))
print(f'Redução: {(len(df2) / len(df) - 1) * 100:.2f}%')


# Figura1 : BoxPlot dados sem outliers
fig = sp.make_subplots(rows=2, cols=3, 
                       subplot_titles=('Valor Aluguel', 'Valor Condominio', 'Metragem',
                                      'Aluguel filt.','Condominio filt.','Metragem filt.'),
                       vertical_spacing=0.1)

# Adicionar boxplot para 'Valor_Aluguel'
fig.add_trace(px.box(df, y='Valor_Aluguel').data[0], row=1, col=1)

fig.add_trace(px.box(df, y='Valor_Condominio').data[0], row=1, col=2)

fig.add_trace(px.box(df, y='Metragem').data[0], row=1, col=3)


fig.add_trace(px.box(df2, y='Valor_Aluguel').data[0], row=2, col=1)

fig.add_trace(px.box(df2, y='Valor_Condominio').data[0], row=2, col=2)

fig.add_trace(px.box(df2, y='Metragem').data[0], row=2, col=3)


fig.update_layout(
    title_text="Figura 1: Outliers Filtrados",  # Título geral
    showlegend=False,  # Ocultar legenda
    height=600,  # Altura da figura
    width=1000   # Largura da figura
)


fig.show()



# Histogramas do  conjunto de dados ( após filtragem)
fig, ax = plt.subplots(3, 3, figsize=(15, 12)) 
fig.suptitle('Figura 2: Distribuição dos valores numéricos', fontsize=18)

N=len(df2)

def hist_p(df,name_cat,dx):
    temp=df[name_cat]
    bins=np.arange(min(temp),max(temp)+dx+1,dx)
    c, x= np.histogram(temp, bins) 
    p=c/N*100
    return c,x,p,bins

def mult_bar(p1,p2,c,x,p,bins,name_cat):
    dx=bins[1]-bins[0]
    ax[p1,p2].bar(x[0:-1], p, width=np.diff(bins), align='center',color='dodgerblue', edgecolor='black')  
    ax[p1,p2].set_title(name_cat)
    ax[p1,p2].set_xlabel(name_cat)
    ax[p1,p2].set_ylabel('Percentual (%)')
    ax[p1,p2].set_xticks(bins[0:-1])
    if len(bins) > 10 :
        ax[p1,p2].set_xticklabels(bins[0:-1], rotation=45)
        
    for i in range(len(c)):
        fs = max(6, 10 - len(c) // 5)
        ax[p1,p2].text(x[i], p[i] , f'{p[i]:.2f}%', ha='center', va='bottom', fontsize=fs)
    
    
c1,x1,p1,bins1=hist_p(df2,'Valor_Aluguel',160)
c2,x2,p2,bins2=hist_p(df2,'Valor_Condominio',100)
c3,x3,p3,bins3=hist_p(df2,'Metragem',10)

c4,x4,p4,bins4=hist_p(df2,'N_Quartos',1)
c5,x5,p5,bins5=hist_p(df2,'N_Banheiros',1)
c6,x6,p6,bins6=hist_p(df2,'N_Suites',1)
c7,x7,p7,bins7=hist_p(df2,'N_Vagas',1)

mult_bar(0,0,c1,x1,p1,bins1,'Valor_Aluguel')
mult_bar(0,1,c2,x2,p2,bins2,'Valor_Condominio')
mult_bar(0,2,c3,x3,p3,bins3,'Metragem')
mult_bar(1,0,c4,x4,p4,bins4,'N_Quartos')
mult_bar(1,1,c5,x5,p5,bins5,'N_Banheiros')
mult_bar(1,2,c6,x6,p6,bins6,'N_Suites')
mult_bar(2,1,c7,x7,p7,bins7,'N_Vagas')

ax[2][0].set_visible(False)
ax[2][2].set_visible(False)
plt.tight_layout()
plt.show()


df3=df2
df3


#análise Bivariada
fig, ax = plt.subplots(3, 1, figsize=(12, 15))
fig.suptitle('Figura 3: análise Bivariada', fontsize=14,y=1);
sns.set_style("whitegrid") 

bins3=np.arange(30,105,5)
df3['Metragem_inter'] = pd.cut(df3['Metragem'], bins=bins3, right=False)
# plot 1: Metragem x média Aluguel

df_grp1 = df3.groupby('Metragem_inter')['Valor_Aluguel'].agg(['mean', 'std']).reset_index()
df_grp1.columns = ['Metragem_inter', 'Mean', 'Std']  # Renomear colunas

sns.barplot(x='Metragem_inter', y='Mean', data=df_grp1, yerr=df_grp1['Std'],
              color='dodgerblue',edgecolor='black',ax=ax[0])
ax[0].set_title('Metragem x média Aluguel')
ax[0].set_xlabel('Metragem', fontsize=14)
ax[0].set_ylabel('valor médio [%]', fontsize=14)

# plot 2: Metragem x condominio
df_grp2 = df3.groupby('Metragem_inter')['Valor_Condominio'].agg(['mean', 'std']).reset_index()
df_grp2.columns = ['Metragem_inter', 'Mean', 'Std']  # Renomear colunas

sns.barplot(x='Metragem_inter', y='Mean', data=df_grp2, yerr=df_grp2['Std'],
              color='dodgerblue',edgecolor='black',ax=ax[1])
ax[1].set_title('Metragem x média Condominio')
ax[1].set_xlabel('Metragem', fontsize=14)
ax[1].set_ylabel('valor médio [%]', fontsize=14)


# plot 3: Metragem x Numero de Vagas
df3['Metragem_inter'] = pd.cut(df3['Metragem'], bins=bins3, right=False)

df_grp3 = df3.groupby('Metragem_inter')['N_Vagas'].agg(['mean', 'std']).reset_index()
df_grp3.columns = ['Metragem_inter', 'Mean', 'Std']  # Renomear colunas



sns.barplot(x='Metragem_inter', y='Mean', data=df_grp3, yerr=df_grp3['Std'],
             color='dodgerblue',edgecolor='black',ax=ax[2])
ax[2].set_title('Metragem x N_Vagas')
ax[2].set_xlabel('Metragem', fontsize=14)
ax[2].set_ylabel('N_Vagas', fontsize=14)

plt.tight_layout() 





#Matriz de correlação
df_corr = df3.select_dtypes(include=['number']).corr()

df_corr2 = df.select_dtypes(include=['number']).corr()

plt.figure(figsize=(15, 8))
sns.heatmap(df_corr,
           annot=True,
           cmap='coolwarm',
           fmt='.2f',
           annot_kws={'size': 10})
plt.title('Figura 4: Matriz Correlação 1')
plt.show()

corr_dif=np.abs(df_corr-df_corr2)


df_corr0 = df.select_dtypes(include=['number']).corr()

plt.figure(figsize=(15, 8))
sns.heatmap(corr_dif,
           annot=True,
           cmap='coolwarm',
           fmt='.2f',
           annot_kws={'size': 10})
plt.title('Figura 7: Matriz Correlação 1')
plt.show()


#X = df.drop('Valor_Aluguel', axis=1) #Separando X - Todas variáveis exceto valor_aluguel
#y = df['Valor_Aluguel'] #Separando Y (Apenas variavel valor_aluguel)





# Seu código aqui





#X = X_train[['Metragem']]  # Variável independente (características)
#y = y_train  # Variável dependente (rótulo)
# se você deu um nome diferente para x train e y train, altere no código.


#Crie seu modelo aqui, usando LinearRegression e as bases de treino.





#Seu código Aqui








#Seu código aqui





# Seu código aqui





#X_test = X_test[['Metragem']]  # Variável independente (características)
#y_test = y_test  # Variável dependente (rótulo)


# Usando o modelo treinado para fazer previsões sobre os dados de teste
#previsoes = SEUMODELO.predict(X_test)

# Avaliando o desempenho do modelo usando métricas como o R²
#r2 = SEUMODELO.score(X_test, y_test)

#print("Coeficiente de Determinação (R²) nos Dados de Teste:", r2)


















#seu código aqui





#seu código aqui





#seu código aqui





#seu código aqui












