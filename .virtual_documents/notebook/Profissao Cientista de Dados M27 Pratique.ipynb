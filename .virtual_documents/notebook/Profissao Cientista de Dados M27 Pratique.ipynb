











import pandas as pd
import matplotlib.pyplot as plt
import seaborn as sns
from sklearn.model_selection import train_test_split
from sklearn.metrics import accuracy_score, classification_report
from imblearn.over_sampling import SMOTE
from sklearn.preprocessing import StandardScaler
from sklearn.linear_model import LogisticRegression
from sklearn.metrics import roc_curve, roc_auc_score, classification_report





base = pd.read_csv("CARDIO_BASE.csv", delimiter=';')


# seu código aqui





# seu código aqui





# seu código aqui





# seu código aqui





# seu código aqui





# seu código aqui





# seu código aqui
