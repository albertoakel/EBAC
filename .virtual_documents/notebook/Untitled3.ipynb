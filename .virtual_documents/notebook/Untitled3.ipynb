import numpy as np
import matplotlib.pyplot as plt

def altura_reflexao_baixa_ionosfera(chi, phi, lambda_, camada='E'):
    """
    Calcula a altura de reflexão para a baixa ionosfera (camadas D ou E).
    
    Parâmetros:
        chi : ângulo zenital (graus)
        phi : latitude (graus)
        lambda_ : longitude (graus)
        camada : 'D' ou 'E' (padrão: 'E')
    
    Retorna:
        h_prime : altura de reflexão (km)
    """
    chi_rad = np.radians(chi)
    phi_rad = np.radians(phi)
    lambda_rad = np.radians(lambda_)
    
    # Altura base por camada
    if camada.upper() == 'D':
        h0 = 75  # km (média da camada D)
        k1, k2, k3 = 15, 5, 2
    else:  # Camada E
        h0 = 105  # km (média da camada E)
        k1, k2, k3 = 25, 10, 5
    
    # Componentes
    if chi < 85:
        delta_h_chi = k1 * (1/np.cos(chi_rad) - 1)
    else:
        delta_h_chi = np.nan
        
    # Valor inválido para ângulos muito rasantes 
    delta_h_phi = k2 * np.sin(phi_rad)**2
    delta_h_lambda = k3 * np.cos(lambda_rad - np.radians(0))  # Simplificação: lambda_0 = 0°
    
    h_prime = h0 + delta_h_chi + delta_h_phi + delta_h_lambda
    return h_prime

# Exemplo de uso
chi = 45  # Ângulo zenital (graus)
phi = -23.5  # Latitude (São Paulo)
lambda_ = -46.6  # Longitude (São Paulo)
h_D = altura_reflexao_baixa_ionosfera(chi, phi, lambda_, 'D')
h_E = altura_reflexao_baixa_ionosfera(chi, phi, lambda_, 'E')

print(f"Altura de reflexão (Camada D): {h_D:.1f} km")


chi_range = np.linspace(0, 80, 100)
h_D_range = [altura_reflexao_baixa_ionosfera(chi, phi, lambda_, 'D') for chi in chi_range]
h_E_range = [altura_reflexao_baixa_ionosfera(chi, phi, lambda_, 'E') for chi in chi_range]

plt.figure(figsize=(10, 5))
plt.plot(chi_range, h_D_range, label='Camada D', color='blue')
plt.plot(chi_range, h_E_range, label='Camada E', color='red')
plt.xlabel('Ângulo Zenital (graus)')
plt.ylabel('Altura de Reflexão (km)')
plt.title('Variação da Altura de Reflexão na Baixa Ionosfera')
plt.legend()
plt.grid(True)
plt.show()


import numpy as np
import matplotlib.pyplot as plt
from mpl_toolkits.basemap import Basemap
import datetime

# Função para calcular altura de reflexão (camada E)
def altura_reflexao(chi, phi, lambda_):
    chi_rad = np.radians(chi)
    phi_rad = np.radians(phi)
    
    h0 = 105  # km (camada E)
    k1, k2, k3 = 25, 10, 5
    
    if chi < 85:
        delta_h_chi = k1 * (1/np.cos(chi_rad) - 1)
    else:
        delta_h_chi = np.nan
    
    delta_h_phi = k2 * np.sin(phi_rad)**2
    delta_h_lambda = k3 * np.cos(np.radians(lambda_))  # Simplificado
    
    return h0 + delta_h_chi + delta_h_phi + delta_h_lambda

# Função para calcular ângulo zenital (simplificado)
def calcular_zenital(lat, lon, hora_utc):
    # Hora solar local aproximada (UTC + longitude/15)
    hora_local = hora_utc + lon/15
    # Ângulo solar (simplificação)
    angulo_solar = 15 * (hora_local - 12)  # Graus
    return np.abs(angulo_solar - lat)  # Aproximação do ângulo zenital

# Coordenadas dos pontos extremos
hawaii = (20.7, -157.1)  # (lat, lon)
sao_paulo = (-23.5, -46.6)

# Criar pontos intermediários ao longo de um grande círculo
n_points = 50
lats = np.linspace(hawaii[0], sao_paulo[0], n_points)
lons = np.linspace(hawaii[1], sao_paulo[1], n_points)

# Hora UTC (17h)
hora_utc = 17

# Calcular ângulos zenitais e alturas
zenitals = [calcular_zenital(lat, lon, hora_utc) for lat, lon in zip(lats, lons)]
alturas = [altura_reflexao(chi, lat, lon) for chi, lat, lon in zip(zenitals, lats, lons)]

# Plotagem
plt.figure(figsize=(15, 6))

# Mapa de fundo
plt.subplot(121)
m = Basemap(projection='merc', llcrnrlat=-40, urcrnrlat=30,
            llcrnrlon=-170, urcrnrlon=-30, resolution='c')
m.drawcoastlines()
m.drawcountries()
m.drawparallels(np.arange(-40, 41, 20), labels=[1,0,0,0])
m.drawmeridians(np.arange(-180, 181, 30), labels=[0,0,0,1])

x, y = m(lons, lats)
m.plot(x, y, 'r-', linewidth=2)
m.scatter(x[0], y[0], c='b', label='Havaí')
m.scatter(x[-1], y[-1], c='g', label='São Paulo')
plt.title('Trajetória Havaí-SP (17h UTC)')
plt.legend()

# Gráfico das alturas
plt.subplot(122)
plt.plot(range(n_points), alturas, 'b-o')
plt.xticks([0, n_points//2, n_points-1], ['Havaí', 'Meio Caminho', 'São Paulo'])
plt.ylabel('Altura de Reflexão (km)')
plt.title('Altura da Camada E ao longo da trajetória')
plt.grid(True)

plt.tight_layout()
plt.show()

# DataFrame com os dados (opcional)
import pandas as pd
df = pd.DataFrame({
    'Latitude': lats,
    'Longitude': lons,
    'Ângulo Zenital': zenitals,
    'Altura Reflexão (km)': alturas
})
print(df.head())



