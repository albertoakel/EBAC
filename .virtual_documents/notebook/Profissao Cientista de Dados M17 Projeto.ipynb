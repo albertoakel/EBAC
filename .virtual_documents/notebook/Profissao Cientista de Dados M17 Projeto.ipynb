











import seaborn as sns
import matplotlib.pyplot as plt
import pandas as pd
import plotly.express as px


#Lembrem-se sempre de alterar a importação dos dados de acordo com o diretório de vocês.
df = pd.read_csv("CREDIT_SCORE_PROJETO_PARTE1.csv", delimiter=';')

df.head(10)








#A) seu código aqui





#seu código aqui





#seu código aqui





#seu código aqui





#seu código aqui





#seu código aqui





#seu código aqui





# seu código aqui





#seu código aqui





# sua justificativa aqui





#seu código aqui





#seu código aqui





#seu código aqui





#seu código aqui





#seu código aqui
