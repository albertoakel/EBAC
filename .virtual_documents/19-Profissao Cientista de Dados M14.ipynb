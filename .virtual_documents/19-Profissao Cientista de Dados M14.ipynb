











import seaborn as sns
import matplotlib.pyplot as plt
import pandas as pd


# Criando um DataFrame com algumas idades para exemplo
dados = {
    'Idade': [25, 30, 35, 400, 45, 50, 554, 60, 60, 24, 233, 70, 26]
}

df = pd.DataFrame(dados)
print(df)





df['Idade'].mean()











dados = {
    'Idade': [25, 30, 35, 400, 45, 50, 554, 60, 60, 24, 233, 70, 26],
    'Cidade': ['São Paulo', 'Salvador', 'Curitiba', 'Sao Paulo', 'Salvador', 'Curitiba', 'Sao Paulo', 'Salvador', 'salvador', 'Curtiba','São Paulo','São Paulo','salvador']
}

df = pd.DataFrame(dados)
print(df)





df.groupby('Cidade')['Idade'].mean().reset_index()














dados = {
    'Idade': [25, 30, 35, 400, 45, 50, 554, 60, 60, 24, 233, 70, 26],
    'Cidade': ['São Paulo', 'Salvador', 'Curitiba', 'Sao Paulo', 'Salvador', 'Curitiba', 'Sao Paulo', 'Salvador', 'salvador', 'Curtiba','São Paulo','São Paulo','salvador'],
    'Salario': ['1200,0', '0', '4000,0', '0', '5000,0', '1500,0', '0', '0', '0', '3000,0','2500,0','3000,0','0']
}

df = pd.DataFrame(dados)
print(df)














df['Salario'].mean()




















df = pd.read_csv("CHURN_CREDIT_MOD14.csv", delimiter=';')

df.head(10)











# Com esse comando conseguimos verificar qual o tipo de dado de cada coluna.
df.dtypes


df.info()





# Nossas variáveis que não condizem com seu tipo correto de dados é a salario_anual e churn, precisamos definir ambas como
# variaveis numéricas


# Para converter a coluna salário anual para float, primeiro identificamos a coluna do nosso df a ser modificada e em seguida
# aplicamos o astype e dentro do parêntese o tipo de dado que queremos
df['Salario_Anual'] = df['Salario_Anual'].astype(float)





# Removendo os pontos da coluna Salario_Anual
df['Salario_Anual'] = df['Salario_Anual'].str.replace('.', '', regex=False)
# Fazendo a conversão novamente dos dados
df['Salario_Anual'] = df['Salario_Anual'].astype(float)





df.dtypes





df['Churn'] = df['Churn'].astype(int)























#Este código retornará True se houver algum valor nulo em qualquer lugar do DataFrame, e False caso contrário.
df.isnull().values.any()





df.isnull().sum()








(df.isnull().sum() / len(df)) * 100
# O que fazemos é trazer a soma dos nulos, usar o len que conta os registros e multiplicar por 100 para termos a %











df[df['Genero'].isnull()]


# Excluindo:
df.dropna(subset=['Genero'], inplace=True)
#inplace=True faz com que as alterações sejam feitas diretamente no DataFrame original


df['Genero'].isnull().sum()








# Excluindo:
df.dropna(subset=['Idade'], inplace=True)
#inplace=True faz com que as alterações sejam feitas diretamente no DataFrame original


df['Idade'].isnull().sum()




















#Para termos certeza teremos que analisar mais a fundo a distribuição dos dados.
df['Salario_Anual'].mean()





#Para termos certeza teremos que analisar mais a fundo a distribuição dos dados.
df['Salario_Anual'].median()





# é uma função da biblioteca Seaborn que define o estilo estético dos gráficos produzidos por Seaborn. Neste caso, 'whitegrid' é um dos estilos disponíveis em Seaborn
sns.set_style('whitegrid')

# Plota o boxplot da coluna de salário
plt.figure(figsize=(8, 6))
sns.boxplot(data=df, y='Salario_Anual', color='skyblue')
plt.title('Boxplot da Coluna de Salário')
plt.ylabel('Salario_Anual')
plt.show()


sns.set_style('darkgrid')

# Plotando um histograma dos salários para analisarmos a distribuição dos dados
plt.figure(figsize=(10, 6))
sns.histplot(data=df, x='Salario_Anual', bins=20, kde=True, color='skyblue')
plt.title('Histograma da Coluna de Salário')
plt.xlabel('Salario_Anual')
plt.ylabel('Contagem')
plt.show()








salarios_abaixo_2milhoes = df[df['Salario_Anual'] < 2000000]
salarios_abaixo_2milhoes['Salario_Anual'].median()


mediana_salario_abaixo_2milhoes = df[df['Salario_Anual'] < 2000000]['Salario_Anual'].median()
# Substitui os valores faltantes na coluna de salário pela mediana
df['Salario_Anual'].fillna(mediana_salario_abaixo_2milhoes, inplace=True)


df['Salario_Anual'].isnull().sum()


df['Salario_Anual'].median()




















plt.figure(figsize=(10, 6))
sns.histplot(data=df, x='Churn', bins=20, kde=True, color='skyblue')








df['Churn'].value_counts(normalize=True) * 100





df[df['Churn'].isnull()]


# Seleciona todas as linhas onde a coluna 'Churn' é nula
df_churn_nulo = df[df['Churn'].isnull()]

# Plotando a distribuição dos paises
plt.figure(figsize=(10, 6))
sns.countplot(data=df_churn_nulo, x='Pais')
plt.title('Distribuição da Coluna "Pais" para Churn Nulo')
plt.xlabel('Pais')
plt.ylabel('Contagem')
plt.xticks(rotation=45)
plt.show()


plt.figure(figsize=(10, 6))
sns.countplot(data=df, x='Pais')
plt.title('Distribuição da Coluna "Pais" para todo df')
plt.xlabel('Pais')
plt.ylabel('Contagem')
plt.xticks(rotation=45)
plt.show()








df.dropna(subset=['Churn'], inplace=True)


df['Churn'].isnull().sum()


df.isnull().sum()





df['Churn'] = df['Churn'].astype(int)








# Para isso usamos a função rename:
df.rename(columns={'Balance': 'Balanco'}, inplace=True)


df.head()





df['Pais'].unique()





# Para transformar todos os dados da coluna pais em caixa baixa:
df['Pais'] = df['Pais'].str.lower()
df['Pais'].unique()





df['Pais'] = df['Pais'].str.upper()
df['Pais'].unique()





# Para isso usaremos a função replace
df['Pais'] = df['Pais'].replace('GERMANI', 'GERMANY')


df['Pais'].unique()





df['Genero'].unique()








df.drop(columns=['Sobrenome'], inplace=True)


df.drop(columns=['CustomerId'], inplace=True)


df.to_csv('CHURN_CREDIT_MOD14_tratado.csv', index=False)



