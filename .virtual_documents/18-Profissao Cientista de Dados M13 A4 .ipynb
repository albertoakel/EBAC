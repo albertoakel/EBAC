








# Instalar o pacote 'readr' necessário para leitura de arquivos CSV
install.packages("readr")
# Instalar o pacote 'readxl' necessário para leitura de arquivos Excel
install.packages("readxl")


# Carregando os pacotes instalados
library(readr)
library(readxl)


# Ler o arquivo CSV com a função read.csv()
dados <- read.csv("ESPORTISTAS_MOD7.csv", sep = ";")

# Visualizar os dados, muito semelhante ao python
head(dados)











mean(dados$Ganhos_Totais)
# O operador $ é usado para acessar uma coluna específica em um dataframe. Aqui também usamos a função chamada mean





aggregate(Ganhos_Totais ~ Esporte, data = dados, FUN = mean)
# No python usamos o groupby, para o R iremos usar aggregate
#  ~ especifica que queremos agrupar os dados por esporte e calcular a média dos ganhos totais para cada grupo
# FUN = mean especifica que queremos calcular a média dos valores em cada grupo












median(dados$Ganhos_Totais)





aggregate(Ganhos_Totais ~ Esporte, data = dados, FUN = median)








calcular_moda <- function(x) {
# Calcular_moda() é uma função personalizada, assim como as que criamos no python
  unique_x <- unique(x)
  contagem <- tabulate(match(x, unique_x))
  moda <- unique_x[which.max(contagem)]
# unique() para obter os valores únicos do vetor,
# tabulate() para contar a frequência de cada valor
# which.max() para encontrar o índice do valor com a frequência máxima.
  return(moda)
}

# Calcular a moda da coluna "Gastos_Totais"
calcular_moda(dados$Ganhos_Totais)










aggregate(Ganhos_Totais ~ Esporte, data = dados, FUN = sd)
