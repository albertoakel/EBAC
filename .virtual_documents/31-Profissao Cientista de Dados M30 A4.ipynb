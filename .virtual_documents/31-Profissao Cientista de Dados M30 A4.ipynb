








#!pip install plotly --upgrade


import plotly.express as px
import plotly.graph_objects as go
import pandas as pd
from sklearn.cluster import KMeans
from sklearn.preprocessing import StandardScaler
import seaborn as sns


base = pd.read_csv("base_viajantes.csv", delimiter=';')


base


sns.pairplot(base)


fig = px.scatter(base, x='distancia_anual', y='numero_viagens',
                 title='Gráfico de Dispersão: Distância Anual vs. Número de Viagens',
                 labels={'distancia_anual': 'Distância Anual', 'numero_viagens': 'Número de Viagens'})

fig.show()








base_padronizado = base.copy()


colunas_padronizar = ['distancia_anual', 'numero_viagens']
# Inicializar o StandardScaler
scaler = StandardScaler()
# Ajustar e transformar os dados selecionados
base_padronizado[colunas_padronizar] = scaler.fit_transform(base[colunas_padronizar])


base_padronizado





kmeans_perfil_viajante = KMeans (n_clusters=2, n_init=10, random_state=42)
kmeans_perfil_viajante.fit(base_padronizado)





centroides = kmeans_perfil_viajante.cluster_centers_
centroides


centroides_padronizados = kmeans_perfil_viajante.cluster_centers_  # Centroides padronizados retornados pelo k-means

# Inverter a padronização para obter os centroides originais
centroides_originais = scaler.inverse_transform(centroides_padronizados)
centroides_originais








labels = kmeans_perfil_viajante.labels_
labels


# Criando um df com os dados originais e  rótulos de cluster
df_clusters = pd.DataFrame({
    'distancia_anual': base['distancia_anual'],
    'numero_viagens': base['numero_viagens'],
    'cluster': labels.astype(str)
})

# Plotar os pontos de dados coloridos
fig = px.scatter(df_clusters, x='distancia_anual', y='numero_viagens', color='cluster',
                 color_continuous_scale='viridis', opacity=0.7,
                 title='Clusters de Perfil de Viajantes')

# Adicionar os centroides ao gráfico
fig.add_scatter(x=centroides_originais[:, 0], y=centroides_originais[:, 1],
                mode='markers', marker=dict(color='red', symbol='x', size=14),
                name='Centroides')


fig.update_layout(xaxis_title='Distância Anual', yaxis_title='Número de Viagens',
                  legend_title='Cluster')
fig.show()





kmeans_perfil_viajante_3 = KMeans (n_clusters=3, n_init=10, random_state=42)
kmeans_perfil_viajante_3.fit(base_padronizado)


centroides_padronizado_3 = kmeans_perfil_viajante_3.cluster_centers_
centroides_originais_3  = scaler.inverse_transform(centroides_padronizado_3)
centroides_originais_3


labels_3 = kmeans_perfil_viajante_3.labels_
labels_3


df_clusters = pd.DataFrame({
    'distancia_anual': base['distancia_anual'],
    'numero_viagens': base['numero_viagens'],
    'cluster': labels_3.astype(str)
})

fig = px.scatter(df_clusters, x='distancia_anual', y='numero_viagens', color='cluster',
                 color_continuous_scale='viridis', opacity=0.7,
                 title='Clusters de Perfil de Viajantes')

fig.add_scatter(x=centroides_originais_3[:, 0], y=centroides_originais_3[:, 1],
                mode='markers', marker=dict(color='red', symbol='x', size=14),
                name='Centroides')


fig.update_layout(xaxis_title='Distância Anual', yaxis_title='Número de Viagens',
                  legend_title='Cluster')
fig.show()


base['cluster'] = labels_3


medias_por_cluster = base.groupby('cluster')[['distancia_anual', 'numero_viagens']].mean()


medias_por_cluster







