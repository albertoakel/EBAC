import pandas as pd
import numpy as np

import matplotlib.pyplot as plt
import matplotlib.dates as mdates
from datetime import datetime

df1 = pd.read_csv("rio_sena_tab1.csv")
df2 = pd.read_csv("rio_sena_tab2.csv")
df3 = pd.read_csv("rio_sena_tab3.csv")
#df4 = pd.read_csv("rio_sena_tab4.csv",delimiter=';')

# dates = [datetime(2024, month, 1) for month in range(1, 13)]

# def transp(dataframe):
#     df_trans=(dataframe.set_index('Conta')
#               .T
#               .reset_index()
#               .rename(columns={'index': 'Mês'}))
#     return df_trans
    



# df1=transp(df1)
# df2=transp(df2)
# df3=transp(df3)
# df4=transp(df4)

# # #remover soma
# df1 = df1.drop(df1.index[-1]) 
# df2 = df2.drop(df2.index[-1]) 
# df3 = df3.drop(df3.index[-1]) 
# df4 = df4.drop(df4.index[-1]) 
# dates = [datetime(2024, month, 1) for month in range(1, 13)]


# df1 = df1.rename(columns={'REEfJBOLSO/DEVOLUÇÃO': 'REEMBOLSO/DEVOLUÇÃO'})
# df1 = df1.rename(columns={'REEf4BOLSO PREJUÍZO ELEVADOR': 'REEMBOLSO PREJUÍZO ELEVADOR'})

# df2 = df2.rename(columns={'COSANPA/GERAL': 'COSAMPA'})
# df2 = df2.rename(columns={'MATERIAL DE LIPIPEZA': 'MAT. LIMPEZA'})




# df4 = df4.rename(columns={'BANCO ITAÚ SA': 'BCO ITAÚ SA'})

# df4 = df4.rename(columns={'BCO COOPSICREDI S A': 'BCO COOPSICREDI SA'})
# pd.set_option('display.max_columns', None)

# df2 = df2.join(df3[['RECARGA DE EXTINTORES', 'BOMBEIRO', 'Total:']])
# df2 = df2.rename(columns={'Total:': 'Total'})

# df1.to_csv('rio_sena_tab111.csv', index=False)
# df2.to_csv('rio_sena_tab222.csv', index=False)
# df4.to_csv('rio_sena_tab333.csv', index=False)
#np.sum(df2.iloc[0:12,1])
df1





#normalizacao
def nor(var):
    return (var-min(var))/(max(var)-min(var))
    
luz=nor(df2['LUZ'])
cos=nor(df2['COSAMPA'])
cos2=nor(df2['COSAMPA'])

#(df2['LUZ']-min(df2['LUZ']))/(max(df2['LUZ'])-min(df2['LUZ']))



# Plotar
plt.figure(figsize=(10, 5))
plt.plot(dates,cos2.values, marker='o', linestyle='-', color='b')

plt.plot(dates,luz.values, marker='o', linestyle='-', color='r')


#plt.plot(dates,df1['TAXA COND ANTECIPADA'].values+df1['TAXA CONDOMINIAL'].values, marker='o', linestyle='-', color='k')

# Formatando o eixo x para mostrar meses/ano
plt.gca().xaxis.set_major_formatter(mdates.DateFormatter('%b/%y'))  # Formato "Mês/Ano"
plt.gca().xaxis.set_major_locator(mdates.MonthLocator())  # Marcador a cada mês
plt.gcf().autofmt_xdate()  # Rotaciona as datas para melhor visualização
# Títulos e grids
plt.title("Gráfico de y ao longo do tempo (Jan/24-Dez/24)")
plt.xlabel("Mês/Ano")
plt.ylabel("Valor de y")
plt.grid(True, linestyle='--', alpha=0.7)

plt.show()




