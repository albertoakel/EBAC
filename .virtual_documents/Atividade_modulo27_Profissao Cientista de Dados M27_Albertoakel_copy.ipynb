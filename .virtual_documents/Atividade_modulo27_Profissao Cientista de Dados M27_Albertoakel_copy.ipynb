





import pandas as pd
import matplotlib.pyplot as plt
import numpy as np
import seaborn as sns
import plotly.express as px

from scipy import stats

from sklearn.model_selection import train_test_split
from sklearn.metrics import accuracy_score, classification_report,confusion_matrix,roc_curve, roc_auc_score
from imblearn.over_sampling import SMOTE
from sklearn.preprocessing import StandardScaler

from sklearn.linear_model import LogisticRegression
from sklearn.metrics import roc_curve, roc_auc_score
import warnings

warnings.filterwarnings("ignore", category=FutureWarning)





# LEITURA DOS DADOS
df = pd.read_csv("CARDIO_BASE.csv", delimiter=';')
# RECODIFICAÇÃO DA VARIAVEL gender
df['gender'] = df['gender'].replace({1: 1, 2: 0})
# CONVERSÃO DA VARIAVEL weight
df['weight']=df['weight'].str.replace(',', '.').astype(float)





## REMOÇÃO OUTLIERS
def outliers_iqr(df,col):
    Q1 = df[col].quantile(0.25)
    Q3 = df[col].quantile(0.75)
    IQR = Q3 - Q1
    lower_bound = Q1 - 1.5 * IQR
    upper_bound = Q3 + 1.5 * IQR
    df = df[(df[col] > lower_bound) & (df[col] < upper_bound)]
    return df

# PASSO 1: Z-SCORE

df=df[(stats.zscore(df['weight'])<2)]
df=df[(stats.zscore(df['height'])<3)]

# Passo 2 : IQR
df=outliers_iqr(df,'age')
df=outliers_iqr(df,'weight')
df=outliers_iqr(df,'height')

print(df[['age','height','weight']].describe())
print('redução do total de dados:',100-len(df)/10000*100)





# Boxplot
fig, ax = plt.subplots(1, 3, figsize=(15, 5))  # 1 linha, 3 colunas, tamanho da figura
fig.suptitle('Figura 1: BoxPlot dos valores numéricos', fontsize=14)

# Plotando os boxplots em cada subplot
df.boxplot(column='age', ax=ax[0],patch_artist=True,
           boxprops=dict(facecolor='dodgerblue', linewidth=1)) 
df.boxplot(column='height', ax=ax[1],patch_artist=True,
           boxprops=dict(facecolor='tomato', linewidth=1))
df.boxplot(column='weight', ax=ax[2],patch_artist=True,
           boxprops=dict(facecolor='teal', linewidth=1))

# Títulos
ax[0].set_title('Idade')
ax[1].set_title('Altura')
ax[2].set_title('Peso')

plt.tight_layout()
plt.show()





# Histogramas Idade, Altura e Peso

fig, ax = plt.subplots(1, 3, figsize=(15, 5)) 
fig.suptitle('Figura 2: Distribuição dos valores numéricos', fontsize=14)

N=len(df)
temp1=df['age']
dx1=5
bins1=np.arange(30,65+1,dx1)
c1, x1= np.histogram(temp1, bins1)
p1=c1/N*100

temp2=df['height']
dx2=5
bins2=np.arange(min(temp2),max(temp2),dx2)
c2, x2= np.histogram(temp2, bins2)
p2=c2/N*100

temp3=df['weight']
dx3=5
bins3=np.arange(40,106,dx3)
c3, x3= np.histogram(temp3, bins3)
p3=c3/N*100

# plot 1 : Idade
ax[0].bar(x1[0:-1], p1, width=np.diff(bins1), align='edge',color='dodgerblue',edgecolor='black')  
ax[0].set_title('Idade')
ax[0].set_xlabel('Idade')
ax[0].set_ylabel('Percentual (%)')
ax[0].set_xticks(bins1)
for i in range(len(c1)):
        ax[0].text(x1[i]+dx1/2, p1[i] , f'{p1[i]:.2f}%', ha='center', va='bottom', fontsize=8)

# plot 1 : Altura
ax[1].bar(x2[0:-1], p2, width=np.diff(bins2), align='edge',color='tomato',edgecolor='black')  
ax[1].set_title('Altura')
ax[1].set_xlabel('Altura [cm]')
ax[1].set_ylabel('Percentual (%)')
ax[1].set_xticks(bins2)
for i in range(len(c2)):
    ax[1].text(x2[i]+dx2/2, p2[i] , f'{p2[i]:.2f}%', ha='center', va='bottom', fontsize=8)

# plot 3 : Peso
ax[2].bar(x3[0:-1], p3, width=np.diff(bins3), align='edge',color='teal',edgecolor='black')  
ax[2].set_title('"Peso" ')
ax[2].set_xlabel('massa [kg]')
ax[2].set_ylabel('Percentual (%)')
ax[2].set_xticks(bins3)
for i in range(len(c3)):
    ax[2].text(x3[i]+dx3/2, p3[i] , f'{p3[i]:.2f}%', ha='center', va='bottom', fontsize=8)    
plt.tight_layout()


# Distribuição das variaveis categóricas ( Analise Univariada)
p1 = df['gender'].value_counts(normalize=True) * 100
p2 = df['smoke'].value_counts(normalize=True) * 100
p3 = df['alco'].value_counts(normalize=True) * 100
p4= df['active'].value_counts(normalize=True) * 100

p5= df['cholesterol'].value_counts(normalize=True) * 100
p6= df['gluc'].value_counts(normalize=True) * 100

p7= df['cardio_disease'].value_counts(normalize=True) * 100


fig, ax = plt.subplots(2, 2, figsize=(12, 10))
fig.suptitle('Figura 3: Percentual categorias', fontsize=14)

# PLOT 1: Gênero
bars = ax[0,0].bar(p1.index, p1.values, color=['dodgerblue', 'tomato'], 
                  edgecolor='black', width=0.6)
ax[0,0].set_title('a) Distribuição por Gênero')
for bar, percentage in zip(bars, p1.values):
    ax[0,0].text(bar.get_x() + bar.get_width()/2, bar.get_height(),
                f'{percentage:.1f}%', 
                ha='center', va='bottom', fontsize=10)
ax[0,0].set_xticks(p1.index)
ax[0,0].set_xticklabels(['Masculino', 'Feminino'])
ax[0,0].set_ylim([0,100])

# PLOT 2: Smoke
bars = ax[0,1].bar(p2.index, p2.values, color=['tomato','dodgerblue'], 
                  edgecolor='black', width=0.6)
ax[0,1].set_title('b) Distribuição de Fumante')
for bar, percentage in zip(bars, p2.values):
    ax[0,1].text(bar.get_x() + bar.get_width()/2, bar.get_height(),
                f'{percentage:.1f}%', 
                ha='center', va='bottom', fontsize=10)
ax[0,1].set_xticks(p2.index)
ax[0,1].set_xticklabels(['NÃO', 'SIM'])
ax[0,1].set_ylim([0,100])

# PLOT3: alcool
bars = ax[1,0].bar(p3.index, p3.values, color=['tomato','dodgerblue'], 
                  edgecolor='black', width=0.6)
ax[1,0].set_title('c)Consumo de Alcool')
for bar, percentage in zip(bars, p3.values):
    ax[1,0].text(bar.get_x() + bar.get_width()/2, bar.get_height(),
                f'{percentage:.1f}%', 
                ha='center', va='bottom', fontsize=10)
ax[1,0].set_xticks(p3.index)
ax[1,0].set_xticklabels(['NÃO', 'SIM'])
ax[1,0].set_ylim([0,100])

# PLOT 4: atividade
bars = ax[1,1].bar(p4.index, p4.values, color=['tomato','dodgerblue'], 
                  edgecolor='black', width=0.6)
ax[1,1].set_title('d) Distribuição de Atividade física')
for bar, percentage in zip(bars, p4.values):
    ax[1,1].text(bar.get_x() + bar.get_width()/2, bar.get_height(),
                f'{percentage:.1f}%', 
                ha='center', va='bottom', fontsize=10)
ax[1,1].set_xticks(p4.index)
ax[1,1].set_xticklabels([ 'Ativo','Sendentário'])
ax[1,1].set_ylim([0,100])

fig2, ax = plt.subplots(2, 1, figsize=(12, 10))

# PLOT 5: Colasterol
bars = ax[0].bar(p5.index, p5.values, color=['dodgerblue', 'tomato','teal'], 
                  edgecolor='black', width=0.6)
ax[0].set_title('e) Nível de colasterol')
for bar, percentage in zip(bars, p5.values):
    ax[0].text(bar.get_x() + bar.get_width()/2, bar.get_height(),
                f'{percentage:.1f}%', 
                ha='center', va='bottom', fontsize=10)
ax[0].set_xticks(p5.index)
ax[0].set_xticklabels(['Normal', 'Limítrofe', 'Alto'])
ax[0].set_ylim([0,100])

# PLOT 6: Glicose
bars = ax[1].bar(p6.index, p6.values, color=['dodgerblue', 'tomato','teal'], 
                  edgecolor='black', width=0.6)
ax[1].set_title('f) Nível de glicose')
for bar, percentage in zip(bars, p6.values):
    ax[1].text(bar.get_x() + bar.get_width()/2, bar.get_height(),
                f'{percentage:.1f}%', 
                ha='center', va='bottom', fontsize=10)
ax[1].set_xticks(p6.index)
ax[1].set_xticklabels(['Normal', 'Pré-diabetes', 'Diabetes'])
ax[1].set_ylim([0,100])

fig3, ax = plt.subplots(1, 1, figsize=(9, 7))

# PLOT 7: Doenca cardiovascular
bars = ax.bar(p7.index, p7.values, color=['tomato','dodgerblue'], 
                  edgecolor='black', width=0.6)
ax.set_title('g) Doença Cardiovascular')
for bar, percentage in zip(bars, p7.values):
    ax.text(bar.get_x() + bar.get_width()/2, bar.get_height(),
                f'{percentage:.1f}%', 
                ha='center', va='bottom', fontsize=10)
ax.set_xticks(p7.index)
ax.set_xticklabels(['NÃO','SIM'])
ax.set_ylim([0,60])

# Ajustar layout
plt.tight_layout()
plt.show()





df_grouped1 = df.groupby(['gender','cardio_disease']).size().reset_index(name='count')
df_grouped1['percent'] = (df_grouped1['count']) * 100/len(df)

df_grouped2 = df.groupby(['smoke', 'cardio_disease']).size().reset_index(name='count')
df_grouped2['percent'] = (df_grouped2['count']) * 100/len(df)

df_grouped3 = df.groupby(['alco', 'cardio_disease']).size().reset_index(name='count')
df_grouped3['percent'] = (df_grouped3['count']) * 100/len(df)

df_grouped4 = df.groupby(['active', 'cardio_disease']).size().reset_index(name='count')
df_grouped4['percent'] = (df_grouped4['count']) * 100/len(df)

x=np.arange(2)
wd=0.4

fig, ax = plt.subplots(2, 2, figsize=(12, 10))
fig.suptitle('Figura 4: Relações com doenças cardíacas', fontsize=14)

# PLOT 1: Genero x doenças cardiacas
y1 = df_grouped1.query("gender == 0")['percent'].tolist()
y2 = df_grouped1.query("gender == 1")['percent'].tolist()
ax[0,0].bar(x-wd/2, y1, wd,color='tomato')
ax[0,0].bar(x+wd/2, y2, wd,color='dodgerblue')
ax[0,0].set_title("a) Gênero x Doenças Cardíacas")
for i in range(2):
    ax[0,0].text(x[i]-wd/2, y1[i] , f'{y1[i]:.2f}%', ha='center', va='bottom', fontsize=8) 
    ax[0,0].text(x[i]+wd/2, y2[i] , f'{y2[i]:.2f}%', ha='center', va='bottom', fontsize=8) 
ax[0,0].set_ylim([0,60])  # Posições dos ticks
ax[0, 0].set_xticks(ticks=[0, 1])  # Posições dos ticks
ax[0, 0].set_xticklabels(['NÃO', 'SIM'])
ax[0,0].set_xlabel("Doença Cardíaca")
ax[0,0].set_ylabel("Porcentagem")
ax[0,0].legend(["Feminino", "Masculino"])

# PLOT 2:  Tabagismo x doenças cardiacas
y1 = df_grouped2.query("smoke == 0")['percent'].tolist()
y2 = df_grouped2.query("smoke == 1")['percent'].tolist()
ax[0,1].bar(x-wd/2, y1, wd,color='tomato')
ax[0,1].bar(x+wd/2, y2, wd,color='dodgerblue')
ax[0,1].set_title("b) Cigarro x Doenças Cardíacas")
for i in range(2):
    ax[0,1].text(x[i]-wd/2, y1[i] , f'{y1[i]:.2f}%', ha='center', va='bottom', fontsize=8) 
    ax[0,1].text(x[i]+wd/2, y2[i] , f'{y2[i]:.2f}%', ha='center', va='bottom', fontsize=8) 
ax[0,1].set_ylim([0,60])
ax[0, 1].set_xticks(ticks=[0, 1])  # Posições dos ticks
ax[0, 1].set_xticklabels(['NÃO', 'SIM'])
ax[0,1].set_xlabel("Doença Cardiaca")
ax[0,1].set_ylabel("Porcentagem")
ax[0,1].legend(["Não fumante", "Fumante"])


# PLOT 3: Consumo de alcool x doenças cardiacas
y1 = df_grouped3.query("alco == 0")['percent'].tolist()
y2 = df_grouped3.query("alco == 1")['percent'].tolist()
ax[1,0].bar(x-wd/2, y1,  wd,color='tomato')
ax[1,0].bar(x+wd/2, y2,  wd,color='dodgerblue')
ax[1,0].set_title("c) Álcool x Doenças Cardíacas")
for i in range(2):
    ax[1,0].text(x[i]-wd/2, y1[i] , f'{y1[i]:.2f}%', ha='center', va='bottom', fontsize=8) 
    ax[1,0].text(x[i]+wd/2, y2[i] , f'{y2[i]:.2f}%', ha='center', va='bottom', fontsize=8) 
ax[1,0].set_ylim([0,60])
ax[1, 0].set_xticks(ticks=[0, 1])  # Posições dos ticks
ax[1, 0].set_xticklabels(['NÃO', 'SIM'])
ax[1,0].set_xlabel("Doença Cardiaca")
ax[1,0].set_ylabel("Porcentagem")
ax[1,0].legend(title='consumo de álcool',labels=["Não", "Sim"])


# PLOT 4: Consumo de Atividades física x doenças cardiacas
y1 = df_grouped4.query("active == 0")['percent'].tolist()
y2 = df_grouped4.query("active == 1")['percent'].tolist()
ax[1,1].bar(x-wd/2, y1, wd,color='tomato')
ax[1,1].bar(x+wd/2, y2, wd,color='dodgerblue')
ax[1,1].set_title("d) Atívidades Físicas x Doenças Cardíacas")
for i in range(2):
    ax[1,1].text(x[i]-wd/2, y1[i] , f'{y1[i]:.2f}%', ha='center', va='bottom', fontsize=8) 
    ax[1,1].text(x[i]+wd/2, y2[i] , f'{y2[i]:.2f}%', ha='center', va='bottom', fontsize=8) 
ax[1,1].set_ylim([0,60])
ax[1, 1].set_xticks(ticks=[0, 1])  # Posições dos ticks
ax[1, 1].set_xticklabels(['NÃO', 'SIM'])
ax[1,1].set_xlabel("Doença Cardiaca")
ax[1,1].set_ylabel("Porcentagem")
ax[1,1].legend(["Sedentário", "Ativo"])

df_grouped5 = df.groupby(['cholesterol', 'cardio_disease']).size().reset_index(name='count')
df_grouped5['percent'] = (df_grouped5['count']) * 100/len(df)

df_grouped6 = df.groupby(['gluc', 'cardio_disease']).size().reset_index(name='count')
df_grouped6['percent'] = (df_grouped6['count']) * 100/len(df)


fig2, ax = plt.subplots(2, 1, figsize=(12, 10))
wd=0.3

# PLOT 5:  Colasterol x doenças cardiacas
y1 = df_grouped5.query("cholesterol== 1")['percent'].tolist()
y2 = df_grouped5.query("cholesterol== 2")['percent'].tolist()
y3 = df_grouped5.query("cholesterol== 3")['percent'].tolist()
ax[0].bar(x-wd, y1, wd,color='tomato')
ax[0].bar(x, y2, wd,color='dodgerblue')
ax[0].bar(x+wd, y3,  wd,color='teal')
ax[0].set_title("e) Colasterol x Doenças Cardíacas")
for i in range(2):
    ax[0].text(x[i]-wd, y1[i] , f'{y1[i]:.2f}%', ha='center', va='bottom', fontsize=8) 
    ax[0].text(x[i]+0.0, y2[i] , f'{y2[i]:.2f}%', ha='center', va='bottom', fontsize=8) 
    ax[0].text(x[i]+wd, y3[i] , f'{y3[i]:.2f}%', ha='center', va='bottom', fontsize=8) 
ax[0].set_ylim([0,60])
ax[0].set_xticks(ticks=[0, 1])  # Posições dos ticks
ax[0].set_xticklabels(['Não', 'SIM'])
ax[0].set_xlabel("Doença Cardíaca")
ax[0].set_ylabel("Porcentagem")
ax[0].legend(["Normal", "Limítrofe",'Alto'])

# PLOT 6:  Glicose x doenças cardiacas
y1 = df_grouped6.query("gluc== 1")['percent'].tolist()
y2 = df_grouped6.query("gluc== 2")['percent'].tolist()
y3 = df_grouped6.query("gluc== 3")['percent'].tolist()
ax[1].bar(x-wd, y1,  wd,color='tomato')
ax[1].bar(x, y2,  wd,color='dodgerblue')
ax[1].bar(x+wd, y3,  wd,color='teal')
ax[1].set_title("f) Glicose x Doenças Cardíacas")
for i in range(2):
    ax[1].text(x[i]-wd, y1[i] , f'{y1[i]:.2f}%', ha='center', va='bottom', fontsize=8) 
    ax[1].text(x[i]+0.0, y2[i] , f'{y2[i]:.2f}%', ha='center', va='bottom', fontsize=8) 
    ax[1].text(x[i]+wd, y3[i] , f'{y3[i]:.2f}%', ha='center', va='bottom', fontsize=8) 
ax[1].set_ylim([0,60])
ax[1].set_xticks(ticks=[0, 1])  # Posições dos ticks
ax[1].set_xticklabels(['Não', 'SIM'])
ax[1].set_xlabel("Doença Cardíaca")
ax[1].set_ylabel("Porcentagem")
ax[1].legend(["Normal", "Pré-diabete",'Diabete'])


plt.tight_layout()
plt.show()


# doenças cardicas e idade

df_grp1 = df.groupby(['cardio_disease', 'age']).size().reset_index(name='count')
total1 = df_grp1.groupby('age')['count'].transform('sum')
df_grp1['percent'] = (df_grp1['count'] / total1) * 100

df_grp1['cardio_disease'] = df_grp1['cardio_disease'].astype(int)
df_grp1['cardio_status'] = df_grp1['cardio_disease'].map({0: 'Sem Doença', 1: 'Com Doença'})

# doenças cardicas e peso
df_grp2 = df.groupby(['cardio_disease', 'weight']).size().reset_index(name='count')
df_grp2 = df_grp2[df_grp2['weight'] == df_grp2['weight'].astype(int)]  # selecionando apenas valores inteiros
total2 = df_grp2.groupby('weight')['count'].transform('sum')
df_grp2['percent'] = (df_grp2['count'] / total2) * 100

df_grp2['cardio_disease'] = df_grp2['cardio_disease'].astype(int)
df_grp2['cardio_status'] = df_grp2['cardio_disease'].map({0: 'Sem Doença', 1: 'Com Doença'})

# doenças cardicas e altura
df_grp3 = df.groupby(['cardio_disease', 'height']).size().reset_index(name='count')
total3 = df_grp3.groupby('height')['count'].transform('sum')
df_grp3['percent'] = (df_grp3['count'] / total3) * 100

df_grp3['cardio_disease'] = df_grp3['cardio_disease'].astype(int)
df_grp3['cardio_status'] = df_grp3['cardio_disease'].map({0: 'Sem Doença', 1: 'Com Doença'})


df['IMC']=df['weight']/(df['height']**2)*10000
df['IMC_0.5'] = np.round(df['IMC'] * 2) / 2   #agrupando a cada meio 
df.drop('IMC',axis=1,inplace=True)

df_grp4 = df.groupby(['cardio_disease', 'IMC_0.5']).size().reset_index(name='count')
total4 = df_grp4.groupby('IMC_0.5')['count'].transform('sum')
df_grp4['percent'] = (df_grp4['count'] / total4) * 100

df_grp4['cardio_disease'] = df_grp4['cardio_disease'].astype(int)
df_grp4['cardio_status'] = df_grp4['cardio_disease'].map({0: 'Sem Doença', 1: 'Com Doença'})


color_map = {
    'Sem Doença': 'dodgerblue',
    'Com Doença': 'tomato'
}

fig1 = px.bar(df_grp1,x='age',y='percent',color='cardio_status',color_discrete_map=color_map, barmode='stack',
              labels={ 'cardio_status': 'Doença Cardíaca', 'percent': 'Porcentagem', 'age': 'Idade'})
fig1.update_layout(title='Figura 5a : Doença cardiaca x Idade ')

fig2 = px.bar(df_grp2, x='weight', y='percent', color='cardio_status',color_discrete_map=color_map, barmode='stack',
             labels={'cardio_status': 'Doença Cardíaca', 'percent': 'Porcentagem', 'weight': 'Peso'})
fig2.update_layout(title='Figura 5b : Doença cardiaca x Massa ')

fig3 = px.bar(df_grp3, x='height', y='percent', color='cardio_status',color_discrete_map=color_map, barmode='stack',
             labels={'cardio_status': 'Doença Cardíaca', 'percent': 'Porcentagem', 'height': 'Altura'})
fig3.update_layout(title='Figura 5c : Doença cardiaca x Altura')

fig4 = px.bar(df_grp4, x='IMC_0.5', y='percent', color='cardio_status',color_discrete_map=color_map, barmode='stack',
             labels={'cardio_status': 'Doença Cardíaca', 'percent': 'Porcentagem', 'IMC': 'IMC'})
fig4.update_layout(title='Figura 5d : Doença cardiaca x IMC')


figuras = [fig1, fig2,fig3,fig4]
for figura in figuras:
    figura.update_layout(width=1280, height=720)
    figura.show()





 # codificação e reordenamento de colunas
df = pd.get_dummies(df,columns=['gluc'],prefix='gluc') 
df = pd.get_dummies(df,columns=['cholesterol'],prefix='cholesterol') 
df[df.select_dtypes(include='bool').columns] = df.select_dtypes(include='bool').astype(int)


temp = df.pop('IMC_0.5')
df['IMC_0.5'] = temp

temp = df.pop('cardio_disease')
df['cardio_disease'] = temp


correlation_matrix = df.corr()
# Exibir apenas valores >|0.15| & ignorar correlaca 1.
df2=correlation_matrix
df2[(df2 < 0.15)&(df2 > -0.15)] = pd.NA
df2[df2 >=0.99] = pd.NA

plt.figure(figsize=(15, 8))
sns.heatmap(df2, annot=True, cmap='coolwarm', vmin=-1, vmax=1)
plt.title('figura 6: Matriz de Correlação')
plt.show()





df0=df



# Base de treino e teste
#x = df0.drop(['age','cholesterol_1','cholesterol_3','IMC_0.5'], axis=1) 
x = df0[['age','cholesterol_1','cholesterol_3','IMC_0.5']]

y = df0['cardio_disease'] 
print(f"Tamanho de x: {x.shape}")

# Separação das bases de treino e test.
x_train, x_test, y_train, y_test = train_test_split(x, y, test_size=0.25, random_state=42)


x_train_A=x_train #usada somente no anexo para conferencia

print(f"Base de Treino (feat):    {x_train.shape}")
print(f"Base de Teste  (feat): {x_test.shape}")
print(f"Base de Treino (tag ): {y_train.shape}")
print(f"Base de Teste  (tag ): {y_test.shape}")

# Padronização dos dados
sc=StandardScaler()
x_train = sc.fit_transform(x_train)   
x_test = sc.transform(x_test)

# Balanceamento ( apenas nos dados de treino)
smote = SMOTE(random_state=42)
x_train_b, y_train_b = smote.fit_resample(x_train, y_train)
x_train_b


# Balanceamento Target 
B0 = df0['cardio_disease'].value_counts(normalize=True)*100 # na base de dados
B0c = df0['cardio_disease'].value_counts() # na base de dados

B1=y_train_b.value_counts(normalize=True) * 100
B1c=y_train_b.value_counts()

# Balanceamento: dados originalx balanceado [cardio_disease]
fig, ax = plt.subplots(1, 2, figsize=(15, 5))  # 1 linha, 3 colunas, tamanho da figura
fig.suptitle('Figura 7: Balanceamento da base de treino', fontsize=14)
ax[0].bar(B0.index, B0.values,color=['dodgerblue', 'tomato'])
ax[0].set_title('Base de dados original')
ax[0].set_xticks(np.arange(0,2,1))
ax[0].set_ylabel('Percentual [%]')
#ax[0].set_xticks(p7.index)
ax[0].set_xticklabels(['NÃO','SIM'])
for i in range(2):
    ax[0].text(B0.index[i], B0.values[i] , f'{B0c.values[i]} ({B0.values[i]:.2f}%) ' , ha='center', va='bottom', fontsize=8)
    
ax[1].bar(B1.index, B1.values,color=['dodgerblue', 'tomato'])
ax[1].set_title('Base de Treinos Balanceada')
ax[1].set_xticks(np.arange(0,2,1))
ax[1].set_ylabel('Percentual [%]')
ax[1].set_xticklabels(['NÃO','SIM'])

for i in range(2):
    ax[1].text(B1.index[i], B1.values[i] , f'{B1c.values[i]} ({B1.values[i]:.2f}%)', ha='center', va='bottom', fontsize=8)


# Verficação da base de treino e teste apos balanceamento.
X_TRAIN_B= pd.DataFrame(x_train_b, columns=[df0.columns[i] for i in range(x_train_b.shape[1])])
X_TESTE= pd.DataFrame(x_test, columns=[df0.columns[i] for i in range(x_train_b.shape[1])])

#Y_TRAIN_B = pd.DataFrame({'target': y_train_b})  # Método mais seguro
print('X_TRAIN: Balanceada e normalização')
display(X_TRAIN_B.describe())
print('X_TEST: Balanceada e normalização')
display(X_TESTE.describe())





# Modelo de regressão logistica
logistic_cardio = LogisticRegression()
logistic_cardio.fit(x_train_b, y_train_b)


from sklearn.model_selection import GridSearchCV
logistic_cardio2 = LogisticRegression(random_state=42, max_iter=10000)
# 2. Especificar os hiperparâmetros e seus valores
param_grid = {
    'C': [0.004,0.01, 0.1, 1, 10, 100],  # Parâmetro de regularização
    'penalty': ['l1', 'l2'],  # Tipo de penalidade
    'solver': ['liblinear', 'saga']  # Algoritmo de otimização adequado para L1 e L2
}

# Aplicando o Grid Search com validação cruzada
grid_search = GridSearchCV(logistic_cardio2, param_grid, cv=15, scoring='accuracy', n_jobs=-1)
grid_search.fit(x_train_b, y_train_b)


best_params = grid_search.best_params_
print(f"Melhores parâmetros: {best_params}")
# Melhor modelo
best_logistic_model = grid_search.best_estimator_
accuracy_train = best_logistic_model.score(x_train_b, y_train_b)
print(f"Acurácia do melhor modelo nos dados de treino: {accuracy_train:.4f}")





print('Intercept:',logistic_cardio.intercept_[0])
print('coeficientes:',*logistic_cardio.coef_[0])





# Relatorio e matriz de confusão  - TREINO
prev_train=logistic_cardio.predict(x_train_b)
print("=============== Relatório de Classificação TREINO =======")
print(classification_report(y_train_b, prev_train))

print("  =============== Matriz de confusão====================")
cm = confusion_matrix(y_train_b, prev_train)
#[VN,FP]
#[FN,VP]
sns.heatmap(cm / cm.sum(), annot=True, fmt='.2%',cmap='coolwarm');
plt.title('Figura 8:  Matriz de confusão Treino');





# Relatorio e matriz de confusão  - TESTE
prev_test=logistic_cardio.predict(x_test)
print("=============== Relatório de Classificação TESTE =======")
print(classification_report(y_test, prev_test))
cm = confusion_matrix(y_test, prev_test)
print("  =============== Matriz de confusão====================")
sns.heatmap(cm / cm.sum(), annot=True, fmt='.2%',cmap='coolwarm');
plt.title('Figura 9:  Matriz de confusão Teste');


# Calculo AUC ( Receiver Operating Characteristic) 

fpr, tpr, thresholds = roc_curve(y_test, prev_test)
roc_auc = roc_auc_score(y_test, prev_test)

plt.figure()
plt.plot(fpr, tpr, color='tomato', lw=2, label='Curva AUC (área = %0.2f)' % roc_auc)
plt.fill_between(fpr, tpr, color='grey', alpha=0.1) 
plt.plot([0, 1], [0, 1], color='dodgerblue', lw=2, linestyle='--')
plt.xlim([0.0, 1.0])
plt.ylim([0.0, 1.05])
plt.xlabel('Falso Postivo ')
plt.ylabel('Positivo verdadeiros')
plt.title("AUC: {:.2f}".format(roc_auc))
plt.legend(loc="lower right")
plt.show()












# TESTE ESTATISTICO Kolmogorov-Smirnov
from scipy.stats import kstest
from scipy.stats import skew, kurtosis

def teste_KS(dados):
    '''
    Hipotese nula Ho:     '''
    ks_statistic, p_valor = kstest(dados, 'norm', args=(np.mean(dados), np.std(dados)))
   # ks_statistic, p_valor = kstest(dados, 'expon') #, args=(np.mean(dados), np.std(dados)))
    assimetria = skew(dados)
    curtose = kurtosis(dados)

    print(f"assimetria : {assimetria }")
    print(f"curtose: {curtose}")
    print(f"Estatística KS: {ks_statistic}")
    print(f"Valor p: {p_valor}")

   
    alpha = 0.05  # Nível de significância de 5%
    if p_valor < alpha:
        print("Rejeitamos a hipótese nula: os dados NÃO seguem uma distribuição normal.")
    else:
        print("Não rejeitamos a hipótese nula: os dados seguem uma distribuição normal.")
    print('-' * 70)
   
print('-' * 15+'Age'+'-' * 15)
teste_KS(df['age'])
print('-' * 15+'Height'+'-' * 15)
teste_KS(df['height'])
print('-' * 15+'Weight'+'-' * 15)
teste_KS(df['weight']) 





# Teste estatístico de levene
# avaliando as escalas.
import itertools as itera
from scipy.stats import levene

# homgenidade das variancias
def levene_test(df):
    p=0
    q=0
    pares=list(itera.combinations(df.columns,2))
    for i in range(len(pares)):
        stat, p_value = levene(df[pares[i][0]], df[pares[i][1]])
        #print(f"p-valor: {p_value}")
        if p_value < 0.05:
            p+=1
            #print(f"{pares[i][0].ljust(15)}|{pares[i][1].ljust(14)} : Padronizar")
        else:
            #print(f"{pares[i][0].ljust(15)}|{pares[i][1].ljust(14)} : NÃO")
            q+=1
    print('Combinações 1-1')        
    print('Padronizar      :',str(p)+'X')
    print('Não padronizar  :',str(q)+'X')  
    return p,q

levene_test(x_train_A)
