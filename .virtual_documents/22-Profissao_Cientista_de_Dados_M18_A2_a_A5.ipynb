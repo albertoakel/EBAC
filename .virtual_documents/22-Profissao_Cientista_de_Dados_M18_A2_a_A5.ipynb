





import pandas as pd


# Dados de investimento em publicidade e acessos no site
dados = {
    'Investimento_Publicidade': [100, 140, 150, 390, 350, 155, 200],
    'Acessos_Site': [200, 260, 300, 760, 700, 320, 400]
}

df = pd.DataFrame(dados)











df['Investimento_Publicidade'].corr(df['Acessos_Site'])

#Uma correlação de 0.99 indica uma forte correlação positiva entre as duas variáveis, o que significa que elas tendem a aumentar juntas.














from sklearn.linear_model import LinearRegression





# Separar a variável independente da variável dependente
X = df[['Investimento_Publicidade']]  # Variável independente (características)
y = df['Acessos_Site']  # Variável dependente (rótulo)





X





# Esta linha cria um objeto do tipo LinearRegression(), que será usado para representar nosso modelo de regressão linear.
regressao_acessos_site = LinearRegression()

regressao_acessos_site.fit(X,y)
# O modelo aprende a relação entre as variáveis independentes (X) e a variável dependente (y).
# Após a execução desta linha, o modelo estará pronto para fazer previsões.


#O regressao_acessos_site.intercept_ é um atributo do objeto de regressão linear que representa o coeficiente linear da equação
regressao_acessos_site.intercept_


# O regressao_acessos_site.coef_ é um atributo do objeto de regressão linear que representa os coeficientes das variáveis independentes na equação de regressão.
regressao_acessos_site.coef_


























regressao_acessos_site.score(X,y)








import matplotlib.pyplot as plt

# Plotar os dados originais
plt.scatter(X, y, color='blue', label='Dados Originais')

# Plotar a linha de regressão
plt.plot(X, regressao_acessos_site.predict(X), color='red', label='Linha de Regressão')
plt.legend()
plt.show()











previsoes = regressao_acessos_site.predict(X)
previsoes





y








investimento = [[500]]
previsao_acessos = regressao_acessos_site.predict(investimento)
print("Previsão de acessos no site com investimento de 500 em publicidade:", previsao_acessos)














dados = {
    'Investimento_Publicidade': [100, 140, 160, 390, 380, 245, 250, 140, 360],
    'Impressao_Publicidade': [2050, 2500, 3350, 7500, 7120, 3650, 1985, 2150, 2100],
    'Alcance_Publicidade': [1500, 2350, 2950, 7200, 6885, 2050, 1185, 1930, 1985 ],
    'Curtidas_Publicidade': [200, 20, 100, 120, 125, 125, 90, 50, 55 ],
    'Comentarios_Publicidade': [50, 15, 10, 45, 56, 60, 2, 15, 32],
    'Acessos_Site': [200, 260, 320, 780, 700, 340, 425, 180, 200]
}

df = pd.DataFrame(dados)
df














import pandas as pd
import seaborn as sns
import matplotlib.pyplot as plt


df = pd.DataFrame(dados)

# Calculando a matriz de correlação
correlacao = df.corr()

# Gráfico:
plt.figure(figsize=(10, 8))
sns.heatmap(correlacao, annot=True, cmap='coolwarm', fmt=".2f")
plt.title('Gráfico de Correlação')
plt.show()








# Separar a variáveis independentes da variável dependente
X = df[['Investimento_Publicidade', 'Impressao_Publicidade', 'Alcance_Publicidade','Curtidas_Publicidade','Comentarios_Publicidade']] # Variável independente (características)
y = df['Acessos_Site']  # Variável dependente (rótulo)





from sklearn.linear_model import LinearRegression


regressao_multipla = LinearRegression()
regressao_multipla.fit(X,y)


regressao_multipla.intercept_


regressao_multipla.coef_








regressao_multipla.score(X,y)











X = df[['Curtidas_Publicidade','Comentarios_Publicidade']] # Variável independente (características)
y = df['Acessos_Site']  # Variável dependente (rótulo)


regressao_exemplo1 = LinearRegression()
regressao_exemplo1.fit(X,y)


regressao_exemplo1.score(X,y)








X = df[['Investimento_Publicidade', 'Impressao_Publicidade', 'Alcance_Publicidade']] # Variável independente (características)
y = df['Acessos_Site']  # Variável dependente (rótulo)


regressao_exemplo2 = LinearRegression()
regressao_exemplo2.fit(X,y)


regressao_exemplo2.score(X,y)




















dados = {
    'Investimento_Publicidade': [100, 140, 160, 390, 380, 245, 250, 140, 360],
    'Impressao_Publicidade': [2050, 2500, 3350, 7500, 7120, 3650, 1985, 2150, 2100],
    'Alcance_Publicidade': [1500, 2350, 2950, 7200, 6885, 2050, 1185, 1930, 1985 ],
    'Curtidas_Publicidade': [200, 20, 100, 120, 125, 125, 90, 50, 55 ],
    'Comentarios_Publicidade': [50, 15, 10, 45, 56, 60, 2, 15, 32],
    'Acessos_Site': [200, 260, 320, 780, 700, 340, 425, 180, 200]
}

df = pd.DataFrame(dados)


# Separar a variáveis independentes da variável dependente
X = df[['Investimento_Publicidade', 'Impressao_Publicidade', 'Alcance_Publicidade','Curtidas_Publicidade','Comentarios_Publicidade']] # Variável independente (características)
y = df['Acessos_Site']  # Variável dependente (rótulo)


import statsmodels.api as sm


# Adicionando uma constante ao conjunto de dados para estimar o termo de interceptação
X = sm.add_constant(X)

# Criando o modelo de regressão linear múltipla --- (Ordinary Least Squares, Minimos Quadrados Ordinários)
modelo_stats = sm.OLS(y, X)

# Ajustando o modelo aos dados
resultado_stats = modelo_stats.fit()

# Exibir os resultados da regressão
print(resultado_stats.summary())








# Separar a variáveis independentes da variável dependente
X_1 = df[['Investimento_Publicidade', 'Impressao_Publicidade', 'Alcance_Publicidade']] # Variável independente (características)
y = df['Acessos_Site']  # Variável dependente (rótulo)


X_1 = sm.add_constant(X_1)
modelo_stats_ex1 = sm.OLS(y_1, X_1)
resultado_stats_ex1 = modelo_stats_ex1.fit()
print(resultado_stats_ex1.summary())



