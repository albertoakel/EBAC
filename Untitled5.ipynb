{
 "cells": [
  {
   "cell_type": "code",
   "execution_count": 29,
   "id": "4f679b5b-fc6a-40fe-9ffd-0f557338ab31",
   "metadata": {},
   "outputs": [],
   "source": [
    "import numpy as np\n",
    "import matplotlib.pyplot as plt\n",
    "import statsmodels.api as sm\n",
    "\n",
    "import pandas as pd\n",
    "from sklearn.linear_model import LinearRegression as LR\n"
   ]
  },
  {
   "cell_type": "code",
   "execution_count": 30,
   "id": "5e28c251-2f82-47e2-b814-d1720111e2b6",
   "metadata": {},
   "outputs": [
    {
     "name": "stdout",
     "output_type": "stream",
     "text": [
      "Intercepto (b0): -0.9630848812602864\n",
      "Coeficientes (b1, b2): [0.03080179 0.53115448]\n",
      "Previsões: [-0.19304021  0.24570891  0.88502234  0.2689866   0.64613214  1.10815895\n",
      "  1.03903127]\n"
     ]
    }
   ],
   "source": [
    "\n",
    "import pandas as pd\n",
    "from sklearn.linear_model import LinearRegression as LR\n",
    "\n",
    "# C - colasterol\n",
    "# E - Encaminhar\n",
    "data = {\n",
    "    'idade': [25, 22, 60, 40, 35, 50, 65],\n",
    "    'C': [0, 1, 0, 0, 1, 1, 0],\n",
    "    'E': [0, 0, 1, 0, 1, 1, 1]\n",
    "}\n",
    "\n",
    "# \n",
    "df = pd.DataFrame(data)\n",
    "\n",
    "# Definir X e y\n",
    "X = df[['idade', 'C']]\n",
    "y = df['E']\n",
    "\n",
    "# Criar e treinar o modelo\n",
    "modelo = LR()\n",
    "modelo.fit(X, y)\n",
    "\n",
    "# Coeficientes\n",
    "print(\"Intercepto (b0):\", modelo.intercept_)\n",
    "print(\"Coeficientes (b1, b2):\", modelo.coef_)\n",
    "\n",
    "# Prever valores (opcional)\n",
    "y_pred = modelo.predict(X)\n",
    "print(\"Previsões:\", y_pred)\n",
    "\n"
   ]
  },
  {
   "cell_type": "code",
   "execution_count": 34,
   "id": "015c9f4f-f4fb-4e12-9e09-6b200bdc9060",
   "metadata": {},
   "outputs": [
    {
     "name": "stdout",
     "output_type": "stream",
     "text": [
      "y 0.6461321420173993\n",
      "probabilidade de ser encaminhada 0.6561383211575134\n"
     ]
    }
   ],
   "source": [
    "\n",
    "\n",
    "data2 = {\n",
    "    'idade': [35],\n",
    "    'C': [1]\n",
    "}\n",
    "A = pd.DataFrame(data2)\n",
    "y=modelo.predict(A)\n",
    "\n",
    "\n",
    "P=1/(1+np.exp(-y))\n",
    "print(\"y\", y[0])\n",
    "print(\"probabilidade de ser encaminhada\", P[0])"
   ]
  },
  {
   "cell_type": "code",
   "execution_count": 43,
   "id": "73a55cf5-ee23-4b68-bcee-654d12a36725",
   "metadata": {},
   "outputs": [
    {
     "data": {
      "text/plain": [
       "array([ 0.        ,  0.23076923,  0.76923077,  1.        , -0.06923077])"
      ]
     },
     "execution_count": 43,
     "metadata": {},
     "output_type": "execute_result"
    }
   ],
   "source": [
    "a=np.array([22,25,47,52,46])\n",
    "b=np.array([20000,50000, 120000, 150000, 11000])\n",
    "deltab=150000-20000\n",
    "(b-20000)/deltab"
   ]
  },
  {
   "cell_type": "code",
   "execution_count": null,
   "id": "69122bd7-db6e-4f08-9c9c-5bc9f47247ed",
   "metadata": {},
   "outputs": [],
   "source": []
  }
 ],
 "metadata": {
  "kernelspec": {
   "display_name": "Python 3 (ipykernel)",
   "language": "python",
   "name": "python3"
  },
  "language_info": {
   "codemirror_mode": {
    "name": "ipython",
    "version": 3
   },
   "file_extension": ".py",
   "mimetype": "text/x-python",
   "name": "python",
   "nbconvert_exporter": "python",
   "pygments_lexer": "ipython3",
   "version": "3.9.5"
  }
 },
 "nbformat": 4,
 "nbformat_minor": 5
}
