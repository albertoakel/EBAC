




















dia_11_saldo_inicial = 1000


dia_11_transacao_1 = 243
dia_11_transacao_2 = -798.58
dia_11_transacao_3 = 427.12
dia_11_transacao_4 = -10.91


dia_11_saldo_final = dia_11_saldo_inicial + dia_11_transacao_1 + dia_11_transacao_2 + dia_11_transacao_3 + dia_11_transacao_4


print(dia_11_saldo_final)











usuario_web = ['André Perez', 'andre.perez', 'andre123', 'andre.perez@gmail.com']

print(usuario_web)
print(type(usuario_web))


idade = 20
saldo_em_conta = 723.15
usuario_loggedin = True

usuario_web = ['André Perez', idade, 'andre.perez', 'andre123', 'andre.perez@gmail.com', saldo_em_conta, usuario_loggedin]

print(usuario_web)
print(type(usuario_web))











fabricantes_mobile_china = ['xiaomi', 'huawei']
fabricantes_mobile_eua = ['apple', 'motorola']
fabricantes_mobile = fabricantes_mobile_china + fabricantes_mobile_eua

print(fabricantes_mobile_china)
print(fabricantes_mobile_eua)
print(fabricantes_mobile)








print(f'0: {fabricantes_mobile[0]}')
print(f'-1: {fabricantes_mobile[-1]}')





fabricantes_mobile_china = fabricantes_mobile[0:2]
fabricantes_mobile_eua = fabricantes_mobile[2:len(fabricantes_mobile)]

print('china: ' + str(fabricantes_mobile_china))
print('eua: ' + str(fabricantes_mobile_eua))






print(fabricantes_mobile)


fabricantes_mobile[2] = 'nokia'
print(fabricantes_mobile)








juros = [0.05, 0.07, 0.02, 0.04, 0.08]
print(juros)


# inserir um elemento sem substituir: list.insert(index, val)
juros.insert(0, 0.10)
print(juros)


# inserir um elemento no fim da lista: list.append(val)
juros.append(0.09)
print(juros)


# remover um elemento pelo valor: list.remove(val)
juros.remove(0.1)
print(juros)


# remover um elemento pelo índice: list.pop(val)
terceiro_juros = juros.pop(2)
print(terceiro_juros)


print(juros)








email = 'andre.perez@gmail.com'
caracteres_email = list(email)

print(email)
print(caracteres_email)





dia_11_saldo_inicial = 1000


dia_11_transacoes = []

dia_11_transacoes.append(243)
dia_11_transacoes.append(-798.58)
dia_11_transacoes.append(427.12)
dia_11_transacoes.append(-10.91)

print(dia_11_transacoes)


dia_11_saldo_final = dia_11_saldo_inicial + dia_11_transacoes[0] + dia_11_transacoes[1] + dia_11_transacoes[2] + dia_11_transacoes[3]
print(dia_11_saldo_final)











hashtags_seg = ['#tiago', '#joao', '#bbb']
hashtags_ter = ['#sarah', '#bbb', '#fiuk']
hashtags_qua = ['#gil', '#thelma', '#lourdes']
hashtags_qui = ['#rafa', '#fora', '#danilo']
hashtags_sex = ['#juliete', '#arthur', '#bbb']





hashtags_semana = hashtags_seg + hashtags_ter + hashtags_qua + hashtags_qui + hashtags_sex
print(hashtags_semana)








frutas = {'banana', 'maca', 'uva', 'uva'}

print(frutas)
print(type(frutas))











norte_europa = {'reino unido', 'suecia', 'russia', 'noruega', 'dinamarca'}
escandinavia = {'noruega', 'dinamarca', 'suecia'}


norte_europa_nao_escandivano = norte_europa - escandinavia
print(norte_europa_nao_escandivano)


escandivano_nao_norte_europa = escandinavia - norte_europa
print(escandivano_nao_norte_europa)








cursos = {'Exatas', 'Humanas', 'Biológicas'}
print(cursos)


# inserir um elemento no conjunto: set.add(val)
cursos.add('Saúde')
print(cursos)


# remover um elemento no conjunto: set.remove(val)
cursos.remove('Saúde')
print(cursos)








times_paulistas = {'São Paulo', 'Palmeiras', 'Corinthians', 'Santos'}

print(times_paulistas)
print(type(times_paulistas))


print(list(times_paulistas))
print(type(list(times_paulistas)))





print(hashtags_semana)
print(len(hashtags_semana))


hashtags_semana = list(set(hashtags_seg + hashtags_ter + hashtags_qua + hashtags_qui + hashtags_sex))

print(hashtags_semana)
print(len(hashtags_semana))











wifi_disponiveis = ['rede1', 'cnx_cnx', 'uai-fi', 'r3d3']
print(wifi_disponiveis)











brasil = {'capital': 'Brasília', 'idioma': 'Português', 'populacao': 210}

print(brasil)
print(type(brasil))





carro = {
    'marca': 'Volkswagen',
    'modelo': 'Polo',
    'ano': 2021,
    'ano': 2004
}

print(carro)





cadastro = {
    'andre': {
        'nome': 'Andre Perez', 
        'ano_nascimento': 1992, 
        'pais': {
            'pai': {
              'nome': '<nome-do-pai> Perez', 
              'ano_nascimento': 1971
            },
            'mae': {
              'nome': '<nome-da-mae> Perez', 
              'ano_nascimento': 1973
            },
        }
    }
}

print(cadastro)


cadastro['andre']['pais']['mae']['ano_nascimento']





credito = {'123': 750, '789': 980}





score_123 = credito['123']
score_789 = credito['789']

print(score_123)
print(score_789)





credito['123'] = 435
print(credito)





credito['456'] = 1000
print(credito)








artigo = dict(
    titulo='Modulo 02 | Python: Estruturas de Dados',
    corpo='Topicos, Aulas, Listas, Conjuntos, Dicionários, ...',
    total_caracteres=1530
)


# adicionar/atualizar um elemento pelo chave-valor: dict.update(dict)
print(artigo)
artigo.update({'total_caracteres': 7850})
print(artigo)

artigo['total_caracteres'] = 7850


# remover um elemento pelo chave: dict.pop(key)
print(artigo)
total_caracteres = artigo.pop('total_caracteres')
print(artigo)








artigo = dict(
    titulo='Modulo 02 | Python: Estruturas de Dados',
    corpo='Topicos, Aulas, Listas, Conjuntos, Dicionários, ...',
    total_caracteres=1530
)


chaves = list(artigo.keys())

print(chaves)
print(type(chaves))


valores = list(artigo.values())

print(valores)
print(type(valores))





wifi_disponiveis = []


rede = {'nome': 'rede1', 'senha': 'cnx_cnx'}
wifi_disponiveis.append(rede)


rede = {'nome': 'uai-fi', 'senha': 'r3d3'}
wifi_disponiveis.append(rede)


print(wifi_disponiveis)
