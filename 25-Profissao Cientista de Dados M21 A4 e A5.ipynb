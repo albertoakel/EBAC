{
 "cells": [
  {
   "cell_type": "markdown",
   "metadata": {
    "id": "gIgAYacQT0jB"
   },
   "source": [
    "# **MÓDULO 21 - AULA 4**\n",
    "# Implementação prática de Árvores de decisão em Python"
   ]
  },
  {
   "cell_type": "code",
   "execution_count": 1,
   "metadata": {
    "id": "zJcJtwRZQpKB"
   },
   "outputs": [],
   "source": [
    "import pandas as pd\n",
    "import numpy as np\n",
    "import seaborn as sns\n",
    "from sklearn.metrics import confusion_matrix\n",
    "import matplotlib.pyplot as plt\n",
    "from sklearn.tree import plot_tree\n",
    "import matplotlib.pyplot as plt"
   ]
  },
  {
   "cell_type": "markdown",
   "metadata": {
    "id": "iXozpp0EV2hy"
   },
   "source": [
    "Vamos trabalhar com nossa base de Churn da empresa de crédito, a mesma que aplicamos ao modelo do naive bayes.\n"
   ]
  },
  {
   "cell_type": "markdown",
   "metadata": {
    "id": "LtIhwc3GWCN_"
   },
   "source": [
    "**Recapitulando:**\n",
    "\n",
    "As bases de treino são as que usamos para treinar nosso modelo, na primeira etapa da modelagem.\n",
    "\n",
    "Teste são as bases que usamos para testar o modelo já treinado e ver como ele se ajusta a dados que ele ainda não conhece.\n",
    "\n",
    "As bases de X sempre terão todas features, todas variáveis do modelo, exceto a target que será a prevista.\n",
    "As bases y terão apenas a target, que nesse caso é churn."
   ]
  },
  {
   "cell_type": "code",
   "execution_count": 2,
   "metadata": {
    "id": "jdpI8B-JV17Z"
   },
   "outputs": [],
   "source": [
    "dir='/home/akel/PycharmProjects/Atividades_EBAC/dados_arvore_decisao/'\n",
    "X_test = pd.read_csv(dir+'X_test.csv', delimiter=',')\n",
    "X_train = pd.read_csv(dir+'X_train_balanced.csv', delimiter=',')\n",
    "y_test = pd.read_csv(dir+'y_test.csv', delimiter=',')\n",
    "y_train = pd.read_csv(dir+'y_train_balanced.csv', delimiter=',')"
   ]
  },
  {
   "cell_type": "markdown",
   "metadata": {
    "id": "LPcG7W0MWF_b"
   },
   "source": [
    "Sempre importante verificarmos se dentro das bases de X não temos a variável target (y) a que será prevista.\n",
    "E se todas nossas variáveis estão já transformadas.\n",
    "\n",
    "Outro fator importante é garantir que X test e y test tem o mesmo número de linhas, assim como y e x train."
   ]
  },
  {
   "cell_type": "code",
   "execution_count": 4,
   "metadata": {
    "colab": {
     "base_uri": "https://localhost:8080/",
     "height": 423
    },
    "id": "N2pso-j_WGpy",
    "outputId": "2761b70b-3804-4360-e822-bb108784d4aa"
   },
   "outputs": [
    {
     "data": {
      "text/html": [
       "<div>\n",
       "<style scoped>\n",
       "    .dataframe tbody tr th:only-of-type {\n",
       "        vertical-align: middle;\n",
       "    }\n",
       "\n",
       "    .dataframe tbody tr th {\n",
       "        vertical-align: top;\n",
       "    }\n",
       "\n",
       "    .dataframe thead th {\n",
       "        text-align: right;\n",
       "    }\n",
       "</style>\n",
       "<table border=\"1\" class=\"dataframe\">\n",
       "  <thead>\n",
       "    <tr style=\"text-align: right;\">\n",
       "      <th></th>\n",
       "      <th>Credit_Score</th>\n",
       "      <th>Idade</th>\n",
       "      <th>Tempo_Credito</th>\n",
       "      <th>Balanco</th>\n",
       "      <th>Qtd_Produtos</th>\n",
       "      <th>Possui_Cartao</th>\n",
       "      <th>Membro_Ativo</th>\n",
       "      <th>Salario_Anual</th>\n",
       "      <th>Genero_encoded</th>\n",
       "      <th>Pais_encoded</th>\n",
       "    </tr>\n",
       "  </thead>\n",
       "  <tbody>\n",
       "    <tr>\n",
       "      <th>0</th>\n",
       "      <td>686</td>\n",
       "      <td>36.0</td>\n",
       "      <td>3</td>\n",
       "      <td>95848.58</td>\n",
       "      <td>2</td>\n",
       "      <td>0.0</td>\n",
       "      <td>1.0</td>\n",
       "      <td>7144694.0</td>\n",
       "      <td>1</td>\n",
       "      <td>0</td>\n",
       "    </tr>\n",
       "    <tr>\n",
       "      <th>1</th>\n",
       "      <td>703</td>\n",
       "      <td>35.0</td>\n",
       "      <td>1</td>\n",
       "      <td>0.00</td>\n",
       "      <td>1</td>\n",
       "      <td>1.0</td>\n",
       "      <td>1.0</td>\n",
       "      <td>14136462.0</td>\n",
       "      <td>1</td>\n",
       "      <td>0</td>\n",
       "    </tr>\n",
       "    <tr>\n",
       "      <th>2</th>\n",
       "      <td>730</td>\n",
       "      <td>26.0</td>\n",
       "      <td>6</td>\n",
       "      <td>0.00</td>\n",
       "      <td>1</td>\n",
       "      <td>1.0</td>\n",
       "      <td>1.0</td>\n",
       "      <td>1011687.0</td>\n",
       "      <td>1</td>\n",
       "      <td>2</td>\n",
       "    </tr>\n",
       "    <tr>\n",
       "      <th>3</th>\n",
       "      <td>675</td>\n",
       "      <td>33.0</td>\n",
       "      <td>6</td>\n",
       "      <td>0.00</td>\n",
       "      <td>2</td>\n",
       "      <td>0.0</td>\n",
       "      <td>1.0</td>\n",
       "      <td>1011687.0</td>\n",
       "      <td>0</td>\n",
       "      <td>0</td>\n",
       "    </tr>\n",
       "    <tr>\n",
       "      <th>4</th>\n",
       "      <td>754</td>\n",
       "      <td>24.0</td>\n",
       "      <td>3</td>\n",
       "      <td>121513.31</td>\n",
       "      <td>2</td>\n",
       "      <td>0.0</td>\n",
       "      <td>1.0</td>\n",
       "      <td>1011687.0</td>\n",
       "      <td>0</td>\n",
       "      <td>1</td>\n",
       "    </tr>\n",
       "    <tr>\n",
       "      <th>...</th>\n",
       "      <td>...</td>\n",
       "      <td>...</td>\n",
       "      <td>...</td>\n",
       "      <td>...</td>\n",
       "      <td>...</td>\n",
       "      <td>...</td>\n",
       "      <td>...</td>\n",
       "      <td>...</td>\n",
       "      <td>...</td>\n",
       "      <td>...</td>\n",
       "    </tr>\n",
       "    <tr>\n",
       "      <th>24922</th>\n",
       "      <td>786</td>\n",
       "      <td>37.0</td>\n",
       "      <td>4</td>\n",
       "      <td>0.00</td>\n",
       "      <td>2</td>\n",
       "      <td>0.0</td>\n",
       "      <td>1.0</td>\n",
       "      <td>1011687.0</td>\n",
       "      <td>0</td>\n",
       "      <td>2</td>\n",
       "    </tr>\n",
       "    <tr>\n",
       "      <th>24923</th>\n",
       "      <td>592</td>\n",
       "      <td>35.0</td>\n",
       "      <td>7</td>\n",
       "      <td>122724.50</td>\n",
       "      <td>1</td>\n",
       "      <td>1.0</td>\n",
       "      <td>1.0</td>\n",
       "      <td>17773874.0</td>\n",
       "      <td>1</td>\n",
       "      <td>0</td>\n",
       "    </tr>\n",
       "    <tr>\n",
       "      <th>24924</th>\n",
       "      <td>645</td>\n",
       "      <td>45.0</td>\n",
       "      <td>7</td>\n",
       "      <td>121286.32</td>\n",
       "      <td>1</td>\n",
       "      <td>1.0</td>\n",
       "      <td>1.0</td>\n",
       "      <td>869372.0</td>\n",
       "      <td>1</td>\n",
       "      <td>0</td>\n",
       "    </tr>\n",
       "    <tr>\n",
       "      <th>24925</th>\n",
       "      <td>567</td>\n",
       "      <td>47.0</td>\n",
       "      <td>1</td>\n",
       "      <td>126447.40</td>\n",
       "      <td>1</td>\n",
       "      <td>1.0</td>\n",
       "      <td>0.0</td>\n",
       "      <td>1011687.0</td>\n",
       "      <td>0</td>\n",
       "      <td>1</td>\n",
       "    </tr>\n",
       "    <tr>\n",
       "      <th>24926</th>\n",
       "      <td>725</td>\n",
       "      <td>32.0</td>\n",
       "      <td>1</td>\n",
       "      <td>0.00</td>\n",
       "      <td>2</td>\n",
       "      <td>1.0</td>\n",
       "      <td>1.0</td>\n",
       "      <td>1011687.0</td>\n",
       "      <td>1</td>\n",
       "      <td>2</td>\n",
       "    </tr>\n",
       "  </tbody>\n",
       "</table>\n",
       "<p>24927 rows × 10 columns</p>\n",
       "</div>"
      ],
      "text/plain": [
       "       Credit_Score  Idade  Tempo_Credito    Balanco  Qtd_Produtos  \\\n",
       "0               686   36.0              3   95848.58             2   \n",
       "1               703   35.0              1       0.00             1   \n",
       "2               730   26.0              6       0.00             1   \n",
       "3               675   33.0              6       0.00             2   \n",
       "4               754   24.0              3  121513.31             2   \n",
       "...             ...    ...            ...        ...           ...   \n",
       "24922           786   37.0              4       0.00             2   \n",
       "24923           592   35.0              7  122724.50             1   \n",
       "24924           645   45.0              7  121286.32             1   \n",
       "24925           567   47.0              1  126447.40             1   \n",
       "24926           725   32.0              1       0.00             2   \n",
       "\n",
       "       Possui_Cartao  Membro_Ativo  Salario_Anual  Genero_encoded  \\\n",
       "0                0.0           1.0      7144694.0               1   \n",
       "1                1.0           1.0     14136462.0               1   \n",
       "2                1.0           1.0      1011687.0               1   \n",
       "3                0.0           1.0      1011687.0               0   \n",
       "4                0.0           1.0      1011687.0               0   \n",
       "...              ...           ...            ...             ...   \n",
       "24922            0.0           1.0      1011687.0               0   \n",
       "24923            1.0           1.0     17773874.0               1   \n",
       "24924            1.0           1.0       869372.0               1   \n",
       "24925            1.0           0.0      1011687.0               0   \n",
       "24926            1.0           1.0      1011687.0               1   \n",
       "\n",
       "       Pais_encoded  \n",
       "0                 0  \n",
       "1                 0  \n",
       "2                 2  \n",
       "3                 0  \n",
       "4                 1  \n",
       "...             ...  \n",
       "24922             2  \n",
       "24923             0  \n",
       "24924             0  \n",
       "24925             1  \n",
       "24926             2  \n",
       "\n",
       "[24927 rows x 10 columns]"
      ]
     },
     "execution_count": 4,
     "metadata": {},
     "output_type": "execute_result"
    }
   ],
   "source": [
    "X_test"
   ]
  },
  {
   "cell_type": "code",
   "execution_count": 4,
   "metadata": {
    "colab": {
     "base_uri": "https://localhost:8080/",
     "height": 423
    },
    "id": "kEJqgmqAWIH_",
    "outputId": "7a1aac1c-b0b9-4336-b0d5-4e3bcd9a2d15"
   },
   "outputs": [
    {
     "data": {
      "text/html": [
       "<div>\n",
       "<style scoped>\n",
       "    .dataframe tbody tr th:only-of-type {\n",
       "        vertical-align: middle;\n",
       "    }\n",
       "\n",
       "    .dataframe tbody tr th {\n",
       "        vertical-align: top;\n",
       "    }\n",
       "\n",
       "    .dataframe thead th {\n",
       "        text-align: right;\n",
       "    }\n",
       "</style>\n",
       "<table border=\"1\" class=\"dataframe\">\n",
       "  <thead>\n",
       "    <tr style=\"text-align: right;\">\n",
       "      <th></th>\n",
       "      <th>Churn</th>\n",
       "    </tr>\n",
       "  </thead>\n",
       "  <tbody>\n",
       "    <tr>\n",
       "      <th>0</th>\n",
       "      <td>0.0</td>\n",
       "    </tr>\n",
       "    <tr>\n",
       "      <th>1</th>\n",
       "      <td>0.0</td>\n",
       "    </tr>\n",
       "    <tr>\n",
       "      <th>2</th>\n",
       "      <td>0.0</td>\n",
       "    </tr>\n",
       "    <tr>\n",
       "      <th>3</th>\n",
       "      <td>0.0</td>\n",
       "    </tr>\n",
       "    <tr>\n",
       "      <th>4</th>\n",
       "      <td>0.0</td>\n",
       "    </tr>\n",
       "    <tr>\n",
       "      <th>...</th>\n",
       "      <td>...</td>\n",
       "    </tr>\n",
       "    <tr>\n",
       "      <th>24922</th>\n",
       "      <td>0.0</td>\n",
       "    </tr>\n",
       "    <tr>\n",
       "      <th>24923</th>\n",
       "      <td>0.0</td>\n",
       "    </tr>\n",
       "    <tr>\n",
       "      <th>24924</th>\n",
       "      <td>0.0</td>\n",
       "    </tr>\n",
       "    <tr>\n",
       "      <th>24925</th>\n",
       "      <td>1.0</td>\n",
       "    </tr>\n",
       "    <tr>\n",
       "      <th>24926</th>\n",
       "      <td>0.0</td>\n",
       "    </tr>\n",
       "  </tbody>\n",
       "</table>\n",
       "<p>24927 rows × 1 columns</p>\n",
       "</div>"
      ],
      "text/plain": [
       "       Churn\n",
       "0        0.0\n",
       "1        0.0\n",
       "2        0.0\n",
       "3        0.0\n",
       "4        0.0\n",
       "...      ...\n",
       "24922    0.0\n",
       "24923    0.0\n",
       "24924    0.0\n",
       "24925    1.0\n",
       "24926    0.0\n",
       "\n",
       "[24927 rows x 1 columns]"
      ]
     },
     "execution_count": 4,
     "metadata": {},
     "output_type": "execute_result"
    }
   ],
   "source": [
    "y_test"
   ]
  },
  {
   "cell_type": "code",
   "execution_count": 5,
   "metadata": {
    "colab": {
     "base_uri": "https://localhost:8080/",
     "height": 423
    },
    "id": "ITCJzK28WKNm",
    "outputId": "b0491f48-a56e-494a-eb7f-68e66e6dec60"
   },
   "outputs": [
    {
     "data": {
      "text/html": [
       "<div>\n",
       "<style scoped>\n",
       "    .dataframe tbody tr th:only-of-type {\n",
       "        vertical-align: middle;\n",
       "    }\n",
       "\n",
       "    .dataframe tbody tr th {\n",
       "        vertical-align: top;\n",
       "    }\n",
       "\n",
       "    .dataframe thead th {\n",
       "        text-align: right;\n",
       "    }\n",
       "</style>\n",
       "<table border=\"1\" class=\"dataframe\">\n",
       "  <thead>\n",
       "    <tr style=\"text-align: right;\">\n",
       "      <th></th>\n",
       "      <th>Churn</th>\n",
       "    </tr>\n",
       "  </thead>\n",
       "  <tbody>\n",
       "    <tr>\n",
       "      <th>0</th>\n",
       "      <td>1.0</td>\n",
       "    </tr>\n",
       "    <tr>\n",
       "      <th>1</th>\n",
       "      <td>0.0</td>\n",
       "    </tr>\n",
       "    <tr>\n",
       "      <th>2</th>\n",
       "      <td>1.0</td>\n",
       "    </tr>\n",
       "    <tr>\n",
       "      <th>3</th>\n",
       "      <td>1.0</td>\n",
       "    </tr>\n",
       "    <tr>\n",
       "      <th>4</th>\n",
       "      <td>1.0</td>\n",
       "    </tr>\n",
       "    <tr>\n",
       "      <th>...</th>\n",
       "      <td>...</td>\n",
       "    </tr>\n",
       "    <tr>\n",
       "      <th>117945</th>\n",
       "      <td>1.0</td>\n",
       "    </tr>\n",
       "    <tr>\n",
       "      <th>117946</th>\n",
       "      <td>1.0</td>\n",
       "    </tr>\n",
       "    <tr>\n",
       "      <th>117947</th>\n",
       "      <td>1.0</td>\n",
       "    </tr>\n",
       "    <tr>\n",
       "      <th>117948</th>\n",
       "      <td>1.0</td>\n",
       "    </tr>\n",
       "    <tr>\n",
       "      <th>117949</th>\n",
       "      <td>1.0</td>\n",
       "    </tr>\n",
       "  </tbody>\n",
       "</table>\n",
       "<p>117950 rows × 1 columns</p>\n",
       "</div>"
      ],
      "text/plain": [
       "        Churn\n",
       "0         1.0\n",
       "1         0.0\n",
       "2         1.0\n",
       "3         1.0\n",
       "4         1.0\n",
       "...       ...\n",
       "117945    1.0\n",
       "117946    1.0\n",
       "117947    1.0\n",
       "117948    1.0\n",
       "117949    1.0\n",
       "\n",
       "[117950 rows x 1 columns]"
      ]
     },
     "execution_count": 5,
     "metadata": {},
     "output_type": "execute_result"
    }
   ],
   "source": [
    "y_train"
   ]
  },
  {
   "cell_type": "code",
   "execution_count": 6,
   "metadata": {
    "colab": {
     "base_uri": "https://localhost:8080/"
    },
    "id": "7uJ7Yodgri8i",
    "outputId": "2d866b9e-7b74-42ca-c9e4-8eecfb59f6ec"
   },
   "outputs": [
    {
     "name": "stdout",
     "output_type": "stream",
     "text": [
      "Contagem de amostras por classe:\n",
      "Churn\n",
      "0.0      58975\n",
      "1.0      58975\n",
      "Name: count, dtype: int64\n"
     ]
    }
   ],
   "source": [
    "contagem_classes = y_train.value_counts()\n",
    "\n",
    "print(\"Contagem de amostras por classe:\")\n",
    "print(contagem_classes)"
   ]
  },
  {
   "cell_type": "code",
   "execution_count": 7,
   "metadata": {
    "colab": {
     "base_uri": "https://localhost:8080/",
     "height": 443
    },
    "id": "m-6D_b2dWLSd",
    "outputId": "bfa7eb73-f49a-476e-bc88-be917e10358d"
   },
   "outputs": [
    {
     "data": {
      "text/html": [
       "<div>\n",
       "<style scoped>\n",
       "    .dataframe tbody tr th:only-of-type {\n",
       "        vertical-align: middle;\n",
       "    }\n",
       "\n",
       "    .dataframe tbody tr th {\n",
       "        vertical-align: top;\n",
       "    }\n",
       "\n",
       "    .dataframe thead th {\n",
       "        text-align: right;\n",
       "    }\n",
       "</style>\n",
       "<table border=\"1\" class=\"dataframe\">\n",
       "  <thead>\n",
       "    <tr style=\"text-align: right;\">\n",
       "      <th></th>\n",
       "      <th>Credit_Score</th>\n",
       "      <th>Idade</th>\n",
       "      <th>Tempo_Credito</th>\n",
       "      <th>Balanco</th>\n",
       "      <th>Qtd_Produtos</th>\n",
       "      <th>Possui_Cartao</th>\n",
       "      <th>Membro_Ativo</th>\n",
       "      <th>Salario_Anual</th>\n",
       "      <th>Genero_encoded</th>\n",
       "      <th>Pais_encoded</th>\n",
       "    </tr>\n",
       "  </thead>\n",
       "  <tbody>\n",
       "    <tr>\n",
       "      <th>0</th>\n",
       "      <td>711</td>\n",
       "      <td>35.000000</td>\n",
       "      <td>10</td>\n",
       "      <td>0.000000</td>\n",
       "      <td>2</td>\n",
       "      <td>1.000000</td>\n",
       "      <td>0.000000</td>\n",
       "      <td>5331178.0</td>\n",
       "      <td>1</td>\n",
       "      <td>0</td>\n",
       "    </tr>\n",
       "    <tr>\n",
       "      <th>1</th>\n",
       "      <td>619</td>\n",
       "      <td>33.000000</td>\n",
       "      <td>7</td>\n",
       "      <td>0.000000</td>\n",
       "      <td>2</td>\n",
       "      <td>0.000000</td>\n",
       "      <td>1.000000</td>\n",
       "      <td>1011687.0</td>\n",
       "      <td>1</td>\n",
       "      <td>0</td>\n",
       "    </tr>\n",
       "    <tr>\n",
       "      <th>2</th>\n",
       "      <td>841</td>\n",
       "      <td>54.000000</td>\n",
       "      <td>4</td>\n",
       "      <td>102721.490000</td>\n",
       "      <td>1</td>\n",
       "      <td>1.000000</td>\n",
       "      <td>1.000000</td>\n",
       "      <td>1011687.0</td>\n",
       "      <td>1</td>\n",
       "      <td>1</td>\n",
       "    </tr>\n",
       "    <tr>\n",
       "      <th>3</th>\n",
       "      <td>679</td>\n",
       "      <td>48.000000</td>\n",
       "      <td>6</td>\n",
       "      <td>125161.240000</td>\n",
       "      <td>1</td>\n",
       "      <td>1.000000</td>\n",
       "      <td>0.000000</td>\n",
       "      <td>579659.0</td>\n",
       "      <td>1</td>\n",
       "      <td>0</td>\n",
       "    </tr>\n",
       "    <tr>\n",
       "      <th>4</th>\n",
       "      <td>656</td>\n",
       "      <td>42.000000</td>\n",
       "      <td>6</td>\n",
       "      <td>0.000000</td>\n",
       "      <td>3</td>\n",
       "      <td>0.000000</td>\n",
       "      <td>0.000000</td>\n",
       "      <td>14233155.0</td>\n",
       "      <td>0</td>\n",
       "      <td>0</td>\n",
       "    </tr>\n",
       "    <tr>\n",
       "      <th>...</th>\n",
       "      <td>...</td>\n",
       "      <td>...</td>\n",
       "      <td>...</td>\n",
       "      <td>...</td>\n",
       "      <td>...</td>\n",
       "      <td>...</td>\n",
       "      <td>...</td>\n",
       "      <td>...</td>\n",
       "      <td>...</td>\n",
       "      <td>...</td>\n",
       "    </tr>\n",
       "    <tr>\n",
       "      <th>117945</th>\n",
       "      <td>529</td>\n",
       "      <td>43.000000</td>\n",
       "      <td>7</td>\n",
       "      <td>0.000000</td>\n",
       "      <td>1</td>\n",
       "      <td>0.514157</td>\n",
       "      <td>0.000000</td>\n",
       "      <td>1011687.0</td>\n",
       "      <td>1</td>\n",
       "      <td>2</td>\n",
       "    </tr>\n",
       "    <tr>\n",
       "      <th>117946</th>\n",
       "      <td>639</td>\n",
       "      <td>44.450575</td>\n",
       "      <td>7</td>\n",
       "      <td>0.000000</td>\n",
       "      <td>1</td>\n",
       "      <td>1.000000</td>\n",
       "      <td>0.725287</td>\n",
       "      <td>1011687.0</td>\n",
       "      <td>0</td>\n",
       "      <td>2</td>\n",
       "    </tr>\n",
       "    <tr>\n",
       "      <th>117947</th>\n",
       "      <td>541</td>\n",
       "      <td>49.890057</td>\n",
       "      <td>6</td>\n",
       "      <td>102744.063633</td>\n",
       "      <td>1</td>\n",
       "      <td>1.000000</td>\n",
       "      <td>0.000000</td>\n",
       "      <td>1011687.0</td>\n",
       "      <td>0</td>\n",
       "      <td>1</td>\n",
       "    </tr>\n",
       "    <tr>\n",
       "      <th>117948</th>\n",
       "      <td>593</td>\n",
       "      <td>37.911470</td>\n",
       "      <td>5</td>\n",
       "      <td>139949.785268</td>\n",
       "      <td>1</td>\n",
       "      <td>1.000000</td>\n",
       "      <td>0.000000</td>\n",
       "      <td>1011687.0</td>\n",
       "      <td>0</td>\n",
       "      <td>1</td>\n",
       "    </tr>\n",
       "    <tr>\n",
       "      <th>117949</th>\n",
       "      <td>733</td>\n",
       "      <td>28.402776</td>\n",
       "      <td>0</td>\n",
       "      <td>0.000000</td>\n",
       "      <td>3</td>\n",
       "      <td>0.000000</td>\n",
       "      <td>0.000000</td>\n",
       "      <td>1011687.0</td>\n",
       "      <td>0</td>\n",
       "      <td>0</td>\n",
       "    </tr>\n",
       "  </tbody>\n",
       "</table>\n",
       "<p>117950 rows × 10 columns</p>\n",
       "</div>"
      ],
      "text/plain": [
       "        Credit_Score      Idade  Tempo_Credito        Balanco  Qtd_Produtos  \\\n",
       "0                711  35.000000             10       0.000000             2   \n",
       "1                619  33.000000              7       0.000000             2   \n",
       "2                841  54.000000              4  102721.490000             1   \n",
       "3                679  48.000000              6  125161.240000             1   \n",
       "4                656  42.000000              6       0.000000             3   \n",
       "...              ...        ...            ...            ...           ...   \n",
       "117945           529  43.000000              7       0.000000             1   \n",
       "117946           639  44.450575              7       0.000000             1   \n",
       "117947           541  49.890057              6  102744.063633             1   \n",
       "117948           593  37.911470              5  139949.785268             1   \n",
       "117949           733  28.402776              0       0.000000             3   \n",
       "\n",
       "        Possui_Cartao  Membro_Ativo  Salario_Anual  Genero_encoded  \\\n",
       "0            1.000000      0.000000      5331178.0               1   \n",
       "1            0.000000      1.000000      1011687.0               1   \n",
       "2            1.000000      1.000000      1011687.0               1   \n",
       "3            1.000000      0.000000       579659.0               1   \n",
       "4            0.000000      0.000000     14233155.0               0   \n",
       "...               ...           ...            ...             ...   \n",
       "117945       0.514157      0.000000      1011687.0               1   \n",
       "117946       1.000000      0.725287      1011687.0               0   \n",
       "117947       1.000000      0.000000      1011687.0               0   \n",
       "117948       1.000000      0.000000      1011687.0               0   \n",
       "117949       0.000000      0.000000      1011687.0               0   \n",
       "\n",
       "        Pais_encoded  \n",
       "0                  0  \n",
       "1                  0  \n",
       "2                  1  \n",
       "3                  0  \n",
       "4                  0  \n",
       "...              ...  \n",
       "117945             2  \n",
       "117946             2  \n",
       "117947             1  \n",
       "117948             1  \n",
       "117949             0  \n",
       "\n",
       "[117950 rows x 10 columns]"
      ]
     },
     "execution_count": 7,
     "metadata": {},
     "output_type": "execute_result"
    }
   ],
   "source": [
    "X_train"
   ]
  },
  {
   "cell_type": "markdown",
   "metadata": {
    "id": "_fZaMBX7WQGC"
   },
   "source": [
    "Já estamos cientes de que nosso problema se encaixa em uma classificação, pois queremos classificar quais dos nossos clientes serão churns ou não."
   ]
  },
  {
   "cell_type": "markdown",
   "metadata": {
    "id": "dU16G9KzYWsr"
   },
   "source": [
    "# **1 - Construindo o algoritmo de treino:**"
   ]
  },
  {
   "cell_type": "markdown",
   "metadata": {
    "id": "YnsHyFoPCY0-"
   },
   "source": [
    "Iremos implementar nosso algoritmo da árvore de decisão a base de treino:"
   ]
  },
  {
   "cell_type": "code",
   "execution_count": 5,
   "metadata": {
    "id": "Ke_hWvEiYvpy"
   },
   "outputs": [],
   "source": [
    "from sklearn.tree import DecisionTreeClassifier # Bilioteca que é a implementação de árvores de decisão disponível no scikit-learn."
   ]
  },
  {
   "cell_type": "code",
   "execution_count": 6,
   "metadata": {
    "colab": {
     "base_uri": "https://localhost:8080/",
     "height": 74
    },
    "id": "FzCwh-t4YZmh",
    "outputId": "3a58a6d2-b3f6-482e-dc71-2a6687fae54e"
   },
   "outputs": [
    {
     "data": {
      "text/html": [
       "<style>#sk-container-id-1 {\n",
       "  /* Definition of color scheme common for light and dark mode */\n",
       "  --sklearn-color-text: #000;\n",
       "  --sklearn-color-text-muted: #666;\n",
       "  --sklearn-color-line: gray;\n",
       "  /* Definition of color scheme for unfitted estimators */\n",
       "  --sklearn-color-unfitted-level-0: #fff5e6;\n",
       "  --sklearn-color-unfitted-level-1: #f6e4d2;\n",
       "  --sklearn-color-unfitted-level-2: #ffe0b3;\n",
       "  --sklearn-color-unfitted-level-3: chocolate;\n",
       "  /* Definition of color scheme for fitted estimators */\n",
       "  --sklearn-color-fitted-level-0: #f0f8ff;\n",
       "  --sklearn-color-fitted-level-1: #d4ebff;\n",
       "  --sklearn-color-fitted-level-2: #b3dbfd;\n",
       "  --sklearn-color-fitted-level-3: cornflowerblue;\n",
       "\n",
       "  /* Specific color for light theme */\n",
       "  --sklearn-color-text-on-default-background: var(--sg-text-color, var(--theme-code-foreground, var(--jp-content-font-color1, black)));\n",
       "  --sklearn-color-background: var(--sg-background-color, var(--theme-background, var(--jp-layout-color0, white)));\n",
       "  --sklearn-color-border-box: var(--sg-text-color, var(--theme-code-foreground, var(--jp-content-font-color1, black)));\n",
       "  --sklearn-color-icon: #696969;\n",
       "\n",
       "  @media (prefers-color-scheme: dark) {\n",
       "    /* Redefinition of color scheme for dark theme */\n",
       "    --sklearn-color-text-on-default-background: var(--sg-text-color, var(--theme-code-foreground, var(--jp-content-font-color1, white)));\n",
       "    --sklearn-color-background: var(--sg-background-color, var(--theme-background, var(--jp-layout-color0, #111)));\n",
       "    --sklearn-color-border-box: var(--sg-text-color, var(--theme-code-foreground, var(--jp-content-font-color1, white)));\n",
       "    --sklearn-color-icon: #878787;\n",
       "  }\n",
       "}\n",
       "\n",
       "#sk-container-id-1 {\n",
       "  color: var(--sklearn-color-text);\n",
       "}\n",
       "\n",
       "#sk-container-id-1 pre {\n",
       "  padding: 0;\n",
       "}\n",
       "\n",
       "#sk-container-id-1 input.sk-hidden--visually {\n",
       "  border: 0;\n",
       "  clip: rect(1px 1px 1px 1px);\n",
       "  clip: rect(1px, 1px, 1px, 1px);\n",
       "  height: 1px;\n",
       "  margin: -1px;\n",
       "  overflow: hidden;\n",
       "  padding: 0;\n",
       "  position: absolute;\n",
       "  width: 1px;\n",
       "}\n",
       "\n",
       "#sk-container-id-1 div.sk-dashed-wrapped {\n",
       "  border: 1px dashed var(--sklearn-color-line);\n",
       "  margin: 0 0.4em 0.5em 0.4em;\n",
       "  box-sizing: border-box;\n",
       "  padding-bottom: 0.4em;\n",
       "  background-color: var(--sklearn-color-background);\n",
       "}\n",
       "\n",
       "#sk-container-id-1 div.sk-container {\n",
       "  /* jupyter's `normalize.less` sets `[hidden] { display: none; }`\n",
       "     but bootstrap.min.css set `[hidden] { display: none !important; }`\n",
       "     so we also need the `!important` here to be able to override the\n",
       "     default hidden behavior on the sphinx rendered scikit-learn.org.\n",
       "     See: https://github.com/scikit-learn/scikit-learn/issues/21755 */\n",
       "  display: inline-block !important;\n",
       "  position: relative;\n",
       "}\n",
       "\n",
       "#sk-container-id-1 div.sk-text-repr-fallback {\n",
       "  display: none;\n",
       "}\n",
       "\n",
       "div.sk-parallel-item,\n",
       "div.sk-serial,\n",
       "div.sk-item {\n",
       "  /* draw centered vertical line to link estimators */\n",
       "  background-image: linear-gradient(var(--sklearn-color-text-on-default-background), var(--sklearn-color-text-on-default-background));\n",
       "  background-size: 2px 100%;\n",
       "  background-repeat: no-repeat;\n",
       "  background-position: center center;\n",
       "}\n",
       "\n",
       "/* Parallel-specific style estimator block */\n",
       "\n",
       "#sk-container-id-1 div.sk-parallel-item::after {\n",
       "  content: \"\";\n",
       "  width: 100%;\n",
       "  border-bottom: 2px solid var(--sklearn-color-text-on-default-background);\n",
       "  flex-grow: 1;\n",
       "}\n",
       "\n",
       "#sk-container-id-1 div.sk-parallel {\n",
       "  display: flex;\n",
       "  align-items: stretch;\n",
       "  justify-content: center;\n",
       "  background-color: var(--sklearn-color-background);\n",
       "  position: relative;\n",
       "}\n",
       "\n",
       "#sk-container-id-1 div.sk-parallel-item {\n",
       "  display: flex;\n",
       "  flex-direction: column;\n",
       "}\n",
       "\n",
       "#sk-container-id-1 div.sk-parallel-item:first-child::after {\n",
       "  align-self: flex-end;\n",
       "  width: 50%;\n",
       "}\n",
       "\n",
       "#sk-container-id-1 div.sk-parallel-item:last-child::after {\n",
       "  align-self: flex-start;\n",
       "  width: 50%;\n",
       "}\n",
       "\n",
       "#sk-container-id-1 div.sk-parallel-item:only-child::after {\n",
       "  width: 0;\n",
       "}\n",
       "\n",
       "/* Serial-specific style estimator block */\n",
       "\n",
       "#sk-container-id-1 div.sk-serial {\n",
       "  display: flex;\n",
       "  flex-direction: column;\n",
       "  align-items: center;\n",
       "  background-color: var(--sklearn-color-background);\n",
       "  padding-right: 1em;\n",
       "  padding-left: 1em;\n",
       "}\n",
       "\n",
       "\n",
       "/* Toggleable style: style used for estimator/Pipeline/ColumnTransformer box that is\n",
       "clickable and can be expanded/collapsed.\n",
       "- Pipeline and ColumnTransformer use this feature and define the default style\n",
       "- Estimators will overwrite some part of the style using the `sk-estimator` class\n",
       "*/\n",
       "\n",
       "/* Pipeline and ColumnTransformer style (default) */\n",
       "\n",
       "#sk-container-id-1 div.sk-toggleable {\n",
       "  /* Default theme specific background. It is overwritten whether we have a\n",
       "  specific estimator or a Pipeline/ColumnTransformer */\n",
       "  background-color: var(--sklearn-color-background);\n",
       "}\n",
       "\n",
       "/* Toggleable label */\n",
       "#sk-container-id-1 label.sk-toggleable__label {\n",
       "  cursor: pointer;\n",
       "  display: flex;\n",
       "  width: 100%;\n",
       "  margin-bottom: 0;\n",
       "  padding: 0.5em;\n",
       "  box-sizing: border-box;\n",
       "  text-align: center;\n",
       "  align-items: start;\n",
       "  justify-content: space-between;\n",
       "  gap: 0.5em;\n",
       "}\n",
       "\n",
       "#sk-container-id-1 label.sk-toggleable__label .caption {\n",
       "  font-size: 0.6rem;\n",
       "  font-weight: lighter;\n",
       "  color: var(--sklearn-color-text-muted);\n",
       "}\n",
       "\n",
       "#sk-container-id-1 label.sk-toggleable__label-arrow:before {\n",
       "  /* Arrow on the left of the label */\n",
       "  content: \"▸\";\n",
       "  float: left;\n",
       "  margin-right: 0.25em;\n",
       "  color: var(--sklearn-color-icon);\n",
       "}\n",
       "\n",
       "#sk-container-id-1 label.sk-toggleable__label-arrow:hover:before {\n",
       "  color: var(--sklearn-color-text);\n",
       "}\n",
       "\n",
       "/* Toggleable content - dropdown */\n",
       "\n",
       "#sk-container-id-1 div.sk-toggleable__content {\n",
       "  max-height: 0;\n",
       "  max-width: 0;\n",
       "  overflow: hidden;\n",
       "  text-align: left;\n",
       "  /* unfitted */\n",
       "  background-color: var(--sklearn-color-unfitted-level-0);\n",
       "}\n",
       "\n",
       "#sk-container-id-1 div.sk-toggleable__content.fitted {\n",
       "  /* fitted */\n",
       "  background-color: var(--sklearn-color-fitted-level-0);\n",
       "}\n",
       "\n",
       "#sk-container-id-1 div.sk-toggleable__content pre {\n",
       "  margin: 0.2em;\n",
       "  border-radius: 0.25em;\n",
       "  color: var(--sklearn-color-text);\n",
       "  /* unfitted */\n",
       "  background-color: var(--sklearn-color-unfitted-level-0);\n",
       "}\n",
       "\n",
       "#sk-container-id-1 div.sk-toggleable__content.fitted pre {\n",
       "  /* unfitted */\n",
       "  background-color: var(--sklearn-color-fitted-level-0);\n",
       "}\n",
       "\n",
       "#sk-container-id-1 input.sk-toggleable__control:checked~div.sk-toggleable__content {\n",
       "  /* Expand drop-down */\n",
       "  max-height: 200px;\n",
       "  max-width: 100%;\n",
       "  overflow: auto;\n",
       "}\n",
       "\n",
       "#sk-container-id-1 input.sk-toggleable__control:checked~label.sk-toggleable__label-arrow:before {\n",
       "  content: \"▾\";\n",
       "}\n",
       "\n",
       "/* Pipeline/ColumnTransformer-specific style */\n",
       "\n",
       "#sk-container-id-1 div.sk-label input.sk-toggleable__control:checked~label.sk-toggleable__label {\n",
       "  color: var(--sklearn-color-text);\n",
       "  background-color: var(--sklearn-color-unfitted-level-2);\n",
       "}\n",
       "\n",
       "#sk-container-id-1 div.sk-label.fitted input.sk-toggleable__control:checked~label.sk-toggleable__label {\n",
       "  background-color: var(--sklearn-color-fitted-level-2);\n",
       "}\n",
       "\n",
       "/* Estimator-specific style */\n",
       "\n",
       "/* Colorize estimator box */\n",
       "#sk-container-id-1 div.sk-estimator input.sk-toggleable__control:checked~label.sk-toggleable__label {\n",
       "  /* unfitted */\n",
       "  background-color: var(--sklearn-color-unfitted-level-2);\n",
       "}\n",
       "\n",
       "#sk-container-id-1 div.sk-estimator.fitted input.sk-toggleable__control:checked~label.sk-toggleable__label {\n",
       "  /* fitted */\n",
       "  background-color: var(--sklearn-color-fitted-level-2);\n",
       "}\n",
       "\n",
       "#sk-container-id-1 div.sk-label label.sk-toggleable__label,\n",
       "#sk-container-id-1 div.sk-label label {\n",
       "  /* The background is the default theme color */\n",
       "  color: var(--sklearn-color-text-on-default-background);\n",
       "}\n",
       "\n",
       "/* On hover, darken the color of the background */\n",
       "#sk-container-id-1 div.sk-label:hover label.sk-toggleable__label {\n",
       "  color: var(--sklearn-color-text);\n",
       "  background-color: var(--sklearn-color-unfitted-level-2);\n",
       "}\n",
       "\n",
       "/* Label box, darken color on hover, fitted */\n",
       "#sk-container-id-1 div.sk-label.fitted:hover label.sk-toggleable__label.fitted {\n",
       "  color: var(--sklearn-color-text);\n",
       "  background-color: var(--sklearn-color-fitted-level-2);\n",
       "}\n",
       "\n",
       "/* Estimator label */\n",
       "\n",
       "#sk-container-id-1 div.sk-label label {\n",
       "  font-family: monospace;\n",
       "  font-weight: bold;\n",
       "  display: inline-block;\n",
       "  line-height: 1.2em;\n",
       "}\n",
       "\n",
       "#sk-container-id-1 div.sk-label-container {\n",
       "  text-align: center;\n",
       "}\n",
       "\n",
       "/* Estimator-specific */\n",
       "#sk-container-id-1 div.sk-estimator {\n",
       "  font-family: monospace;\n",
       "  border: 1px dotted var(--sklearn-color-border-box);\n",
       "  border-radius: 0.25em;\n",
       "  box-sizing: border-box;\n",
       "  margin-bottom: 0.5em;\n",
       "  /* unfitted */\n",
       "  background-color: var(--sklearn-color-unfitted-level-0);\n",
       "}\n",
       "\n",
       "#sk-container-id-1 div.sk-estimator.fitted {\n",
       "  /* fitted */\n",
       "  background-color: var(--sklearn-color-fitted-level-0);\n",
       "}\n",
       "\n",
       "/* on hover */\n",
       "#sk-container-id-1 div.sk-estimator:hover {\n",
       "  /* unfitted */\n",
       "  background-color: var(--sklearn-color-unfitted-level-2);\n",
       "}\n",
       "\n",
       "#sk-container-id-1 div.sk-estimator.fitted:hover {\n",
       "  /* fitted */\n",
       "  background-color: var(--sklearn-color-fitted-level-2);\n",
       "}\n",
       "\n",
       "/* Specification for estimator info (e.g. \"i\" and \"?\") */\n",
       "\n",
       "/* Common style for \"i\" and \"?\" */\n",
       "\n",
       ".sk-estimator-doc-link,\n",
       "a:link.sk-estimator-doc-link,\n",
       "a:visited.sk-estimator-doc-link {\n",
       "  float: right;\n",
       "  font-size: smaller;\n",
       "  line-height: 1em;\n",
       "  font-family: monospace;\n",
       "  background-color: var(--sklearn-color-background);\n",
       "  border-radius: 1em;\n",
       "  height: 1em;\n",
       "  width: 1em;\n",
       "  text-decoration: none !important;\n",
       "  margin-left: 0.5em;\n",
       "  text-align: center;\n",
       "  /* unfitted */\n",
       "  border: var(--sklearn-color-unfitted-level-1) 1pt solid;\n",
       "  color: var(--sklearn-color-unfitted-level-1);\n",
       "}\n",
       "\n",
       ".sk-estimator-doc-link.fitted,\n",
       "a:link.sk-estimator-doc-link.fitted,\n",
       "a:visited.sk-estimator-doc-link.fitted {\n",
       "  /* fitted */\n",
       "  border: var(--sklearn-color-fitted-level-1) 1pt solid;\n",
       "  color: var(--sklearn-color-fitted-level-1);\n",
       "}\n",
       "\n",
       "/* On hover */\n",
       "div.sk-estimator:hover .sk-estimator-doc-link:hover,\n",
       ".sk-estimator-doc-link:hover,\n",
       "div.sk-label-container:hover .sk-estimator-doc-link:hover,\n",
       ".sk-estimator-doc-link:hover {\n",
       "  /* unfitted */\n",
       "  background-color: var(--sklearn-color-unfitted-level-3);\n",
       "  color: var(--sklearn-color-background);\n",
       "  text-decoration: none;\n",
       "}\n",
       "\n",
       "div.sk-estimator.fitted:hover .sk-estimator-doc-link.fitted:hover,\n",
       ".sk-estimator-doc-link.fitted:hover,\n",
       "div.sk-label-container:hover .sk-estimator-doc-link.fitted:hover,\n",
       ".sk-estimator-doc-link.fitted:hover {\n",
       "  /* fitted */\n",
       "  background-color: var(--sklearn-color-fitted-level-3);\n",
       "  color: var(--sklearn-color-background);\n",
       "  text-decoration: none;\n",
       "}\n",
       "\n",
       "/* Span, style for the box shown on hovering the info icon */\n",
       ".sk-estimator-doc-link span {\n",
       "  display: none;\n",
       "  z-index: 9999;\n",
       "  position: relative;\n",
       "  font-weight: normal;\n",
       "  right: .2ex;\n",
       "  padding: .5ex;\n",
       "  margin: .5ex;\n",
       "  width: min-content;\n",
       "  min-width: 20ex;\n",
       "  max-width: 50ex;\n",
       "  color: var(--sklearn-color-text);\n",
       "  box-shadow: 2pt 2pt 4pt #999;\n",
       "  /* unfitted */\n",
       "  background: var(--sklearn-color-unfitted-level-0);\n",
       "  border: .5pt solid var(--sklearn-color-unfitted-level-3);\n",
       "}\n",
       "\n",
       ".sk-estimator-doc-link.fitted span {\n",
       "  /* fitted */\n",
       "  background: var(--sklearn-color-fitted-level-0);\n",
       "  border: var(--sklearn-color-fitted-level-3);\n",
       "}\n",
       "\n",
       ".sk-estimator-doc-link:hover span {\n",
       "  display: block;\n",
       "}\n",
       "\n",
       "/* \"?\"-specific style due to the `<a>` HTML tag */\n",
       "\n",
       "#sk-container-id-1 a.estimator_doc_link {\n",
       "  float: right;\n",
       "  font-size: 1rem;\n",
       "  line-height: 1em;\n",
       "  font-family: monospace;\n",
       "  background-color: var(--sklearn-color-background);\n",
       "  border-radius: 1rem;\n",
       "  height: 1rem;\n",
       "  width: 1rem;\n",
       "  text-decoration: none;\n",
       "  /* unfitted */\n",
       "  color: var(--sklearn-color-unfitted-level-1);\n",
       "  border: var(--sklearn-color-unfitted-level-1) 1pt solid;\n",
       "}\n",
       "\n",
       "#sk-container-id-1 a.estimator_doc_link.fitted {\n",
       "  /* fitted */\n",
       "  border: var(--sklearn-color-fitted-level-1) 1pt solid;\n",
       "  color: var(--sklearn-color-fitted-level-1);\n",
       "}\n",
       "\n",
       "/* On hover */\n",
       "#sk-container-id-1 a.estimator_doc_link:hover {\n",
       "  /* unfitted */\n",
       "  background-color: var(--sklearn-color-unfitted-level-3);\n",
       "  color: var(--sklearn-color-background);\n",
       "  text-decoration: none;\n",
       "}\n",
       "\n",
       "#sk-container-id-1 a.estimator_doc_link.fitted:hover {\n",
       "  /* fitted */\n",
       "  background-color: var(--sklearn-color-fitted-level-3);\n",
       "}\n",
       "</style><div id=\"sk-container-id-1\" class=\"sk-top-container\"><div class=\"sk-text-repr-fallback\"><pre>DecisionTreeClassifier(random_state=0)</pre><b>In a Jupyter environment, please rerun this cell to show the HTML representation or trust the notebook. <br />On GitHub, the HTML representation is unable to render, please try loading this page with nbviewer.org.</b></div><div class=\"sk-container\" hidden><div class=\"sk-item\"><div class=\"sk-estimator fitted sk-toggleable\"><input class=\"sk-toggleable__control sk-hidden--visually\" id=\"sk-estimator-id-1\" type=\"checkbox\" checked><label for=\"sk-estimator-id-1\" class=\"sk-toggleable__label fitted sk-toggleable__label-arrow\"><div><div>DecisionTreeClassifier</div></div><div><a class=\"sk-estimator-doc-link fitted\" rel=\"noreferrer\" target=\"_blank\" href=\"https://scikit-learn.org/1.6/modules/generated/sklearn.tree.DecisionTreeClassifier.html\">?<span>Documentation for DecisionTreeClassifier</span></a><span class=\"sk-estimator-doc-link fitted\">i<span>Fitted</span></span></div></label><div class=\"sk-toggleable__content fitted\"><pre>DecisionTreeClassifier(random_state=0)</pre></div> </div></div></div></div>"
      ],
      "text/plain": [
       "DecisionTreeClassifier(random_state=0)"
      ]
     },
     "execution_count": 6,
     "metadata": {},
     "output_type": "execute_result"
    }
   ],
   "source": [
    "arvore_churn = DecisionTreeClassifier (criterion = 'gini', random_state = 0)\n",
    "#arvore_churn é o nome que escolho para meu classificador\n",
    "# 'criterion' define o critério para medir a qualidade da divisão (usando o índice de Gini neste caso)\n",
    "# 'random_state' define a semente aleatória para garantir a reprodutibilidade dos resultados\n",
    "arvore_churn.fit(X_train, y_train)"
   ]
  },
  {
   "cell_type": "markdown",
   "metadata": {
    "id": "cfK28PpzTuHm"
   },
   "source": [
    "O parâmetro random_state é usado em muitos algoritmos de aprendizado de máquina em scikit-learn para garantir a reprodutibilidade dos resultados.\n",
    "\n",
    "Quando você treina um modelo de aprendizado de máquina em um conjunto de dados, o algoritmo pode ter alguns componentes aleatórios, como a divisão dos dados em conjuntos de treinamento e teste, inicialização de pesos em redes neurais, embaralhamento de dados em algumas etapas, entre outros.\n",
    "\n",
    "O random_state permite que você controle essa aleatoriedade. Quando você fornece um valor específico para random_state, o algoritmo realizará todas as operações aleatórias exatamente da mesma maneira sempre que for executado com o mesmo random_state. Isso é útil para garantir a consistência dos resultados, especialmente quando você está comparando diferentes modelos ou executando experimentos de forma repetida."
   ]
  },
  {
   "cell_type": "markdown",
   "metadata": {
    "id": "O9eQGcIMCyMO"
   },
   "source": [
    "**Vamos verificar os parâmetros da nossa árvore:**"
   ]
  },
  {
   "cell_type": "code",
   "execution_count": 7,
   "metadata": {
    "colab": {
     "base_uri": "https://localhost:8080/"
    },
    "id": "7HELH8UPY_3j",
    "outputId": "b3a59fbc-3410-4700-b0d9-2ed91beda2f9"
   },
   "outputs": [
    {
     "name": "stdout",
     "output_type": "stream",
     "text": [
      "{'ccp_alpha': 0.0, 'class_weight': None, 'criterion': 'gini', 'max_depth': None, 'max_features': None, 'max_leaf_nodes': None, 'min_impurity_decrease': 0.0, 'min_samples_leaf': 1, 'min_samples_split': 2, 'min_weight_fraction_leaf': 0.0, 'monotonic_cst': None, 'random_state': 0, 'splitter': 'best'}\n"
     ]
    }
   ],
   "source": [
    "print(arvore_churn.get_params())"
   ]
  },
  {
   "cell_type": "markdown",
   "metadata": {
    "id": "Vnb0bh-gZGNR"
   },
   "source": [
    "ccp_alpha: Este é o parâmetro de poda. Controla o custo de complexidade-complexidade poda (CCP). Valores maiores de ccp_alpha incentivam a poda, o que pode levar a uma árvore mais simples, evitando o overfitting.\n",
    "\n",
    "class_weight: Peso associado às classes. Pode ser usado para lidar com conjuntos de dados desequilibrados, dando mais peso às classes menos representadas.\n",
    "\n",
    "criterion: O critério usado para medir a qualidade da divisão em cada nó da árvore. 'gini' para índice de Gini ou 'entropy' para ganho de informação.\n",
    "\n",
    "max_depth: A profundidade máxima da árvore. Controla a profundidade máxima que a árvore pode atingir. Limitar a profundidade pode ajudar a evitar overfitting.\n",
    "\n",
    "max_features: O número máximo de características a serem consideradas ao procurar a melhor divisão. Pode ser um número ou uma proporção das características.\n",
    "\n",
    "max_leaf_nodes: O número máximo de folhas na árvore. Limita o crescimento da árvore, ajudando a evitar overfitting.\n",
    "\n",
    "min_impurity_decrease: Um nó será dividido se a divisão resultante diminuir a impureza ponderada por pelo menos esse valor.\n",
    "\n",
    "min_samples_split: O número mínimo de amostras necessárias para dividir um nó interno. Controla o número mínimo de amostras necessárias para realizar uma divisão.\n",
    "\n",
    "min_weight_fraction_leaf: A fração ponderada do número total de amostras que deve ser em uma folha.\n",
    "\n",
    "random_state: O estado aleatório usado para dividir os dados em conjuntos de treinamento e teste. Garante reprodutibilidade dos resultados.\n",
    "\n",
    "splitter: A estratégia usada para escolher a divisão em cada nó. 'best' para escolher a melhor divisão ou 'random' para escolher uma divisão aleatória entre as melhores divisões.\n"
   ]
  },
  {
   "cell_type": "markdown",
   "metadata": {
    "id": "zy-PMoHEZjsQ"
   },
   "source": [
    "**Esses parâmetros são ajustáveis e podem ser ajustados para otimizar o desempenho do modelo em seu conjunto de dados específico. Experimentar diferentes valores para esses parâmetros pode ajudar a encontrar a configuração que melhor se adapta aos seus dados e requisitos de modelagem.**"
   ]
  },
  {
   "cell_type": "markdown",
   "metadata": {
    "id": "dttkHo_VC4a8"
   },
   "source": [
    "Abaixo podemos dar uma rápida olhada nas previsões para a base de teste:"
   ]
  },
  {
   "cell_type": "code",
   "execution_count": 8,
   "metadata": {
    "colab": {
     "base_uri": "https://localhost:8080/"
    },
    "id": "OWCunFI0W2YJ",
    "outputId": "f308a8e4-7923-4f9d-bd04-f9c24d45a130"
   },
   "outputs": [
    {
     "data": {
      "text/plain": [
       "array([1., 0., 1., 1., 1., 0., 0., 0., 1., 0.])"
      ]
     },
     "execution_count": 8,
     "metadata": {},
     "output_type": "execute_result"
    }
   ],
   "source": [
    "previsoes = arvore_churn.predict(X_train[:10])\n",
    "previsoes"
   ]
  },
  {
   "cell_type": "code",
   "execution_count": 12,
   "metadata": {
    "colab": {
     "base_uri": "https://localhost:8080/",
     "height": 423
    },
    "id": "smPkF2aFnC6e",
    "outputId": "93f0256e-4672-46d8-b102-8a203672bad9"
   },
   "outputs": [
    {
     "data": {
      "text/html": [
       "<div>\n",
       "<style scoped>\n",
       "    .dataframe tbody tr th:only-of-type {\n",
       "        vertical-align: middle;\n",
       "    }\n",
       "\n",
       "    .dataframe tbody tr th {\n",
       "        vertical-align: top;\n",
       "    }\n",
       "\n",
       "    .dataframe thead th {\n",
       "        text-align: right;\n",
       "    }\n",
       "</style>\n",
       "<table border=\"1\" class=\"dataframe\">\n",
       "  <thead>\n",
       "    <tr style=\"text-align: right;\">\n",
       "      <th></th>\n",
       "      <th>Churn</th>\n",
       "    </tr>\n",
       "  </thead>\n",
       "  <tbody>\n",
       "    <tr>\n",
       "      <th>0</th>\n",
       "      <td>1.0</td>\n",
       "    </tr>\n",
       "    <tr>\n",
       "      <th>1</th>\n",
       "      <td>0.0</td>\n",
       "    </tr>\n",
       "    <tr>\n",
       "      <th>2</th>\n",
       "      <td>1.0</td>\n",
       "    </tr>\n",
       "    <tr>\n",
       "      <th>3</th>\n",
       "      <td>1.0</td>\n",
       "    </tr>\n",
       "    <tr>\n",
       "      <th>4</th>\n",
       "      <td>1.0</td>\n",
       "    </tr>\n",
       "    <tr>\n",
       "      <th>...</th>\n",
       "      <td>...</td>\n",
       "    </tr>\n",
       "    <tr>\n",
       "      <th>117945</th>\n",
       "      <td>1.0</td>\n",
       "    </tr>\n",
       "    <tr>\n",
       "      <th>117946</th>\n",
       "      <td>1.0</td>\n",
       "    </tr>\n",
       "    <tr>\n",
       "      <th>117947</th>\n",
       "      <td>1.0</td>\n",
       "    </tr>\n",
       "    <tr>\n",
       "      <th>117948</th>\n",
       "      <td>1.0</td>\n",
       "    </tr>\n",
       "    <tr>\n",
       "      <th>117949</th>\n",
       "      <td>1.0</td>\n",
       "    </tr>\n",
       "  </tbody>\n",
       "</table>\n",
       "<p>117950 rows × 1 columns</p>\n",
       "</div>"
      ],
      "text/plain": [
       "        Churn\n",
       "0         1.0\n",
       "1         0.0\n",
       "2         1.0\n",
       "3         1.0\n",
       "4         1.0\n",
       "...       ...\n",
       "117945    1.0\n",
       "117946    1.0\n",
       "117947    1.0\n",
       "117948    1.0\n",
       "117949    1.0\n",
       "\n",
       "[117950 rows x 1 columns]"
      ]
     },
     "execution_count": 12,
     "metadata": {},
     "output_type": "execute_result"
    }
   ],
   "source": [
    "y_train"
   ]
  },
  {
   "cell_type": "markdown",
   "metadata": {
    "id": "k8wZ8BXUDASI"
   },
   "source": [
    "# **2 - Aplicando nosso modelo a base de teste e avaliando os resultados:**"
   ]
  },
  {
   "cell_type": "code",
   "execution_count": 9,
   "metadata": {
    "id": "UqTuXMH1ng_G"
   },
   "outputs": [],
   "source": [
    "from sklearn.metrics import accuracy_score, classification_report"
   ]
  },
  {
   "cell_type": "code",
   "execution_count": 10,
   "metadata": {
    "colab": {
     "base_uri": "https://localhost:8080/"
    },
    "id": "uIGGDtW_nhpY",
    "outputId": "38cfbc2c-ebaa-4d38-f247-f36550d58a2d"
   },
   "outputs": [
    {
     "name": "stdout",
     "output_type": "stream",
     "text": [
      "Acurácia: 0.789986761343122\n"
     ]
    }
   ],
   "source": [
    "previsoes = arvore_churn.predict(X_test)\n",
    "acuracia = accuracy_score(y_test, previsoes)\n",
    "print(\"Acurácia:\", acuracia)"
   ]
  },
  {
   "cell_type": "markdown",
   "metadata": {
    "id": "mu4ZVdWMqAIF"
   },
   "source": [
    "![image.png](data:image/png;base64,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)"
   ]
  },
  {
   "cell_type": "markdown",
   "metadata": {
    "id": "6OH9OY3LqEV1"
   },
   "source": [
    "![image.png](data:image/png;base64,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)"
   ]
  },
  {
   "cell_type": "code",
   "execution_count": 11,
   "metadata": {
    "colab": {
     "base_uri": "https://localhost:8080/"
    },
    "id": "7AKzX7c6npx2",
    "outputId": "bdf3db78-915b-4464-f231-05468dc33e8d"
   },
   "outputs": [
    {
     "name": "stdout",
     "output_type": "stream",
     "text": [
      "Relatório de Classificação:\n",
      "              precision    recall  f1-score   support\n",
      "\n",
      "         0.0       0.88      0.85      0.86     19649\n",
      "         1.0       0.50      0.56      0.53      5278\n",
      "\n",
      "    accuracy                           0.79     24927\n",
      "   macro avg       0.69      0.71      0.70     24927\n",
      "weighted avg       0.80      0.79      0.79     24927\n",
      "\n"
     ]
    }
   ],
   "source": [
    "relatorio = classification_report(y_test, previsoes)\n",
    "print(\"Relatório de Classificação:\")\n",
    "print(relatorio)"
   ]
  },
  {
   "cell_type": "markdown",
   "metadata": {
    "id": "osqScrnBqrq5"
   },
   "source": [
    "* Para a classe 0 (0.0): A precisão é de 88%, o que\n",
    "significa que 88% das amostras previstas como pertencentes à classe 0 realmente são da classe 0.\n",
    "* Para a classe 1 (1.0): A precisão é de 50%, indicando que apenas metade das amostras previstas como pertencentes à classe 1 realmente são da classe 1."
   ]
  },
  {
   "cell_type": "markdown",
   "metadata": {
    "id": "vIlAPOl_qxkY"
   },
   "source": [
    "* Para a classe 0 (0.0): A revocação é de 85%, indicando que o modelo identificou corretamente 85% das amostras da classe 0.\n",
    "* Para a classe 1 (1.0): A revocação é de 56%, indicando que o modelo identificou corretamente 56% das amostras da classe 1."
   ]
  },
  {
   "cell_type": "markdown",
   "metadata": {
    "id": "HW08Osjiq2FZ"
   },
   "source": [
    "* A acurácia global do modelo é de 79%, o que significa que 79% de todas as previsões do modelo estão corretas."
   ]
  },
  {
   "cell_type": "markdown",
   "metadata": {
    "id": "vFvDVlvMrBZm"
   },
   "source": [
    "A média (avg) ponderada (weighted average) das métricas de precisão, recall e F1-score é de 0.80 para a classe 0 e 0.79 para a classe 1.\n",
    "A média ponderada leva em consideração o desequilíbrio entre as classes, ponderando as métricas com base no número de amostras em cada classe.\n"
   ]
  },
  {
   "cell_type": "code",
   "execution_count": 14,
   "metadata": {
    "colab": {
     "base_uri": "https://localhost:8080/",
     "height": 564
    },
    "id": "6iDUlH3ZtUXI",
    "outputId": "491bebce-f8a2-4612-ff26-c1736b93948a"
   },
   "outputs": [
    {
     "data": {
      "image/png": "[encoded data removed]",
      "text/plain": [
       "<Figure size 800x600 with 2 Axes>"
      ]
     },
     "metadata": {},
     "output_type": "display_data"
    }
   ],
   "source": [
    "matriz_confusao = confusion_matrix(y_test, previsoes)\n",
    "\n",
    "# Plotando a matriz de confusão como um mapa de calor\n",
    "plt.figure(figsize=(8, 6))\n",
    "sns.heatmap(matriz_confusao, annot=True, cmap='Blues', fmt='d',\n",
    "            xticklabels=['Não Churn', 'Churn'],\n",
    "            yticklabels=['Não Churn', 'Churn'])\n",
    "plt.xlabel('Previsão')\n",
    "plt.ylabel('Real')\n",
    "plt.title('Matriz de Confusão')\n",
    "plt.show()"
   ]
  },
  {
   "cell_type": "markdown",
   "metadata": {
    "id": "VBNM4d_ktDkw"
   },
   "source": [
    "Notamos valores de métricas bem melhores que no modelo de naive bayes:\n",
    "* Complexidade do Modelo: Os modelos de árvore de decisão são mais flexíveis e podem capturar relações mais complexas entre as variáveis de entrada e a variável de saída, enquanto o Naive Bayes assume independência condicional entre as variáveis de entrada. Portanto, se houver interações complexas entre as variáveis, a árvore de decisão pode ter um desempenho melhor.\n",
    "* Assunções de Independência: O Naive Bayes assume independência condicional entre as variáveis de entrada, o que pode não ser realista em todos os conjuntos de dados. Se as variáveis de entrada estiverem correlacionadas, o modelo Naive Bayes pode não ser capaz de capturar essas relações, levando a um desempenho inferior."
   ]
  },
  {
   "cell_type": "markdown",
   "metadata": {
    "id": "qcS6QgTitO-z"
   },
   "source": [
    "# **MÓDULO 21 - AULA 5**\n",
    "# Implementação prática de Árvores de decisão em Python: Aprimorando"
   ]
  },
  {
   "cell_type": "markdown",
   "metadata": {
    "id": "7TT9t2u5u0kR"
   },
   "source": [
    "Como nossa árvore de decisão é grande e temos muitos nós, esse código tende a demorar."
   ]
  },
  {
   "cell_type": "code",
   "execution_count": 15,
   "metadata": {
    "colab": {
     "base_uri": "https://localhost:8080/",
     "height": 590
    },
    "id": "I6tgYetyuP6m",
    "outputId": "eca2d74d-d8c0-413a-add1-2afddfdf13e7"
   },
   "outputs": [
    {
     "ename": "KeyboardInterrupt",
     "evalue": "",
     "output_type": "error",
     "traceback": [
      "\u001b[0;31m---------------------------------------------------------------------------\u001b[0m",
      "\u001b[0;31mKeyboardInterrupt\u001b[0m                         Traceback (most recent call last)",
      "Cell \u001b[0;32mIn[15], line 3\u001b[0m\n\u001b[1;32m      1\u001b[0m plt\u001b[38;5;241m.\u001b[39mfigure(figsize\u001b[38;5;241m=\u001b[39m(\u001b[38;5;241m20\u001b[39m,\u001b[38;5;241m10\u001b[39m))\n\u001b[1;32m      2\u001b[0m plot_tree(arvore_churn, filled\u001b[38;5;241m=\u001b[39m\u001b[38;5;28;01mTrue\u001b[39;00m, feature_names\u001b[38;5;241m=\u001b[39mX_train\u001b[38;5;241m.\u001b[39mcolumns, class_names\u001b[38;5;241m=\u001b[39m[\u001b[38;5;124m'\u001b[39m\u001b[38;5;124m0\u001b[39m\u001b[38;5;124m'\u001b[39m, \u001b[38;5;124m'\u001b[39m\u001b[38;5;124m1\u001b[39m\u001b[38;5;124m'\u001b[39m])\n\u001b[0;32m----> 3\u001b[0m \u001b[43mplt\u001b[49m\u001b[38;5;241;43m.\u001b[39;49m\u001b[43mshow\u001b[49m\u001b[43m(\u001b[49m\u001b[43m)\u001b[49m\n",
      "File \u001b[0;32m~/anaconda3/envs/data_science/lib/python3.9/site-packages/matplotlib/pyplot.py:353\u001b[0m, in \u001b[0;36mshow\u001b[0;34m(*args, **kwargs)\u001b[0m\n\u001b[1;32m    325\u001b[0m \u001b[38;5;250m\u001b[39m\u001b[38;5;124;03m\"\"\"\u001b[39;00m\n\u001b[1;32m    326\u001b[0m \u001b[38;5;124;03mDisplay all open figures.\u001b[39;00m\n\u001b[1;32m    327\u001b[0m \n\u001b[0;32m   (...)\u001b[0m\n\u001b[1;32m    350\u001b[0m \n\u001b[1;32m    351\u001b[0m \u001b[38;5;124;03m\"\"\"\u001b[39;00m\n\u001b[1;32m    352\u001b[0m _warn_if_gui_out_of_main_thread()\n\u001b[0;32m--> 353\u001b[0m \u001b[38;5;28;01mreturn\u001b[39;00m \u001b[43m_backend_mod\u001b[49m\u001b[38;5;241;43m.\u001b[39;49m\u001b[43mshow\u001b[49m\u001b[43m(\u001b[49m\u001b[38;5;241;43m*\u001b[39;49m\u001b[43margs\u001b[49m\u001b[43m,\u001b[49m\u001b[43m \u001b[49m\u001b[38;5;241;43m*\u001b[39;49m\u001b[38;5;241;43m*\u001b[39;49m\u001b[43mkwargs\u001b[49m\u001b[43m)\u001b[49m\n",
      "File \u001b[0;32m~/anaconda3/envs/data_science/lib/python3.9/site-packages/matplotlib_inline/backend_inline.py:90\u001b[0m, in \u001b[0;36mshow\u001b[0;34m(close, block)\u001b[0m\n\u001b[1;32m     88\u001b[0m \u001b[38;5;28;01mtry\u001b[39;00m:\n\u001b[1;32m     89\u001b[0m     \u001b[38;5;28;01mfor\u001b[39;00m figure_manager \u001b[38;5;129;01min\u001b[39;00m Gcf\u001b[38;5;241m.\u001b[39mget_all_fig_managers():\n\u001b[0;32m---> 90\u001b[0m         \u001b[43mdisplay\u001b[49m\u001b[43m(\u001b[49m\n\u001b[1;32m     91\u001b[0m \u001b[43m            \u001b[49m\u001b[43mfigure_manager\u001b[49m\u001b[38;5;241;43m.\u001b[39;49m\u001b[43mcanvas\u001b[49m\u001b[38;5;241;43m.\u001b[39;49m\u001b[43mfigure\u001b[49m\u001b[43m,\u001b[49m\n\u001b[1;32m     92\u001b[0m \u001b[43m            \u001b[49m\u001b[43mmetadata\u001b[49m\u001b[38;5;241;43m=\u001b[39;49m\u001b[43m_fetch_figure_metadata\u001b[49m\u001b[43m(\u001b[49m\u001b[43mfigure_manager\u001b[49m\u001b[38;5;241;43m.\u001b[39;49m\u001b[43mcanvas\u001b[49m\u001b[38;5;241;43m.\u001b[39;49m\u001b[43mfigure\u001b[49m\u001b[43m)\u001b[49m\n\u001b[1;32m     93\u001b[0m \u001b[43m        \u001b[49m\u001b[43m)\u001b[49m\n\u001b[1;32m     94\u001b[0m \u001b[38;5;28;01mfinally\u001b[39;00m:\n\u001b[1;32m     95\u001b[0m     show\u001b[38;5;241m.\u001b[39m_to_draw \u001b[38;5;241m=\u001b[39m []\n",
      "File \u001b[0;32m~/anaconda3/envs/data_science/lib/python3.9/site-packages/IPython/core/display_functions.py:298\u001b[0m, in \u001b[0;36mdisplay\u001b[0;34m(include, exclude, metadata, transient, display_id, raw, clear, *objs, **kwargs)\u001b[0m\n\u001b[1;32m    296\u001b[0m     publish_display_data(data\u001b[38;5;241m=\u001b[39mobj, metadata\u001b[38;5;241m=\u001b[39mmetadata, \u001b[38;5;241m*\u001b[39m\u001b[38;5;241m*\u001b[39mkwargs)\n\u001b[1;32m    297\u001b[0m \u001b[38;5;28;01melse\u001b[39;00m:\n\u001b[0;32m--> 298\u001b[0m     format_dict, md_dict \u001b[38;5;241m=\u001b[39m \u001b[38;5;28;43mformat\u001b[39;49m\u001b[43m(\u001b[49m\u001b[43mobj\u001b[49m\u001b[43m,\u001b[49m\u001b[43m \u001b[49m\u001b[43minclude\u001b[49m\u001b[38;5;241;43m=\u001b[39;49m\u001b[43minclude\u001b[49m\u001b[43m,\u001b[49m\u001b[43m \u001b[49m\u001b[43mexclude\u001b[49m\u001b[38;5;241;43m=\u001b[39;49m\u001b[43mexclude\u001b[49m\u001b[43m)\u001b[49m\n\u001b[1;32m    299\u001b[0m     \u001b[38;5;28;01mif\u001b[39;00m \u001b[38;5;129;01mnot\u001b[39;00m format_dict:\n\u001b[1;32m    300\u001b[0m         \u001b[38;5;66;03m# nothing to display (e.g. _ipython_display_ took over)\u001b[39;00m\n\u001b[1;32m    301\u001b[0m         \u001b[38;5;28;01mcontinue\u001b[39;00m\n",
      "File \u001b[0;32m~/anaconda3/envs/data_science/lib/python3.9/site-packages/IPython/core/formatters.py:179\u001b[0m, in \u001b[0;36mDisplayFormatter.format\u001b[0;34m(self, obj, include, exclude)\u001b[0m\n\u001b[1;32m    177\u001b[0m md \u001b[38;5;241m=\u001b[39m \u001b[38;5;28;01mNone\u001b[39;00m\n\u001b[1;32m    178\u001b[0m \u001b[38;5;28;01mtry\u001b[39;00m:\n\u001b[0;32m--> 179\u001b[0m     data \u001b[38;5;241m=\u001b[39m \u001b[43mformatter\u001b[49m\u001b[43m(\u001b[49m\u001b[43mobj\u001b[49m\u001b[43m)\u001b[49m\n\u001b[1;32m    180\u001b[0m \u001b[38;5;28;01mexcept\u001b[39;00m:\n\u001b[1;32m    181\u001b[0m     \u001b[38;5;66;03m# FIXME: log the exception\u001b[39;00m\n\u001b[1;32m    182\u001b[0m     \u001b[38;5;28;01mraise\u001b[39;00m\n",
      "File \u001b[0;32m~/anaconda3/envs/data_science/lib/python3.9/site-packages/decorator.py:232\u001b[0m, in \u001b[0;36mdecorate.<locals>.fun\u001b[0;34m(*args, **kw)\u001b[0m\n\u001b[1;32m    230\u001b[0m \u001b[38;5;28;01mif\u001b[39;00m \u001b[38;5;129;01mnot\u001b[39;00m kwsyntax:\n\u001b[1;32m    231\u001b[0m     args, kw \u001b[38;5;241m=\u001b[39m fix(args, kw, sig)\n\u001b[0;32m--> 232\u001b[0m \u001b[38;5;28;01mreturn\u001b[39;00m \u001b[43mcaller\u001b[49m\u001b[43m(\u001b[49m\u001b[43mfunc\u001b[49m\u001b[43m,\u001b[49m\u001b[43m \u001b[49m\u001b[38;5;241;43m*\u001b[39;49m\u001b[43m(\u001b[49m\u001b[43mextras\u001b[49m\u001b[43m \u001b[49m\u001b[38;5;241;43m+\u001b[39;49m\u001b[43m \u001b[49m\u001b[43margs\u001b[49m\u001b[43m)\u001b[49m\u001b[43m,\u001b[49m\u001b[43m \u001b[49m\u001b[38;5;241;43m*\u001b[39;49m\u001b[38;5;241;43m*\u001b[39;49m\u001b[43mkw\u001b[49m\u001b[43m)\u001b[49m\n",
      "File \u001b[0;32m~/anaconda3/envs/data_science/lib/python3.9/site-packages/IPython/core/formatters.py:223\u001b[0m, in \u001b[0;36mcatch_format_error\u001b[0;34m(method, self, *args, **kwargs)\u001b[0m\n\u001b[1;32m    221\u001b[0m \u001b[38;5;250m\u001b[39m\u001b[38;5;124;03m\"\"\"show traceback on failed format call\"\"\"\u001b[39;00m\n\u001b[1;32m    222\u001b[0m \u001b[38;5;28;01mtry\u001b[39;00m:\n\u001b[0;32m--> 223\u001b[0m     r \u001b[38;5;241m=\u001b[39m \u001b[43mmethod\u001b[49m\u001b[43m(\u001b[49m\u001b[38;5;28;43mself\u001b[39;49m\u001b[43m,\u001b[49m\u001b[43m \u001b[49m\u001b[38;5;241;43m*\u001b[39;49m\u001b[43margs\u001b[49m\u001b[43m,\u001b[49m\u001b[43m \u001b[49m\u001b[38;5;241;43m*\u001b[39;49m\u001b[38;5;241;43m*\u001b[39;49m\u001b[43mkwargs\u001b[49m\u001b[43m)\u001b[49m\n\u001b[1;32m    224\u001b[0m \u001b[38;5;28;01mexcept\u001b[39;00m \u001b[38;5;167;01mNotImplementedError\u001b[39;00m:\n\u001b[1;32m    225\u001b[0m     \u001b[38;5;66;03m# don't warn on NotImplementedErrors\u001b[39;00m\n\u001b[1;32m    226\u001b[0m     \u001b[38;5;28;01mreturn\u001b[39;00m \u001b[38;5;28mself\u001b[39m\u001b[38;5;241m.\u001b[39m_check_return(\u001b[38;5;28;01mNone\u001b[39;00m, args[\u001b[38;5;241m0\u001b[39m])\n",
      "File \u001b[0;32m~/anaconda3/envs/data_science/lib/python3.9/site-packages/IPython/core/formatters.py:340\u001b[0m, in \u001b[0;36mBaseFormatter.__call__\u001b[0;34m(self, obj)\u001b[0m\n\u001b[1;32m    338\u001b[0m     \u001b[38;5;28;01mpass\u001b[39;00m\n\u001b[1;32m    339\u001b[0m \u001b[38;5;28;01melse\u001b[39;00m:\n\u001b[0;32m--> 340\u001b[0m     \u001b[38;5;28;01mreturn\u001b[39;00m \u001b[43mprinter\u001b[49m\u001b[43m(\u001b[49m\u001b[43mobj\u001b[49m\u001b[43m)\u001b[49m\n\u001b[1;32m    341\u001b[0m \u001b[38;5;66;03m# Finally look for special method names\u001b[39;00m\n\u001b[1;32m    342\u001b[0m method \u001b[38;5;241m=\u001b[39m get_real_method(obj, \u001b[38;5;28mself\u001b[39m\u001b[38;5;241m.\u001b[39mprint_method)\n",
      "File \u001b[0;32m~/anaconda3/envs/data_science/lib/python3.9/site-packages/IPython/core/pylabtools.py:152\u001b[0m, in \u001b[0;36mprint_figure\u001b[0;34m(fig, fmt, bbox_inches, base64, **kwargs)\u001b[0m\n\u001b[1;32m    149\u001b[0m     \u001b[38;5;28;01mfrom\u001b[39;00m\u001b[38;5;250m \u001b[39m\u001b[38;5;21;01mmatplotlib\u001b[39;00m\u001b[38;5;21;01m.\u001b[39;00m\u001b[38;5;21;01mbackend_bases\u001b[39;00m\u001b[38;5;250m \u001b[39m\u001b[38;5;28;01mimport\u001b[39;00m FigureCanvasBase\n\u001b[1;32m    150\u001b[0m     FigureCanvasBase(fig)\n\u001b[0;32m--> 152\u001b[0m \u001b[43mfig\u001b[49m\u001b[38;5;241;43m.\u001b[39;49m\u001b[43mcanvas\u001b[49m\u001b[38;5;241;43m.\u001b[39;49m\u001b[43mprint_figure\u001b[49m\u001b[43m(\u001b[49m\u001b[43mbytes_io\u001b[49m\u001b[43m,\u001b[49m\u001b[43m \u001b[49m\u001b[38;5;241;43m*\u001b[39;49m\u001b[38;5;241;43m*\u001b[39;49m\u001b[43mkw\u001b[49m\u001b[43m)\u001b[49m\n\u001b[1;32m    153\u001b[0m data \u001b[38;5;241m=\u001b[39m bytes_io\u001b[38;5;241m.\u001b[39mgetvalue()\n\u001b[1;32m    154\u001b[0m \u001b[38;5;28;01mif\u001b[39;00m fmt \u001b[38;5;241m==\u001b[39m \u001b[38;5;124m'\u001b[39m\u001b[38;5;124msvg\u001b[39m\u001b[38;5;124m'\u001b[39m:\n",
      "File \u001b[0;32m~/anaconda3/envs/data_science/lib/python3.9/site-packages/matplotlib/backend_bases.py:2193\u001b[0m, in \u001b[0;36mFigureCanvasBase.print_figure\u001b[0;34m(self, filename, dpi, facecolor, edgecolor, orientation, format, bbox_inches, pad_inches, bbox_extra_artists, backend, **kwargs)\u001b[0m\n\u001b[1;32m   2189\u001b[0m ctx \u001b[38;5;241m=\u001b[39m (renderer\u001b[38;5;241m.\u001b[39m_draw_disabled()\n\u001b[1;32m   2190\u001b[0m        \u001b[38;5;28;01mif\u001b[39;00m \u001b[38;5;28mhasattr\u001b[39m(renderer, \u001b[38;5;124m'\u001b[39m\u001b[38;5;124m_draw_disabled\u001b[39m\u001b[38;5;124m'\u001b[39m)\n\u001b[1;32m   2191\u001b[0m        \u001b[38;5;28;01melse\u001b[39;00m suppress())\n\u001b[1;32m   2192\u001b[0m \u001b[38;5;28;01mwith\u001b[39;00m ctx:\n\u001b[0;32m-> 2193\u001b[0m     \u001b[38;5;28;43mself\u001b[39;49m\u001b[38;5;241;43m.\u001b[39;49m\u001b[43mfigure\u001b[49m\u001b[38;5;241;43m.\u001b[39;49m\u001b[43mdraw\u001b[49m\u001b[43m(\u001b[49m\u001b[43mrenderer\u001b[49m\u001b[43m)\u001b[49m\n\u001b[1;32m   2195\u001b[0m bbox_inches \u001b[38;5;241m=\u001b[39m \u001b[38;5;28mself\u001b[39m\u001b[38;5;241m.\u001b[39mfigure\u001b[38;5;241m.\u001b[39mget_tightbbox(\n\u001b[1;32m   2196\u001b[0m     renderer, bbox_extra_artists\u001b[38;5;241m=\u001b[39mbbox_extra_artists)\n\u001b[1;32m   2197\u001b[0m \u001b[38;5;28;01mif\u001b[39;00m pad_inches \u001b[38;5;129;01mis\u001b[39;00m \u001b[38;5;28;01mNone\u001b[39;00m:\n",
      "File \u001b[0;32m~/anaconda3/envs/data_science/lib/python3.9/site-packages/matplotlib/artist.py:41\u001b[0m, in \u001b[0;36mallow_rasterization.<locals>.draw_wrapper\u001b[0;34m(artist, renderer, *args, **kwargs)\u001b[0m\n\u001b[1;32m     38\u001b[0m     \u001b[38;5;28;01mif\u001b[39;00m artist\u001b[38;5;241m.\u001b[39mget_agg_filter() \u001b[38;5;129;01mis\u001b[39;00m \u001b[38;5;129;01mnot\u001b[39;00m \u001b[38;5;28;01mNone\u001b[39;00m:\n\u001b[1;32m     39\u001b[0m         renderer\u001b[38;5;241m.\u001b[39mstart_filter()\n\u001b[0;32m---> 41\u001b[0m     \u001b[38;5;28;01mreturn\u001b[39;00m \u001b[43mdraw\u001b[49m\u001b[43m(\u001b[49m\u001b[43martist\u001b[49m\u001b[43m,\u001b[49m\u001b[43m \u001b[49m\u001b[43mrenderer\u001b[49m\u001b[43m,\u001b[49m\u001b[43m \u001b[49m\u001b[38;5;241;43m*\u001b[39;49m\u001b[43margs\u001b[49m\u001b[43m,\u001b[49m\u001b[43m \u001b[49m\u001b[38;5;241;43m*\u001b[39;49m\u001b[38;5;241;43m*\u001b[39;49m\u001b[43mkwargs\u001b[49m\u001b[43m)\u001b[49m\n\u001b[1;32m     42\u001b[0m \u001b[38;5;28;01mfinally\u001b[39;00m:\n\u001b[1;32m     43\u001b[0m     \u001b[38;5;28;01mif\u001b[39;00m artist\u001b[38;5;241m.\u001b[39mget_agg_filter() \u001b[38;5;129;01mis\u001b[39;00m \u001b[38;5;129;01mnot\u001b[39;00m \u001b[38;5;28;01mNone\u001b[39;00m:\n",
      "File \u001b[0;32m~/anaconda3/envs/data_science/lib/python3.9/site-packages/matplotlib/figure.py:1863\u001b[0m, in \u001b[0;36mFigure.draw\u001b[0;34m(self, renderer)\u001b[0m\n\u001b[1;32m   1860\u001b[0m             \u001b[38;5;66;03m# ValueError can occur when resizing a window.\u001b[39;00m\n\u001b[1;32m   1862\u001b[0m     \u001b[38;5;28mself\u001b[39m\u001b[38;5;241m.\u001b[39mpatch\u001b[38;5;241m.\u001b[39mdraw(renderer)\n\u001b[0;32m-> 1863\u001b[0m     \u001b[43mmimage\u001b[49m\u001b[38;5;241;43m.\u001b[39;49m\u001b[43m_draw_list_compositing_images\u001b[49m\u001b[43m(\u001b[49m\n\u001b[1;32m   1864\u001b[0m \u001b[43m        \u001b[49m\u001b[43mrenderer\u001b[49m\u001b[43m,\u001b[49m\u001b[43m \u001b[49m\u001b[38;5;28;43mself\u001b[39;49m\u001b[43m,\u001b[49m\u001b[43m \u001b[49m\u001b[43martists\u001b[49m\u001b[43m,\u001b[49m\u001b[43m \u001b[49m\u001b[38;5;28;43mself\u001b[39;49m\u001b[38;5;241;43m.\u001b[39;49m\u001b[43msuppressComposite\u001b[49m\u001b[43m)\u001b[49m\n\u001b[1;32m   1866\u001b[0m     renderer\u001b[38;5;241m.\u001b[39mclose_group(\u001b[38;5;124m'\u001b[39m\u001b[38;5;124mfigure\u001b[39m\u001b[38;5;124m'\u001b[39m)\n\u001b[1;32m   1867\u001b[0m \u001b[38;5;28;01mfinally\u001b[39;00m:\n",
      "File \u001b[0;32m~/anaconda3/envs/data_science/lib/python3.9/site-packages/matplotlib/image.py:131\u001b[0m, in \u001b[0;36m_draw_list_compositing_images\u001b[0;34m(renderer, parent, artists, suppress_composite)\u001b[0m\n\u001b[1;32m    129\u001b[0m \u001b[38;5;28;01mif\u001b[39;00m not_composite \u001b[38;5;129;01mor\u001b[39;00m \u001b[38;5;129;01mnot\u001b[39;00m has_images:\n\u001b[1;32m    130\u001b[0m     \u001b[38;5;28;01mfor\u001b[39;00m a \u001b[38;5;129;01min\u001b[39;00m artists:\n\u001b[0;32m--> 131\u001b[0m         \u001b[43ma\u001b[49m\u001b[38;5;241;43m.\u001b[39;49m\u001b[43mdraw\u001b[49m\u001b[43m(\u001b[49m\u001b[43mrenderer\u001b[49m\u001b[43m)\u001b[49m\n\u001b[1;32m    132\u001b[0m \u001b[38;5;28;01melse\u001b[39;00m:\n\u001b[1;32m    133\u001b[0m     \u001b[38;5;66;03m# Composite any adjacent images together\u001b[39;00m\n\u001b[1;32m    134\u001b[0m     image_group \u001b[38;5;241m=\u001b[39m []\n",
      "File \u001b[0;32m~/anaconda3/envs/data_science/lib/python3.9/site-packages/matplotlib/artist.py:41\u001b[0m, in \u001b[0;36mallow_rasterization.<locals>.draw_wrapper\u001b[0;34m(artist, renderer, *args, **kwargs)\u001b[0m\n\u001b[1;32m     38\u001b[0m     \u001b[38;5;28;01mif\u001b[39;00m artist\u001b[38;5;241m.\u001b[39mget_agg_filter() \u001b[38;5;129;01mis\u001b[39;00m \u001b[38;5;129;01mnot\u001b[39;00m \u001b[38;5;28;01mNone\u001b[39;00m:\n\u001b[1;32m     39\u001b[0m         renderer\u001b[38;5;241m.\u001b[39mstart_filter()\n\u001b[0;32m---> 41\u001b[0m     \u001b[38;5;28;01mreturn\u001b[39;00m \u001b[43mdraw\u001b[49m\u001b[43m(\u001b[49m\u001b[43martist\u001b[49m\u001b[43m,\u001b[49m\u001b[43m \u001b[49m\u001b[43mrenderer\u001b[49m\u001b[43m,\u001b[49m\u001b[43m \u001b[49m\u001b[38;5;241;43m*\u001b[39;49m\u001b[43margs\u001b[49m\u001b[43m,\u001b[49m\u001b[43m \u001b[49m\u001b[38;5;241;43m*\u001b[39;49m\u001b[38;5;241;43m*\u001b[39;49m\u001b[43mkwargs\u001b[49m\u001b[43m)\u001b[49m\n\u001b[1;32m     42\u001b[0m \u001b[38;5;28;01mfinally\u001b[39;00m:\n\u001b[1;32m     43\u001b[0m     \u001b[38;5;28;01mif\u001b[39;00m artist\u001b[38;5;241m.\u001b[39mget_agg_filter() \u001b[38;5;129;01mis\u001b[39;00m \u001b[38;5;129;01mnot\u001b[39;00m \u001b[38;5;28;01mNone\u001b[39;00m:\n",
      "File \u001b[0;32m~/anaconda3/envs/data_science/lib/python3.9/site-packages/matplotlib/cbook/deprecation.py:411\u001b[0m, in \u001b[0;36m_delete_parameter.<locals>.wrapper\u001b[0;34m(*inner_args, **inner_kwargs)\u001b[0m\n\u001b[1;32m    401\u001b[0m     deprecation_addendum \u001b[38;5;241m=\u001b[39m (\n\u001b[1;32m    402\u001b[0m         \u001b[38;5;124mf\u001b[39m\u001b[38;5;124m\"\u001b[39m\u001b[38;5;124mIf any parameter follows \u001b[39m\u001b[38;5;132;01m{\u001b[39;00mname\u001b[38;5;132;01m!r}\u001b[39;00m\u001b[38;5;124m, they should be passed as \u001b[39m\u001b[38;5;124m\"\u001b[39m\n\u001b[1;32m    403\u001b[0m         \u001b[38;5;124mf\u001b[39m\u001b[38;5;124m\"\u001b[39m\u001b[38;5;124mkeyword, not positionally.\u001b[39m\u001b[38;5;124m\"\u001b[39m)\n\u001b[1;32m    404\u001b[0m     warn_deprecated(\n\u001b[1;32m    405\u001b[0m         since,\n\u001b[1;32m    406\u001b[0m         name\u001b[38;5;241m=\u001b[39m\u001b[38;5;28mrepr\u001b[39m(name),\n\u001b[0;32m   (...)\u001b[0m\n\u001b[1;32m    409\u001b[0m                  \u001b[38;5;28;01melse\u001b[39;00m deprecation_addendum,\n\u001b[1;32m    410\u001b[0m         \u001b[38;5;241m*\u001b[39m\u001b[38;5;241m*\u001b[39mkwargs)\n\u001b[0;32m--> 411\u001b[0m \u001b[38;5;28;01mreturn\u001b[39;00m \u001b[43mfunc\u001b[49m\u001b[43m(\u001b[49m\u001b[38;5;241;43m*\u001b[39;49m\u001b[43minner_args\u001b[49m\u001b[43m,\u001b[49m\u001b[43m \u001b[49m\u001b[38;5;241;43m*\u001b[39;49m\u001b[38;5;241;43m*\u001b[39;49m\u001b[43minner_kwargs\u001b[49m\u001b[43m)\u001b[49m\n",
      "File \u001b[0;32m~/anaconda3/envs/data_science/lib/python3.9/site-packages/matplotlib/axes/_base.py:2747\u001b[0m, in \u001b[0;36m_AxesBase.draw\u001b[0;34m(self, renderer, inframe)\u001b[0m\n\u001b[1;32m   2744\u001b[0m         a\u001b[38;5;241m.\u001b[39mdraw(renderer)\n\u001b[1;32m   2745\u001b[0m     renderer\u001b[38;5;241m.\u001b[39mstop_rasterizing()\n\u001b[0;32m-> 2747\u001b[0m \u001b[43mmimage\u001b[49m\u001b[38;5;241;43m.\u001b[39;49m\u001b[43m_draw_list_compositing_images\u001b[49m\u001b[43m(\u001b[49m\u001b[43mrenderer\u001b[49m\u001b[43m,\u001b[49m\u001b[43m \u001b[49m\u001b[38;5;28;43mself\u001b[39;49m\u001b[43m,\u001b[49m\u001b[43m \u001b[49m\u001b[43martists\u001b[49m\u001b[43m)\u001b[49m\n\u001b[1;32m   2749\u001b[0m renderer\u001b[38;5;241m.\u001b[39mclose_group(\u001b[38;5;124m'\u001b[39m\u001b[38;5;124maxes\u001b[39m\u001b[38;5;124m'\u001b[39m)\n\u001b[1;32m   2750\u001b[0m \u001b[38;5;28mself\u001b[39m\u001b[38;5;241m.\u001b[39mstale \u001b[38;5;241m=\u001b[39m \u001b[38;5;28;01mFalse\u001b[39;00m\n",
      "File \u001b[0;32m~/anaconda3/envs/data_science/lib/python3.9/site-packages/matplotlib/image.py:131\u001b[0m, in \u001b[0;36m_draw_list_compositing_images\u001b[0;34m(renderer, parent, artists, suppress_composite)\u001b[0m\n\u001b[1;32m    129\u001b[0m \u001b[38;5;28;01mif\u001b[39;00m not_composite \u001b[38;5;129;01mor\u001b[39;00m \u001b[38;5;129;01mnot\u001b[39;00m has_images:\n\u001b[1;32m    130\u001b[0m     \u001b[38;5;28;01mfor\u001b[39;00m a \u001b[38;5;129;01min\u001b[39;00m artists:\n\u001b[0;32m--> 131\u001b[0m         \u001b[43ma\u001b[49m\u001b[38;5;241;43m.\u001b[39;49m\u001b[43mdraw\u001b[49m\u001b[43m(\u001b[49m\u001b[43mrenderer\u001b[49m\u001b[43m)\u001b[49m\n\u001b[1;32m    132\u001b[0m \u001b[38;5;28;01melse\u001b[39;00m:\n\u001b[1;32m    133\u001b[0m     \u001b[38;5;66;03m# Composite any adjacent images together\u001b[39;00m\n\u001b[1;32m    134\u001b[0m     image_group \u001b[38;5;241m=\u001b[39m []\n",
      "File \u001b[0;32m~/anaconda3/envs/data_science/lib/python3.9/site-packages/matplotlib/artist.py:41\u001b[0m, in \u001b[0;36mallow_rasterization.<locals>.draw_wrapper\u001b[0;34m(artist, renderer, *args, **kwargs)\u001b[0m\n\u001b[1;32m     38\u001b[0m     \u001b[38;5;28;01mif\u001b[39;00m artist\u001b[38;5;241m.\u001b[39mget_agg_filter() \u001b[38;5;129;01mis\u001b[39;00m \u001b[38;5;129;01mnot\u001b[39;00m \u001b[38;5;28;01mNone\u001b[39;00m:\n\u001b[1;32m     39\u001b[0m         renderer\u001b[38;5;241m.\u001b[39mstart_filter()\n\u001b[0;32m---> 41\u001b[0m     \u001b[38;5;28;01mreturn\u001b[39;00m \u001b[43mdraw\u001b[49m\u001b[43m(\u001b[49m\u001b[43martist\u001b[49m\u001b[43m,\u001b[49m\u001b[43m \u001b[49m\u001b[43mrenderer\u001b[49m\u001b[43m,\u001b[49m\u001b[43m \u001b[49m\u001b[38;5;241;43m*\u001b[39;49m\u001b[43margs\u001b[49m\u001b[43m,\u001b[49m\u001b[43m \u001b[49m\u001b[38;5;241;43m*\u001b[39;49m\u001b[38;5;241;43m*\u001b[39;49m\u001b[43mkwargs\u001b[49m\u001b[43m)\u001b[49m\n\u001b[1;32m     42\u001b[0m \u001b[38;5;28;01mfinally\u001b[39;00m:\n\u001b[1;32m     43\u001b[0m     \u001b[38;5;28;01mif\u001b[39;00m artist\u001b[38;5;241m.\u001b[39mget_agg_filter() \u001b[38;5;129;01mis\u001b[39;00m \u001b[38;5;129;01mnot\u001b[39;00m \u001b[38;5;28;01mNone\u001b[39;00m:\n",
      "File \u001b[0;32m~/anaconda3/envs/data_science/lib/python3.9/site-packages/matplotlib/text.py:1897\u001b[0m, in \u001b[0;36mAnnotation.draw\u001b[0;34m(self, renderer)\u001b[0m\n\u001b[1;32m   1895\u001b[0m     \u001b[38;5;28;01mif\u001b[39;00m \u001b[38;5;28mself\u001b[39m\u001b[38;5;241m.\u001b[39marrow_patch\u001b[38;5;241m.\u001b[39mfigure \u001b[38;5;129;01mis\u001b[39;00m \u001b[38;5;28;01mNone\u001b[39;00m \u001b[38;5;129;01mand\u001b[39;00m \u001b[38;5;28mself\u001b[39m\u001b[38;5;241m.\u001b[39mfigure \u001b[38;5;129;01mis\u001b[39;00m \u001b[38;5;129;01mnot\u001b[39;00m \u001b[38;5;28;01mNone\u001b[39;00m:\n\u001b[1;32m   1896\u001b[0m         \u001b[38;5;28mself\u001b[39m\u001b[38;5;241m.\u001b[39marrow_patch\u001b[38;5;241m.\u001b[39mfigure \u001b[38;5;241m=\u001b[39m \u001b[38;5;28mself\u001b[39m\u001b[38;5;241m.\u001b[39mfigure\n\u001b[0;32m-> 1897\u001b[0m     \u001b[38;5;28;43mself\u001b[39;49m\u001b[38;5;241;43m.\u001b[39;49m\u001b[43marrow_patch\u001b[49m\u001b[38;5;241;43m.\u001b[39;49m\u001b[43mdraw\u001b[49m\u001b[43m(\u001b[49m\u001b[43mrenderer\u001b[49m\u001b[43m)\u001b[49m\n\u001b[1;32m   1898\u001b[0m \u001b[38;5;66;03m# Draw text, including FancyBboxPatch, after FancyArrowPatch.\u001b[39;00m\n\u001b[1;32m   1899\u001b[0m \u001b[38;5;66;03m# Otherwise, a wedge arrowstyle can land partly on top of the Bbox.\u001b[39;00m\n\u001b[1;32m   1900\u001b[0m Text\u001b[38;5;241m.\u001b[39mdraw(\u001b[38;5;28mself\u001b[39m, renderer)\n",
      "File \u001b[0;32m~/anaconda3/envs/data_science/lib/python3.9/site-packages/matplotlib/patches.py:4170\u001b[0m, in \u001b[0;36mFancyArrowPatch.draw\u001b[0;34m(self, renderer)\u001b[0m\n\u001b[1;32m   4165\u001b[0m \u001b[38;5;28;01mwith\u001b[39;00m \u001b[38;5;28mself\u001b[39m\u001b[38;5;241m.\u001b[39m_bind_draw_path_function(renderer) \u001b[38;5;28;01mas\u001b[39;00m draw_path:\n\u001b[1;32m   4166\u001b[0m \n\u001b[1;32m   4167\u001b[0m     \u001b[38;5;66;03m# FIXME : dpi_cor is for the dpi-dependency of the linewidth. There\u001b[39;00m\n\u001b[1;32m   4168\u001b[0m     \u001b[38;5;66;03m# could be room for improvement.\u001b[39;00m\n\u001b[1;32m   4169\u001b[0m     \u001b[38;5;28mself\u001b[39m\u001b[38;5;241m.\u001b[39mset_dpi_cor(renderer\u001b[38;5;241m.\u001b[39mpoints_to_pixels(\u001b[38;5;241m1.\u001b[39m))\n\u001b[0;32m-> 4170\u001b[0m     path, fillable \u001b[38;5;241m=\u001b[39m \u001b[38;5;28;43mself\u001b[39;49m\u001b[38;5;241;43m.\u001b[39;49m\u001b[43mget_path_in_displaycoord\u001b[49m\u001b[43m(\u001b[49m\u001b[43m)\u001b[49m\n\u001b[1;32m   4172\u001b[0m     \u001b[38;5;28;01mif\u001b[39;00m \u001b[38;5;129;01mnot\u001b[39;00m np\u001b[38;5;241m.\u001b[39miterable(fillable):\n\u001b[1;32m   4173\u001b[0m         path \u001b[38;5;241m=\u001b[39m [path]\n",
      "File \u001b[0;32m~/anaconda3/envs/data_science/lib/python3.9/site-packages/matplotlib/patches.py:4141\u001b[0m, in \u001b[0;36mFancyArrowPatch.get_path_in_displaycoord\u001b[0;34m(self)\u001b[0m\n\u001b[1;32m   4139\u001b[0m     posB \u001b[38;5;241m=\u001b[39m \u001b[38;5;28mself\u001b[39m\u001b[38;5;241m.\u001b[39m_convert_xy_units(\u001b[38;5;28mself\u001b[39m\u001b[38;5;241m.\u001b[39m_posA_posB[\u001b[38;5;241m1\u001b[39m])\n\u001b[1;32m   4140\u001b[0m     (posA, posB) \u001b[38;5;241m=\u001b[39m \u001b[38;5;28mself\u001b[39m\u001b[38;5;241m.\u001b[39mget_transform()\u001b[38;5;241m.\u001b[39mtransform((posA, posB))\n\u001b[0;32m-> 4141\u001b[0m     _path \u001b[38;5;241m=\u001b[39m \u001b[38;5;28;43mself\u001b[39;49m\u001b[38;5;241;43m.\u001b[39;49m\u001b[43mget_connectionstyle\u001b[49m\u001b[43m(\u001b[49m\u001b[43m)\u001b[49m\u001b[43m(\u001b[49m\u001b[43mposA\u001b[49m\u001b[43m,\u001b[49m\u001b[43m \u001b[49m\u001b[43mposB\u001b[49m\u001b[43m,\u001b[49m\n\u001b[1;32m   4142\u001b[0m \u001b[43m                                       \u001b[49m\u001b[43mpatchA\u001b[49m\u001b[38;5;241;43m=\u001b[39;49m\u001b[38;5;28;43mself\u001b[39;49m\u001b[38;5;241;43m.\u001b[39;49m\u001b[43mpatchA\u001b[49m\u001b[43m,\u001b[49m\n\u001b[1;32m   4143\u001b[0m \u001b[43m                                       \u001b[49m\u001b[43mpatchB\u001b[49m\u001b[38;5;241;43m=\u001b[39;49m\u001b[38;5;28;43mself\u001b[39;49m\u001b[38;5;241;43m.\u001b[39;49m\u001b[43mpatchB\u001b[49m\u001b[43m,\u001b[49m\n\u001b[1;32m   4144\u001b[0m \u001b[43m                                       \u001b[49m\u001b[43mshrinkA\u001b[49m\u001b[38;5;241;43m=\u001b[39;49m\u001b[38;5;28;43mself\u001b[39;49m\u001b[38;5;241;43m.\u001b[39;49m\u001b[43mshrinkA\u001b[49m\u001b[43m \u001b[49m\u001b[38;5;241;43m*\u001b[39;49m\u001b[43m \u001b[49m\u001b[43mdpi_cor\u001b[49m\u001b[43m,\u001b[49m\n\u001b[1;32m   4145\u001b[0m \u001b[43m                                       \u001b[49m\u001b[43mshrinkB\u001b[49m\u001b[38;5;241;43m=\u001b[39;49m\u001b[38;5;28;43mself\u001b[39;49m\u001b[38;5;241;43m.\u001b[39;49m\u001b[43mshrinkB\u001b[49m\u001b[43m \u001b[49m\u001b[38;5;241;43m*\u001b[39;49m\u001b[43m \u001b[49m\u001b[43mdpi_cor\u001b[49m\n\u001b[1;32m   4146\u001b[0m \u001b[43m                                       \u001b[49m\u001b[43m)\u001b[49m\n\u001b[1;32m   4147\u001b[0m \u001b[38;5;28;01melse\u001b[39;00m:\n\u001b[1;32m   4148\u001b[0m     _path \u001b[38;5;241m=\u001b[39m \u001b[38;5;28mself\u001b[39m\u001b[38;5;241m.\u001b[39mget_transform()\u001b[38;5;241m.\u001b[39mtransform_path(\u001b[38;5;28mself\u001b[39m\u001b[38;5;241m.\u001b[39m_path_original)\n",
      "File \u001b[0;32m~/anaconda3/envs/data_science/lib/python3.9/site-packages/matplotlib/patches.py:2492\u001b[0m, in \u001b[0;36mConnectionStyle._Base.__call__\u001b[0;34m(self, posA, posB, shrinkA, shrinkB, patchA, patchB)\u001b[0m\n\u001b[1;32m   2487\u001b[0m \u001b[38;5;250m\u001b[39m\u001b[38;5;124;03m\"\"\"\u001b[39;00m\n\u001b[1;32m   2488\u001b[0m \u001b[38;5;124;03mCall the *connect* method to create a path between *posA* and\u001b[39;00m\n\u001b[1;32m   2489\u001b[0m \u001b[38;5;124;03m*posB*; then clip and shrink the path.\u001b[39;00m\n\u001b[1;32m   2490\u001b[0m \u001b[38;5;124;03m\"\"\"\u001b[39;00m\n\u001b[1;32m   2491\u001b[0m path \u001b[38;5;241m=\u001b[39m \u001b[38;5;28mself\u001b[39m\u001b[38;5;241m.\u001b[39mconnect(posA, posB)\n\u001b[0;32m-> 2492\u001b[0m clipped_path \u001b[38;5;241m=\u001b[39m \u001b[38;5;28;43mself\u001b[39;49m\u001b[38;5;241;43m.\u001b[39;49m\u001b[43m_clip\u001b[49m\u001b[43m(\u001b[49m\u001b[43mpath\u001b[49m\u001b[43m,\u001b[49m\u001b[43m \u001b[49m\u001b[43mpatchA\u001b[49m\u001b[43m,\u001b[49m\u001b[43m \u001b[49m\u001b[43mpatchB\u001b[49m\u001b[43m)\u001b[49m\n\u001b[1;32m   2493\u001b[0m shrunk_path \u001b[38;5;241m=\u001b[39m \u001b[38;5;28mself\u001b[39m\u001b[38;5;241m.\u001b[39m_shrink(clipped_path, shrinkA, shrinkB)\n\u001b[1;32m   2494\u001b[0m \u001b[38;5;28;01mreturn\u001b[39;00m shrunk_path\n",
      "File \u001b[0;32m~/anaconda3/envs/data_science/lib/python3.9/site-packages/matplotlib/patches.py:2447\u001b[0m, in \u001b[0;36mConnectionStyle._Base._clip\u001b[0;34m(self, path, patchA, patchB)\u001b[0m\n\u001b[1;32m   2444\u001b[0m     \u001b[38;5;28;01mreturn\u001b[39;00m patchA\u001b[38;5;241m.\u001b[39mcontains(xy_event)[\u001b[38;5;241m0\u001b[39m]\n\u001b[1;32m   2446\u001b[0m \u001b[38;5;28;01mtry\u001b[39;00m:\n\u001b[0;32m-> 2447\u001b[0m     left, right \u001b[38;5;241m=\u001b[39m \u001b[43msplit_path_inout\u001b[49m\u001b[43m(\u001b[49m\u001b[43mpath\u001b[49m\u001b[43m,\u001b[49m\u001b[43m \u001b[49m\u001b[43minsideA\u001b[49m\u001b[43m)\u001b[49m\n\u001b[1;32m   2448\u001b[0m \u001b[38;5;28;01mexcept\u001b[39;00m \u001b[38;5;167;01mValueError\u001b[39;00m:\n\u001b[1;32m   2449\u001b[0m     right \u001b[38;5;241m=\u001b[39m path\n",
      "File \u001b[0;32m~/anaconda3/envs/data_science/lib/python3.9/site-packages/matplotlib/bezier.py:350\u001b[0m, in \u001b[0;36msplit_path_inout\u001b[0;34m(path, inside, tolerance, reorder_inout)\u001b[0m\n\u001b[1;32m    347\u001b[0m \u001b[38;5;28;01mfrom\u001b[39;00m\u001b[38;5;250m \u001b[39m\u001b[38;5;21;01m.\u001b[39;00m\u001b[38;5;21;01mpath\u001b[39;00m\u001b[38;5;250m \u001b[39m\u001b[38;5;28;01mimport\u001b[39;00m Path\n\u001b[1;32m    348\u001b[0m path_iter \u001b[38;5;241m=\u001b[39m path\u001b[38;5;241m.\u001b[39miter_segments()\n\u001b[0;32m--> 350\u001b[0m ctl_points, command \u001b[38;5;241m=\u001b[39m \u001b[38;5;28;43mnext\u001b[39;49m\u001b[43m(\u001b[49m\u001b[43mpath_iter\u001b[49m\u001b[43m)\u001b[49m\n\u001b[1;32m    351\u001b[0m begin_inside \u001b[38;5;241m=\u001b[39m inside(ctl_points[\u001b[38;5;241m-\u001b[39m\u001b[38;5;241m2\u001b[39m:])  \u001b[38;5;66;03m# true if begin point is inside\u001b[39;00m\n\u001b[1;32m    353\u001b[0m ctl_points_old \u001b[38;5;241m=\u001b[39m ctl_points\n",
      "File \u001b[0;32m~/anaconda3/envs/data_science/lib/python3.9/site-packages/matplotlib/path.py:395\u001b[0m, in \u001b[0;36mPath.iter_segments\u001b[0;34m(self, transform, remove_nans, clip, snap, stroke_width, simplify, curves, sketch)\u001b[0m\n\u001b[1;32m    392\u001b[0m \u001b[38;5;28;01mif\u001b[39;00m \u001b[38;5;129;01mnot\u001b[39;00m \u001b[38;5;28mlen\u001b[39m(\u001b[38;5;28mself\u001b[39m):\n\u001b[1;32m    393\u001b[0m     \u001b[38;5;28;01mreturn\u001b[39;00m\n\u001b[0;32m--> 395\u001b[0m cleaned \u001b[38;5;241m=\u001b[39m \u001b[38;5;28;43mself\u001b[39;49m\u001b[38;5;241;43m.\u001b[39;49m\u001b[43mcleaned\u001b[49m\u001b[43m(\u001b[49m\u001b[43mtransform\u001b[49m\u001b[38;5;241;43m=\u001b[39;49m\u001b[43mtransform\u001b[49m\u001b[43m,\u001b[49m\n\u001b[1;32m    396\u001b[0m \u001b[43m                       \u001b[49m\u001b[43mremove_nans\u001b[49m\u001b[38;5;241;43m=\u001b[39;49m\u001b[43mremove_nans\u001b[49m\u001b[43m,\u001b[49m\u001b[43m \u001b[49m\u001b[43mclip\u001b[49m\u001b[38;5;241;43m=\u001b[39;49m\u001b[43mclip\u001b[49m\u001b[43m,\u001b[49m\n\u001b[1;32m    397\u001b[0m \u001b[43m                       \u001b[49m\u001b[43msnap\u001b[49m\u001b[38;5;241;43m=\u001b[39;49m\u001b[43msnap\u001b[49m\u001b[43m,\u001b[49m\u001b[43m \u001b[49m\u001b[43mstroke_width\u001b[49m\u001b[38;5;241;43m=\u001b[39;49m\u001b[43mstroke_width\u001b[49m\u001b[43m,\u001b[49m\n\u001b[1;32m    398\u001b[0m \u001b[43m                       \u001b[49m\u001b[43msimplify\u001b[49m\u001b[38;5;241;43m=\u001b[39;49m\u001b[43msimplify\u001b[49m\u001b[43m,\u001b[49m\u001b[43m \u001b[49m\u001b[43mcurves\u001b[49m\u001b[38;5;241;43m=\u001b[39;49m\u001b[43mcurves\u001b[49m\u001b[43m,\u001b[49m\n\u001b[1;32m    399\u001b[0m \u001b[43m                       \u001b[49m\u001b[43msketch\u001b[49m\u001b[38;5;241;43m=\u001b[39;49m\u001b[43msketch\u001b[49m\u001b[43m)\u001b[49m\n\u001b[1;32m    401\u001b[0m \u001b[38;5;66;03m# Cache these object lookups for performance in the loop.\u001b[39;00m\n\u001b[1;32m    402\u001b[0m NUM_VERTICES_FOR_CODE \u001b[38;5;241m=\u001b[39m \u001b[38;5;28mself\u001b[39m\u001b[38;5;241m.\u001b[39mNUM_VERTICES_FOR_CODE\n",
      "File \u001b[0;32m~/anaconda3/envs/data_science/lib/python3.9/site-packages/matplotlib/cbook/deprecation.py:386\u001b[0m, in \u001b[0;36m_delete_parameter.<locals>.wrapper\u001b[0;34m(*inner_args, **inner_kwargs)\u001b[0m\n\u001b[1;32m    384\u001b[0m \u001b[38;5;129m@functools\u001b[39m\u001b[38;5;241m.\u001b[39mwraps(func)\n\u001b[1;32m    385\u001b[0m \u001b[38;5;28;01mdef\u001b[39;00m\u001b[38;5;250m \u001b[39m\u001b[38;5;21mwrapper\u001b[39m(\u001b[38;5;241m*\u001b[39minner_args, \u001b[38;5;241m*\u001b[39m\u001b[38;5;241m*\u001b[39minner_kwargs):\n\u001b[0;32m--> 386\u001b[0m     arguments \u001b[38;5;241m=\u001b[39m \u001b[43msignature\u001b[49m\u001b[38;5;241;43m.\u001b[39;49m\u001b[43mbind\u001b[49m\u001b[43m(\u001b[49m\u001b[38;5;241;43m*\u001b[39;49m\u001b[43minner_args\u001b[49m\u001b[43m,\u001b[49m\u001b[43m \u001b[49m\u001b[38;5;241;43m*\u001b[39;49m\u001b[38;5;241;43m*\u001b[39;49m\u001b[43minner_kwargs\u001b[49m\u001b[43m)\u001b[49m\u001b[38;5;241m.\u001b[39marguments\n\u001b[1;32m    387\u001b[0m     \u001b[38;5;28;01mif\u001b[39;00m is_varargs \u001b[38;5;129;01mand\u001b[39;00m arguments\u001b[38;5;241m.\u001b[39mget(name):\n\u001b[1;32m    388\u001b[0m         warn_deprecated(\n\u001b[1;32m    389\u001b[0m             since, message\u001b[38;5;241m=\u001b[39m\u001b[38;5;124mf\u001b[39m\u001b[38;5;124m\"\u001b[39m\u001b[38;5;124mAdditional positional arguments to \u001b[39m\u001b[38;5;124m\"\u001b[39m\n\u001b[1;32m    390\u001b[0m             \u001b[38;5;124mf\u001b[39m\u001b[38;5;124m\"\u001b[39m\u001b[38;5;132;01m{\u001b[39;00mfunc\u001b[38;5;241m.\u001b[39m\u001b[38;5;18m__name__\u001b[39m\u001b[38;5;132;01m}\u001b[39;00m\u001b[38;5;124m() are deprecated since %(since)s and \u001b[39m\u001b[38;5;124m\"\u001b[39m\n\u001b[1;32m    391\u001b[0m             \u001b[38;5;124mf\u001b[39m\u001b[38;5;124m\"\u001b[39m\u001b[38;5;124msupport for them will be removed %(removal)s.\u001b[39m\u001b[38;5;124m\"\u001b[39m)\n",
      "\u001b[0;31mKeyboardInterrupt\u001b[0m: "
     ]
    }
   ],
   "source": [
    "plt.figure(figsize=(20,10))\n",
    "plot_tree(arvore_churn, filled=True, feature_names=X_train.columns, class_names=['0', '1'])\n",
    "plt.show()"
   ]
  },
  {
   "cell_type": "markdown",
   "metadata": {
    "id": "AcQWaYmSykr9"
   },
   "source": [
    "Vejam como a visualização da nossa árvore é dificil. Pois temos muitas instâncias nesse modelo.\n",
    "A grande vantagem da árvore de decisão é a clareza das classificações por conta da visualização da árvore mas em módulos com muitas features e mais complexos como o nosso, perdemos essa vantagem."
   ]
  },
  {
   "cell_type": "code",
   "execution_count": 16,
   "metadata": {
    "colab": {
     "base_uri": "https://localhost:8080/",
     "height": 567
    },
    "id": "CFi5N9PEvBI5",
    "outputId": "6d67bf6e-86d5-4eed-81b5-25d3eb03c62e"
   },
   "outputs": [
    {
     "data": {
      "image/png": "[encoded data removed]",
      "text/plain": [
       "<Figure size 1000x600 with 1 Axes>"
      ]
     },
     "metadata": {},
     "output_type": "display_data"
    }
   ],
   "source": [
    "# Obtendo a importância das características do modelo de árvore de decisão\n",
    "importancias_features = arvore_churn.feature_importances_\n",
    "\n",
    "# Obtendo os nomes das características\n",
    "nomes_features = X_train.columns\n",
    "\n",
    "# Criando um gráfico de barras para visualizar a importância das características\n",
    "plt.figure(figsize=(10, 6))\n",
    "plt.barh(nomes_features, importancias_features)\n",
    "plt.xlabel('Importância das Features')\n",
    "plt.ylabel('Features')\n",
    "plt.title('Importância das Features na Árvore de Decisão')\n",
    "plt.show()"
   ]
  },
  {
   "cell_type": "markdown",
   "metadata": {
    "id": "ooWAIPyPywXF"
   },
   "source": [
    "Visualizar as features com maior peso em um modelo de árvore de decisão ou qualquer outro modelo de aprendizado de máquina é uma etapa crucial na análise do modelo e na compreensão de como ele está tomando suas decisões. Aqui estão algumas razões pelas quais isso é importante:\n",
    "\n",
    "Interpretabilidade do Modelo: Entender quais features são mais importantes para o modelo pode ajudar a interpretar como o modelo está tomando suas decisões. Isso pode ser especialmente útil em casos em que é importante entender os fatores que influenciam as previsões do modelo.\n",
    "Seleção de Features: Ao identificar as features mais importantes, você pode decidir se deseja manter apenas as features mais relevantes e descartar as menos importantes. Isso pode ajudar a simplificar o modelo e reduzir a dimensionalidade dos dados, o que pode levar a um modelo mais simples e eficiente."
   ]
  },
  {
   "cell_type": "markdown",
   "metadata": {
    "id": "TQ42TeHvy25Q"
   },
   "source": [
    "**Vamos refinar nosso modelo apenas com as 3 principais features e verificar como fica nosso desempenho e nossa árvore.**"
   ]
  },
  {
   "cell_type": "code",
   "execution_count": 17,
   "metadata": {
    "id": "XUtf2XYhzQkV"
   },
   "outputs": [],
   "source": [
    "X_train_reduzido = X_train[['Qtd_Produtos', 'Membro_Ativo', 'Idade']]\n",
    "X_test_reduzido = X_test[['Qtd_Produtos', 'Membro_Ativo', 'Idade']]"
   ]
  },
  {
   "cell_type": "code",
   "execution_count": 18,
   "metadata": {
    "colab": {
     "base_uri": "https://localhost:8080/",
     "height": 74
    },
    "id": "wkcWPTOJzRpa",
    "outputId": "2708d28e-57c2-4e05-e429-d7791c82da17"
   },
   "outputs": [
    {
     "data": {
      "text/html": [
       "<style>#sk-container-id-2 {\n",
       "  /* Definition of color scheme common for light and dark mode */\n",
       "  --sklearn-color-text: #000;\n",
       "  --sklearn-color-text-muted: #666;\n",
       "  --sklearn-color-line: gray;\n",
       "  /* Definition of color scheme for unfitted estimators */\n",
       "  --sklearn-color-unfitted-level-0: #fff5e6;\n",
       "  --sklearn-color-unfitted-level-1: #f6e4d2;\n",
       "  --sklearn-color-unfitted-level-2: #ffe0b3;\n",
       "  --sklearn-color-unfitted-level-3: chocolate;\n",
       "  /* Definition of color scheme for fitted estimators */\n",
       "  --sklearn-color-fitted-level-0: #f0f8ff;\n",
       "  --sklearn-color-fitted-level-1: #d4ebff;\n",
       "  --sklearn-color-fitted-level-2: #b3dbfd;\n",
       "  --sklearn-color-fitted-level-3: cornflowerblue;\n",
       "\n",
       "  /* Specific color for light theme */\n",
       "  --sklearn-color-text-on-default-background: var(--sg-text-color, var(--theme-code-foreground, var(--jp-content-font-color1, black)));\n",
       "  --sklearn-color-background: var(--sg-background-color, var(--theme-background, var(--jp-layout-color0, white)));\n",
       "  --sklearn-color-border-box: var(--sg-text-color, var(--theme-code-foreground, var(--jp-content-font-color1, black)));\n",
       "  --sklearn-color-icon: #696969;\n",
       "\n",
       "  @media (prefers-color-scheme: dark) {\n",
       "    /* Redefinition of color scheme for dark theme */\n",
       "    --sklearn-color-text-on-default-background: var(--sg-text-color, var(--theme-code-foreground, var(--jp-content-font-color1, white)));\n",
       "    --sklearn-color-background: var(--sg-background-color, var(--theme-background, var(--jp-layout-color0, #111)));\n",
       "    --sklearn-color-border-box: var(--sg-text-color, var(--theme-code-foreground, var(--jp-content-font-color1, white)));\n",
       "    --sklearn-color-icon: #878787;\n",
       "  }\n",
       "}\n",
       "\n",
       "#sk-container-id-2 {\n",
       "  color: var(--sklearn-color-text);\n",
       "}\n",
       "\n",
       "#sk-container-id-2 pre {\n",
       "  padding: 0;\n",
       "}\n",
       "\n",
       "#sk-container-id-2 input.sk-hidden--visually {\n",
       "  border: 0;\n",
       "  clip: rect(1px 1px 1px 1px);\n",
       "  clip: rect(1px, 1px, 1px, 1px);\n",
       "  height: 1px;\n",
       "  margin: -1px;\n",
       "  overflow: hidden;\n",
       "  padding: 0;\n",
       "  position: absolute;\n",
       "  width: 1px;\n",
       "}\n",
       "\n",
       "#sk-container-id-2 div.sk-dashed-wrapped {\n",
       "  border: 1px dashed var(--sklearn-color-line);\n",
       "  margin: 0 0.4em 0.5em 0.4em;\n",
       "  box-sizing: border-box;\n",
       "  padding-bottom: 0.4em;\n",
       "  background-color: var(--sklearn-color-background);\n",
       "}\n",
       "\n",
       "#sk-container-id-2 div.sk-container {\n",
       "  /* jupyter's `normalize.less` sets `[hidden] { display: none; }`\n",
       "     but bootstrap.min.css set `[hidden] { display: none !important; }`\n",
       "     so we also need the `!important` here to be able to override the\n",
       "     default hidden behavior on the sphinx rendered scikit-learn.org.\n",
       "     See: https://github.com/scikit-learn/scikit-learn/issues/21755 */\n",
       "  display: inline-block !important;\n",
       "  position: relative;\n",
       "}\n",
       "\n",
       "#sk-container-id-2 div.sk-text-repr-fallback {\n",
       "  display: none;\n",
       "}\n",
       "\n",
       "div.sk-parallel-item,\n",
       "div.sk-serial,\n",
       "div.sk-item {\n",
       "  /* draw centered vertical line to link estimators */\n",
       "  background-image: linear-gradient(var(--sklearn-color-text-on-default-background), var(--sklearn-color-text-on-default-background));\n",
       "  background-size: 2px 100%;\n",
       "  background-repeat: no-repeat;\n",
       "  background-position: center center;\n",
       "}\n",
       "\n",
       "/* Parallel-specific style estimator block */\n",
       "\n",
       "#sk-container-id-2 div.sk-parallel-item::after {\n",
       "  content: \"\";\n",
       "  width: 100%;\n",
       "  border-bottom: 2px solid var(--sklearn-color-text-on-default-background);\n",
       "  flex-grow: 1;\n",
       "}\n",
       "\n",
       "#sk-container-id-2 div.sk-parallel {\n",
       "  display: flex;\n",
       "  align-items: stretch;\n",
       "  justify-content: center;\n",
       "  background-color: var(--sklearn-color-background);\n",
       "  position: relative;\n",
       "}\n",
       "\n",
       "#sk-container-id-2 div.sk-parallel-item {\n",
       "  display: flex;\n",
       "  flex-direction: column;\n",
       "}\n",
       "\n",
       "#sk-container-id-2 div.sk-parallel-item:first-child::after {\n",
       "  align-self: flex-end;\n",
       "  width: 50%;\n",
       "}\n",
       "\n",
       "#sk-container-id-2 div.sk-parallel-item:last-child::after {\n",
       "  align-self: flex-start;\n",
       "  width: 50%;\n",
       "}\n",
       "\n",
       "#sk-container-id-2 div.sk-parallel-item:only-child::after {\n",
       "  width: 0;\n",
       "}\n",
       "\n",
       "/* Serial-specific style estimator block */\n",
       "\n",
       "#sk-container-id-2 div.sk-serial {\n",
       "  display: flex;\n",
       "  flex-direction: column;\n",
       "  align-items: center;\n",
       "  background-color: var(--sklearn-color-background);\n",
       "  padding-right: 1em;\n",
       "  padding-left: 1em;\n",
       "}\n",
       "\n",
       "\n",
       "/* Toggleable style: style used for estimator/Pipeline/ColumnTransformer box that is\n",
       "clickable and can be expanded/collapsed.\n",
       "- Pipeline and ColumnTransformer use this feature and define the default style\n",
       "- Estimators will overwrite some part of the style using the `sk-estimator` class\n",
       "*/\n",
       "\n",
       "/* Pipeline and ColumnTransformer style (default) */\n",
       "\n",
       "#sk-container-id-2 div.sk-toggleable {\n",
       "  /* Default theme specific background. It is overwritten whether we have a\n",
       "  specific estimator or a Pipeline/ColumnTransformer */\n",
       "  background-color: var(--sklearn-color-background);\n",
       "}\n",
       "\n",
       "/* Toggleable label */\n",
       "#sk-container-id-2 label.sk-toggleable__label {\n",
       "  cursor: pointer;\n",
       "  display: flex;\n",
       "  width: 100%;\n",
       "  margin-bottom: 0;\n",
       "  padding: 0.5em;\n",
       "  box-sizing: border-box;\n",
       "  text-align: center;\n",
       "  align-items: start;\n",
       "  justify-content: space-between;\n",
       "  gap: 0.5em;\n",
       "}\n",
       "\n",
       "#sk-container-id-2 label.sk-toggleable__label .caption {\n",
       "  font-size: 0.6rem;\n",
       "  font-weight: lighter;\n",
       "  color: var(--sklearn-color-text-muted);\n",
       "}\n",
       "\n",
       "#sk-container-id-2 label.sk-toggleable__label-arrow:before {\n",
       "  /* Arrow on the left of the label */\n",
       "  content: \"▸\";\n",
       "  float: left;\n",
       "  margin-right: 0.25em;\n",
       "  color: var(--sklearn-color-icon);\n",
       "}\n",
       "\n",
       "#sk-container-id-2 label.sk-toggleable__label-arrow:hover:before {\n",
       "  color: var(--sklearn-color-text);\n",
       "}\n",
       "\n",
       "/* Toggleable content - dropdown */\n",
       "\n",
       "#sk-container-id-2 div.sk-toggleable__content {\n",
       "  max-height: 0;\n",
       "  max-width: 0;\n",
       "  overflow: hidden;\n",
       "  text-align: left;\n",
       "  /* unfitted */\n",
       "  background-color: var(--sklearn-color-unfitted-level-0);\n",
       "}\n",
       "\n",
       "#sk-container-id-2 div.sk-toggleable__content.fitted {\n",
       "  /* fitted */\n",
       "  background-color: var(--sklearn-color-fitted-level-0);\n",
       "}\n",
       "\n",
       "#sk-container-id-2 div.sk-toggleable__content pre {\n",
       "  margin: 0.2em;\n",
       "  border-radius: 0.25em;\n",
       "  color: var(--sklearn-color-text);\n",
       "  /* unfitted */\n",
       "  background-color: var(--sklearn-color-unfitted-level-0);\n",
       "}\n",
       "\n",
       "#sk-container-id-2 div.sk-toggleable__content.fitted pre {\n",
       "  /* unfitted */\n",
       "  background-color: var(--sklearn-color-fitted-level-0);\n",
       "}\n",
       "\n",
       "#sk-container-id-2 input.sk-toggleable__control:checked~div.sk-toggleable__content {\n",
       "  /* Expand drop-down */\n",
       "  max-height: 200px;\n",
       "  max-width: 100%;\n",
       "  overflow: auto;\n",
       "}\n",
       "\n",
       "#sk-container-id-2 input.sk-toggleable__control:checked~label.sk-toggleable__label-arrow:before {\n",
       "  content: \"▾\";\n",
       "}\n",
       "\n",
       "/* Pipeline/ColumnTransformer-specific style */\n",
       "\n",
       "#sk-container-id-2 div.sk-label input.sk-toggleable__control:checked~label.sk-toggleable__label {\n",
       "  color: var(--sklearn-color-text);\n",
       "  background-color: var(--sklearn-color-unfitted-level-2);\n",
       "}\n",
       "\n",
       "#sk-container-id-2 div.sk-label.fitted input.sk-toggleable__control:checked~label.sk-toggleable__label {\n",
       "  background-color: var(--sklearn-color-fitted-level-2);\n",
       "}\n",
       "\n",
       "/* Estimator-specific style */\n",
       "\n",
       "/* Colorize estimator box */\n",
       "#sk-container-id-2 div.sk-estimator input.sk-toggleable__control:checked~label.sk-toggleable__label {\n",
       "  /* unfitted */\n",
       "  background-color: var(--sklearn-color-unfitted-level-2);\n",
       "}\n",
       "\n",
       "#sk-container-id-2 div.sk-estimator.fitted input.sk-toggleable__control:checked~label.sk-toggleable__label {\n",
       "  /* fitted */\n",
       "  background-color: var(--sklearn-color-fitted-level-2);\n",
       "}\n",
       "\n",
       "#sk-container-id-2 div.sk-label label.sk-toggleable__label,\n",
       "#sk-container-id-2 div.sk-label label {\n",
       "  /* The background is the default theme color */\n",
       "  color: var(--sklearn-color-text-on-default-background);\n",
       "}\n",
       "\n",
       "/* On hover, darken the color of the background */\n",
       "#sk-container-id-2 div.sk-label:hover label.sk-toggleable__label {\n",
       "  color: var(--sklearn-color-text);\n",
       "  background-color: var(--sklearn-color-unfitted-level-2);\n",
       "}\n",
       "\n",
       "/* Label box, darken color on hover, fitted */\n",
       "#sk-container-id-2 div.sk-label.fitted:hover label.sk-toggleable__label.fitted {\n",
       "  color: var(--sklearn-color-text);\n",
       "  background-color: var(--sklearn-color-fitted-level-2);\n",
       "}\n",
       "\n",
       "/* Estimator label */\n",
       "\n",
       "#sk-container-id-2 div.sk-label label {\n",
       "  font-family: monospace;\n",
       "  font-weight: bold;\n",
       "  display: inline-block;\n",
       "  line-height: 1.2em;\n",
       "}\n",
       "\n",
       "#sk-container-id-2 div.sk-label-container {\n",
       "  text-align: center;\n",
       "}\n",
       "\n",
       "/* Estimator-specific */\n",
       "#sk-container-id-2 div.sk-estimator {\n",
       "  font-family: monospace;\n",
       "  border: 1px dotted var(--sklearn-color-border-box);\n",
       "  border-radius: 0.25em;\n",
       "  box-sizing: border-box;\n",
       "  margin-bottom: 0.5em;\n",
       "  /* unfitted */\n",
       "  background-color: var(--sklearn-color-unfitted-level-0);\n",
       "}\n",
       "\n",
       "#sk-container-id-2 div.sk-estimator.fitted {\n",
       "  /* fitted */\n",
       "  background-color: var(--sklearn-color-fitted-level-0);\n",
       "}\n",
       "\n",
       "/* on hover */\n",
       "#sk-container-id-2 div.sk-estimator:hover {\n",
       "  /* unfitted */\n",
       "  background-color: var(--sklearn-color-unfitted-level-2);\n",
       "}\n",
       "\n",
       "#sk-container-id-2 div.sk-estimator.fitted:hover {\n",
       "  /* fitted */\n",
       "  background-color: var(--sklearn-color-fitted-level-2);\n",
       "}\n",
       "\n",
       "/* Specification for estimator info (e.g. \"i\" and \"?\") */\n",
       "\n",
       "/* Common style for \"i\" and \"?\" */\n",
       "\n",
       ".sk-estimator-doc-link,\n",
       "a:link.sk-estimator-doc-link,\n",
       "a:visited.sk-estimator-doc-link {\n",
       "  float: right;\n",
       "  font-size: smaller;\n",
       "  line-height: 1em;\n",
       "  font-family: monospace;\n",
       "  background-color: var(--sklearn-color-background);\n",
       "  border-radius: 1em;\n",
       "  height: 1em;\n",
       "  width: 1em;\n",
       "  text-decoration: none !important;\n",
       "  margin-left: 0.5em;\n",
       "  text-align: center;\n",
       "  /* unfitted */\n",
       "  border: var(--sklearn-color-unfitted-level-1) 1pt solid;\n",
       "  color: var(--sklearn-color-unfitted-level-1);\n",
       "}\n",
       "\n",
       ".sk-estimator-doc-link.fitted,\n",
       "a:link.sk-estimator-doc-link.fitted,\n",
       "a:visited.sk-estimator-doc-link.fitted {\n",
       "  /* fitted */\n",
       "  border: var(--sklearn-color-fitted-level-1) 1pt solid;\n",
       "  color: var(--sklearn-color-fitted-level-1);\n",
       "}\n",
       "\n",
       "/* On hover */\n",
       "div.sk-estimator:hover .sk-estimator-doc-link:hover,\n",
       ".sk-estimator-doc-link:hover,\n",
       "div.sk-label-container:hover .sk-estimator-doc-link:hover,\n",
       ".sk-estimator-doc-link:hover {\n",
       "  /* unfitted */\n",
       "  background-color: var(--sklearn-color-unfitted-level-3);\n",
       "  color: var(--sklearn-color-background);\n",
       "  text-decoration: none;\n",
       "}\n",
       "\n",
       "div.sk-estimator.fitted:hover .sk-estimator-doc-link.fitted:hover,\n",
       ".sk-estimator-doc-link.fitted:hover,\n",
       "div.sk-label-container:hover .sk-estimator-doc-link.fitted:hover,\n",
       ".sk-estimator-doc-link.fitted:hover {\n",
       "  /* fitted */\n",
       "  background-color: var(--sklearn-color-fitted-level-3);\n",
       "  color: var(--sklearn-color-background);\n",
       "  text-decoration: none;\n",
       "}\n",
       "\n",
       "/* Span, style for the box shown on hovering the info icon */\n",
       ".sk-estimator-doc-link span {\n",
       "  display: none;\n",
       "  z-index: 9999;\n",
       "  position: relative;\n",
       "  font-weight: normal;\n",
       "  right: .2ex;\n",
       "  padding: .5ex;\n",
       "  margin: .5ex;\n",
       "  width: min-content;\n",
       "  min-width: 20ex;\n",
       "  max-width: 50ex;\n",
       "  color: var(--sklearn-color-text);\n",
       "  box-shadow: 2pt 2pt 4pt #999;\n",
       "  /* unfitted */\n",
       "  background: var(--sklearn-color-unfitted-level-0);\n",
       "  border: .5pt solid var(--sklearn-color-unfitted-level-3);\n",
       "}\n",
       "\n",
       ".sk-estimator-doc-link.fitted span {\n",
       "  /* fitted */\n",
       "  background: var(--sklearn-color-fitted-level-0);\n",
       "  border: var(--sklearn-color-fitted-level-3);\n",
       "}\n",
       "\n",
       ".sk-estimator-doc-link:hover span {\n",
       "  display: block;\n",
       "}\n",
       "\n",
       "/* \"?\"-specific style due to the `<a>` HTML tag */\n",
       "\n",
       "#sk-container-id-2 a.estimator_doc_link {\n",
       "  float: right;\n",
       "  font-size: 1rem;\n",
       "  line-height: 1em;\n",
       "  font-family: monospace;\n",
       "  background-color: var(--sklearn-color-background);\n",
       "  border-radius: 1rem;\n",
       "  height: 1rem;\n",
       "  width: 1rem;\n",
       "  text-decoration: none;\n",
       "  /* unfitted */\n",
       "  color: var(--sklearn-color-unfitted-level-1);\n",
       "  border: var(--sklearn-color-unfitted-level-1) 1pt solid;\n",
       "}\n",
       "\n",
       "#sk-container-id-2 a.estimator_doc_link.fitted {\n",
       "  /* fitted */\n",
       "  border: var(--sklearn-color-fitted-level-1) 1pt solid;\n",
       "  color: var(--sklearn-color-fitted-level-1);\n",
       "}\n",
       "\n",
       "/* On hover */\n",
       "#sk-container-id-2 a.estimator_doc_link:hover {\n",
       "  /* unfitted */\n",
       "  background-color: var(--sklearn-color-unfitted-level-3);\n",
       "  color: var(--sklearn-color-background);\n",
       "  text-decoration: none;\n",
       "}\n",
       "\n",
       "#sk-container-id-2 a.estimator_doc_link.fitted:hover {\n",
       "  /* fitted */\n",
       "  background-color: var(--sklearn-color-fitted-level-3);\n",
       "}\n",
       "</style><div id=\"sk-container-id-2\" class=\"sk-top-container\"><div class=\"sk-text-repr-fallback\"><pre>DecisionTreeClassifier(random_state=0)</pre><b>In a Jupyter environment, please rerun this cell to show the HTML representation or trust the notebook. <br />On GitHub, the HTML representation is unable to render, please try loading this page with nbviewer.org.</b></div><div class=\"sk-container\" hidden><div class=\"sk-item\"><div class=\"sk-estimator fitted sk-toggleable\"><input class=\"sk-toggleable__control sk-hidden--visually\" id=\"sk-estimator-id-2\" type=\"checkbox\" checked><label for=\"sk-estimator-id-2\" class=\"sk-toggleable__label fitted sk-toggleable__label-arrow\"><div><div>DecisionTreeClassifier</div></div><div><a class=\"sk-estimator-doc-link fitted\" rel=\"noreferrer\" target=\"_blank\" href=\"https://scikit-learn.org/1.6/modules/generated/sklearn.tree.DecisionTreeClassifier.html\">?<span>Documentation for DecisionTreeClassifier</span></a><span class=\"sk-estimator-doc-link fitted\">i<span>Fitted</span></span></div></label><div class=\"sk-toggleable__content fitted\"><pre>DecisionTreeClassifier(random_state=0)</pre></div> </div></div></div></div>"
      ],
      "text/plain": [
       "DecisionTreeClassifier(random_state=0)"
      ]
     },
     "execution_count": 18,
     "metadata": {},
     "output_type": "execute_result"
    }
   ],
   "source": [
    "arvore_churn_reduzido = DecisionTreeClassifier (criterion = 'gini', random_state = 0)\n",
    "arvore_churn_reduzido.fit(X_train_reduzido, y_train)"
   ]
  },
  {
   "cell_type": "code",
   "execution_count": 19,
   "metadata": {
    "id": "zNNaF7llzkoW"
   },
   "outputs": [],
   "source": [
    "previsoes_reduzido = arvore_churn_reduzido.predict(X_test_reduzido)"
   ]
  },
  {
   "cell_type": "code",
   "execution_count": 20,
   "metadata": {
    "colab": {
     "base_uri": "https://localhost:8080/"
    },
    "id": "w5lzYnUHzcY7",
    "outputId": "26a4a2cf-2920-41f2-db17-57d318d74cf8"
   },
   "outputs": [
    {
     "name": "stdout",
     "output_type": "stream",
     "text": [
      "Relatório de Classificação:\n",
      "              precision    recall  f1-score   support\n",
      "\n",
      "         0.0       0.87      0.95      0.91     19649\n",
      "         1.0       0.74      0.48      0.59      5278\n",
      "\n",
      "    accuracy                           0.85     24927\n",
      "   macro avg       0.81      0.72      0.75     24927\n",
      "weighted avg       0.84      0.85      0.84     24927\n",
      "\n"
     ]
    }
   ],
   "source": [
    "relatorio = classification_report(y_test, previsoes_reduzido)\n",
    "print(\"Relatório de Classificação:\")\n",
    "print(relatorio)"
   ]
  },
  {
   "cell_type": "markdown",
   "metadata": {
    "id": "jw1Eb96M-cTA"
   },
   "source": [
    "* Para a classe 0 (0.0): A precisão melhorou para 87%, o que significa que 87% das amostras previstas como pertencentes à classe 0 realmente são da classe 0.\n",
    "* Para a classe 1 (1.0): A precisão também melhorou para 74%, indicando que 74% das amostras previstas como pertencentes à classe 1 realmente são da classe 1."
   ]
  },
  {
   "cell_type": "markdown",
   "metadata": {
    "id": "4arRcV91-elg"
   },
   "source": [
    "* Para a classe 0 (0.0): A revocação melhorou para 95%, indicando que o modelo identificou corretamente 95% das amostras da classe 0.\n",
    "* Para a classe 1 (1.0): A revocação piorou para 48%, indicando que o modelo identificou corretamente 48% das amostras da classe 1."
   ]
  },
  {
   "cell_type": "code",
   "execution_count": 21,
   "metadata": {
    "colab": {
     "base_uri": "https://localhost:8080/",
     "height": 564
    },
    "id": "gF-ybgxR-zSs",
    "outputId": "b4495b3c-82a9-48fa-f640-dd59ea4fd657"
   },
   "outputs": [
    {
     "data": {
      "image/png": "[encoded data removed]",
      "text/plain": [
       "<Figure size 800x600 with 2 Axes>"
      ]
     },
     "metadata": {},
     "output_type": "display_data"
    }
   ],
   "source": [
    "matriz_confusao = confusion_matrix(y_test, previsoes_reduzido)\n",
    "\n",
    "# Plotando a matriz de confusão como um mapa de calor\n",
    "plt.figure(figsize=(8, 6))\n",
    "sns.heatmap(matriz_confusao, annot=True, cmap='Blues', fmt='d',\n",
    "            xticklabels=['Não Churn', 'Churn'],\n",
    "            yticklabels=['Não Churn', 'Churn'])\n",
    "plt.xlabel('Previsão')\n",
    "plt.ylabel('Real')\n",
    "plt.title('Matriz de Confusão')\n",
    "plt.show()"
   ]
  },
  {
   "cell_type": "code",
   "execution_count": null,
   "metadata": {
    "colab": {
     "base_uri": "https://localhost:8080/",
     "height": 1000
    },
    "id": "W_zrnJbWxe5b",
    "outputId": "b3de6cb0-59a6-429c-b518-b83f1064aa9c"
   },
   "outputs": [],
   "source": [
    "plt.figure(figsize=(35,25))\n",
    "plot_tree(arvore_churn_reduzido, filled=True, feature_names=X_train_reduzido.columns, class_names=['0', '1'])\n",
    "plt.show()"
   ]
  },
  {
   "cell_type": "markdown",
   "metadata": {
    "id": "d5chY3viFPRZ"
   },
   "source": [
    "Para finalizarmos nossa aula, gostaria de demonstrar como é a visualização dos nosso quadros na arvore e a interpretação e demonstrar para vocês como seria a construção de uma árvore com menores profundidades."
   ]
  },
  {
   "cell_type": "code",
   "execution_count": null,
   "metadata": {
    "colab": {
     "base_uri": "https://localhost:8080/",
     "height": 74
    },
    "id": "hycaqyE1EQ8a",
    "outputId": "6a71422e-bd58-4d72-a0bd-a5e9b1040ae9"
   },
   "outputs": [],
   "source": [
    "# Criamos um modelo de árvore de decisão com profundidade 1\n",
    "arvore_profundidade_1 = DecisionTreeClassifier(max_depth=2, random_state=0)\n",
    "arvore_profundidade_1.fit(X_train, y_train)"
   ]
  },
  {
   "cell_type": "code",
   "execution_count": null,
   "metadata": {
    "colab": {
     "base_uri": "https://localhost:8080/",
     "height": 499
    },
    "id": "uj7nhiRzFGm5",
    "outputId": "ce33b300-63e9-4357-c12d-3225b28c80e1"
   },
   "outputs": [],
   "source": [
    "plt.figure(figsize=(10, 6))\n",
    "plot_tree(arvore_profundidade_1, filled=True, feature_names=X_train.columns, class_names=['0', '1'])\n",
    "plt.show()"
   ]
  },
  {
   "cell_type": "markdown",
   "metadata": {
    "id": "0LCK3Y7MFikX"
   },
   "source": [
    "Neste exemplo, max_depth=1 cria uma árvore de decisão com apenas um nível (a raiz e uma divisão). Notem que ele usou a feature de maior importancia, o melhor valor de Gini."
   ]
  },
  {
   "cell_type": "markdown",
   "metadata": {
    "id": "lKD6iEQDFxJ7"
   },
   "source": [
    "Na representação visual de uma árvore de decisão, os valores que aparecem dentro dos colchetes, especificamente sob o atributo value, fornecem informações sobre a distribuição das classes (ou categorias) de destino em um nó específico da árvore.\n",
    "[200, 150] -> Isso significa que há 200 exemplos de treinamento nesse nó e, desses, 150 são da classe 0 e 50 são da classe 1."
   ]
  },
  {
   "cell_type": "markdown",
   "metadata": {
    "id": "INSDeGtWGdPz"
   },
   "source": [
    "\n",
    "Interpretar uma árvore de decisão é crucial para compreender como o modelo toma decisões, identificar padrões nos dados, ajustar o modelo adequadamente, comunicar resultados de forma clara e garantir a confiabilidade do modelo em diferentes contextos.\n",
    "\n",
    "\n",
    "\n",
    "\n",
    "\n"
   ]
  },
  {
   "cell_type": "markdown",
   "metadata": {
    "id": "mpnJ1jfbGd6a"
   },
   "source": [
    "Mas notem que: Nosso problema acabou sendo muito complexo para uma árvore de decisão, um dos benefícios da árvore é a facilidade da interpretação mas um problema complexo como o nosso, com  diversas features e categorias, não permite uma fácil interpretação da árvore, por isso, nos aprofundaremos em modelos mais robustos."
   ]
  },
  {
   "cell_type": "code",
   "execution_count": null,
   "metadata": {},
   "outputs": [],
   "source": []
  }
 ],
 "metadata": {
  "colab": {
   "provenance": []
  },
  "kernelspec": {
   "display_name": "Python 3 (ipykernel)",
   "language": "python",
   "name": "python3"
  },
  "language_info": {
   "codemirror_mode": {
    "name": "ipython",
    "version": 3
   },
   "file_extension": ".py",
   "mimetype": "text/x-python",
   "name": "python",
   "nbconvert_exporter": "python",
   "pygments_lexer": "ipython3",
   "version": "3.9.5"
  }
 },
 "nbformat": 4,
 "nbformat_minor": 4
}
